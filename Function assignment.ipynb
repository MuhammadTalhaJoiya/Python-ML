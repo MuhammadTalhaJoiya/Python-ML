{
 "cells": [
  {
   "cell_type": "markdown",
   "id": "caabfb12",
   "metadata": {},
   "source": [
    "# 1. Write a Python function to find the Max of three numbers. "
   ]
  },
  {
   "cell_type": "code",
   "execution_count": 1,
   "id": "37be915e",
   "metadata": {},
   "outputs": [],
   "source": [
    "def max(a,b,c):\n",
    "    if a>b:\n",
    "        if a>c:\n",
    "            return a\n",
    "        else:\n",
    "            return c\n",
    "    else:\n",
    "        if b>c:\n",
    "            return b\n",
    "        else:\n",
    "            return c"
   ]
  },
  {
   "cell_type": "code",
   "execution_count": 2,
   "id": "09af755e",
   "metadata": {},
   "outputs": [
    {
     "name": "stdout",
     "output_type": "stream",
     "text": [
      "922222222222114\n"
     ]
    }
   ],
   "source": [
    "a=max(922222222222114,133333319,122218)\n",
    "print(a)"
   ]
  },
  {
   "cell_type": "markdown",
   "id": "e75fbc4a",
   "metadata": {},
   "source": [
    "2. Write a Python function to sum all the numbers in a list. Go to the editor\n",
    "Sample List : (8, 2, 3, 0, 7)\n",
    "Expected Output : 20"
   ]
  },
  {
   "cell_type": "code",
   "execution_count": 3,
   "id": "446fff7d",
   "metadata": {},
   "outputs": [],
   "source": [
    "def num(a,b,c):\n",
    "    list=[]\n",
    "    sum=a+b+c\n",
    "    list.append(sum)\n",
    "    return list\n"
   ]
  },
  {
   "cell_type": "code",
   "execution_count": 4,
   "id": "d1e514bb",
   "metadata": {},
   "outputs": [
    {
     "data": {
      "text/plain": [
       "[12]"
      ]
     },
     "execution_count": 4,
     "metadata": {},
     "output_type": "execute_result"
    }
   ],
   "source": [
    "num(2,4,6)"
   ]
  },
  {
   "cell_type": "code",
   "execution_count": 5,
   "id": "c8f14174",
   "metadata": {},
   "outputs": [
    {
     "name": "stdout",
     "output_type": "stream",
     "text": [
      "[15]\n"
     ]
    }
   ],
   "source": [
    "add=num(4,5,6)\n",
    "print(add)"
   ]
  },
  {
   "cell_type": "markdown",
   "id": "12988c9f",
   "metadata": {},
   "source": [
    "3. Write a Python function to multiply all the numbers in a list. Go to the editor\n",
    "Sample List : (8, 2, 3, -1, 7)\n",
    "Expected Output : -336"
   ]
  },
  {
   "cell_type": "code",
   "execution_count": 6,
   "id": "c5214efc",
   "metadata": {},
   "outputs": [],
   "source": [
    "def mul(a,f,g,h):\n",
    "    list=[]\n",
    "    multiply=a*f*g*h\n",
    "    list.append(multiply)\n",
    "    return list"
   ]
  },
  {
   "cell_type": "code",
   "execution_count": 7,
   "id": "f59f4553",
   "metadata": {},
   "outputs": [
    {
     "name": "stdout",
     "output_type": "stream",
     "text": [
      "[81]\n"
     ]
    }
   ],
   "source": [
    "a=mul(3,3,3,3)\n",
    "print(a)"
   ]
  },
  {
   "cell_type": "markdown",
   "id": "f7ce35b0",
   "metadata": {},
   "source": [
    "4. Write a Python program to reverse a string.\n",
    "Sample String : \"1234abcd\"\n",
    "Expected Output : \"dcba4321\""
   ]
  },
  {
   "cell_type": "code",
   "execution_count": 8,
   "id": "5a721e34",
   "metadata": {},
   "outputs": [],
   "source": [
    "def rev(a,b,c):\n",
    "    listing=(a,b,c)\n",
    "    aa=list(listing)\n",
    "    aa.reverse()\n",
    "    return aa"
   ]
  },
  {
   "cell_type": "code",
   "execution_count": 9,
   "id": "aad3baec",
   "metadata": {},
   "outputs": [
    {
     "data": {
      "text/plain": [
       "['hjas', 'hs', 'js']"
      ]
     },
     "execution_count": 9,
     "metadata": {},
     "output_type": "execute_result"
    }
   ],
   "source": [
    "rev('js','hs','hjas')"
   ]
  },
  {
   "cell_type": "code",
   "execution_count": 10,
   "id": "3ce6b625",
   "metadata": {},
   "outputs": [
    {
     "name": "stdout",
     "output_type": "stream",
     "text": [
      "['hf', 'fd', 'sd']\n"
     ]
    }
   ],
   "source": [
    "a=('sd','fd','hf')\n",
    "aa=list(a)\n",
    "aa.reverse()\n",
    "print(aa)"
   ]
  },
  {
   "cell_type": "code",
   "execution_count": 11,
   "id": "b28d3d6f",
   "metadata": {},
   "outputs": [],
   "source": [
    "def rev(a,b,c):\n",
    "    listItem=(a,b,c)\n",
    "    a=list(listItem)\n",
    "    a.reverse()\n",
    "    return a"
   ]
  },
  {
   "cell_type": "code",
   "execution_count": 12,
   "id": "2ee2d53a",
   "metadata": {},
   "outputs": [
    {
     "data": {
      "text/plain": [
       "[8, 6, 4]"
      ]
     },
     "execution_count": 12,
     "metadata": {},
     "output_type": "execute_result"
    }
   ],
   "source": [
    "rev(4,6,8)"
   ]
  },
  {
   "cell_type": "markdown",
   "id": "287f18a6",
   "metadata": {},
   "source": [
    "5. Write a Python function to calculate the factorial of a number (a non-negative integer). The function accepts the number \n",
    "as an argument. "
   ]
  },
  {
   "cell_type": "code",
   "execution_count": 30,
   "id": "b5bb56d3",
   "metadata": {},
   "outputs": [
    {
     "name": "stdout",
     "output_type": "stream",
     "text": [
      "enter any number5\n",
      "120\n"
     ]
    }
   ],
   "source": [
    "a=int(input('enter any number'))\n",
    "fact=1\n",
    "for i in range(a):\n",
    "    f=i+1\n",
    "    fact*=f\n",
    "print(fact)"
   ]
  },
  {
   "cell_type": "code",
   "execution_count": 28,
   "id": "d2ab022f",
   "metadata": {},
   "outputs": [
    {
     "name": "stdout",
     "output_type": "stream",
     "text": [
      "enter any number5\n",
      "120\n"
     ]
    }
   ],
   "source": [
    "num=1\n",
    "fact=1\n",
    "a=int(input('enter any number'))\n",
    "while(num<a+1):\n",
    "    fact*=num\n",
    "    num+=1\n",
    "print(fact)\n",
    "    "
   ]
  },
  {
   "cell_type": "code",
   "execution_count": 35,
   "id": "b5bb0648",
   "metadata": {},
   "outputs": [],
   "source": [
    "def facto(a):\n",
    "    num=1\n",
    "    fact=1\n",
    "    while(num<a+1):\n",
    "        fact*=num\n",
    "        num+=1\n",
    "    print(fact)"
   ]
  },
  {
   "cell_type": "code",
   "execution_count": 36,
   "id": "63b76c5f",
   "metadata": {},
   "outputs": [
    {
     "name": "stdout",
     "output_type": "stream",
     "text": [
      "6\n"
     ]
    }
   ],
   "source": [
    "facto(3)"
   ]
  },
  {
   "cell_type": "markdown",
   "id": "748d968d",
   "metadata": {},
   "source": [
    "6. Write a Python function to check whether a number falls in a given range. "
   ]
  },
  {
   "cell_type": "code",
   "execution_count": 21,
   "id": "0f962417",
   "metadata": {},
   "outputs": [
    {
     "name": "stdout",
     "output_type": "stream",
     "text": [
      "enter any number4\n",
      "4\n",
      "enter any number3\n",
      "3\n",
      "enter any number2\n",
      "2\n",
      "enter any number1\n",
      "1\n",
      "enter any number7\n",
      "7 number is out of range\n"
     ]
    }
   ],
   "source": [
    "a=0\n",
    "while(a<=5):\n",
    "    a=int(input('enter any number'))\n",
    "    if(a<=5):\n",
    "        print(a)\n",
    "    else:\n",
    "        print(f'{a} number is out of range')"
   ]
  },
  {
   "cell_type": "code",
   "execution_count": 47,
   "id": "ea941b52",
   "metadata": {},
   "outputs": [
    {
     "name": "stdout",
     "output_type": "stream",
     "text": [
      "enter range\n",
      "3\n",
      "enter any number which comes in between range2\n",
      "2\n",
      "enter any number which comes in between range2\n",
      "2\n",
      "enter any number which comes in between range2\n",
      "2\n",
      "enter any number which comes in between range1\n",
      "1\n",
      "enter any number which comes in between range4\n",
      "4 number is out of range\n"
     ]
    }
   ],
   "source": [
    "n=int(input('enter range\\n'))\n",
    "a=0\n",
    "while(a<=n):\n",
    "    a=int(input('enter any number which comes in between range'))\n",
    "    if(a<=n):\n",
    "        print(a)\n",
    "    else:\n",
    "        print(f'{a} number is out of range')\n",
    "        break"
   ]
  },
  {
   "cell_type": "code",
   "execution_count": 48,
   "id": "c0dd8e8d",
   "metadata": {},
   "outputs": [],
   "source": [
    "def rangeDetect():\n",
    "    n=int(input('enter range\\n'))\n",
    "    a=0\n",
    "    while(a<=n):\n",
    "        a=int(input('enter any number which comes in between range'))\n",
    "        if(a<=n):\n",
    "            print(a)\n",
    "        else:\n",
    "            print(f'{a} number is out of range')\n",
    "            break"
   ]
  },
  {
   "cell_type": "code",
   "execution_count": 51,
   "id": "3d60ab3f",
   "metadata": {},
   "outputs": [
    {
     "name": "stdout",
     "output_type": "stream",
     "text": [
      "enter range\n",
      "6\n",
      "enter any number which comes in between range2\n",
      "2\n",
      "enter any number which comes in between range3\n",
      "3\n",
      "enter any number which comes in between range4\n",
      "4\n",
      "enter any number which comes in between range1\n",
      "1\n",
      "enter any number which comes in between range5\n",
      "5\n",
      "enter any number which comes in between range6\n",
      "6\n",
      "enter any number which comes in between range7\n",
      "7 number is out of range\n"
     ]
    }
   ],
   "source": [
    "rangeDetect()"
   ]
  },
  {
   "cell_type": "markdown",
   "id": "8ef8514d",
   "metadata": {},
   "source": [
    "7. Write a Python function that accepts a string and calculate the number of upper case letters and lower case letters. \n",
    "Sample String : 'The quick Brow Fox'\n",
    "Expected Output :\n",
    "No. of Upper case characters : 3\n",
    "No. of Lower case Characters : 12"
   ]
  },
  {
   "cell_type": "code",
   "execution_count": 59,
   "id": "3383a8a9",
   "metadata": {},
   "outputs": [
    {
     "name": "stdout",
     "output_type": "stream",
     "text": [
      "12\n",
      "3\n"
     ]
    }
   ],
   "source": [
    "string='The quick Brow Fox'\n",
    "upper=0\n",
    "lower=0\n",
    "\n",
    "for i in string:\n",
    "    if(i.isupper()):\n",
    "        upper+=1\n",
    "    else:\n",
    "        if(i.islower()):\n",
    "            lower+=1\n",
    "print(lower)\n",
    "print(upper)"
   ]
  },
  {
   "cell_type": "markdown",
   "id": "efb75392",
   "metadata": {},
   "source": [
    "8. Write a Python function that takes a list and returns a new list with unique elements of the first list. \n",
    "Sample List : [1,2,3,3,3,3,4,5]\n",
    "Unique List : [1, 2, 3, 4, 5]"
   ]
  },
  {
   "cell_type": "code",
   "execution_count": 10,
   "id": "d9cdd344",
   "metadata": {},
   "outputs": [
    {
     "name": "stdout",
     "output_type": "stream",
     "text": [
      "[1, 2, 3, 4, 44]\n",
      "<class 'set'>\n",
      "<class 'list'>\n"
     ]
    }
   ],
   "source": [
    "a=[1,1,2,2,3,3,4,44,4]\n",
    "a=set(a)\n",
    "b=list(a)\n",
    "print(b)\n",
    "print(type(a))\n",
    "print(type(b))"
   ]
  },
  {
   "cell_type": "code",
   "execution_count": 11,
   "id": "575e8462",
   "metadata": {},
   "outputs": [],
   "source": [
    "def firstList(list1):\n",
    "    a=set(list1)\n",
    "    b=list(a)\n",
    "    return b"
   ]
  },
  {
   "cell_type": "code",
   "execution_count": 12,
   "id": "71d9a51d",
   "metadata": {},
   "outputs": [
    {
     "data": {
      "text/plain": [
       "[2, 3, 4, 5]"
      ]
     },
     "execution_count": 12,
     "metadata": {},
     "output_type": "execute_result"
    }
   ],
   "source": [
    "firstList([2,4,5,5,5,3])"
   ]
  },
  {
   "cell_type": "markdown",
   "id": "14ca9659",
   "metadata": {},
   "source": [
    "9. Write a Python function that takes a number as a parameter and check the number is prime or not. \n",
    "Note : A prime number (or a prime) is a natural number greater than 1 and that has no positive divisors other than 1 and itself."
   ]
  },
  {
   "cell_type": "code",
   "execution_count": 73,
   "id": "ce0a4224",
   "metadata": {},
   "outputs": [
    {
     "name": "stdout",
     "output_type": "stream",
     "text": [
      "enter any number7\n",
      "this is prime number\n"
     ]
    }
   ],
   "source": [
    "a=int(input('enter any number'))\n",
    "for i in range(2,a):\n",
    "    if a%i==0:\n",
    "        print('this is not a prime number')\n",
    "        break\n",
    "else:\n",
    "    print('this is prime number')"
   ]
  },
  {
   "cell_type": "markdown",
   "id": "5b1ccd7d",
   "metadata": {},
   "source": [
    "10. Write a Python program to print the even numbers from a given list. \n",
    "Sample List : [1, 2, 3, 4, 5, 6, 7, 8, 9]\n",
    "Expected Result : [2, 4, 6, 8]"
   ]
  },
  {
   "cell_type": "code",
   "execution_count": 81,
   "id": "25eb9071",
   "metadata": {},
   "outputs": [
    {
     "name": "stdout",
     "output_type": "stream",
     "text": [
      "[2, 4, 6, 8]\n"
     ]
    }
   ],
   "source": [
    "listt=[]\n",
    "listEven=[1,2,3,4,5,6,7,8,9]\n",
    "for i in listEven:\n",
    "    if i%2==0:\n",
    "        listt.append(i)\n",
    "#         print(listt)\n",
    "#     print(listt)\n",
    "print(listt)\n",
    "        "
   ]
  },
  {
   "cell_type": "code",
   "execution_count": null,
   "id": "53f8e6b9",
   "metadata": {},
   "outputs": [],
   "source": []
  }
 ],
 "metadata": {
  "kernelspec": {
   "display_name": "Python 3 (ipykernel)",
   "language": "python",
   "name": "python3"
  },
  "language_info": {
   "codemirror_mode": {
    "name": "ipython",
    "version": 3
   },
   "file_extension": ".py",
   "mimetype": "text/x-python",
   "name": "python",
   "nbconvert_exporter": "python",
   "pygments_lexer": "ipython3",
   "version": "3.9.12"
  }
 },
 "nbformat": 4,
 "nbformat_minor": 5
}
