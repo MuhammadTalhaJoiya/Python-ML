{
 "cells": [
  {
   "cell_type": "code",
   "execution_count": 1,
   "id": "857eea9a",
   "metadata": {},
   "outputs": [],
   "source": [
    "class Car():\n",
    "    wheel=4\n",
    "    def __init__(self,brand,model):\n",
    "        self.brand=brand\n",
    "        self.model=model"
   ]
  },
  {
   "cell_type": "code",
   "execution_count": 2,
   "id": "d4dd7a02",
   "metadata": {},
   "outputs": [],
   "source": [
    "c1=Car('Toyota',2009)"
   ]
  },
  {
   "cell_type": "code",
   "execution_count": 3,
   "id": "3add12fc",
   "metadata": {},
   "outputs": [
    {
     "data": {
      "text/plain": [
       "4"
      ]
     },
     "execution_count": 3,
     "metadata": {},
     "output_type": "execute_result"
    }
   ],
   "source": [
    "c1.wheel"
   ]
  },
  {
   "cell_type": "code",
   "execution_count": 4,
   "id": "012ee5df",
   "metadata": {},
   "outputs": [
    {
     "data": {
      "text/plain": [
       "4"
      ]
     },
     "execution_count": 4,
     "metadata": {},
     "output_type": "execute_result"
    }
   ],
   "source": [
    "Car.wheel"
   ]
  },
  {
   "cell_type": "code",
   "execution_count": 5,
   "id": "f59e512b",
   "metadata": {},
   "outputs": [],
   "source": [
    "class Car():\n",
    "    wheel=4\n",
    "    def __init__(self,brand,model):\n",
    "        self.brand=brand\n",
    "        self.model=model\n",
    "    def petrol(self):\n",
    "        print(f'{self.brand} has full of petrol')"
   ]
  },
  {
   "cell_type": "code",
   "execution_count": 6,
   "id": "c7ebbc08",
   "metadata": {},
   "outputs": [],
   "source": [
    "c2=Car('Honda',2019)"
   ]
  },
  {
   "cell_type": "code",
   "execution_count": 7,
   "id": "23103196",
   "metadata": {},
   "outputs": [
    {
     "ename": "TypeError",
     "evalue": "petrol() missing 1 required positional argument: 'self'",
     "output_type": "error",
     "traceback": [
      "\u001b[1;31m---------------------------------------------------------------------------\u001b[0m",
      "\u001b[1;31mTypeError\u001b[0m                                 Traceback (most recent call last)",
      "Input \u001b[1;32mIn [7]\u001b[0m, in \u001b[0;36m<cell line: 1>\u001b[1;34m()\u001b[0m\n\u001b[1;32m----> 1\u001b[0m \u001b[43mCar\u001b[49m\u001b[38;5;241;43m.\u001b[39;49m\u001b[43mpetrol\u001b[49m\u001b[43m(\u001b[49m\u001b[43m)\u001b[49m\n",
      "\u001b[1;31mTypeError\u001b[0m: petrol() missing 1 required positional argument: 'self'"
     ]
    }
   ],
   "source": [
    "Car.petrol()"
   ]
  },
  {
   "cell_type": "code",
   "execution_count": 8,
   "id": "9d96e474",
   "metadata": {},
   "outputs": [
    {
     "name": "stdout",
     "output_type": "stream",
     "text": [
      "Honda has full of petrol\n"
     ]
    }
   ],
   "source": [
    "c2.petrol()"
   ]
  },
  {
   "cell_type": "code",
   "execution_count": 9,
   "id": "92aa5cd8",
   "metadata": {},
   "outputs": [
    {
     "name": "stdout",
     "output_type": "stream",
     "text": [
      "Honda has full of petrol\n"
     ]
    }
   ],
   "source": [
    "Car.petrol(c2) #In this situation we use @classmethod"
   ]
  },
  {
   "cell_type": "code",
   "execution_count": 10,
   "id": "58b931a8",
   "metadata": {},
   "outputs": [],
   "source": [
    "class Car():\n",
    "    wheel=4\n",
    "    def __init__(self,brand,model):\n",
    "        self.brand=brand\n",
    "        self.model=model\n",
    "    @classmethod\n",
    "    def petrol(self):\n",
    "        print(f'It has {self.wheel} wheel')"
   ]
  },
  {
   "cell_type": "code",
   "execution_count": 11,
   "id": "bf39b78b",
   "metadata": {},
   "outputs": [],
   "source": [
    "c3=Car('Kia',2018)"
   ]
  },
  {
   "cell_type": "code",
   "execution_count": 12,
   "id": "405c215b",
   "metadata": {},
   "outputs": [
    {
     "name": "stdout",
     "output_type": "stream",
     "text": [
      "It has 4 wheel\n"
     ]
    }
   ],
   "source": [
    "Car.petrol()"
   ]
  },
  {
   "cell_type": "code",
   "execution_count": 13,
   "id": "fe0b2c13",
   "metadata": {},
   "outputs": [
    {
     "name": "stdout",
     "output_type": "stream",
     "text": [
      "It has 4 wheel\n"
     ]
    }
   ],
   "source": [
    "c3.petrol()"
   ]
  },
  {
   "cell_type": "code",
   "execution_count": 14,
   "id": "dce2c6eb",
   "metadata": {},
   "outputs": [],
   "source": [
    "##class method call via instance or class while instance method call via instanse or object itself"
   ]
  },
  {
   "cell_type": "code",
   "execution_count": 15,
   "id": "3252c2f4",
   "metadata": {},
   "outputs": [],
   "source": [
    "class Car():\n",
    "    wheel=4\n",
    "    def __init__(self,brand,model):\n",
    "        self.brand=brand\n",
    "        self.model=model\n",
    "    @classmethod\n",
    "    def petrol(self):\n",
    "        print(f'It has {self.wheel} wheel')\n",
    "    @staticmethod\n",
    "    def greet():\n",
    "        print('Assalam O Alaikum')"
   ]
  },
  {
   "cell_type": "code",
   "execution_count": 16,
   "id": "c62a67d7",
   "metadata": {},
   "outputs": [],
   "source": [
    "c4=Car('Sportage',2017)"
   ]
  },
  {
   "cell_type": "code",
   "execution_count": 17,
   "id": "b6eae5f1",
   "metadata": {},
   "outputs": [
    {
     "name": "stdout",
     "output_type": "stream",
     "text": [
      "Assalam O Alaikum\n"
     ]
    }
   ],
   "source": [
    "c4.greet()"
   ]
  },
  {
   "cell_type": "code",
   "execution_count": 18,
   "id": "7db252d0",
   "metadata": {},
   "outputs": [
    {
     "name": "stdout",
     "output_type": "stream",
     "text": [
      "Assalam O Alaikum\n"
     ]
    }
   ],
   "source": [
    "Car.greet()"
   ]
  },
  {
   "cell_type": "markdown",
   "id": "3f5b0f65",
   "metadata": {},
   "source": [
    "# Closure"
   ]
  },
  {
   "cell_type": "code",
   "execution_count": 19,
   "id": "00e47852",
   "metadata": {},
   "outputs": [],
   "source": [
    "def Vehicle():\n",
    "    def Car(Vehicle):\n",
    "        return Car"
   ]
  },
  {
   "cell_type": "code",
   "execution_count": 20,
   "id": "e4c4ac95",
   "metadata": {},
   "outputs": [],
   "source": [
    "def Vehicle():\n",
    "    print('you are a programmer')"
   ]
  },
  {
   "cell_type": "code",
   "execution_count": 21,
   "id": "81fe003d",
   "metadata": {},
   "outputs": [
    {
     "name": "stdout",
     "output_type": "stream",
     "text": [
      "you are a programmer\n"
     ]
    }
   ],
   "source": [
    "Vehicle()"
   ]
  },
  {
   "cell_type": "code",
   "execution_count": 22,
   "id": "2f644311",
   "metadata": {},
   "outputs": [],
   "source": [
    "def greet(msg):\n",
    "    print(msg)"
   ]
  },
  {
   "cell_type": "code",
   "execution_count": 23,
   "id": "c38bb0cc",
   "metadata": {},
   "outputs": [
    {
     "name": "stdout",
     "output_type": "stream",
     "text": [
      "Salam Everyone\n"
     ]
    }
   ],
   "source": [
    "greet('Salam Everyone')"
   ]
  },
  {
   "cell_type": "code",
   "execution_count": 24,
   "id": "62bcfda3",
   "metadata": {},
   "outputs": [],
   "source": [
    "def greet(msg):\n",
    "    def student():\n",
    "        print(msg)\n",
    "        print('TalhaJoiya')\n",
    "        print('Programmer')\n",
    "    return student()"
   ]
  },
  {
   "cell_type": "code",
   "execution_count": 25,
   "id": "0177b298",
   "metadata": {},
   "outputs": [
    {
     "name": "stdout",
     "output_type": "stream",
     "text": [
      "Salam\n",
      "TalhaJoiya\n",
      "Programmer\n"
     ]
    }
   ],
   "source": [
    "greet('Salam')"
   ]
  },
  {
   "cell_type": "code",
   "execution_count": 26,
   "id": "d7a2880e",
   "metadata": {},
   "outputs": [],
   "source": [
    "def country(pr):\n",
    "    def city():\n",
    "        print('Salam')\n",
    "        pr('Pakistan')\n",
    "    return city()"
   ]
  },
  {
   "cell_type": "code",
   "execution_count": 27,
   "id": "7b7f890a",
   "metadata": {},
   "outputs": [
    {
     "name": "stdout",
     "output_type": "stream",
     "text": [
      "Salam\n",
      "Pakistan\n"
     ]
    }
   ],
   "source": [
    "country(print)"
   ]
  },
  {
   "cell_type": "code",
   "execution_count": 28,
   "id": "1dccb33b",
   "metadata": {},
   "outputs": [],
   "source": [
    "def country(msg):\n",
    "    def city():\n",
    "        print(f'country name is {msg}')\n",
    "        print('city name is Karchi')\n",
    "    return city()"
   ]
  },
  {
   "cell_type": "code",
   "execution_count": 29,
   "id": "b934b303",
   "metadata": {},
   "outputs": [
    {
     "name": "stdout",
     "output_type": "stream",
     "text": [
      "country name is Pakistan\n",
      "city name is Karchi\n"
     ]
    }
   ],
   "source": [
    "country('Pakistan')"
   ]
  },
  {
   "cell_type": "code",
   "execution_count": 30,
   "id": "dfb2f6d6",
   "metadata": {},
   "outputs": [],
   "source": [
    "def country(msg):\n",
    "    print(msg)\n",
    "    print('country')\n",
    "    def city():\n",
    "        print(msg)\n",
    "        print('country')\n",
    "        def town():\n",
    "            print(msg)\n",
    "            print('town')\n",
    "        return town()\n",
    "    return city()\n",
    "        "
   ]
  },
  {
   "cell_type": "code",
   "execution_count": 31,
   "id": "70ccc12a",
   "metadata": {},
   "outputs": [
    {
     "name": "stdout",
     "output_type": "stream",
     "text": [
      "Salam\n",
      "country\n",
      "Salam\n",
      "country\n",
      "Salam\n",
      "town\n"
     ]
    }
   ],
   "source": [
    "country('Salam')"
   ]
  },
  {
   "cell_type": "code",
   "execution_count": 32,
   "id": "e6e275d3",
   "metadata": {},
   "outputs": [],
   "source": [
    "def country(msg):\n",
    "    def city():\n",
    "        def town():\n",
    "            print(msg)\n",
    "            print('town')\n",
    "        return town()\n",
    "    return city()"
   ]
  },
  {
   "cell_type": "code",
   "execution_count": 33,
   "id": "4926ad36",
   "metadata": {},
   "outputs": [
    {
     "name": "stdout",
     "output_type": "stream",
     "text": [
      "Salman\n",
      "town\n"
     ]
    }
   ],
   "source": [
    "country('Salman')"
   ]
  },
  {
   "cell_type": "code",
   "execution_count": null,
   "id": "53155e80",
   "metadata": {},
   "outputs": [],
   "source": []
  },
  {
   "cell_type": "code",
   "execution_count": null,
   "id": "fb53b01f",
   "metadata": {},
   "outputs": [],
   "source": []
  },
  {
   "cell_type": "code",
   "execution_count": 34,
   "id": "17f26056",
   "metadata": {},
   "outputs": [],
   "source": [
    "def country(func):\n",
    "    def city():\n",
    "        func()\n",
    "        print('we give function as an argument')\n",
    "    return city()"
   ]
  },
  {
   "cell_type": "code",
   "execution_count": 35,
   "id": "63f444f3",
   "metadata": {},
   "outputs": [],
   "source": [
    "def city_name():\n",
    "    print('Lahore')"
   ]
  },
  {
   "cell_type": "code",
   "execution_count": 36,
   "id": "8daf193d",
   "metadata": {},
   "outputs": [
    {
     "name": "stdout",
     "output_type": "stream",
     "text": [
      "Lahore\n",
      "we give function as an argument\n"
     ]
    }
   ],
   "source": [
    "country(city_name)"
   ]
  },
  {
   "cell_type": "code",
   "execution_count": 37,
   "id": "fb4c1e60",
   "metadata": {},
   "outputs": [],
   "source": [
    "def country(func):\n",
    "    def city():\n",
    "        func('Talha')\n",
    "        print('we give function as an argument')\n",
    "    return city()"
   ]
  },
  {
   "cell_type": "code",
   "execution_count": 38,
   "id": "dfa11b78",
   "metadata": {},
   "outputs": [
    {
     "name": "stdout",
     "output_type": "stream",
     "text": [
      "Talha\n",
      "we give function as an argument\n"
     ]
    }
   ],
   "source": [
    "country(print)"
   ]
  },
  {
   "cell_type": "markdown",
   "id": "3dfea182",
   "metadata": {},
   "source": [
    "# Decorator"
   ]
  },
  {
   "cell_type": "code",
   "execution_count": 39,
   "id": "737b0f0e",
   "metadata": {},
   "outputs": [],
   "source": [
    "def profile_maker(f):\n",
    "    name='Talha'\n",
    "    university='SSUET'\n",
    "    profile=f(n=name,u=university)\n",
    "    print(profile) "
   ]
  },
  {
   "cell_type": "code",
   "execution_count": 40,
   "id": "2398bbd7",
   "metadata": {},
   "outputs": [
    {
     "name": "stdout",
     "output_type": "stream",
     "text": [
      "{'n': 'Talha', 'u': 'SSUET'}\n"
     ]
    }
   ],
   "source": [
    "@profile_maker\n",
    "def profile_builder(**details):\n",
    "    profile={}\n",
    "    for k,v in details.items():\n",
    "        profile[k]=v\n",
    "    return profile"
   ]
  },
  {
   "cell_type": "code",
   "execution_count": 41,
   "id": "fc408396",
   "metadata": {},
   "outputs": [
    {
     "name": "stdout",
     "output_type": "stream",
     "text": [
      "{'n': 'Talha', 'u': 'SSUET'}\n"
     ]
    }
   ],
   "source": [
    "@profile_maker\n",
    "def profile_builder(**details):\n",
    "    return details"
   ]
  },
  {
   "cell_type": "code",
   "execution_count": 42,
   "id": "708a3b54",
   "metadata": {},
   "outputs": [],
   "source": [
    "def Car(f):\n",
    "    name='Lamborghini'\n",
    "    model=2019\n",
    "    a=f(name,model)\n",
    "    print(a)"
   ]
  },
  {
   "cell_type": "code",
   "execution_count": 43,
   "id": "5c5faa22",
   "metadata": {},
   "outputs": [
    {
     "name": "stdout",
     "output_type": "stream",
     "text": [
      "['Lamborghini', 2019]\n"
     ]
    }
   ],
   "source": [
    "@Car\n",
    "def car_t(*tuplee):\n",
    "    features=[]\n",
    "    for i in tuplee:\n",
    "        features.append(i)\n",
    "    return features"
   ]
  },
  {
   "cell_type": "code",
   "execution_count": 44,
   "id": "5042d79f",
   "metadata": {},
   "outputs": [],
   "source": [
    "def freiend_greet(f):\n",
    "    name=input('enter your name')\n",
    "    gg=f(name)\n",
    "    print(gg)"
   ]
  },
  {
   "cell_type": "code",
   "execution_count": 45,
   "id": "1570735e",
   "metadata": {},
   "outputs": [
    {
     "name": "stdout",
     "output_type": "stream",
     "text": [
      "enter your name\n",
      "Welcome to my house \n"
     ]
    }
   ],
   "source": [
    "@freiend_greet\n",
    "def funct(name):\n",
    "    return f'Welcome to my house {name}'"
   ]
  },
  {
   "cell_type": "code",
   "execution_count": 46,
   "id": "cfdd45c0",
   "metadata": {},
   "outputs": [],
   "source": [
    "def invitation(func):\n",
    "    name1=input('enter your name')\n",
    "    name2=input('enter your name')\n",
    "    fr=func(name1,name2)\n",
    "    print(fr)"
   ]
  },
  {
   "cell_type": "code",
   "execution_count": 47,
   "id": "14bb9bf1",
   "metadata": {},
   "outputs": [
    {
     "name": "stdout",
     "output_type": "stream",
     "text": [
      "enter your name\n",
      "enter your name\n",
      "you both are invited to my wedding  and \n"
     ]
    }
   ],
   "source": [
    "@invitation\n",
    "def friend(f1,f2):\n",
    "    return f'you both are invited to my wedding {f1} and {f2}'"
   ]
  },
  {
   "cell_type": "code",
   "execution_count": 48,
   "id": "41991f9e",
   "metadata": {},
   "outputs": [],
   "source": [
    "list1=[2,4,6,'pakistan']\n",
    "iterator=iter(list1)"
   ]
  },
  {
   "cell_type": "code",
   "execution_count": 63,
   "id": "aecf74e9",
   "metadata": {},
   "outputs": [
    {
     "data": {
      "text/plain": [
       "4"
      ]
     },
     "execution_count": 63,
     "metadata": {},
     "output_type": "execute_result"
    }
   ],
   "source": [
    "next(iterator)"
   ]
  },
  {
   "cell_type": "code",
   "execution_count": 50,
   "id": "5cc0ddf6",
   "metadata": {},
   "outputs": [],
   "source": [
    "l2=[3,4,5,7,8]"
   ]
  },
  {
   "cell_type": "code",
   "execution_count": 51,
   "id": "2c3b86ce",
   "metadata": {},
   "outputs": [],
   "source": [
    "iterator1=iter(l2)"
   ]
  },
  {
   "cell_type": "code",
   "execution_count": 52,
   "id": "274c71c9",
   "metadata": {},
   "outputs": [
    {
     "data": {
      "text/plain": [
       "<list_iterator at 0x24333b2d1c0>"
      ]
     },
     "execution_count": 52,
     "metadata": {},
     "output_type": "execute_result"
    }
   ],
   "source": [
    "iterator1"
   ]
  },
  {
   "cell_type": "code",
   "execution_count": 53,
   "id": "02cb3d08",
   "metadata": {},
   "outputs": [
    {
     "data": {
      "text/plain": [
       "3"
      ]
     },
     "execution_count": 53,
     "metadata": {},
     "output_type": "execute_result"
    }
   ],
   "source": [
    "next(iterator1)"
   ]
  },
  {
   "cell_type": "code",
   "execution_count": 54,
   "id": "206f02fa",
   "metadata": {},
   "outputs": [],
   "source": [
    "def forloop(list3):\n",
    "    LIST=[]\n",
    "    for i in list3:\n",
    "        LIST.append(i*i)\n",
    "    return LIST"
   ]
  },
  {
   "cell_type": "code",
   "execution_count": 55,
   "id": "87fff23a",
   "metadata": {},
   "outputs": [
    {
     "name": "stdout",
     "output_type": "stream",
     "text": [
      "[4, 9, 36, 49]\n"
     ]
    }
   ],
   "source": [
    "a=forloop([2,3,6,7])\n",
    "print(a)"
   ]
  },
  {
   "cell_type": "markdown",
   "id": "0a8bf962",
   "metadata": {},
   "source": [
    "# Generator"
   ]
  },
  {
   "cell_type": "code",
   "execution_count": 56,
   "id": "3f7d879c",
   "metadata": {},
   "outputs": [
    {
     "name": "stdout",
     "output_type": "stream",
     "text": [
      "<generator object loop at 0x00000243344D1F90>\n"
     ]
    }
   ],
   "source": [
    "def loop(n):\n",
    "    for i in n:\n",
    "        yield i*i\n",
    "v=loop([3,2,16,7,8])\n",
    "print(v)"
   ]
  },
  {
   "cell_type": "code",
   "execution_count": 57,
   "id": "a0fb2273",
   "metadata": {},
   "outputs": [
    {
     "data": {
      "text/plain": [
       "9"
      ]
     },
     "execution_count": 57,
     "metadata": {},
     "output_type": "execute_result"
    }
   ],
   "source": [
    "next(v)"
   ]
  },
  {
   "cell_type": "code",
   "execution_count": 58,
   "id": "daa9104c",
   "metadata": {},
   "outputs": [
    {
     "name": "stdout",
     "output_type": "stream",
     "text": [
      "Enter a number\n"
     ]
    },
    {
     "ename": "ValueError",
     "evalue": "invalid literal for int() with base 10: ''",
     "output_type": "error",
     "traceback": [
      "\u001b[1;31m---------------------------------------------------------------------------\u001b[0m",
      "\u001b[1;31mValueError\u001b[0m                                Traceback (most recent call last)",
      "Input \u001b[1;32mIn [58]\u001b[0m, in \u001b[0;36m<cell line: 1>\u001b[1;34m()\u001b[0m\n\u001b[1;32m----> 1\u001b[0m a \u001b[38;5;241m=\u001b[39m\u001b[38;5;28;43mint\u001b[39;49m\u001b[43m(\u001b[49m\u001b[38;5;28;43minput\u001b[39;49m\u001b[43m(\u001b[49m\u001b[38;5;124;43m\"\u001b[39;49m\u001b[38;5;124;43mEnter a number\u001b[39;49m\u001b[38;5;124;43m\"\u001b[39;49m\u001b[43m)\u001b[49m\u001b[43m)\u001b[49m \n\u001b[0;32m      2\u001b[0m b \u001b[38;5;241m=\u001b[39m\u001b[38;5;28mint\u001b[39m(\u001b[38;5;28minput\u001b[39m(\u001b[38;5;124m\"\u001b[39m\u001b[38;5;124mEnter a number\u001b[39m\u001b[38;5;124m\"\u001b[39m)) \n\u001b[0;32m      3\u001b[0m \u001b[38;5;28;01mtry\u001b[39;00m:\n",
      "\u001b[1;31mValueError\u001b[0m: invalid literal for int() with base 10: ''"
     ]
    }
   ],
   "source": [
    "a =int(input(\"Enter a number\")) \n",
    "b =int(input(\"Enter a number\")) \n",
    "try:\n",
    "    c = a/b\n",
    "# except will only be run if exception arises\n",
    "except ZeroDivisionError:\n",
    "    print(\"Handled ZeroDivisionError\")\n",
    "# else will only run if there is no exception arises in try block\n",
    "else:\n",
    "    print(\"Else \" +str(c))\n",
    "\n",
    "# this line will be excecuted in normal routine if there is no excpetion arises\n",
    "# this line will be excecuted in normal routine if there is excpetion arises and handled successfuly\n",
    "print(\"hello\")"
   ]
  },
  {
   "cell_type": "code",
   "execution_count": 59,
   "id": "2ca7986a",
   "metadata": {},
   "outputs": [
    {
     "name": "stdout",
     "output_type": "stream",
     "text": [
      "First\n",
      "Enter a number\n",
      "Value eror reported\n"
     ]
    }
   ],
   "source": [
    "print(\"First\")\n",
    "d = [1,2,3,4,5,6,7,9]\n",
    "try:\n",
    "    a =int(input(\"Enter a number\")) \n",
    "    b =int(input(\"Enter a number\"))\n",
    "    index = int(input(\"Enter a index\"))\n",
    "    c = a/b\n",
    "    e = d[index]\n",
    "except ZeroDivisionError:\n",
    "    print(\"Handled ZeroDivisionError\")\n",
    "except ValueError:\n",
    "    print(\"Value eror reported\")\n",
    "except IndexError:\n",
    "    print(\"INdex error reported\")\n",
    "else:\n",
    "    print(c)\n",
    "    print(e)"
   ]
  },
  {
   "cell_type": "code",
   "execution_count": 60,
   "id": "e38bca52",
   "metadata": {},
   "outputs": [],
   "source": [
    "class Student():\n",
    "    def __init__(self,name,age):\n",
    "        if age > 80 or age <16:\n",
    "            raise Exception(\"Age can not be greater then 80 and less then 16\")\n",
    "        self.name = name\n",
    "        self.age = age"
   ]
  },
  {
   "cell_type": "code",
   "execution_count": 61,
   "id": "001251a8",
   "metadata": {},
   "outputs": [
    {
     "name": "stdout",
     "output_type": "stream",
     "text": [
      "Enter students age: \n"
     ]
    },
    {
     "ename": "ValueError",
     "evalue": "invalid literal for int() with base 10: ''",
     "output_type": "error",
     "traceback": [
      "\u001b[1;31m---------------------------------------------------------------------------\u001b[0m",
      "\u001b[1;31mValueError\u001b[0m                                Traceback (most recent call last)",
      "Input \u001b[1;32mIn [61]\u001b[0m, in \u001b[0;36m<cell line: 1>\u001b[1;34m()\u001b[0m\n\u001b[1;32m----> 1\u001b[0m age \u001b[38;5;241m=\u001b[39m \u001b[38;5;28;43mint\u001b[39;49m\u001b[43m(\u001b[49m\u001b[38;5;28;43minput\u001b[39;49m\u001b[43m(\u001b[49m\u001b[38;5;124;43m\"\u001b[39;49m\u001b[38;5;124;43mEnter students age: \u001b[39;49m\u001b[38;5;124;43m\"\u001b[39;49m\u001b[43m)\u001b[49m\u001b[43m)\u001b[49m\n\u001b[0;32m      2\u001b[0m st \u001b[38;5;241m=\u001b[39m Student(\u001b[38;5;124m\"\u001b[39m\u001b[38;5;124mNasir\u001b[39m\u001b[38;5;124m\"\u001b[39m,age)\n\u001b[0;32m      3\u001b[0m \u001b[38;5;28mprint\u001b[39m(st\u001b[38;5;241m.\u001b[39mage)\n",
      "\u001b[1;31mValueError\u001b[0m: invalid literal for int() with base 10: ''"
     ]
    }
   ],
   "source": [
    "age = int(input(\"Enter students age: \"))\n",
    "st = Student(\"Nasir\",age)\n",
    "print(st.age)\n",
    "print(st.name)\n"
   ]
  },
  {
   "cell_type": "code",
   "execution_count": 62,
   "id": "39246c19",
   "metadata": {},
   "outputs": [
    {
     "name": "stdout",
     "output_type": "stream",
     "text": [
      "Enter students age: \n",
      "Exception invalid literal for int() with base 10: ''\n"
     ]
    }
   ],
   "source": [
    "\n",
    "'''ab humen try except laga diya hy code crash nahi hoga '''\n",
    "try:\n",
    "    \n",
    "    age = int(input(\"Enter students age: \"))\n",
    "    \n",
    "    st = Student(\"Hello\",age)   # send different ages and see the result\n",
    "except Exception as e:\n",
    "    print(\"Exception \"+str(e))\n",
    "else :\n",
    "    print(st.age)\n",
    "    print(st.name)"
   ]
  },
  {
   "cell_type": "code",
   "execution_count": 7,
   "id": "f7f51bd2",
   "metadata": {},
   "outputs": [
    {
     "name": "stdout",
     "output_type": "stream",
     "text": [
      "Enter your number3\n",
      "Enter your numberd\n",
      "Exception caught\n"
     ]
    }
   ],
   "source": [
    "try:\n",
    "    a=int(input('Enter your number'))\n",
    "    b=int(input('Enter your number'))\n",
    "    c=a/b\n",
    "except:\n",
    "    print('Exception caught')\n",
    "else:\n",
    "    print(c)"
   ]
  },
  {
   "cell_type": "code",
   "execution_count": 9,
   "id": "cfc74243",
   "metadata": {},
   "outputs": [
    {
     "name": "stdout",
     "output_type": "stream",
     "text": [
      "Enter your number2\n",
      "Enter your numberd\n"
     ]
    },
    {
     "ename": "ValueError",
     "evalue": "invalid literal for int() with base 10: 'd'",
     "output_type": "error",
     "traceback": [
      "\u001b[1;31m---------------------------------------------------------------------------\u001b[0m",
      "\u001b[1;31mValueError\u001b[0m                                Traceback (most recent call last)",
      "Input \u001b[1;32mIn [9]\u001b[0m, in \u001b[0;36m<cell line: 2>\u001b[1;34m()\u001b[0m\n\u001b[0;32m      1\u001b[0m a\u001b[38;5;241m=\u001b[39m\u001b[38;5;28mint\u001b[39m(\u001b[38;5;28minput\u001b[39m(\u001b[38;5;124m'\u001b[39m\u001b[38;5;124mEnter your number\u001b[39m\u001b[38;5;124m'\u001b[39m))\n\u001b[1;32m----> 2\u001b[0m b\u001b[38;5;241m=\u001b[39m\u001b[38;5;28;43mint\u001b[39;49m\u001b[43m(\u001b[49m\u001b[38;5;28;43minput\u001b[39;49m\u001b[43m(\u001b[49m\u001b[38;5;124;43m'\u001b[39;49m\u001b[38;5;124;43mEnter your number\u001b[39;49m\u001b[38;5;124;43m'\u001b[39;49m\u001b[43m)\u001b[49m\u001b[43m)\u001b[49m\n\u001b[0;32m      3\u001b[0m \u001b[38;5;28;01mtry\u001b[39;00m:\n\u001b[0;32m      4\u001b[0m     c\u001b[38;5;241m=\u001b[39ma\u001b[38;5;241m/\u001b[39mb\n",
      "\u001b[1;31mValueError\u001b[0m: invalid literal for int() with base 10: 'd'"
     ]
    }
   ],
   "source": [
    "a=int(input('Enter your number'))\n",
    "b=int(input('Enter your number'))\n",
    "try:\n",
    "    c=a/b\n",
    "except Exception as e:\n",
    "    print(str(e))\n",
    "else:\n",
    "    print(c)"
   ]
  },
  {
   "cell_type": "code",
   "execution_count": 12,
   "id": "c3a9e0eb",
   "metadata": {},
   "outputs": [
    {
     "name": "stdout",
     "output_type": "stream",
     "text": [
      "Enter your number2\n",
      "Enter your numberr\n",
      "invalid literal for int() with base 10: 'r'\n"
     ]
    }
   ],
   "source": [
    "try:\n",
    "    a=int(input('Enter your number'))\n",
    "    b=int(input('Enter your number'))\n",
    "    c=a/b\n",
    "except Exception as e:\n",
    "    print(str(e))\n",
    "else:\n",
    "    print(c)"
   ]
  },
  {
   "cell_type": "code",
   "execution_count": 13,
   "id": "44947bf6",
   "metadata": {},
   "outputs": [
    {
     "name": "stdout",
     "output_type": "stream",
     "text": [
      "Enter your number3\n",
      "Enter your numberd\n",
      "invalid literal for int() with base 10: 'd'\n",
      "I am running anytime\n"
     ]
    }
   ],
   "source": [
    "try:\n",
    "    a=int(input('Enter your number'))\n",
    "    b=int(input('Enter your number'))\n",
    "    c=a/b\n",
    "except Exception as e:\n",
    "    print(str(e))\n",
    "else:\n",
    "    print(c)\n",
    "finally:\n",
    "    print('I am running anytime')"
   ]
  },
  {
   "cell_type": "code",
   "execution_count": 17,
   "id": "70655a92",
   "metadata": {},
   "outputs": [
    {
     "name": "stdout",
     "output_type": "stream",
     "text": [
      "Enter a number3\n",
      "Enter a number2\n",
      "Enter the index number3\n",
      "Exception is list index out of range\n",
      "Salam\n"
     ]
    }
   ],
   "source": [
    "ab=[]\n",
    "try:\n",
    "    a=int(input('Enter a number'))\n",
    "    b=int(input('Enter a number'))\n",
    "    d=a*b\n",
    "    indexing=int(input('Enter the index number'))\n",
    "    e=ab[indexing]\n",
    "except Exception as e:\n",
    "    print('Exception is' ,str(e))\n",
    "else:\n",
    "    print(d)\n",
    "    print(e)\n",
    "finally:\n",
    "    print('Salam')"
   ]
  },
  {
   "cell_type": "code",
   "execution_count": 33,
   "id": "12bc88d6",
   "metadata": {},
   "outputs": [],
   "source": [
    "class License():\n",
    "    def __init__(self,name,age):\n",
    "        if(age<18 or age>60):\n",
    "            raise Exception('Your are not allowed to drive')\n",
    "        self.name=name\n",
    "        self.age=age"
   ]
  },
  {
   "cell_type": "code",
   "execution_count": 34,
   "id": "562a0745",
   "metadata": {},
   "outputs": [
    {
     "name": "stdout",
     "output_type": "stream",
     "text": [
      "Enter a age34\n"
     ]
    },
    {
     "data": {
      "text/plain": [
       "34"
      ]
     },
     "execution_count": 34,
     "metadata": {},
     "output_type": "execute_result"
    }
   ],
   "source": [
    "age=int(input('Enter a age'))\n",
    "a=License('Talha',age)\n",
    "a.age"
   ]
  },
  {
   "cell_type": "code",
   "execution_count": 41,
   "id": "a6c252c0",
   "metadata": {},
   "outputs": [
    {
     "name": "stdout",
     "output_type": "stream",
     "text": [
      "Enter a age2\n"
     ]
    },
    {
     "ename": "Exception",
     "evalue": "Your are not allowed to drive",
     "output_type": "error",
     "traceback": [
      "\u001b[1;31m---------------------------------------------------------------------------\u001b[0m",
      "\u001b[1;31mException\u001b[0m                                 Traceback (most recent call last)",
      "Input \u001b[1;32mIn [41]\u001b[0m, in \u001b[0;36m<cell line: 1>\u001b[1;34m()\u001b[0m\n\u001b[0;32m      4\u001b[0m     \u001b[38;5;28mprint\u001b[39m(\u001b[38;5;124m'\u001b[39m\u001b[38;5;124mException is \u001b[39m\u001b[38;5;124m'\u001b[39m ,\u001b[38;5;28mstr\u001b[39m(e))\n\u001b[0;32m      5\u001b[0m \u001b[38;5;28;01melse\u001b[39;00m:\n\u001b[1;32m----> 6\u001b[0m     a\u001b[38;5;241m=\u001b[39m\u001b[43mLicense\u001b[49m\u001b[43m(\u001b[49m\u001b[38;5;124;43m'\u001b[39;49m\u001b[38;5;124;43mTalha\u001b[39;49m\u001b[38;5;124;43m'\u001b[39;49m\u001b[43m,\u001b[49m\u001b[43mage\u001b[49m\u001b[43m)\u001b[49m\n\u001b[0;32m      7\u001b[0m     \u001b[38;5;28mprint\u001b[39m(a\u001b[38;5;241m.\u001b[39mage)\n",
      "Input \u001b[1;32mIn [33]\u001b[0m, in \u001b[0;36mLicense.__init__\u001b[1;34m(self, name, age)\u001b[0m\n\u001b[0;32m      2\u001b[0m \u001b[38;5;28;01mdef\u001b[39;00m \u001b[38;5;21m__init__\u001b[39m(\u001b[38;5;28mself\u001b[39m,name,age):\n\u001b[0;32m      3\u001b[0m     \u001b[38;5;28;01mif\u001b[39;00m(age\u001b[38;5;241m<\u001b[39m\u001b[38;5;241m18\u001b[39m \u001b[38;5;129;01mor\u001b[39;00m age\u001b[38;5;241m>\u001b[39m\u001b[38;5;241m60\u001b[39m):\n\u001b[1;32m----> 4\u001b[0m         \u001b[38;5;28;01mraise\u001b[39;00m \u001b[38;5;167;01mException\u001b[39;00m(\u001b[38;5;124m'\u001b[39m\u001b[38;5;124mYour are not allowed to drive\u001b[39m\u001b[38;5;124m'\u001b[39m)\n\u001b[0;32m      5\u001b[0m     \u001b[38;5;28mself\u001b[39m\u001b[38;5;241m.\u001b[39mname\u001b[38;5;241m=\u001b[39mname\n\u001b[0;32m      6\u001b[0m     \u001b[38;5;28mself\u001b[39m\u001b[38;5;241m.\u001b[39mage\u001b[38;5;241m=\u001b[39mage\n",
      "\u001b[1;31mException\u001b[0m: Your are not allowed to drive"
     ]
    }
   ],
   "source": [
    "try:\n",
    "    age=int(input('Enter a age'))\n",
    "except Exception as e:\n",
    "    print('Exception is ' ,str(e))\n",
    "else:\n",
    "    a=License('Talha',age)\n",
    "    print(a.age)"
   ]
  },
  {
   "cell_type": "code",
   "execution_count": 40,
   "id": "a185cc4f",
   "metadata": {},
   "outputs": [
    {
     "name": "stdout",
     "output_type": "stream",
     "text": [
      "Enter a ager\n",
      "Exception is  invalid literal for int() with base 10: 'r'\n"
     ]
    }
   ],
   "source": [
    "try:\n",
    "    age=int(input('Enter a age'))\n",
    "except Exception as e:\n",
    "    print('Exception is ' ,str(e))\n",
    "else:\n",
    "    a=License('Talha',age)\n",
    "    print(a.age)"
   ]
  },
  {
   "cell_type": "code",
   "execution_count": 44,
   "id": "9c007842",
   "metadata": {},
   "outputs": [
    {
     "name": "stdout",
     "output_type": "stream",
     "text": [
      "Enter a age26\n",
      "26\n"
     ]
    }
   ],
   "source": [
    "try:\n",
    "    age=int(input('Enter a age'))\n",
    "    a=License('Talha',age)\n",
    "except Exception as e:\n",
    "    print('Exception is ' ,str(e))\n",
    "else:\n",
    "    print(a.age)"
   ]
  },
  {
   "cell_type": "code",
   "execution_count": 39,
   "id": "7e509fa8",
   "metadata": {},
   "outputs": [],
   "source": [
    "class License():\n",
    "    def __init__(self,name,age):\n",
    "        if(age<18 or age>60):\n",
    "            raise StudentAgeError('Your are not allowed to drive')\n",
    "        if(name=='Nasir'):\n",
    "            raise NameError('Teacher name not allowed')\n",
    "        self.name=name\n",
    "        self.age=age\n",
    "class StudentAgeError(Exception):\n",
    "    pass\n",
    "class NameError(Exception):\n",
    "    pass"
   ]
  },
  {
   "cell_type": "code",
   "execution_count": 41,
   "id": "805087b7",
   "metadata": {},
   "outputs": [
    {
     "name": "stdout",
     "output_type": "stream",
     "text": [
      "Enter your age36\n",
      "Enter nameNasir\n"
     ]
    },
    {
     "ename": "NameError",
     "evalue": "Teacher name not allowed",
     "output_type": "error",
     "traceback": [
      "\u001b[1;31m---------------------------------------------------------------------------\u001b[0m",
      "\u001b[1;31mNameError\u001b[0m                                 Traceback (most recent call last)",
      "Input \u001b[1;32mIn [41]\u001b[0m, in \u001b[0;36m<cell line: 1>\u001b[1;34m()\u001b[0m\n\u001b[0;32m      7\u001b[0m     \u001b[38;5;28mprint\u001b[39m(\u001b[38;5;28mstr\u001b[39m(e))\n\u001b[0;32m      8\u001b[0m \u001b[38;5;28;01melse\u001b[39;00m:\n\u001b[1;32m----> 9\u001b[0m     c1\u001b[38;5;241m=\u001b[39m\u001b[43mLicense\u001b[49m\u001b[43m(\u001b[49m\u001b[43mname\u001b[49m\u001b[43m,\u001b[49m\u001b[43mage\u001b[49m\u001b[43m)\u001b[49m\n\u001b[0;32m     10\u001b[0m     \u001b[38;5;28mprint\u001b[39m(c1\u001b[38;5;241m.\u001b[39mage)\n\u001b[0;32m     11\u001b[0m     \u001b[38;5;28mprint\u001b[39m(c1\u001b[38;5;241m.\u001b[39mname)\n",
      "Input \u001b[1;32mIn [39]\u001b[0m, in \u001b[0;36mLicense.__init__\u001b[1;34m(self, name, age)\u001b[0m\n\u001b[0;32m      4\u001b[0m     \u001b[38;5;28;01mraise\u001b[39;00m StudentAgeError(\u001b[38;5;124m'\u001b[39m\u001b[38;5;124mYour are not allowed to drive\u001b[39m\u001b[38;5;124m'\u001b[39m)\n\u001b[0;32m      5\u001b[0m \u001b[38;5;28;01mif\u001b[39;00m(name\u001b[38;5;241m==\u001b[39m\u001b[38;5;124m'\u001b[39m\u001b[38;5;124mNasir\u001b[39m\u001b[38;5;124m'\u001b[39m):\n\u001b[1;32m----> 6\u001b[0m     \u001b[38;5;28;01mraise\u001b[39;00m \u001b[38;5;167;01mNameError\u001b[39;00m(\u001b[38;5;124m'\u001b[39m\u001b[38;5;124mTeacher name not allowed\u001b[39m\u001b[38;5;124m'\u001b[39m)\n\u001b[0;32m      7\u001b[0m \u001b[38;5;28mself\u001b[39m\u001b[38;5;241m.\u001b[39mname\u001b[38;5;241m=\u001b[39mname\n\u001b[0;32m      8\u001b[0m \u001b[38;5;28mself\u001b[39m\u001b[38;5;241m.\u001b[39mage\u001b[38;5;241m=\u001b[39mage\n",
      "\u001b[1;31mNameError\u001b[0m: Teacher name not allowed"
     ]
    }
   ],
   "source": [
    "try:\n",
    "    age=int(input('Enter your age'))\n",
    "    name=input('Enter name')\n",
    "except StudentAgeError as e:\n",
    "    print(str(e))\n",
    "except NameError as e:\n",
    "    print(str(e))\n",
    "else:\n",
    "    c1=License(name,age)\n",
    "    print(c1.age)\n",
    "    print(c1.name)"
   ]
  },
  {
   "cell_type": "code",
   "execution_count": 45,
   "id": "27372de2",
   "metadata": {},
   "outputs": [
    {
     "name": "stdout",
     "output_type": "stream",
     "text": [
      "Enter a age26\n",
      "Enter nameNasir\n"
     ]
    },
    {
     "ename": "NameError",
     "evalue": "Teacher name not allowed",
     "output_type": "error",
     "traceback": [
      "\u001b[1;31m---------------------------------------------------------------------------\u001b[0m",
      "\u001b[1;31mNameError\u001b[0m                                 Traceback (most recent call last)",
      "Input \u001b[1;32mIn [45]\u001b[0m, in \u001b[0;36m<cell line: 1>\u001b[1;34m()\u001b[0m\n\u001b[0;32m      6\u001b[0m     \u001b[38;5;28mprint\u001b[39m(\u001b[38;5;28mstr\u001b[39m(e))   \n\u001b[0;32m      7\u001b[0m \u001b[38;5;28;01melse\u001b[39;00m:\n\u001b[1;32m----> 8\u001b[0m     a\u001b[38;5;241m=\u001b[39m\u001b[43mLicense\u001b[49m\u001b[43m(\u001b[49m\u001b[43mname\u001b[49m\u001b[43m,\u001b[49m\u001b[43mage\u001b[49m\u001b[43m)\u001b[49m\n\u001b[0;32m      9\u001b[0m     \u001b[38;5;28mprint\u001b[39m(a\u001b[38;5;241m.\u001b[39mage)\n\u001b[0;32m     10\u001b[0m     \u001b[38;5;28mprint\u001b[39m(a\u001b[38;5;241m.\u001b[39mname)\n",
      "Input \u001b[1;32mIn [39]\u001b[0m, in \u001b[0;36mLicense.__init__\u001b[1;34m(self, name, age)\u001b[0m\n\u001b[0;32m      4\u001b[0m     \u001b[38;5;28;01mraise\u001b[39;00m StudentAgeError(\u001b[38;5;124m'\u001b[39m\u001b[38;5;124mYour are not allowed to drive\u001b[39m\u001b[38;5;124m'\u001b[39m)\n\u001b[0;32m      5\u001b[0m \u001b[38;5;28;01mif\u001b[39;00m(name\u001b[38;5;241m==\u001b[39m\u001b[38;5;124m'\u001b[39m\u001b[38;5;124mNasir\u001b[39m\u001b[38;5;124m'\u001b[39m):\n\u001b[1;32m----> 6\u001b[0m     \u001b[38;5;28;01mraise\u001b[39;00m \u001b[38;5;167;01mNameError\u001b[39;00m(\u001b[38;5;124m'\u001b[39m\u001b[38;5;124mTeacher name not allowed\u001b[39m\u001b[38;5;124m'\u001b[39m)\n\u001b[0;32m      7\u001b[0m \u001b[38;5;28mself\u001b[39m\u001b[38;5;241m.\u001b[39mname\u001b[38;5;241m=\u001b[39mname\n\u001b[0;32m      8\u001b[0m \u001b[38;5;28mself\u001b[39m\u001b[38;5;241m.\u001b[39mage\u001b[38;5;241m=\u001b[39mage\n",
      "\u001b[1;31mNameError\u001b[0m: Teacher name not allowed"
     ]
    }
   ],
   "source": [
    "try:\n",
    "    age=int(input('Enter a age'))\n",
    "    name=input('Enter name')\n",
    "    \n",
    "except Exception as e:\n",
    "    print(str(e))   \n",
    "else:\n",
    "    a=License(name,age)\n",
    "    print(a.age)\n",
    "    print(a.name)"
   ]
  },
  {
   "cell_type": "code",
   "execution_count": 2,
   "id": "9d7cb7aa",
   "metadata": {},
   "outputs": [
    {
     "name": "stdout",
     "output_type": "stream",
     "text": [
      "Q;What is your name?\n",
      "A;My name is Talha\n"
     ]
    }
   ],
   "source": [
    "with open('student.txt','r') as f:\n",
    "    print(f.read())"
   ]
  },
  {
   "cell_type": "code",
   "execution_count": 3,
   "id": "7b720758",
   "metadata": {},
   "outputs": [],
   "source": [
    "with open('talhatext.txt','w') as f:\n",
    "    f.write('I am a good boy\\n')\n",
    "    f.write('I am a programmer\\n')\n",
    "    f.write('I am a data scientist\\n')"
   ]
  },
  {
   "cell_type": "code",
   "execution_count": 4,
   "id": "a36cdf5e",
   "metadata": {},
   "outputs": [
    {
     "name": "stdout",
     "output_type": "stream",
     "text": [
      "I am a good boy\n",
      "I am a programmer\n",
      "I am a data scientist\n",
      "\n"
     ]
    }
   ],
   "source": [
    "with open('talhatext.txt','r') as f:\n",
    "    a=f.read()\n",
    "    print(a)"
   ]
  },
  {
   "cell_type": "code",
   "execution_count": 6,
   "id": "a6cb99a2",
   "metadata": {},
   "outputs": [],
   "source": [
    "with open('talhatext.txt','a') as f:\n",
    "    f.write('I am IOT engineer also')"
   ]
  },
  {
   "cell_type": "code",
   "execution_count": 7,
   "id": "7ace084b",
   "metadata": {},
   "outputs": [
    {
     "name": "stdout",
     "output_type": "stream",
     "text": [
      "this is Talha filethis is Usman filethis is Ali file\n"
     ]
    }
   ],
   "source": [
    "with open('index.txt','r') as f:\n",
    "    b=f.read()\n",
    "    print(b)"
   ]
  },
  {
   "cell_type": "code",
   "execution_count": null,
   "id": "5e75c7c3",
   "metadata": {},
   "outputs": [],
   "source": []
  }
 ],
 "metadata": {
  "kernelspec": {
   "display_name": "Python 3 (ipykernel)",
   "language": "python",
   "name": "python3"
  },
  "language_info": {
   "codemirror_mode": {
    "name": "ipython",
    "version": 3
   },
   "file_extension": ".py",
   "mimetype": "text/x-python",
   "name": "python",
   "nbconvert_exporter": "python",
   "pygments_lexer": "ipython3",
   "version": "3.9.12"
  }
 },
 "nbformat": 4,
 "nbformat_minor": 5
}
