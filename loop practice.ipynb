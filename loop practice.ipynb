{
 "cells": [
  {
   "cell_type": "markdown",
   "id": "03b7f5de",
   "metadata": {},
   "source": [
    "### Task1:\n",
    "You need to code a program that prints numbers from 1 to 20 except multiple of 2 & 3.\n",
    "\n",
    "Hint: use \"modulo\" operator and \"and/or\" operators"
   ]
  },
  {
   "cell_type": "code",
   "execution_count": 7,
   "id": "ea6f95b9",
   "metadata": {},
   "outputs": [
    {
     "name": "stdout",
     "output_type": "stream",
     "text": [
      "1\n",
      "5\n",
      "7\n",
      "11\n",
      "13\n",
      "17\n",
      "19\n"
     ]
    }
   ],
   "source": [
    "for i in range(1,21):\n",
    "    if i%2!=0 and i%3!=0:\n",
    "        print(i)"
   ]
  },
  {
   "cell_type": "markdown",
   "id": "332c7a8d",
   "metadata": {},
   "source": [
    "by list comprehension"
   ]
  },
  {
   "cell_type": "code",
   "execution_count": 11,
   "id": "532277ba",
   "metadata": {},
   "outputs": [
    {
     "data": {
      "text/plain": [
       "[1, 5, 7, 11, 13, 17, 19]"
      ]
     },
     "execution_count": 11,
     "metadata": {},
     "output_type": "execute_result"
    }
   ],
   "source": [
    "[i for i in range(1,21) if i%2!=0 and i%3!=0]"
   ]
  },
  {
   "cell_type": "code",
   "execution_count": 12,
   "id": "6ec0e593",
   "metadata": {},
   "outputs": [
    {
     "data": {
      "text/plain": [
       "[1, 5, 7, 11, 13, 17, 19]"
      ]
     },
     "execution_count": 12,
     "metadata": {},
     "output_type": "execute_result"
    }
   ],
   "source": [
    "[i for i in range(1,21) if i%2!=0 if i%3!=0]"
   ]
  },
  {
   "cell_type": "markdown",
   "id": "8899838c",
   "metadata": {},
   "source": [
    "### Task2:\n",
    "Write a program that keep on accepting number from the user until user enters Zero. Display the sum and average of all the numbers."
   ]
  },
  {
   "cell_type": "code",
   "execution_count": 4,
   "id": "b9aa0c35",
   "metadata": {},
   "outputs": [
    {
     "name": "stdout",
     "output_type": "stream",
     "text": [
      "enter your number3\n",
      "3\n",
      "enter your number5\n",
      "8\n",
      "enter your number2\n",
      "10\n",
      "enter your number8\n",
      "18\n",
      "enter your number0\n",
      "18\n"
     ]
    }
   ],
   "source": [
    "sum=0\n",
    "while True:\n",
    "    a=int(input('enter your number'))\n",
    "    sum+=a\n",
    "    print(sum)\n",
    "    if a==0:\n",
    "        break"
   ]
  },
  {
   "cell_type": "markdown",
   "id": "34b64916",
   "metadata": {},
   "source": [
    "### Task3:\n",
    "Accept 10 numbers from the user and display their average.\n",
    "\n",
    "Hint: Use loop for accepting numbers or use split to take input in one go"
   ]
  },
  {
   "cell_type": "code",
   "execution_count": 22,
   "id": "d20a7b81",
   "metadata": {},
   "outputs": [
    {
     "name": "stdout",
     "output_type": "stream",
     "text": [
      "enter your number2\n",
      "enter your number2\n",
      "enter your number2\n",
      "enter your number2\n",
      "enter your number2\n",
      "enter your number3\n",
      "enter your number4\n",
      "enter your number2\n",
      "enter your number2\n",
      "enter your number2\n",
      "2.3\n"
     ]
    }
   ],
   "source": [
    "count=0\n",
    "summ=0\n",
    "for i in range(1,11):\n",
    "    a=int(input('enter your number'))\n",
    "    summ+=a\n",
    "    count+=1\n",
    "b=summ/count\n",
    "print(b)"
   ]
  },
  {
   "cell_type": "markdown",
   "id": "84b723c0",
   "metadata": {},
   "source": [
    "### Task4:\n",
    "Write a program to display sum of odd numbers and even numbers that fall between 12 and 37(including both numbers)"
   ]
  },
  {
   "cell_type": "code",
   "execution_count": 13,
   "id": "17b72e8e",
   "metadata": {},
   "outputs": [
    {
     "name": "stdout",
     "output_type": "stream",
     "text": [
      "12\n",
      "13\n",
      "14\n",
      "15\n",
      "16\n",
      "17\n",
      "18\n",
      "19\n",
      "20\n",
      "21\n",
      "22\n",
      "23\n",
      "24\n",
      "25\n",
      "26\n",
      "27\n",
      "28\n",
      "29\n",
      "30\n",
      "31\n",
      "32\n",
      "33\n",
      "34\n",
      "35\n",
      "36\n",
      "37\n",
      "sum of odd number is\n",
      "325\n",
      "sum of even number is\n",
      "312\n"
     ]
    }
   ],
   "source": [
    "sum_of_odd=0\n",
    "sum_of_even=0\n",
    "for i in range(12,38):\n",
    "    if i%2!=0:\n",
    "        print(i)\n",
    "        sum_of_odd+=i\n",
    "    elif(i%2==0):\n",
    "        print(i)\n",
    "        sum_of_even+=i\n",
    "#     else:\n",
    "#         if(i%2==0):\n",
    "#             print(i)\n",
    "#             sum_of_even+=i\n",
    "print('sum of odd number is')\n",
    "print(sum_of_odd)\n",
    "print('sum of even number is')\n",
    "print(sum_of_even)"
   ]
  },
  {
   "cell_type": "markdown",
   "id": "ef06b672",
   "metadata": {},
   "source": [
    "### Task5:\n",
    "Write a program to print table of a number accepted from user."
   ]
  },
  {
   "cell_type": "code",
   "execution_count": 21,
   "id": "4a07c856",
   "metadata": {},
   "outputs": [
    {
     "name": "stdout",
     "output_type": "stream",
     "text": [
      "enter a table number4\n",
      "4*1=4\n",
      "4*2=8\n",
      "4*3=12\n",
      "4*4=16\n",
      "4*5=20\n",
      "4*6=24\n",
      "4*7=28\n",
      "4*8=32\n",
      "4*9=36\n",
      "4*10=40\n"
     ]
    }
   ],
   "source": [
    "user=input('enter a table number')\n",
    "for i in user:\n",
    "    i=int(i)\n",
    "    for k in range(1,11):\n",
    "        print(f'{i}*{k}={i*k}')"
   ]
  },
  {
   "cell_type": "markdown",
   "id": "b81910d2",
   "metadata": {},
   "source": [
    "### Task6:\n",
    "Write a program to display product of the digits of a number accepted from the user.\n",
    "\n",
    "If user inputs:123 Outputs 6\n",
    "\n",
    "If user inputs: 567 Outputs 210"
   ]
  },
  {
   "cell_type": "code",
   "execution_count": 25,
   "id": "5fda6408",
   "metadata": {},
   "outputs": [
    {
     "name": "stdout",
     "output_type": "stream",
     "text": [
      "enter a number34\n",
      "12\n"
     ]
    }
   ],
   "source": [
    "prod=1\n",
    "user=input('enter a number')\n",
    "for i in user:\n",
    "    i=int(i)\n",
    "    prod*=i\n",
    "print(prod)\n"
   ]
  },
  {
   "cell_type": "markdown",
   "id": "c23299c7",
   "metadata": {},
   "source": [
    "### Task7: \n",
    "Write a program to print first 10 even numbers in reverse order."
   ]
  },
  {
   "cell_type": "code",
   "execution_count": 1,
   "id": "95794a56",
   "metadata": {},
   "outputs": [
    {
     "name": "stdout",
     "output_type": "stream",
     "text": [
      "[10, 8, 6, 4, 2]\n"
     ]
    }
   ],
   "source": [
    "ARR=[]\n",
    "for i in range(1,11):\n",
    "    if(i%2==0):\n",
    "        ARR.append(i)\n",
    "# print(ARR)\n",
    "print(ARR[::-1])"
   ]
  },
  {
   "cell_type": "code",
   "execution_count": 63,
   "id": "322ecd11",
   "metadata": {},
   "outputs": [
    {
     "name": "stdout",
     "output_type": "stream",
     "text": [
      "10\n",
      "8\n",
      "6\n",
      "4\n",
      "2\n"
     ]
    }
   ],
   "source": [
    "for i in range(10,0,-1):\n",
    "    if(i%2==0):\n",
    "        print(i)"
   ]
  },
  {
   "cell_type": "markdown",
   "id": "613eff58",
   "metadata": {},
   "source": [
    "### Task8:\n",
    "Write a program to find the sum of the digits of a number accepted from user\n",
    "\n",
    "If user inputs:123 Outputs 6\n",
    "\n",
    "If user inputs: 567 Outputs 18"
   ]
  },
  {
   "cell_type": "code",
   "execution_count": 6,
   "id": "d860974a",
   "metadata": {},
   "outputs": [
    {
     "name": "stdout",
     "output_type": "stream",
     "text": [
      "enter numbers123\n",
      "6\n"
     ]
    }
   ],
   "source": [
    "sum=0\n",
    "user=input('enter numbers')\n",
    "for i in user:\n",
    "    i=int(i)\n",
    "    sum+=i\n",
    "print(sum)"
   ]
  },
  {
   "cell_type": "markdown",
   "id": "5bb19449",
   "metadata": {},
   "source": [
    "### Task9:\n",
    "Write a program that accepts a sentence and calculate the number of letters and digits.\n",
    "\n",
    "Suppose the following input is supplied to the program:\n",
    "\n",
    "hello world! 123\n",
    "\n",
    "Then, the output should be:\n",
    "\n",
    "LETTERS 10\n",
    "\n",
    "DIGITS 3\n"
   ]
  },
  {
   "cell_type": "code",
   "execution_count": 9,
   "id": "b2dfacd9",
   "metadata": {},
   "outputs": [
    {
     "name": "stdout",
     "output_type": "stream",
     "text": [
      "enter a sentencetala123\n",
      "t\n",
      "a\n",
      "l\n",
      "a\n",
      "1\n",
      "2\n",
      "3\n"
     ]
    }
   ],
   "source": [
    "user=input('enter a sentence')\n",
    "for i in user:\n",
    "    print(i)"
   ]
  },
  {
   "cell_type": "code",
   "execution_count": null,
   "id": "ed8c90ab",
   "metadata": {},
   "outputs": [],
   "source": []
  }
 ],
 "metadata": {
  "kernelspec": {
   "display_name": "Python 3 (ipykernel)",
   "language": "python",
   "name": "python3"
  },
  "language_info": {
   "codemirror_mode": {
    "name": "ipython",
    "version": 3
   },
   "file_extension": ".py",
   "mimetype": "text/x-python",
   "name": "python",
   "nbconvert_exporter": "python",
   "pygments_lexer": "ipython3",
   "version": "3.9.12"
  }
 },
 "nbformat": 4,
 "nbformat_minor": 5
}
