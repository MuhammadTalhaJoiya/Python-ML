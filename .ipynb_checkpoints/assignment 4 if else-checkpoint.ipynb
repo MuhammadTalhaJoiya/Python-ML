{
 "cells": [
  {
   "cell_type": "markdown",
   "id": "c10e7b27",
   "metadata": {},
   "source": [
    "1) A company decided to give bonus of 5% to employee if his/her year of service is more than 5 years.\n",
    "Ask user for their salary and year of service and print the net bonus amount."
   ]
  },
  {
   "cell_type": "code",
   "execution_count": 1,
   "id": "e88d1a79",
   "metadata": {},
   "outputs": [
    {
     "name": "stdout",
     "output_type": "stream",
     "text": [
      "Enter your experience in the company6\n",
      "Enter your salary50000\n",
      "2500.0\n"
     ]
    }
   ],
   "source": [
    "year_of_job=int(input('Enter your experience in the company'))\n",
    "if year_of_job>5:\n",
    "    salary=int(input('Enter your salary'))\n",
    "    net_bonus=salary*0.05\n",
    "    print(net_bonus)"
   ]
  },
  {
   "cell_type": "markdown",
   "id": "41d67302",
   "metadata": {},
   "source": [
    "2) Write a program to check whether a person is eligible for voting or not. (accept age from user)"
   ]
  },
  {
   "cell_type": "code",
   "execution_count": 11,
   "id": "11921af5",
   "metadata": {},
   "outputs": [
    {
     "name": "stdout",
     "output_type": "stream",
     "text": [
      "give me your Cnicno\n",
      "give me the BayFormno\n",
      "please fulfill the requirement\n"
     ]
    }
   ],
   "source": [
    "cnic=input('give me your Cnic')\n",
    "if cnic=='no':\n",
    "    bayform=input('give me the BayForm')\n",
    "    if bayform=='yes':\n",
    "            print('you are elligible for casting your vote')\n",
    "    else:\n",
    "        print('please fulfill the requirement')\n",
    "else:\n",
    "    print('you are elligible for casting your vote')\n",
    "        \n"
   ]
  },
  {
   "cell_type": "code",
   "execution_count": 22,
   "id": "bac330e4",
   "metadata": {},
   "outputs": [
    {
     "name": "stdout",
     "output_type": "stream",
     "text": [
      "enter your CNIC\n",
      "yes\n",
      "enter your bayform\n",
      "yes\n",
      "your are allow to cast vote\n"
     ]
    }
   ],
   "source": [
    "cnic=input('enter your CNIC\\n')\n",
    "bayform=input('enter your bayform\\n')\n",
    "if (cnic=='yes') or (bayform=='yes'):\n",
    "    print('your are allow to cast vote')\n",
    "else:\n",
    "    print('please fulfill requirement')"
   ]
  },
  {
   "cell_type": "code",
   "execution_count": 26,
   "id": "17ae17e2",
   "metadata": {},
   "outputs": [
    {
     "name": "stdout",
     "output_type": "stream",
     "text": [
      "enter your CNIC\n",
      "yes\n",
      "enter your bayform\n",
      "no\n",
      "please bring cnic and bayform with yourself for casting vote\n"
     ]
    }
   ],
   "source": [
    "cnic=input('enter your CNIC\\n')\n",
    "bayform=input('enter your bayform\\n')\n",
    "if (cnic=='yes') and (bayform=='yes'):\n",
    "    print('your are allowed to cast vote')\n",
    "else:\n",
    "    print('please bring cnic and bayform with yourself for casting vote')"
   ]
  },
  {
   "cell_type": "markdown",
   "id": "05877e03",
   "metadata": {},
   "source": [
    "3) Write a program to check whether a number entered by user is even or odd."
   ]
  },
  {
   "cell_type": "code",
   "execution_count": 32,
   "id": "bf0b45fb",
   "metadata": {},
   "outputs": [
    {
     "name": "stdout",
     "output_type": "stream",
     "text": [
      "enter your number\n",
      "6\n",
      "even 6\n"
     ]
    }
   ],
   "source": [
    "a=int(input('enter your number\\n'))\n",
    "if a%2==0:\n",
    "    print('even',a)\n",
    "elif a%2!=0:\n",
    "    print('odd',a)"
   ]
  },
  {
   "cell_type": "markdown",
   "id": "c1ccb698",
   "metadata": {},
   "source": [
    "4) Write a program to check whether a number is divisible by 7 or not.\n",
    "Show Answer"
   ]
  },
  {
   "cell_type": "code",
   "execution_count": 39,
   "id": "67b26f54",
   "metadata": {},
   "outputs": [
    {
     "name": "stdout",
     "output_type": "stream",
     "text": [
      "enter a integer number\n",
      "14\n",
      "This number is divible by 7\n",
      " 14\n"
     ]
    }
   ],
   "source": [
    "seven=int(input('enter a integer number\\n'))\n",
    "if seven%7==0:\n",
    "    print('This number is divible by 7\\n',seven)\n",
    "else:\n",
    "    print('This is not the divisible of 7')"
   ]
  },
  {
   "cell_type": "markdown",
   "id": "e14b2572",
   "metadata": {},
   "source": [
    "5) Write a program to display \n",
    "\"Hello\" if a number entered by user is a multiple of five , otherwise print \"Bye\"."
   ]
  },
  {
   "cell_type": "code",
   "execution_count": 48,
   "id": "e78fe429",
   "metadata": {},
   "outputs": [
    {
     "name": "stdout",
     "output_type": "stream",
     "text": [
      "enter the number then I will tell you that this is multiple of 5 or not19\n",
      "not multiple\n"
     ]
    }
   ],
   "source": [
    "multiple=int(input('enter the number then I will tell you that this is multiple of 5 or not'))\n",
    "if multiple%5==0:\n",
    "    print('this is multiple\\n',multiple)\n",
    "else:\n",
    "    print('not multiple')\n"
   ]
  },
  {
   "cell_type": "markdown",
   "id": "e0a854ea",
   "metadata": {},
   "source": [
    "6) Write a program to calculate the electricity bill (accept number of unit from user) according to the following criteria :\n",
    "     Unit                                                     Price  \n",
    "uptp 100 units                                             no charge\n",
    "Next 200 units                                              Rs 5 per unit\n",
    "After 200 units                                             Rs 10 per unit\n",
    "(For example if input unit is 350 than total bill amount is Rs.2000\n",
    "(For example if input unit is 97 than total bill amount is Rs.0\n",
    "(For example if input unit is 150 than total bill amount is Rs.250"
   ]
  },
  {
   "cell_type": "code",
   "execution_count": 12,
   "id": "9e079ab8",
   "metadata": {},
   "outputs": [
    {
     "name": "stdout",
     "output_type": "stream",
     "text": [
      "Enter your unit charge350\n",
      "2000\n"
     ]
    }
   ],
   "source": [
    "total_charge=int(input('Enter your unit charge'))\n",
    "if total_charge>100:\n",
    "    if total_charge>100 and total_charge<=200:\n",
    "        price=(total_charge-100)*5\n",
    "        print(price)\n",
    "    else:\n",
    "        if total_charge>200:\n",
    "            price=((total_charge-200)*10)+((200-100)*5)\n",
    "            print(price)\n",
    "        else:\n",
    "            print('sdkl')\n",
    "else:\n",
    "    print('no amount')"
   ]
  },
  {
   "cell_type": "code",
   "execution_count": 25,
   "id": "bf3781d1",
   "metadata": {},
   "outputs": [
    {
     "name": "stdout",
     "output_type": "stream",
     "text": [
      "enter your unit201\n",
      "510\n"
     ]
    }
   ],
   "source": [
    "unit=int(input('enter your unit'))\n",
    "if unit<=100:\n",
    "    print('Its free')\n",
    "elif unit>100 and unit<=200:\n",
    "    price=(unit-100)*5\n",
    "    print(price)\n",
    "else:\n",
    "    if unit>200:\n",
    "        price=(unit-200)*10+(200-100)*5\n",
    "        print(price)"
   ]
  },
  {
   "cell_type": "markdown",
   "id": "fbab96ba",
   "metadata": {},
   "source": [
    "7) Write a program to display the last digit of a number."
   ]
  },
  {
   "cell_type": "code",
   "execution_count": 2,
   "id": "02d2d3fd",
   "metadata": {},
   "outputs": [
    {
     "name": "stdout",
     "output_type": "stream",
     "text": [
      "enter any number345\n",
      "5\n"
     ]
    }
   ],
   "source": [
    "a=int(input('enter any number'))\n",
    "print(f'{a%10}')"
   ]
  },
  {
   "cell_type": "markdown",
   "id": "5e6bc76d",
   "metadata": {},
   "source": [
    "Q8. Write a program to check whether the last digit of a number( entered by user ) is \n",
    "divisible by 3 or not."
   ]
  },
  {
   "cell_type": "code",
   "execution_count": 15,
   "id": "1d085925",
   "metadata": {},
   "outputs": [
    {
     "name": "stdout",
     "output_type": "stream",
     "text": [
      "enter number4532\n",
      "not possible\n"
     ]
    }
   ],
   "source": [
    "num=int(input('enter number'))\n",
    "a=num%10\n",
    "if a%3==0:\n",
    "    print('last digit is divisible by 3',a,sep='=>')\n",
    "else:\n",
    "    print('not possible')"
   ]
  },
  {
   "cell_type": "markdown",
   "id": "83623dd3",
   "metadata": {},
   "source": [
    "9) Take values of length and breadth of a rectangle from user and check if it is square or not."
   ]
  },
  {
   "cell_type": "code",
   "execution_count": 18,
   "id": "b9204832",
   "metadata": {},
   "outputs": [
    {
     "name": "stdout",
     "output_type": "stream",
     "text": [
      "give me the lenght of rectangle4\n",
      "give me the breadth of rectangle6\n",
      "rectangle\n"
     ]
    }
   ],
   "source": [
    "l=int(input('give me the lenght of rectangle'))\n",
    "b=int(input('give me the breadth of rectangle'))   \n",
    "if l==b:\n",
    "      print('Square')\n",
    "else:\n",
    "      print('rectangle')"
   ]
  },
  {
   "cell_type": "markdown",
   "id": "a9f5ac08",
   "metadata": {},
   "source": [
    "10) Take two int values from user and print greatest among them."
   ]
  },
  {
   "cell_type": "code",
   "execution_count": 24,
   "id": "20450e75",
   "metadata": {},
   "outputs": [
    {
     "name": "stdout",
     "output_type": "stream",
     "text": [
      "Enter integer value1\n",
      "3\n",
      "Enter integer value2\n",
      "4\n",
      "b has greater value\n",
      " 4\n"
     ]
    }
   ],
   "source": [
    "a=int(input('Enter integer value1\\n'))\n",
    "b=int(input('Enter integer value2\\n'))\n",
    "if a>b:\n",
    "    print('a has greater value\\n',a)\n",
    "else:\n",
    "    print('b has greater value\\n',b)\n",
    "    "
   ]
  },
  {
   "cell_type": "markdown",
   "id": "0cc212cc",
   "metadata": {},
   "source": [
    "11) A shop will give discount of 10% if the cost of purchased quantity is more than 1000.\n",
    "Ask user for quantity\n",
    "Suppose, one unit will cost 100.\n",
    "Judge and print total cost for user."
   ]
  },
  {
   "cell_type": "code",
   "execution_count": 48,
   "id": "46acd633",
   "metadata": {},
   "outputs": [
    {
     "name": "stdout",
     "output_type": "stream",
     "text": [
      "enter number of unit you want to buy\n",
      "15\n",
      "1350.0\n"
     ]
    }
   ],
   "source": [
    "unit=int(input('enter number of unit you want to buy\\n'))\n",
    "if unit>10:\n",
    "    unitprice=unit*100\n",
    "    unitprice-=unitprice*0.1\n",
    "    print(unitprice)\n",
    "else:\n",
    "    if unit<10:\n",
    "        no_discount=unit*100\n",
    "        print(no_discount)"
   ]
  },
  {
   "cell_type": "code",
   "execution_count": 50,
   "id": "71bb39a9",
   "metadata": {},
   "outputs": [
    {
     "name": "stdout",
     "output_type": "stream",
     "text": [
      "Enter your unit12\n",
      "1080.0\n"
     ]
    }
   ],
   "source": [
    "unit=int(input('Enter your unit'))\n",
    "if unit>10:\n",
    "    totalbill=unit*100\n",
    "    totalbill-=totalbill*0.1\n",
    "    print(totalbill)\n",
    "else:\n",
    "    if unit<10:\n",
    "        totalbill=unit*100\n",
    "        print(totalbill)"
   ]
  },
  {
   "cell_type": "markdown",
   "id": "d11215b6",
   "metadata": {},
   "source": [
    "12) A school has following rules for grading system:\n",
    "\n",
    "a. Below 25 - F\n",
    "\n",
    "b. 25 to 45 - E\n",
    "\n",
    "c. 45 to 50 - D\n",
    "\n",
    "d. 50 to 60 - C\n",
    "\n",
    "e. 60 to 80 - B\n",
    "\n",
    "f. Above 80 - A\n",
    "\n",
    "Ask user to enter marks and print the corresponding grade."
   ]
  },
  {
   "cell_type": "code",
   "execution_count": 70,
   "id": "d41ed013",
   "metadata": {},
   "outputs": [
    {
     "name": "stdout",
     "output_type": "stream",
     "text": [
      "enter your number24\n",
      "F\n"
     ]
    }
   ],
   "source": [
    "num=int(input('enter your number'))\n",
    "Grade=None\n",
    "if num>=80:\n",
    "    grade='A'\n",
    "elif num>=60 and num<80:\n",
    "    grade='B'\n",
    "elif num>=50 and num<60:\n",
    "    grade='C'\n",
    "elif num>=45 and num<50:\n",
    "    grade='D'\n",
    "elif num>=25 and num<45:\n",
    "    grade='E'\n",
    "elif num<25:\n",
    "    grade='F'\n",
    "print(grade)"
   ]
  },
  {
   "cell_type": "markdown",
   "id": "a4132a30",
   "metadata": {},
   "source": [
    "13) Take input of age of 3 people by user and determine oldest and youngest among them."
   ]
  },
  {
   "cell_type": "code",
   "execution_count": 82,
   "id": "c5890e2a",
   "metadata": {},
   "outputs": [
    {
     "name": "stdout",
     "output_type": "stream",
     "text": [
      "Enter your age2\n",
      "Enter your age3\n",
      "Enter your age1\n",
      "3\n"
     ]
    }
   ],
   "source": [
    "first=int(input('Enter your age'))\n",
    "second=int(input('Enter your age'))\n",
    "third=int(input('Enter your age'))\n",
    "if first>second>third:\n",
    "    print(first)\n",
    "elif second>first>third:\n",
    "    print(second)\n",
    "elif third>first>second:\n",
    "    print(third)\n",
    "elif third>second>first:\n",
    "    print(third)\n",
    "    #cross"
   ]
  },
  {
   "cell_type": "markdown",
   "id": "7a7806c6",
   "metadata": {},
   "source": [
    "14)A student will not be allowed to sit in exam if his/her attendence is less than 75%.\n",
    "\n",
    "Take following input from user\n",
    "\n",
    "Number of classes held\n",
    "\n",
    "Number of classes attended.\n",
    "\n",
    "And print\n",
    "\n",
    "percentage of class attended\n",
    "\n",
    "Is student is allowed to sit in exam or not.       "
   ]
  },
  {
   "cell_type": "code",
   "execution_count": 13,
   "id": "bf1d549b",
   "metadata": {},
   "outputs": [
    {
     "name": "stdout",
     "output_type": "stream",
     "text": [
      "give me the number of classes held this year100\n",
      "give me the number of classes you attend200\n",
      "Not Possible\n"
     ]
    }
   ],
   "source": [
    "classes=int(input('give me the number of classes held this year'))\n",
    "attendance=int(input('give me the number of classes you attend'))\n",
    "if classes>attendance:\n",
    "    attend=attendance/classes\n",
    "    per=attend*100\n",
    "    if per>=75:\n",
    "        print('you are allow to sit in class')\n",
    "    else:\n",
    "        if per<75:\n",
    "            print('you are not allow to sit in class')\n",
    "else:\n",
    "    print('Not Possible')"
   ]
  },
  {
   "cell_type": "markdown",
   "id": "76cb14a6",
   "metadata": {},
   "source": [
    "15) Modify the above question to allow student to sit if he/she has medical cause. Ask user if he/she has medical cause or not ( 'Y' or 'N' ) and print accordingly."
   ]
  },
  {
   "cell_type": "code",
   "execution_count": 8,
   "id": "0144d313",
   "metadata": {},
   "outputs": [
    {
     "name": "stdout",
     "output_type": "stream",
     "text": [
      "have you any medical causeno\n",
      "you are not allow to sit\n"
     ]
    }
   ],
   "source": [
    "cause=input('have you any medical cause')\n",
    "if cause=='yes':\n",
    "    print('you are allow to sit')\n",
    "else:\n",
    "    if cause=='no':\n",
    "        print('you are not allow to sit')"
   ]
  },
  {
   "cell_type": "markdown",
   "id": "90b4b103",
   "metadata": {},
   "source": [
    "16) Write a program to check if a year is leap year or not.\n",
    "\n",
    "If a year is divisible by 4 then it is leap year but if the year is century year like 2000, 1900, 2100 then it must be divisible by 400."
   ]
  },
  {
   "cell_type": "code",
   "execution_count": 19,
   "id": "6c793803",
   "metadata": {},
   "outputs": [
    {
     "name": "stdout",
     "output_type": "stream",
     "text": [
      "Enter the year2100\n",
      "It is leap year\n"
     ]
    }
   ],
   "source": [
    "year=int(input('Enter the year'))\n",
    "if year%4==0:\n",
    "    print('It is leap year')\n",
    "elif year%400==0:\n",
    "    print('It is leap year')\n",
    "elif year%100==0:\n",
    "    print('It is leap year')\n",
    "else:\n",
    "    print('It is not leap year')"
   ]
  },
  {
   "cell_type": "markdown",
   "id": "c14f9bf8",
   "metadata": {},
   "source": [
    "17) Ask user to enter age, gender ( M or F ), marital status ( Y or N ) and then using following rules print their place of service.\n",
    "\n",
    "if employee is female, then she will work only in urban areas.\n",
    "\n",
    "if employee is a male and age is in between 20 to 40 then he may work in anywhere\n",
    "\n",
    "if employee is male and age is in between 40 t0 60 then he will work in urban areas only.\n",
    "\n",
    "And any other input of age should print \"ERROR\""
   ]
  },
  {
   "cell_type": "code",
   "execution_count": 27,
   "id": "a72e59e7",
   "metadata": {},
   "outputs": [
    {
     "name": "stdout",
     "output_type": "stream",
     "text": [
      "enter your age25\n",
      "enter your gendermale\n",
      "enter your martial statusks\n",
      "you will work anywhere\n"
     ]
    }
   ],
   "source": [
    "age=int(input('enter your age'))\n",
    "gender=input('enter your gender')\n",
    "martialstatus=input('enter your martial status')\n",
    "if gender=='female' or gender=='Female':\n",
    "    print('you will go to urban areas')\n",
    "elif gender=='male' and (age>=20 and age<40):\n",
    "    print('you will work anywhere')\n",
    "elif gender=='male' and (age>40 and age<60):\n",
    "    print('you will work in urban areas only')\n",
    "else:\n",
    "    print('error')"
   ]
  },
  {
   "cell_type": "code",
   "execution_count": 45,
   "id": "b2a464fd",
   "metadata": {},
   "outputs": [
    {
     "name": "stdout",
     "output_type": "stream",
     "text": [
      "enter your age\n",
      "33\n",
      "enter your gender(M/F)\n",
      "F\n",
      "Enter your Martial Status(Y/N)\n",
      "j\n",
      "you will work in urban areas\n"
     ]
    }
   ],
   "source": [
    "age=int(input('enter your age\\n'))\n",
    "gender=input('enter your gender(M/F)\\n')\n",
    "martial_status=input('Enter your Martial Status(Y/N)\\n')\n",
    "if gender=='F' or gender=='f':\n",
    "    print('you will work in urban areas')\n",
    "elif gender=='M' or gender=='m':\n",
    "    if age>=20 and age<=40:\n",
    "        print('you will work anywhere')\n",
    "    else:\n",
    "        if age>40 and age<=60:\n",
    "            print('you will work in urban areas only')\n",
    "else:\n",
    "    print('error')\n",
    "    "
   ]
  },
  {
   "cell_type": "code",
   "execution_count": null,
   "id": "fc12baad",
   "metadata": {},
   "outputs": [],
   "source": []
  }
 ],
 "metadata": {
  "kernelspec": {
   "display_name": "Python 3 (ipykernel)",
   "language": "python",
   "name": "python3"
  },
  "language_info": {
   "codemirror_mode": {
    "name": "ipython",
    "version": 3
   },
   "file_extension": ".py",
   "mimetype": "text/x-python",
   "name": "python",
   "nbconvert_exporter": "python",
   "pygments_lexer": "ipython3",
   "version": "3.9.12"
  }
 },
 "nbformat": 4,
 "nbformat_minor": 5
}
