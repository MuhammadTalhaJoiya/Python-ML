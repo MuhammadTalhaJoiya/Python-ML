{
 "cells": [
  {
   "cell_type": "markdown",
   "id": "91f0baba",
   "metadata": {},
   "source": [
    "# Object Oriented Programming"
   ]
  },
  {
   "cell_type": "code",
   "execution_count": 3,
   "id": "a7d6c5de",
   "metadata": {},
   "outputs": [],
   "source": [
    "class Student():\n",
    "    name='Ali'\n",
    "    rollnumber=20\n",
    "    cource='AI'\n",
    "    centre='SSUET'"
   ]
  },
  {
   "cell_type": "code",
   "execution_count": 4,
   "id": "81ae3a38",
   "metadata": {},
   "outputs": [],
   "source": [
    "student1=Student()"
   ]
  },
  {
   "cell_type": "code",
   "execution_count": 5,
   "id": "d8e03b96",
   "metadata": {},
   "outputs": [
    {
     "data": {
      "text/plain": [
       "'Ali'"
      ]
     },
     "execution_count": 5,
     "metadata": {},
     "output_type": "execute_result"
    }
   ],
   "source": [
    "student1.name"
   ]
  },
  {
   "cell_type": "code",
   "execution_count": 6,
   "id": "28aa3d0e",
   "metadata": {},
   "outputs": [],
   "source": [
    "class Student():\n",
    "    def __init__(self,name,rollnumber,cource,centre):\n",
    "        self.name=name\n",
    "        self.rollnumber=rollnumber\n",
    "        self.cource=cource\n",
    "        self.centre=centre"
   ]
  },
  {
   "cell_type": "code",
   "execution_count": 9,
   "id": "6304bbab",
   "metadata": {},
   "outputs": [],
   "source": [
    "studenta=Student('Talha',20,'AI','SSUET')"
   ]
  },
  {
   "cell_type": "code",
   "execution_count": 11,
   "id": "eac0f5df",
   "metadata": {},
   "outputs": [
    {
     "data": {
      "text/plain": [
       "'Talha'"
      ]
     },
     "execution_count": 11,
     "metadata": {},
     "output_type": "execute_result"
    }
   ],
   "source": [
    "studenta.name"
   ]
  },
  {
   "cell_type": "code",
   "execution_count": 13,
   "id": "931ab91a",
   "metadata": {},
   "outputs": [
    {
     "data": {
      "text/plain": [
       "20"
      ]
     },
     "execution_count": 13,
     "metadata": {},
     "output_type": "execute_result"
    }
   ],
   "source": [
    "studenta.rollnumber"
   ]
  },
  {
   "cell_type": "code",
   "execution_count": 14,
   "id": "b5c861a1",
   "metadata": {},
   "outputs": [],
   "source": [
    "class Mobile():\n",
    "    #Attributes\n",
    "    model='Samsung s7'\n",
    "    ram='4GB'\n",
    "    camera='12Pixel'"
   ]
  },
  {
   "cell_type": "code",
   "execution_count": 15,
   "id": "516b9b67",
   "metadata": {},
   "outputs": [],
   "source": [
    "mob1=Mobile()"
   ]
  },
  {
   "cell_type": "code",
   "execution_count": 16,
   "id": "c307566e",
   "metadata": {},
   "outputs": [
    {
     "data": {
      "text/plain": [
       "'Samsung s7'"
      ]
     },
     "execution_count": 16,
     "metadata": {},
     "output_type": "execute_result"
    }
   ],
   "source": [
    "mob1.model"
   ]
  },
  {
   "cell_type": "code",
   "execution_count": 17,
   "id": "d7f00309",
   "metadata": {},
   "outputs": [],
   "source": [
    "class Mobile():\n",
    "    def __init__(self,model,ram,camera): #model,ram,camera are attributes or parameter\n",
    "        self.model=model\n",
    "        self.ram=ram\n",
    "        self.camera=camera"
   ]
  },
  {
   "cell_type": "code",
   "execution_count": 18,
   "id": "a06fae4b",
   "metadata": {},
   "outputs": [],
   "source": [
    "moba=Mobile('samsung s7','4gb','12Pixel')"
   ]
  },
  {
   "cell_type": "code",
   "execution_count": 19,
   "id": "0c16c42b",
   "metadata": {},
   "outputs": [
    {
     "data": {
      "text/plain": [
       "'samsung s7'"
      ]
     },
     "execution_count": 19,
     "metadata": {},
     "output_type": "execute_result"
    }
   ],
   "source": [
    "moba.model"
   ]
  },
  {
   "cell_type": "code",
   "execution_count": 20,
   "id": "9908edbe",
   "metadata": {},
   "outputs": [
    {
     "data": {
      "text/plain": [
       "'4gb'"
      ]
     },
     "execution_count": 20,
     "metadata": {},
     "output_type": "execute_result"
    }
   ],
   "source": [
    "moba.ram"
   ]
  },
  {
   "cell_type": "code",
   "execution_count": 21,
   "id": "ab854dde",
   "metadata": {},
   "outputs": [],
   "source": [
    "#class is standard and never change\n",
    "#copy of class is object"
   ]
  },
  {
   "cell_type": "code",
   "execution_count": 30,
   "id": "fa98de5c",
   "metadata": {},
   "outputs": [],
   "source": [
    "class Student():\n",
    "    def __init__(self,name,rollnumber,cource,centre):\n",
    "        self.name=name\n",
    "        self.rollnumber=rollnumber\n",
    "        self.cource=cource\n",
    "        self.centre=centre\n",
    "    def appear(self):\n",
    "        print(f'{self.name} is appear in exam')\n",
    "    def profile(self):\n",
    "        print(f'''\n",
    "               Student Profile\n",
    "               _______________\n",
    "               Name={self.name}\n",
    "               Rollnumber={self.rollnumber}\n",
    "               Cource={self.cource}\n",
    "               Centre={self.centre}''')"
   ]
  },
  {
   "cell_type": "code",
   "execution_count": 31,
   "id": "09f7331e",
   "metadata": {},
   "outputs": [],
   "source": [
    "sb=Student('Usman',66,'Block Chain','SSUET')"
   ]
  },
  {
   "cell_type": "code",
   "execution_count": 32,
   "id": "2274a6b4",
   "metadata": {},
   "outputs": [
    {
     "data": {
      "text/plain": [
       "'Usman'"
      ]
     },
     "execution_count": 32,
     "metadata": {},
     "output_type": "execute_result"
    }
   ],
   "source": [
    "sb.name"
   ]
  },
  {
   "cell_type": "code",
   "execution_count": 33,
   "id": "62c22e20",
   "metadata": {},
   "outputs": [
    {
     "data": {
      "text/plain": [
       "'SSUET'"
      ]
     },
     "execution_count": 33,
     "metadata": {},
     "output_type": "execute_result"
    }
   ],
   "source": [
    "sb.centre"
   ]
  },
  {
   "cell_type": "code",
   "execution_count": 34,
   "id": "7773d3aa",
   "metadata": {},
   "outputs": [
    {
     "name": "stdout",
     "output_type": "stream",
     "text": [
      "\n",
      "               Student Profile\n",
      "               _______________\n",
      "               Name=Usman\n",
      "               Rollnumber=66\n",
      "               Cource=Block Chain\n",
      "               Centre=SSUET\n"
     ]
    }
   ],
   "source": [
    "sb.profile()"
   ]
  },
  {
   "cell_type": "code",
   "execution_count": 35,
   "id": "2b6172ab",
   "metadata": {},
   "outputs": [
    {
     "name": "stdout",
     "output_type": "stream",
     "text": [
      "Usman is appear in exam\n"
     ]
    }
   ],
   "source": [
    "sb.appear()"
   ]
  },
  {
   "cell_type": "code",
   "execution_count": 36,
   "id": "5720e67f",
   "metadata": {},
   "outputs": [],
   "source": [
    "class Student():\n",
    "    #instance attribute/methods\n",
    "    def __init__(self,name,rollnumber,cource,centre):\n",
    "        #Attributes characterstics variable\n",
    "        self.name=name\n",
    "        self.rollnumber=rollnumber\n",
    "        self.cource=cource\n",
    "        self.centre=centre\n",
    "    def appear(self,attendance,feepaid):\n",
    "        if attendance>=75:\n",
    "            if feepaid:\n",
    "                print(f'{self.name} is appear in exam')\n",
    "            else:\n",
    "                print(f'{self.name} is not appear in exam')\n",
    "        else:\n",
    "            print(f'{self.name} is not appear in exam')\n",
    "    def profile(self):\n",
    "        print(f'''\n",
    "               Student Profile\n",
    "               _______________\n",
    "               Name={self.name}\n",
    "               Rollnumber={self.rollnumber}\n",
    "               Cource={self.cource}\n",
    "               Centre={self.centre}''')"
   ]
  },
  {
   "cell_type": "code",
   "execution_count": 37,
   "id": "59badd9d",
   "metadata": {},
   "outputs": [],
   "source": [
    "s6=Student('Sara',44,'AI','SSUET')"
   ]
  },
  {
   "cell_type": "code",
   "execution_count": 38,
   "id": "876654cc",
   "metadata": {},
   "outputs": [
    {
     "name": "stdout",
     "output_type": "stream",
     "text": [
      "Sara is not appear in exam\n"
     ]
    }
   ],
   "source": [
    "s6.appear(74,True)"
   ]
  },
  {
   "cell_type": "code",
   "execution_count": 39,
   "id": "25b0eadb",
   "metadata": {},
   "outputs": [
    {
     "name": "stdout",
     "output_type": "stream",
     "text": [
      "Sara is not appear in exam\n"
     ]
    }
   ],
   "source": [
    "s6.appear(75,False)"
   ]
  },
  {
   "cell_type": "code",
   "execution_count": 40,
   "id": "6f4091e1",
   "metadata": {},
   "outputs": [
    {
     "name": "stdout",
     "output_type": "stream",
     "text": [
      "Sara is appear in exam\n"
     ]
    }
   ],
   "source": [
    "s6.appear(89,True)"
   ]
  },
  {
   "cell_type": "code",
   "execution_count": 1,
   "id": "c9f360e7",
   "metadata": {},
   "outputs": [],
   "source": [
    "class Car():\n",
    "    #class variable\n",
    "    Engine=1\n",
    "    Wheel=4\n",
    "    #instance attribute/method\n",
    "    def __init__(self,model,color,company):\n",
    "        #instance variable or attribute\n",
    "        self.model=model\n",
    "        self.color=color\n",
    "        self.company=company\n",
    "    def getModel(self):\n",
    "        print(self.model)\n",
    "    def setModel(self,upgradedModel):\n",
    "        self.model=upgradedModel"
   ]
  },
  {
   "cell_type": "code",
   "execution_count": 2,
   "id": "39fef939",
   "metadata": {},
   "outputs": [],
   "source": [
    "car1=Car(2001,'red','Toyota')"
   ]
  },
  {
   "cell_type": "code",
   "execution_count": 3,
   "id": "f0cbc057",
   "metadata": {},
   "outputs": [
    {
     "data": {
      "text/plain": [
       "2001"
      ]
     },
     "execution_count": 3,
     "metadata": {},
     "output_type": "execute_result"
    }
   ],
   "source": [
    "car1.model"
   ]
  },
  {
   "cell_type": "code",
   "execution_count": 4,
   "id": "7b1d30f2",
   "metadata": {},
   "outputs": [
    {
     "data": {
      "text/plain": [
       "'red'"
      ]
     },
     "execution_count": 4,
     "metadata": {},
     "output_type": "execute_result"
    }
   ],
   "source": [
    "car1.color"
   ]
  },
  {
   "cell_type": "code",
   "execution_count": 5,
   "id": "7710e525",
   "metadata": {},
   "outputs": [
    {
     "name": "stdout",
     "output_type": "stream",
     "text": [
      "2001\n"
     ]
    }
   ],
   "source": [
    "car1.getModel()"
   ]
  },
  {
   "cell_type": "code",
   "execution_count": 6,
   "id": "8108c3c0",
   "metadata": {},
   "outputs": [],
   "source": [
    "car1.setModel(4000)"
   ]
  },
  {
   "cell_type": "code",
   "execution_count": 7,
   "id": "85446bb2",
   "metadata": {},
   "outputs": [
    {
     "name": "stdout",
     "output_type": "stream",
     "text": [
      "4000\n"
     ]
    }
   ],
   "source": [
    "car1.getModel()"
   ]
  },
  {
   "cell_type": "code",
   "execution_count": 8,
   "id": "0c070f54",
   "metadata": {},
   "outputs": [
    {
     "data": {
      "text/plain": [
       "1"
      ]
     },
     "execution_count": 8,
     "metadata": {},
     "output_type": "execute_result"
    }
   ],
   "source": [
    "Car.Engine"
   ]
  },
  {
   "cell_type": "code",
   "execution_count": 9,
   "id": "c1c10e70",
   "metadata": {},
   "outputs": [
    {
     "data": {
      "text/plain": [
       "4"
      ]
     },
     "execution_count": 9,
     "metadata": {},
     "output_type": "execute_result"
    }
   ],
   "source": [
    "Car.Wheel"
   ]
  },
  {
   "cell_type": "code",
   "execution_count": 10,
   "id": "7ee3687c",
   "metadata": {},
   "outputs": [
    {
     "data": {
      "text/plain": [
       "4"
      ]
     },
     "execution_count": 10,
     "metadata": {},
     "output_type": "execute_result"
    }
   ],
   "source": [
    "car1.Wheel"
   ]
  },
  {
   "cell_type": "code",
   "execution_count": 11,
   "id": "82f345ed",
   "metadata": {},
   "outputs": [
    {
     "data": {
      "text/plain": [
       "1"
      ]
     },
     "execution_count": 11,
     "metadata": {},
     "output_type": "execute_result"
    }
   ],
   "source": [
    "car1.Engine"
   ]
  },
  {
   "cell_type": "code",
   "execution_count": 12,
   "id": "ee65ec73",
   "metadata": {},
   "outputs": [
    {
     "data": {
      "text/plain": [
       "{'model': 4000, 'color': 'red', 'company': 'Toyota'}"
      ]
     },
     "execution_count": 12,
     "metadata": {},
     "output_type": "execute_result"
    }
   ],
   "source": [
    "car1.__dict__"
   ]
  },
  {
   "cell_type": "code",
   "execution_count": 14,
   "id": "5775142d",
   "metadata": {},
   "outputs": [
    {
     "data": {
      "text/plain": [
       "mappingproxy({'__module__': '__main__',\n",
       "              'Engine': 1,\n",
       "              'Wheel': 4,\n",
       "              '__init__': <function __main__.Car.__init__(self, model, color, company)>,\n",
       "              'getModel': <function __main__.Car.getModel(self)>,\n",
       "              'setModel': <function __main__.Car.setModel(self, upgradedModel)>,\n",
       "              '__dict__': <attribute '__dict__' of 'Car' objects>,\n",
       "              '__weakref__': <attribute '__weakref__' of 'Car' objects>,\n",
       "              '__doc__': None})"
      ]
     },
     "execution_count": 14,
     "metadata": {},
     "output_type": "execute_result"
    }
   ],
   "source": [
    "Car.__dict__"
   ]
  },
  {
   "cell_type": "code",
   "execution_count": 13,
   "id": "1b2f3792",
   "metadata": {},
   "outputs": [],
   "source": [
    "car1.Engine=2"
   ]
  },
  {
   "cell_type": "code",
   "execution_count": 15,
   "id": "efdab261",
   "metadata": {},
   "outputs": [
    {
     "data": {
      "text/plain": [
       "{'model': 4000, 'color': 'red', 'company': 'Toyota', 'Engine': 2}"
      ]
     },
     "execution_count": 15,
     "metadata": {},
     "output_type": "execute_result"
    }
   ],
   "source": [
    "car1.__dict__"
   ]
  },
  {
   "cell_type": "code",
   "execution_count": 16,
   "id": "4532a676",
   "metadata": {},
   "outputs": [
    {
     "data": {
      "text/plain": [
       "mappingproxy({'__module__': '__main__',\n",
       "              'Engine': 1,\n",
       "              'Wheel': 4,\n",
       "              '__init__': <function __main__.Car.__init__(self, model, color, company)>,\n",
       "              'getModel': <function __main__.Car.getModel(self)>,\n",
       "              'setModel': <function __main__.Car.setModel(self, upgradedModel)>,\n",
       "              '__dict__': <attribute '__dict__' of 'Car' objects>,\n",
       "              '__weakref__': <attribute '__weakref__' of 'Car' objects>,\n",
       "              '__doc__': None})"
      ]
     },
     "execution_count": 16,
     "metadata": {},
     "output_type": "execute_result"
    }
   ],
   "source": [
    "Car.__dict__"
   ]
  },
  {
   "cell_type": "code",
   "execution_count": 17,
   "id": "700bf900",
   "metadata": {},
   "outputs": [],
   "source": [
    "Car.Engine=2"
   ]
  },
  {
   "cell_type": "code",
   "execution_count": 18,
   "id": "de21597f",
   "metadata": {},
   "outputs": [
    {
     "data": {
      "text/plain": [
       "mappingproxy({'__module__': '__main__',\n",
       "              'Engine': 2,\n",
       "              'Wheel': 4,\n",
       "              '__init__': <function __main__.Car.__init__(self, model, color, company)>,\n",
       "              'getModel': <function __main__.Car.getModel(self)>,\n",
       "              'setModel': <function __main__.Car.setModel(self, upgradedModel)>,\n",
       "              '__dict__': <attribute '__dict__' of 'Car' objects>,\n",
       "              '__weakref__': <attribute '__weakref__' of 'Car' objects>,\n",
       "              '__doc__': None})"
      ]
     },
     "execution_count": 18,
     "metadata": {},
     "output_type": "execute_result"
    }
   ],
   "source": [
    "Car.__dict__"
   ]
  },
  {
   "cell_type": "code",
   "execution_count": 71,
   "id": "dde21625",
   "metadata": {},
   "outputs": [],
   "source": [
    "class line():\n",
    "    def __init__(self,x1,x2,y1,y2):\n",
    "        #attributes/characterstics\n",
    "        self.point_a=(x1,x2)\n",
    "        self.point_b=(y1,y2)\n",
    "    def lenght(self):\n",
    "        \n",
    "        distance=(((self.point_a[1])-(self.point_a[0]))**2+((self.point_b[1])-(self.point_b[0]))**2)**0.5\n",
    "        return distance\n",
    "                  \n",
    "    def slope(self):\n",
    "        \n",
    "        m=((self.point_b[1])-(self.point_b[0]))/((self.point_a[1])-(self.point_a[0]))\n",
    "        return m\n",
    "                    \n",
    "                  "
   ]
  },
  {
   "cell_type": "code",
   "execution_count": 72,
   "id": "abb25ce4",
   "metadata": {},
   "outputs": [],
   "source": [
    "line1=line(6,3,7,5)"
   ]
  },
  {
   "cell_type": "code",
   "execution_count": 73,
   "id": "bbecf530",
   "metadata": {},
   "outputs": [
    {
     "data": {
      "text/plain": [
       "3.605551275463989"
      ]
     },
     "execution_count": 73,
     "metadata": {},
     "output_type": "execute_result"
    }
   ],
   "source": [
    "line1.lenght()"
   ]
  },
  {
   "cell_type": "code",
   "execution_count": 74,
   "id": "075fc2e7",
   "metadata": {},
   "outputs": [
    {
     "data": {
      "text/plain": [
       "0.6666666666666666"
      ]
     },
     "execution_count": 74,
     "metadata": {},
     "output_type": "execute_result"
    }
   ],
   "source": [
    "line1.slope()"
   ]
  },
  {
   "cell_type": "code",
   "execution_count": null,
   "id": "3c8607fc",
   "metadata": {},
   "outputs": [],
   "source": []
  }
 ],
 "metadata": {
  "kernelspec": {
   "display_name": "Python 3 (ipykernel)",
   "language": "python",
   "name": "python3"
  },
  "language_info": {
   "codemirror_mode": {
    "name": "ipython",
    "version": 3
   },
   "file_extension": ".py",
   "mimetype": "text/x-python",
   "name": "python",
   "nbconvert_exporter": "python",
   "pygments_lexer": "ipython3",
   "version": "3.9.12"
  }
 },
 "nbformat": 4,
 "nbformat_minor": 5
}
