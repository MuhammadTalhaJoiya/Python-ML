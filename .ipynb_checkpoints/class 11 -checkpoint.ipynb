{
 "cells": [
  {
   "cell_type": "raw",
   "id": "74ec2d4f",
   "metadata": {},
   "source": [
    "*single inheritance\n",
    "*multilevel inheritance\n",
    "*multiple inheritance"
   ]
  },
  {
   "cell_type": "markdown",
   "id": "05f999b5",
   "metadata": {},
   "source": [
    "*multilevel Inheritance"
   ]
  },
  {
   "cell_type": "code",
   "execution_count": 161,
   "id": "3313514f",
   "metadata": {},
   "outputs": [],
   "source": [
    "class A():\n",
    "    def feature1(self):\n",
    "        print('I am feature1')\n",
    "    def feature2(self):\n",
    "        print('I m fetaure2')"
   ]
  },
  {
   "cell_type": "code",
   "execution_count": 162,
   "id": "021cd1a4",
   "metadata": {},
   "outputs": [],
   "source": [
    "a1=A()"
   ]
  },
  {
   "cell_type": "code",
   "execution_count": 163,
   "id": "1fbc2b20",
   "metadata": {},
   "outputs": [
    {
     "name": "stdout",
     "output_type": "stream",
     "text": [
      "I am feature1\n"
     ]
    }
   ],
   "source": [
    "a1.feature1()"
   ]
  },
  {
   "cell_type": "code",
   "execution_count": 164,
   "id": "13332fce",
   "metadata": {},
   "outputs": [],
   "source": [
    "class B(A):\n",
    "    def feature3(self):\n",
    "        print('I am feature3')\n",
    "    def feature4(self):\n",
    "        print('I am feature4')"
   ]
  },
  {
   "cell_type": "code",
   "execution_count": 165,
   "id": "5b1d98a7",
   "metadata": {},
   "outputs": [],
   "source": [
    "b1=B()"
   ]
  },
  {
   "cell_type": "code",
   "execution_count": 166,
   "id": "3e0d9184",
   "metadata": {},
   "outputs": [
    {
     "name": "stdout",
     "output_type": "stream",
     "text": [
      "I am feature4\n"
     ]
    }
   ],
   "source": [
    "b1.feature4()"
   ]
  },
  {
   "cell_type": "code",
   "execution_count": 167,
   "id": "b51d6285",
   "metadata": {},
   "outputs": [],
   "source": [
    "class C(B):\n",
    "    def feature5(self):\n",
    "        print('I am feature5')\n",
    "    def feature6(self):\n",
    "        print('I am feature6')"
   ]
  },
  {
   "cell_type": "code",
   "execution_count": 168,
   "id": "de236a6b",
   "metadata": {},
   "outputs": [],
   "source": [
    "c1=C()"
   ]
  },
  {
   "cell_type": "code",
   "execution_count": 169,
   "id": "23b72ca1",
   "metadata": {},
   "outputs": [
    {
     "name": "stdout",
     "output_type": "stream",
     "text": [
      "I am feature6\n"
     ]
    }
   ],
   "source": [
    "c1.feature6()"
   ]
  },
  {
   "cell_type": "code",
   "execution_count": 170,
   "id": "1d3740ed",
   "metadata": {},
   "outputs": [],
   "source": [
    "class V():\n",
    "    def __init__(self):\n",
    "        print('I am V initializer')\n",
    "    def featurev(self):\n",
    "        print('This is featureV')"
   ]
  },
  {
   "cell_type": "code",
   "execution_count": 171,
   "id": "f24c6cfb",
   "metadata": {},
   "outputs": [],
   "source": [
    "class W(V):\n",
    "    def featureW(self):\n",
    "        print('This is fetaureW')"
   ]
  },
  {
   "cell_type": "code",
   "execution_count": 172,
   "id": "cda98316",
   "metadata": {},
   "outputs": [
    {
     "name": "stdout",
     "output_type": "stream",
     "text": [
      "I am V initializer\n"
     ]
    }
   ],
   "source": [
    "w1=W()"
   ]
  },
  {
   "cell_type": "code",
   "execution_count": 173,
   "id": "7df77ce0",
   "metadata": {},
   "outputs": [
    {
     "name": "stdout",
     "output_type": "stream",
     "text": [
      "I am V initializer\n"
     ]
    }
   ],
   "source": [
    "v1=V()"
   ]
  },
  {
   "cell_type": "code",
   "execution_count": 174,
   "id": "0902f76c",
   "metadata": {},
   "outputs": [],
   "source": [
    "class V():\n",
    "    def __init__(self):\n",
    "        print('I am V initializer')\n",
    "    def featurev(self):\n",
    "        print('This is featureV')"
   ]
  },
  {
   "cell_type": "code",
   "execution_count": 175,
   "id": "71c2136f",
   "metadata": {},
   "outputs": [],
   "source": [
    "class W(V):\n",
    "    def __init__(self):\n",
    "        print('I am W initializer')\n",
    "    def featureW(self):\n",
    "        print('This is fetaureW')"
   ]
  },
  {
   "cell_type": "code",
   "execution_count": 176,
   "id": "8a16fc88",
   "metadata": {},
   "outputs": [
    {
     "name": "stdout",
     "output_type": "stream",
     "text": [
      "I am V initializer\n"
     ]
    }
   ],
   "source": [
    "v1=V()"
   ]
  },
  {
   "cell_type": "code",
   "execution_count": 177,
   "id": "f7a51db6",
   "metadata": {},
   "outputs": [
    {
     "name": "stdout",
     "output_type": "stream",
     "text": [
      "I am W initializer\n"
     ]
    }
   ],
   "source": [
    "w1=W()"
   ]
  },
  {
   "cell_type": "code",
   "execution_count": 178,
   "id": "e1a1744b",
   "metadata": {},
   "outputs": [],
   "source": [
    "class V():\n",
    "    def __init__(self):\n",
    "        print('I am V initializer')\n",
    "    def featurev(self):\n",
    "        print('This is featureV')"
   ]
  },
  {
   "cell_type": "code",
   "execution_count": 179,
   "id": "ac461598",
   "metadata": {},
   "outputs": [],
   "source": [
    "class W(V):\n",
    "    def __init__(self):\n",
    "        print('I am W initializer')\n",
    "        super().__init__()\n",
    "    def featureW(self):\n",
    "        print('This is fetaureW')"
   ]
  },
  {
   "cell_type": "code",
   "execution_count": 180,
   "id": "1844e8d5",
   "metadata": {},
   "outputs": [
    {
     "name": "stdout",
     "output_type": "stream",
     "text": [
      "I am V initializer\n"
     ]
    }
   ],
   "source": [
    "v1=V()"
   ]
  },
  {
   "cell_type": "code",
   "execution_count": 181,
   "id": "574a29a9",
   "metadata": {},
   "outputs": [
    {
     "name": "stdout",
     "output_type": "stream",
     "text": [
      "I am W initializer\n",
      "I am V initializer\n"
     ]
    }
   ],
   "source": [
    "w1=W()"
   ]
  },
  {
   "cell_type": "code",
   "execution_count": null,
   "id": "529bb7d0",
   "metadata": {},
   "outputs": [],
   "source": []
  },
  {
   "cell_type": "code",
   "execution_count": null,
   "id": "a4fc322f",
   "metadata": {},
   "outputs": [],
   "source": []
  },
  {
   "cell_type": "code",
   "execution_count": null,
   "id": "6415bf9d",
   "metadata": {},
   "outputs": [],
   "source": []
  },
  {
   "cell_type": "code",
   "execution_count": null,
   "id": "8645df69",
   "metadata": {},
   "outputs": [],
   "source": []
  },
  {
   "cell_type": "code",
   "execution_count": null,
   "id": "64c7c2be",
   "metadata": {},
   "outputs": [],
   "source": []
  },
  {
   "cell_type": "code",
   "execution_count": null,
   "id": "000c7ef9",
   "metadata": {},
   "outputs": [],
   "source": []
  },
  {
   "cell_type": "code",
   "execution_count": null,
   "id": "1c44325d",
   "metadata": {},
   "outputs": [],
   "source": []
  },
  {
   "cell_type": "code",
   "execution_count": null,
   "id": "1b66c541",
   "metadata": {},
   "outputs": [],
   "source": []
  },
  {
   "cell_type": "markdown",
   "id": "5a4aea7f",
   "metadata": {},
   "source": [
    "*Multiple Inheritance"
   ]
  },
  {
   "cell_type": "code",
   "execution_count": 182,
   "id": "a9f57852",
   "metadata": {},
   "outputs": [],
   "source": [
    "class A():\n",
    "    def feature1(self):\n",
    "        print('I am feature1')\n",
    "    def feature2(self):\n",
    "        print('I m fetaure2')\n",
    "    def show(self):\n",
    "        print('It is feature1 show')"
   ]
  },
  {
   "cell_type": "code",
   "execution_count": 183,
   "id": "addda5c6",
   "metadata": {},
   "outputs": [],
   "source": [
    "class B():\n",
    "    \n",
    "    def feature3(self):\n",
    "        print('I am feature3')\n",
    "    def feature4(self):\n",
    "        print('I am feature4')\n",
    "    def show(self):\n",
    "        print('It is feature2 show')"
   ]
  },
  {
   "cell_type": "code",
   "execution_count": 184,
   "id": "7774f88d",
   "metadata": {},
   "outputs": [],
   "source": [
    "class C(A,B):\n",
    "    \n",
    "    def feature5(self):\n",
    "        print('I am feature5')\n",
    "    def feature6(self):\n",
    "        print('I am feature6')"
   ]
  },
  {
   "cell_type": "code",
   "execution_count": 185,
   "id": "7e1b5591",
   "metadata": {},
   "outputs": [],
   "source": [
    "c2=C()"
   ]
  },
  {
   "cell_type": "code",
   "execution_count": 186,
   "id": "a0e26c8a",
   "metadata": {},
   "outputs": [
    {
     "name": "stdout",
     "output_type": "stream",
     "text": [
      "I am feature6\n"
     ]
    }
   ],
   "source": [
    "c2.feature6()"
   ]
  },
  {
   "cell_type": "code",
   "execution_count": 187,
   "id": "1a77f691",
   "metadata": {},
   "outputs": [
    {
     "name": "stdout",
     "output_type": "stream",
     "text": [
      "I m fetaure2\n"
     ]
    }
   ],
   "source": [
    "c2.feature2()"
   ]
  },
  {
   "cell_type": "code",
   "execution_count": 188,
   "id": "2afe1d56",
   "metadata": {},
   "outputs": [
    {
     "name": "stdout",
     "output_type": "stream",
     "text": [
      "I am feature3\n"
     ]
    }
   ],
   "source": [
    "c2.feature3()"
   ]
  },
  {
   "cell_type": "code",
   "execution_count": 189,
   "id": "014c3965",
   "metadata": {},
   "outputs": [
    {
     "name": "stdout",
     "output_type": "stream",
     "text": [
      "It is feature1 show\n"
     ]
    }
   ],
   "source": [
    "c2.show()"
   ]
  },
  {
   "cell_type": "code",
   "execution_count": null,
   "id": "b18734db",
   "metadata": {},
   "outputs": [],
   "source": []
  },
  {
   "cell_type": "code",
   "execution_count": 190,
   "id": "281b5903",
   "metadata": {},
   "outputs": [],
   "source": [
    "class A():\n",
    "    def __init__(self):\n",
    "        print('This is A initializer')\n",
    "    def feature1(self):\n",
    "        print('I am feature1')\n",
    "    def feature2(self):\n",
    "        print('I m fetaure2')\n",
    "    def show(self):\n",
    "        print('It is feature1 show')"
   ]
  },
  {
   "cell_type": "code",
   "execution_count": 191,
   "id": "d407009e",
   "metadata": {},
   "outputs": [],
   "source": [
    "class B():\n",
    "    def __init__(self):\n",
    "        print('This is B initializer')\n",
    "    def feature3(self):\n",
    "        print('I am feature3')\n",
    "    def feature4(self):\n",
    "        print('I am feature4')\n",
    "    def show(self):\n",
    "        print('It is feature2 show')"
   ]
  },
  {
   "cell_type": "code",
   "execution_count": 192,
   "id": "7b7ee7b1",
   "metadata": {},
   "outputs": [],
   "source": [
    "class C(A,B):\n",
    "    def __init__(self):\n",
    "        print('This is C initializer')\n",
    "        super().__init__()\n",
    "        super().show()\n",
    "    def feature5(self):\n",
    "        print('I am feature5')\n",
    "    def feature6(self):\n",
    "        print('I am feature6')"
   ]
  },
  {
   "cell_type": "code",
   "execution_count": 193,
   "id": "68c871b5",
   "metadata": {},
   "outputs": [
    {
     "name": "stdout",
     "output_type": "stream",
     "text": [
      "This is C initializer\n",
      "This is A initializer\n",
      "It is feature1 show\n"
     ]
    }
   ],
   "source": [
    "c1=C()"
   ]
  },
  {
   "cell_type": "code",
   "execution_count": 194,
   "id": "aa773c82",
   "metadata": {},
   "outputs": [],
   "source": [
    "class C(A,B):\n",
    "    def __init__(self):\n",
    "        print('This is C initializer')\n",
    "    def feature5(self):\n",
    "        print('I am feature5')\n",
    "    def feature6(self):\n",
    "        print('I am feature6')"
   ]
  },
  {
   "cell_type": "code",
   "execution_count": 195,
   "id": "f021b167",
   "metadata": {},
   "outputs": [
    {
     "name": "stdout",
     "output_type": "stream",
     "text": [
      "This is C initializer\n"
     ]
    }
   ],
   "source": [
    "c2=C()"
   ]
  },
  {
   "cell_type": "code",
   "execution_count": null,
   "id": "264475e8",
   "metadata": {},
   "outputs": [],
   "source": []
  },
  {
   "cell_type": "code",
   "execution_count": 196,
   "id": "56de7d40",
   "metadata": {},
   "outputs": [
    {
     "name": "stdout",
     "output_type": "stream",
     "text": [
      "30\n",
      "30\n"
     ]
    }
   ],
   "source": [
    "a=20\n",
    "b=10\n",
    "c=a+b\n",
    "print(c)\n",
    "\n",
    "print(int.__add__(a,b))\n",
    "# when we use a + operator, in backend it calls add method of int class(that sums) \n",
    "# because both the supplied operands are of type(class) integers \\\n",
    "# or we can say that both are objects of int class"
   ]
  },
  {
   "cell_type": "code",
   "execution_count": 197,
   "id": "84880d4d",
   "metadata": {},
   "outputs": [
    {
     "data": {
      "text/plain": [
       "['__abs__',\n",
       " '__add__',\n",
       " '__and__',\n",
       " '__bool__',\n",
       " '__ceil__',\n",
       " '__class__',\n",
       " '__delattr__',\n",
       " '__dir__',\n",
       " '__divmod__',\n",
       " '__doc__',\n",
       " '__eq__',\n",
       " '__float__',\n",
       " '__floor__',\n",
       " '__floordiv__',\n",
       " '__format__',\n",
       " '__ge__',\n",
       " '__getattribute__',\n",
       " '__getnewargs__',\n",
       " '__gt__',\n",
       " '__hash__',\n",
       " '__index__',\n",
       " '__init__',\n",
       " '__init_subclass__',\n",
       " '__int__',\n",
       " '__invert__',\n",
       " '__le__',\n",
       " '__lshift__',\n",
       " '__lt__',\n",
       " '__mod__',\n",
       " '__mul__',\n",
       " '__ne__',\n",
       " '__neg__',\n",
       " '__new__',\n",
       " '__or__',\n",
       " '__pos__',\n",
       " '__pow__',\n",
       " '__radd__',\n",
       " '__rand__',\n",
       " '__rdivmod__',\n",
       " '__reduce__',\n",
       " '__reduce_ex__',\n",
       " '__repr__',\n",
       " '__rfloordiv__',\n",
       " '__rlshift__',\n",
       " '__rmod__',\n",
       " '__rmul__',\n",
       " '__ror__',\n",
       " '__round__',\n",
       " '__rpow__',\n",
       " '__rrshift__',\n",
       " '__rshift__',\n",
       " '__rsub__',\n",
       " '__rtruediv__',\n",
       " '__rxor__',\n",
       " '__setattr__',\n",
       " '__sizeof__',\n",
       " '__str__',\n",
       " '__sub__',\n",
       " '__subclasshook__',\n",
       " '__truediv__',\n",
       " '__trunc__',\n",
       " '__xor__',\n",
       " 'as_integer_ratio',\n",
       " 'bit_length',\n",
       " 'conjugate',\n",
       " 'denominator',\n",
       " 'from_bytes',\n",
       " 'imag',\n",
       " 'numerator',\n",
       " 'real',\n",
       " 'to_bytes']"
      ]
     },
     "execution_count": 197,
     "metadata": {},
     "output_type": "execute_result"
    }
   ],
   "source": [
    "dir(a)"
   ]
  },
  {
   "cell_type": "code",
   "execution_count": 198,
   "id": "69521143",
   "metadata": {},
   "outputs": [],
   "source": [
    "class Employee():\n",
    "    def __init__(self,salary,company):\n",
    "        self.salary=salary\n",
    "        self.company=company\n",
    "        "
   ]
  },
  {
   "cell_type": "code",
   "execution_count": 199,
   "id": "1f2358cb",
   "metadata": {},
   "outputs": [],
   "source": [
    "e1=Employee(2000,'Youtube')\n",
    "e2=Employee(1000,'Google')"
   ]
  },
  {
   "cell_type": "code",
   "execution_count": 200,
   "id": "be72c1e7",
   "metadata": {},
   "outputs": [
    {
     "data": {
      "text/plain": [
       "2000"
      ]
     },
     "execution_count": 200,
     "metadata": {},
     "output_type": "execute_result"
    }
   ],
   "source": [
    "e1.salary"
   ]
  },
  {
   "cell_type": "code",
   "execution_count": 201,
   "id": "e330641c",
   "metadata": {},
   "outputs": [
    {
     "data": {
      "text/plain": [
       "'Google'"
      ]
     },
     "execution_count": 201,
     "metadata": {},
     "output_type": "execute_result"
    }
   ],
   "source": [
    "e2.company"
   ]
  },
  {
   "cell_type": "code",
   "execution_count": 202,
   "id": "6499082c",
   "metadata": {},
   "outputs": [
    {
     "ename": "SyntaxError",
     "evalue": "invalid syntax (2973663513.py, line 1)",
     "output_type": "error",
     "traceback": [
      "\u001b[1;36m  Input \u001b[1;32mIn [202]\u001b[1;36m\u001b[0m\n\u001b[1;33m    print(e1+e2) 'In this situation we use __add__'\u001b[0m\n\u001b[1;37m                 ^\u001b[0m\n\u001b[1;31mSyntaxError\u001b[0m\u001b[1;31m:\u001b[0m invalid syntax\n"
     ]
    }
   ],
   "source": [
    "print(e1+e2) 'In this situation we use __add__'"
   ]
  },
  {
   "cell_type": "code",
   "execution_count": 203,
   "id": "695f2470",
   "metadata": {},
   "outputs": [],
   "source": [
    "class Employee():\n",
    "    def __init__(self,salary,company):\n",
    "        self.salary=salary\n",
    "        self.company=company\n",
    "    def __add__(self,other): #str.__add__(a,b),where a,b are objects and __add__ is function and str is class\n",
    "#         c=self.company+other.company\n",
    "        c=self.salary+other.salary\n",
    "        return c"
   ]
  },
  {
   "cell_type": "code",
   "execution_count": 204,
   "id": "b4dc421b",
   "metadata": {},
   "outputs": [],
   "source": [
    "e1=Employee(2000,'Youtube')\n",
    "e2=Employee(1000,'Google')\n"
   ]
  },
  {
   "cell_type": "code",
   "execution_count": 205,
   "id": "396ef7d8",
   "metadata": {},
   "outputs": [
    {
     "name": "stdout",
     "output_type": "stream",
     "text": [
      "3000\n"
     ]
    }
   ],
   "source": [
    "c1=e1+e2\n",
    "print(c1)"
   ]
  },
  {
   "cell_type": "code",
   "execution_count": 228,
   "id": "647ead95",
   "metadata": {},
   "outputs": [],
   "source": [
    "class student():\n",
    "    def __init__(self,m1,m2):\n",
    "        self.m1=m1\n",
    "        self.m2=m2\n",
    "    def __add__(self,other):\n",
    "        first_stu=self.m1+other.m1\n",
    "        second_stu=self.m2+other.m2\n",
    "        c1=student(first_stu,second_stu)\n",
    "        return c1\n",
    "    def __str__(self):\n",
    "        return (f'{self.m1} {self.m2}')"
   ]
  },
  {
   "cell_type": "code",
   "execution_count": 229,
   "id": "ad9ac7d1",
   "metadata": {},
   "outputs": [],
   "source": [
    "s1=student(20,10)\n",
    "s2=student(30,20)"
   ]
  },
  {
   "cell_type": "code",
   "execution_count": 230,
   "id": "097fc7e6",
   "metadata": {},
   "outputs": [
    {
     "data": {
      "text/plain": [
       "20"
      ]
     },
     "execution_count": 230,
     "metadata": {},
     "output_type": "execute_result"
    }
   ],
   "source": [
    "s1.m1"
   ]
  },
  {
   "cell_type": "code",
   "execution_count": 231,
   "id": "2c6a1f3a",
   "metadata": {},
   "outputs": [
    {
     "data": {
      "text/plain": [
       "20"
      ]
     },
     "execution_count": 231,
     "metadata": {},
     "output_type": "execute_result"
    }
   ],
   "source": [
    "s2.m2"
   ]
  },
  {
   "cell_type": "code",
   "execution_count": 232,
   "id": "d389b354",
   "metadata": {},
   "outputs": [],
   "source": [
    "g=s1+s2"
   ]
  },
  {
   "cell_type": "code",
   "execution_count": 235,
   "id": "3a1bcbe8",
   "metadata": {},
   "outputs": [
    {
     "data": {
      "text/plain": [
       "<__main__.student at 0x1daff9d4bb0>"
      ]
     },
     "execution_count": 235,
     "metadata": {},
     "output_type": "execute_result"
    }
   ],
   "source": [
    "g #this return object and we want value in 'g' so we make function of __str__ in class"
   ]
  },
  {
   "cell_type": "code",
   "execution_count": 236,
   "id": "655e809c",
   "metadata": {},
   "outputs": [
    {
     "name": "stdout",
     "output_type": "stream",
     "text": [
      "50 30\n"
     ]
    }
   ],
   "source": [
    "print(g)"
   ]
  },
  {
   "cell_type": "code",
   "execution_count": 226,
   "id": "9ff630f7",
   "metadata": {},
   "outputs": [
    {
     "data": {
      "text/plain": [
       "50"
      ]
     },
     "execution_count": 226,
     "metadata": {},
     "output_type": "execute_result"
    }
   ],
   "source": [
    "g.m1"
   ]
  },
  {
   "cell_type": "code",
   "execution_count": 213,
   "id": "9613bee9",
   "metadata": {},
   "outputs": [
    {
     "data": {
      "text/plain": [
       "30"
      ]
     },
     "execution_count": 213,
     "metadata": {},
     "output_type": "execute_result"
    }
   ],
   "source": [
    "g.m2"
   ]
  },
  {
   "cell_type": "code",
   "execution_count": 214,
   "id": "2a6f47eb",
   "metadata": {},
   "outputs": [
    {
     "data": {
      "text/plain": [
       "(50, 30)"
      ]
     },
     "execution_count": 214,
     "metadata": {},
     "output_type": "execute_result"
    }
   ],
   "source": [
    "g.m1,g.m2"
   ]
  },
  {
   "cell_type": "code",
   "execution_count": 215,
   "id": "579801ee",
   "metadata": {},
   "outputs": [],
   "source": [
    "class number():\n",
    "    def __init__(self,num1,num2):\n",
    "        self.num1=num1\n",
    "        self.num2=num2\n",
    "    def __gt__(self,other):\n",
    "        first=self.num1+self.num2\n",
    "        second=other.num1+other.num2\n",
    "        if(first>second):\n",
    "            return True\n",
    "        else:\n",
    "            return False"
   ]
  },
  {
   "cell_type": "code",
   "execution_count": 216,
   "id": "9f30e6ef",
   "metadata": {},
   "outputs": [],
   "source": [
    "n1=number(2,3)\n",
    "n2=number(5,2)"
   ]
  },
  {
   "cell_type": "code",
   "execution_count": 217,
   "id": "514622b8",
   "metadata": {},
   "outputs": [
    {
     "data": {
      "text/plain": [
       "2"
      ]
     },
     "execution_count": 217,
     "metadata": {},
     "output_type": "execute_result"
    }
   ],
   "source": [
    "n1.num1"
   ]
  },
  {
   "cell_type": "code",
   "execution_count": 218,
   "id": "f5139ad5",
   "metadata": {},
   "outputs": [
    {
     "data": {
      "text/plain": [
       "2"
      ]
     },
     "execution_count": 218,
     "metadata": {},
     "output_type": "execute_result"
    }
   ],
   "source": [
    "n2.num2"
   ]
  },
  {
   "cell_type": "code",
   "execution_count": 219,
   "id": "b935d25a",
   "metadata": {},
   "outputs": [
    {
     "data": {
      "text/plain": [
       "False"
      ]
     },
     "execution_count": 219,
     "metadata": {},
     "output_type": "execute_result"
    }
   ],
   "source": [
    "n1>n2"
   ]
  },
  {
   "cell_type": "markdown",
   "id": "0f2d3e8a",
   "metadata": {},
   "source": [
    "# Abstraction"
   ]
  },
  {
   "cell_type": "code",
   "execution_count": 33,
   "id": "114e2aa2",
   "metadata": {},
   "outputs": [],
   "source": [
    "# A normal class and a normal method\n",
    "class computer():\n",
    "    def mouse(self):\n",
    "        pass"
   ]
  },
  {
   "cell_type": "code",
   "execution_count": 34,
   "id": "7f6175ca",
   "metadata": {},
   "outputs": [],
   "source": [
    "c1=computer()"
   ]
  },
  {
   "cell_type": "code",
   "execution_count": 35,
   "id": "bd7bbe51",
   "metadata": {},
   "outputs": [
    {
     "data": {
      "text/plain": [
       "<bound method computer.mouse of <__main__.computer object at 0x00000191CDD3FD60>>"
      ]
     },
     "execution_count": 35,
     "metadata": {},
     "output_type": "execute_result"
    }
   ],
   "source": [
    "c1.mouse"
   ]
  },
  {
   "cell_type": "code",
   "execution_count": 36,
   "id": "0792bdbc",
   "metadata": {},
   "outputs": [],
   "source": [
    "from abc import ABC,abstractmethod"
   ]
  },
  {
   "cell_type": "code",
   "execution_count": 37,
   "id": "2932dc94",
   "metadata": {},
   "outputs": [],
   "source": [
    "# A method that only has declaration but has nothing in it is abstract method\n",
    "class Computer(ABC):\n",
    "    @abstractmethod\n",
    "    def mouse(self):\n",
    "        pass\n",
    "# A class having a methods that has no body"
   ]
  },
  {
   "cell_type": "code",
   "execution_count": 38,
   "id": "af04b288",
   "metadata": {},
   "outputs": [
    {
     "ename": "TypeError",
     "evalue": "Can't instantiate abstract class Computer with abstract method mouse",
     "output_type": "error",
     "traceback": [
      "\u001b[1;31m---------------------------------------------------------------------------\u001b[0m",
      "\u001b[1;31mTypeError\u001b[0m                                 Traceback (most recent call last)",
      "Input \u001b[1;32mIn [38]\u001b[0m, in \u001b[0;36m<cell line: 1>\u001b[1;34m()\u001b[0m\n\u001b[1;32m----> 1\u001b[0m c2\u001b[38;5;241m=\u001b[39m\u001b[43mComputer\u001b[49m\u001b[43m(\u001b[49m\u001b[43m)\u001b[49m\n\u001b[0;32m      2\u001b[0m c2\u001b[38;5;241m.\u001b[39mmouse\n",
      "\u001b[1;31mTypeError\u001b[0m: Can't instantiate abstract class Computer with abstract method mouse"
     ]
    }
   ],
   "source": [
    "c2=Computer()\n",
    "c2.mouse\n",
    "\n",
    "# There is no error and we are able to create onject and call method \n",
    "# because its not an abstract class and not an abstract method."
   ]
  },
  {
   "cell_type": "raw",
   "id": "0cc8dd1b",
   "metadata": {},
   "source": [
    "Hiding the implementation details of a method is called abstraction\n",
    "We can not create an object of abstract classes "
   ]
  },
  {
   "cell_type": "code",
   "execution_count": 39,
   "id": "a3c6a4f6",
   "metadata": {},
   "outputs": [],
   "source": [
    "class Computer(ABC):\n",
    "    @abstractmethod\n",
    "    def mouse(self):\n",
    "        pass\n",
    "    def keyboard(self):\n",
    "        print('Computer has wireless keyboard')"
   ]
  },
  {
   "cell_type": "code",
   "execution_count": 40,
   "id": "429af5d4",
   "metadata": {},
   "outputs": [],
   "source": [
    "class Laptop(Computer):\n",
    "    def SSD():\n",
    "        print('SSD is 512')\n",
    "# To make a class abstract \n",
    "#     - It must inherit the ABC class from abc module\n",
    "#     - It must have atleast a abstract method (which is defined using a decorator @abstractmethod)"
   ]
  },
  {
   "cell_type": "code",
   "execution_count": 41,
   "id": "8d20728a",
   "metadata": {},
   "outputs": [
    {
     "ename": "TypeError",
     "evalue": "Can't instantiate abstract class Laptop with abstract method mouse",
     "output_type": "error",
     "traceback": [
      "\u001b[1;31m---------------------------------------------------------------------------\u001b[0m",
      "\u001b[1;31mTypeError\u001b[0m                                 Traceback (most recent call last)",
      "Input \u001b[1;32mIn [41]\u001b[0m, in \u001b[0;36m<cell line: 1>\u001b[1;34m()\u001b[0m\n\u001b[1;32m----> 1\u001b[0m l1\u001b[38;5;241m=\u001b[39m\u001b[43mLaptop\u001b[49m\u001b[43m(\u001b[49m\u001b[43m)\u001b[49m\n",
      "\u001b[1;31mTypeError\u001b[0m: Can't instantiate abstract class Laptop with abstract method mouse"
     ]
    }
   ],
   "source": [
    "l1=Laptop()"
   ]
  },
  {
   "cell_type": "code",
   "execution_count": 42,
   "id": "b75be3d3",
   "metadata": {},
   "outputs": [],
   "source": [
    "class Computer(ABC):\n",
    "    @abstractmethod\n",
    "    def mouse(self):\n",
    "        pass\n",
    "    def keyboard(self):\n",
    "        print('Computer has wireless keyboard')"
   ]
  },
  {
   "cell_type": "code",
   "execution_count": 43,
   "id": "9df640bc",
   "metadata": {},
   "outputs": [],
   "source": [
    "class Laptop(Computer):\n",
    "    def SSD(self):\n",
    "        print('SSD is 512')\n",
    "    def mouse(self):\n",
    "        print('It has mouse')"
   ]
  },
  {
   "cell_type": "code",
   "execution_count": 44,
   "id": "6a98e712",
   "metadata": {},
   "outputs": [],
   "source": [
    "l2=Laptop()"
   ]
  },
  {
   "cell_type": "code",
   "execution_count": 45,
   "id": "1c066699",
   "metadata": {},
   "outputs": [
    {
     "name": "stdout",
     "output_type": "stream",
     "text": [
      "It has mouse\n"
     ]
    }
   ],
   "source": [
    "l2.mouse()"
   ]
  },
  {
   "cell_type": "code",
   "execution_count": 46,
   "id": "08a9ce6d",
   "metadata": {},
   "outputs": [
    {
     "name": "stdout",
     "output_type": "stream",
     "text": [
      "Computer has wireless keyboard\n"
     ]
    }
   ],
   "source": [
    "l2.keyboard()"
   ]
  },
  {
   "cell_type": "markdown",
   "id": "4cc600a3",
   "metadata": {},
   "source": [
    "# Use of this concept and functionality"
   ]
  },
  {
   "cell_type": "markdown",
   "id": "8c0766eb",
   "metadata": {},
   "source": [
    "Through abstraction we can provide a user an interface that only show the behaviour not the implmetation of that behaviour \n",
    "Like we show a user a computer that runs process and user can only see the name of behavoiur but there is no implementation in it. \n",
    "Implementation is done in child class"
   ]
  },
  {
   "cell_type": "code",
   "execution_count": 50,
   "id": "d2e75745",
   "metadata": {},
   "outputs": [],
   "source": [
    "class Car(ABC):\n",
    "    @abstractmethod\n",
    "    def enginepower(self):\n",
    "        pass\n",
    "    def wheel(self):\n",
    "        print('there are 4 wheel')\n",
    "class Tesla(Car):\n",
    "    def enginepower(self):\n",
    "        return '4000CC'\n",
    "class Toyota(Car):\n",
    "    def enginepower(self):\n",
    "        return '3000CC'\n",
    "\n",
    "    \n",
    "\n"
   ]
  },
  {
   "cell_type": "code",
   "execution_count": 53,
   "id": "d47c9288",
   "metadata": {},
   "outputs": [
    {
     "data": {
      "text/plain": [
       "'4000CC'"
      ]
     },
     "execution_count": 53,
     "metadata": {},
     "output_type": "execute_result"
    }
   ],
   "source": [
    "t1=Tesla()\n",
    "t1.enginepower()"
   ]
  },
  {
   "cell_type": "code",
   "execution_count": 54,
   "id": "0187ad97",
   "metadata": {},
   "outputs": [
    {
     "data": {
      "text/plain": [
       "'3000CC'"
      ]
     },
     "execution_count": 54,
     "metadata": {},
     "output_type": "execute_result"
    }
   ],
   "source": [
    "t2=Toyota()\n",
    "t2.enginepower()"
   ]
  },
  {
   "cell_type": "code",
   "execution_count": 55,
   "id": "2688ab42",
   "metadata": {},
   "outputs": [
    {
     "name": "stdout",
     "output_type": "stream",
     "text": [
      "there are 4 wheel\n"
     ]
    }
   ],
   "source": [
    "t2.wheel()"
   ]
  },
  {
   "cell_type": "code",
   "execution_count": 56,
   "id": "ce38356c",
   "metadata": {},
   "outputs": [
    {
     "name": "stdout",
     "output_type": "stream",
     "text": [
      "there are 4 wheel\n"
     ]
    }
   ],
   "source": [
    "t1.wheel()"
   ]
  },
  {
   "cell_type": "code",
   "execution_count": 57,
   "id": "62f24d5d",
   "metadata": {},
   "outputs": [],
   "source": [
    "class Polygone(ABC):\n",
    "    @abstractmethod\n",
    "    def sides(self):\n",
    "        pass\n",
    "    def greet(self):\n",
    "        print('Salam')\n",
    "class Triangle(Polygone):\n",
    "    def sides(self):\n",
    "        print('there are 3 sides')\n",
    "    def angle(self):\n",
    "        print('there are 180 degree angle')\n",
    "class Square(Polygone):\n",
    "    def sides(self):\n",
    "        print('there are 4 sides')\n",
    "        "
   ]
  },
  {
   "cell_type": "code",
   "execution_count": 58,
   "id": "2c20e07e",
   "metadata": {},
   "outputs": [],
   "source": [
    "t1=Triangle()"
   ]
  },
  {
   "cell_type": "code",
   "execution_count": 59,
   "id": "41c7f456",
   "metadata": {},
   "outputs": [
    {
     "name": "stdout",
     "output_type": "stream",
     "text": [
      "there are 180 degree angle\n"
     ]
    }
   ],
   "source": [
    "t1.angle()"
   ]
  },
  {
   "cell_type": "code",
   "execution_count": 60,
   "id": "ffb4f8e1",
   "metadata": {},
   "outputs": [
    {
     "name": "stdout",
     "output_type": "stream",
     "text": [
      "Salam\n"
     ]
    }
   ],
   "source": [
    "t1.greet()"
   ]
  },
  {
   "cell_type": "code",
   "execution_count": 62,
   "id": "522229bf",
   "metadata": {},
   "outputs": [
    {
     "name": "stdout",
     "output_type": "stream",
     "text": [
      "there are 3 sides\n"
     ]
    }
   ],
   "source": [
    "t1.sides()"
   ]
  },
  {
   "cell_type": "code",
   "execution_count": 63,
   "id": "bfc43951",
   "metadata": {},
   "outputs": [],
   "source": [
    "s1=Square()"
   ]
  },
  {
   "cell_type": "code",
   "execution_count": 64,
   "id": "8acbd977",
   "metadata": {},
   "outputs": [
    {
     "name": "stdout",
     "output_type": "stream",
     "text": [
      "Salam\n"
     ]
    }
   ],
   "source": [
    "s1.greet()"
   ]
  },
  {
   "cell_type": "code",
   "execution_count": 65,
   "id": "af8a4f38",
   "metadata": {},
   "outputs": [
    {
     "name": "stdout",
     "output_type": "stream",
     "text": [
      "there are 4 sides\n"
     ]
    }
   ],
   "source": [
    "s1.sides()"
   ]
  },
  {
   "cell_type": "markdown",
   "id": "f48643d4",
   "metadata": {},
   "source": [
    "# Python OOPs Public, Protected and Private "
   ]
  },
  {
   "cell_type": "markdown",
   "id": "61e9ad23",
   "metadata": {},
   "source": [
    "Public private and protected functionalities are highly restricted (strongly typed) in most of the typed languages \n",
    "But in python you will not be restricted to access public private and protected variables, they can be overridden. "
   ]
  },
  {
   "cell_type": "code",
   "execution_count": 67,
   "id": "d7fc3aed",
   "metadata": {},
   "outputs": [],
   "source": [
    "# All class ariables are public by defualt\n",
    "# All instance variables are public by default \n",
    "class Car():\n",
    "    # public class variable can be accessed from any where \n",
    "    wheels = 4\n",
    "    def __init__(self,windows, doors, enginetype):\n",
    "        \n",
    "        #Public instance Variable can be acceesed from anywhere \n",
    "        self.windows =windows\n",
    "        self.doors =doors\n",
    "        self.enginetype =enginetype\n",
    "car = Car(3,4,\"Petrol\")"
   ]
  },
  {
   "cell_type": "code",
   "execution_count": 68,
   "id": "20f32a4b",
   "metadata": {},
   "outputs": [],
   "source": [
    "class Suzuki(Car):\n",
    "    def __init__(self,windows,doors,enginetype, hp):\n",
    "        super().__init__(windows,doors,enginetype)\n",
    "        self.hp = hp\n",
    "suz = Suzuki(4,4,\"Petrol\",\"1600\")"
   ]
  },
  {
   "cell_type": "raw",
   "id": "df853ba1",
   "metadata": {},
   "source": [
    "# you will notice public variables are all accessible to child class also"
   ]
  },
  {
   "cell_type": "code",
   "execution_count": 69,
   "id": "32f4387a",
   "metadata": {},
   "outputs": [
    {
     "data": {
      "text/plain": [
       "['__class__',\n",
       " '__delattr__',\n",
       " '__dict__',\n",
       " '__dir__',\n",
       " '__doc__',\n",
       " '__eq__',\n",
       " '__format__',\n",
       " '__ge__',\n",
       " '__getattribute__',\n",
       " '__gt__',\n",
       " '__hash__',\n",
       " '__init__',\n",
       " '__init_subclass__',\n",
       " '__le__',\n",
       " '__lt__',\n",
       " '__module__',\n",
       " '__ne__',\n",
       " '__new__',\n",
       " '__reduce__',\n",
       " '__reduce_ex__',\n",
       " '__repr__',\n",
       " '__setattr__',\n",
       " '__sizeof__',\n",
       " '__str__',\n",
       " '__subclasshook__',\n",
       " '__weakref__',\n",
       " 'doors',\n",
       " 'enginetype',\n",
       " 'hp',\n",
       " 'wheels',\n",
       " 'windows']"
      ]
     },
     "execution_count": 69,
     "metadata": {},
     "output_type": "execute_result"
    }
   ],
   "source": [
    "dir(suz)"
   ]
  },
  {
   "cell_type": "code",
   "execution_count": 70,
   "id": "1a4b76ab",
   "metadata": {},
   "outputs": [],
   "source": [
    "# to make a variable protected use a single underscore before a variable name like _name = \"Asad\"\n",
    "class Car():\n",
    "    def __init__(self,windows, doors, enginetype):\n",
    "        \n",
    "        #Protected variables: should be acceesed from a sub class only by definition but python has no restriction it can also be accessed from any where\n",
    "        # but python dont restrict actually\n",
    "        self._windows =windows\n",
    "        self._doors =doors\n",
    "        self._enginetype =enginetype\n",
    "        self.hello = \"heooooooo\" # public\n",
    "        \n",
    "\n",
    "audi = Car(4,5,\"Diesel\")\n",
    "dir(audi)\n",
    "car2 = Car(2,4,\"abc\")"
   ]
  },
  {
   "cell_type": "code",
   "execution_count": 79,
   "id": "383ea83e",
   "metadata": {},
   "outputs": [
    {
     "data": {
      "text/plain": [
       "4"
      ]
     },
     "execution_count": 79,
     "metadata": {},
     "output_type": "execute_result"
    }
   ],
   "source": [
    "car2._doors"
   ]
  },
  {
   "cell_type": "code",
   "execution_count": 80,
   "id": "d3abaaa1",
   "metadata": {},
   "outputs": [
    {
     "data": {
      "text/plain": [
       "'heooooooo'"
      ]
     },
     "execution_count": 80,
     "metadata": {},
     "output_type": "execute_result"
    }
   ],
   "source": [
    "car2.hello"
   ]
  },
  {
   "cell_type": "code",
   "execution_count": null,
   "id": "d9560772",
   "metadata": {},
   "outputs": [],
   "source": []
  }
 ],
 "metadata": {
  "kernelspec": {
   "display_name": "Python 3 (ipykernel)",
   "language": "python",
   "name": "python3"
  },
  "language_info": {
   "codemirror_mode": {
    "name": "ipython",
    "version": 3
   },
   "file_extension": ".py",
   "mimetype": "text/x-python",
   "name": "python",
   "nbconvert_exporter": "python",
   "pygments_lexer": "ipython3",
   "version": "3.9.12"
  }
 },
 "nbformat": 4,
 "nbformat_minor": 5
}
