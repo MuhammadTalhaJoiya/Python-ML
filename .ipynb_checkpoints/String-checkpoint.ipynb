{
 "cells": [
  {
   "cell_type": "code",
   "execution_count": 2,
   "id": "9e870729",
   "metadata": {},
   "outputs": [
    {
     "name": "stdout",
     "output_type": "stream",
     "text": [
      "my name is Talha and I am studying AI\n"
     ]
    }
   ],
   "source": [
    "print('my name is Talha','I am studying AI',sep=' and ')"
   ]
  },
  {
   "cell_type": "code",
   "execution_count": 5,
   "id": "f9a6bbe4",
   "metadata": {},
   "outputs": [
    {
     "name": "stdout",
     "output_type": "stream",
     "text": [
      "My name is Talha Joiya I am a Programmer\n"
     ]
    }
   ],
   "source": [
    "print('My name is Talha Joiya ',end='')\n",
    "print('I am a Programmer')"
   ]
  },
  {
   "cell_type": "code",
   "execution_count": 9,
   "id": "b950a2e6",
   "metadata": {},
   "outputs": [
    {
     "name": "stdout",
     "output_type": "stream",
     "text": [
      "My name is Talha Joiya and I am the student of PIAIC\n"
     ]
    }
   ],
   "source": [
    "print('My name is Talha Joiya ',end='and ')\n",
    "print('I am the student of PIAIC')"
   ]
  },
  {
   "cell_type": "code",
   "execution_count": 50,
   "id": "cb70f69e",
   "metadata": {},
   "outputs": [
    {
     "name": "stdout",
     "output_type": "stream",
     "text": [
      "My name is TalhaJoiya\n"
     ]
    }
   ],
   "source": [
    "print('My name is Talha'+'Joiya')"
   ]
  },
  {
   "cell_type": "code",
   "execution_count": 59,
   "id": "3996546d",
   "metadata": {},
   "outputs": [
    {
     "name": "stdout",
     "output_type": "stream",
     "text": [
      "I am studying in Nust and I am Programmer\n"
     ]
    }
   ],
   "source": [
    "University='Nust'\n",
    "print('I am studying in '+University,end=' and ')\n",
    "print('I am Programmer')"
   ]
  },
  {
   "cell_type": "code",
   "execution_count": 71,
   "id": "bcddf150",
   "metadata": {},
   "outputs": [
    {
     "name": "stdout",
     "output_type": "stream",
     "text": [
      "what is your name?Talha\n",
      "what is your roll number75\n",
      "Student name is Talha and his roll number is 75\n",
      "roll number is 75\n"
     ]
    }
   ],
   "source": [
    "student=input(\"what is your name?\")\n",
    "roll_number=int(input('what is your roll number'))\n",
    "print(f'Student name is {student} and his roll number is {roll_number}')\n",
    "print('roll number is '+str(roll_number))"
   ]
  },
  {
   "cell_type": "code",
   "execution_count": 75,
   "id": "75eb41c1",
   "metadata": {},
   "outputs": [
    {
     "name": "stdout",
     "output_type": "stream",
     "text": [
      "I am 20 year old\n"
     ]
    }
   ],
   "source": [
    "student_age=20\n",
    "print(f'I am {student_age} year old')"
   ]
  },
  {
   "cell_type": "code",
   "execution_count": 76,
   "id": "e71d8c2e",
   "metadata": {},
   "outputs": [
    {
     "data": {
      "text/plain": [
       "30"
      ]
     },
     "execution_count": 76,
     "metadata": {},
     "output_type": "execute_result"
    }
   ],
   "source": [
    "student_age+10"
   ]
  },
  {
   "cell_type": "code",
   "execution_count": 78,
   "id": "135e39e2",
   "metadata": {},
   "outputs": [],
   "source": [
    "student_age=student_age+10"
   ]
  },
  {
   "cell_type": "code",
   "execution_count": 79,
   "id": "ddb0aff3",
   "metadata": {},
   "outputs": [
    {
     "data": {
      "text/plain": [
       "40"
      ]
     },
     "execution_count": 79,
     "metadata": {},
     "output_type": "execute_result"
    }
   ],
   "source": [
    "student_age"
   ]
  },
  {
   "cell_type": "markdown",
   "id": "ea098b7d",
   "metadata": {},
   "source": [
    "# String"
   ]
  },
  {
   "cell_type": "code",
   "execution_count": 5,
   "id": "be900376",
   "metadata": {},
   "outputs": [
    {
     "data": {
      "text/plain": [
       "'a'"
      ]
     },
     "execution_count": 5,
     "metadata": {},
     "output_type": "execute_result"
    }
   ],
   "source": [
    "cource=\"artificial\"\n",
    "cource.capitalize()\n",
    "cource[0]\n"
   ]
  },
  {
   "cell_type": "code",
   "execution_count": 2,
   "id": "175d5d2d",
   "metadata": {},
   "outputs": [
    {
     "data": {
      "text/plain": [
       "'ARTIFICIAL'"
      ]
     },
     "execution_count": 2,
     "metadata": {},
     "output_type": "execute_result"
    }
   ],
   "source": [
    "cource.upper()"
   ]
  },
  {
   "cell_type": "code",
   "execution_count": 6,
   "id": "bd16fe59",
   "metadata": {},
   "outputs": [
    {
     "data": {
      "text/plain": [
       "'artificial'"
      ]
     },
     "execution_count": 6,
     "metadata": {},
     "output_type": "execute_result"
    }
   ],
   "source": [
    "cource.lower()"
   ]
  },
  {
   "cell_type": "code",
   "execution_count": 9,
   "id": "41230040",
   "metadata": {},
   "outputs": [
    {
     "data": {
      "text/plain": [
       "2"
      ]
     },
     "execution_count": 9,
     "metadata": {},
     "output_type": "execute_result"
    }
   ],
   "source": [
    "cource.count('a')"
   ]
  },
  {
   "cell_type": "code",
   "execution_count": 10,
   "id": "8273cc63",
   "metadata": {},
   "outputs": [
    {
     "data": {
      "text/plain": [
       "0"
      ]
     },
     "execution_count": 10,
     "metadata": {},
     "output_type": "execute_result"
    }
   ],
   "source": [
    "cource.count('at')"
   ]
  },
  {
   "cell_type": "code",
   "execution_count": 11,
   "id": "95fc48e7",
   "metadata": {},
   "outputs": [
    {
     "data": {
      "text/plain": [
       "1"
      ]
     },
     "execution_count": 11,
     "metadata": {},
     "output_type": "execute_result"
    }
   ],
   "source": [
    "cource.count('rt')"
   ]
  },
  {
   "cell_type": "code",
   "execution_count": 17,
   "id": "759d8f7b",
   "metadata": {},
   "outputs": [
    {
     "data": {
      "text/plain": [
       "'r'"
      ]
     },
     "execution_count": 17,
     "metadata": {},
     "output_type": "execute_result"
    }
   ],
   "source": [
    "cource[1]"
   ]
  },
  {
   "cell_type": "code",
   "execution_count": 18,
   "id": "ab10c0a3",
   "metadata": {},
   "outputs": [
    {
     "data": {
      "text/plain": [
       "1"
      ]
     },
     "execution_count": 18,
     "metadata": {},
     "output_type": "execute_result"
    }
   ],
   "source": [
    "cource.find('r')"
   ]
  },
  {
   "cell_type": "code",
   "execution_count": 19,
   "id": "70dce175",
   "metadata": {},
   "outputs": [
    {
     "data": {
      "text/plain": [
       "2"
      ]
     },
     "execution_count": 19,
     "metadata": {},
     "output_type": "execute_result"
    }
   ],
   "source": [
    "cource.find('t') \n"
   ]
  },
  {
   "cell_type": "code",
   "execution_count": 21,
   "id": "bfd3ff93",
   "metadata": {},
   "outputs": [
    {
     "data": {
      "text/plain": [
       "8"
      ]
     },
     "execution_count": 21,
     "metadata": {},
     "output_type": "execute_result"
    }
   ],
   "source": [
    "cource.find('a',1)"
   ]
  },
  {
   "cell_type": "code",
   "execution_count": 22,
   "id": "1f2d4263",
   "metadata": {},
   "outputs": [
    {
     "data": {
      "text/plain": [
       "True"
      ]
     },
     "execution_count": 22,
     "metadata": {},
     "output_type": "execute_result"
    }
   ],
   "source": [
    "cource.isalnum()"
   ]
  },
  {
   "cell_type": "code",
   "execution_count": 23,
   "id": "e645dd02",
   "metadata": {},
   "outputs": [
    {
     "data": {
      "text/plain": [
       "'Pakistan'"
      ]
     },
     "execution_count": 23,
     "metadata": {},
     "output_type": "execute_result"
    }
   ],
   "source": [
    "country='  Pakistan '\n",
    "country.strip()"
   ]
  },
  {
   "cell_type": "code",
   "execution_count": 24,
   "id": "31c056cd",
   "metadata": {},
   "outputs": [
    {
     "data": {
      "text/plain": [
       "'Pakistan'"
      ]
     },
     "execution_count": 24,
     "metadata": {},
     "output_type": "execute_result"
    }
   ],
   "source": [
    "country.lstrip()"
   ]
  },
  {
   "cell_type": "code",
   "execution_count": 25,
   "id": "388959aa",
   "metadata": {},
   "outputs": [
    {
     "data": {
      "text/plain": [
       "'  Pakistan'"
      ]
     },
     "execution_count": 25,
     "metadata": {},
     "output_type": "execute_result"
    }
   ],
   "source": [
    "country.rstrip()"
   ]
  },
  {
   "cell_type": "code",
   "execution_count": 6,
   "id": "5d380e44",
   "metadata": {},
   "outputs": [],
   "source": [
    "employee_name='Usman'\n",
    "employee_name=employee_name.replace('Usman','Talha')"
   ]
  },
  {
   "cell_type": "code",
   "execution_count": 7,
   "id": "1391adc9",
   "metadata": {},
   "outputs": [
    {
     "name": "stdout",
     "output_type": "stream",
     "text": [
      "Talha\n"
     ]
    }
   ],
   "source": [
    "print(employee_name)"
   ]
  },
  {
   "cell_type": "code",
   "execution_count": 10,
   "id": "196f5572",
   "metadata": {},
   "outputs": [],
   "source": [
    "abc=employee_name.replace('Talha','Usman')"
   ]
  },
  {
   "cell_type": "code",
   "execution_count": 11,
   "id": "5dd392f6",
   "metadata": {},
   "outputs": [
    {
     "name": "stdout",
     "output_type": "stream",
     "text": [
      "Usman\n"
     ]
    }
   ],
   "source": [
    "print(abc)"
   ]
  },
  {
   "cell_type": "code",
   "execution_count": null,
   "id": "ef04ea9e",
   "metadata": {},
   "outputs": [],
   "source": []
  }
 ],
 "metadata": {
  "kernelspec": {
   "display_name": "Python 3 (ipykernel)",
   "language": "python",
   "name": "python3"
  },
  "language_info": {
   "codemirror_mode": {
    "name": "ipython",
    "version": 3
   },
   "file_extension": ".py",
   "mimetype": "text/x-python",
   "name": "python",
   "nbconvert_exporter": "python",
   "pygments_lexer": "ipython3",
   "version": "3.9.12"
  }
 },
 "nbformat": 4,
 "nbformat_minor": 5
}
