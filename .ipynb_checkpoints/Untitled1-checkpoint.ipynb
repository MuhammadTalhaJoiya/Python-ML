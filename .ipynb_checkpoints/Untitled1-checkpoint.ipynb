{
 "cells": [
  {
   "cell_type": "markdown",
   "id": "df1b91c1",
   "metadata": {},
   "source": [
    "# Lec 4"
   ]
  },
  {
   "cell_type": "markdown",
   "id": "25b35df5",
   "metadata": {},
   "source": [
    "# Nested If with Else"
   ]
  },
  {
   "cell_type": "code",
   "execution_count": 1,
   "id": "e1cc6462",
   "metadata": {},
   "outputs": [
    {
     "name": "stdout",
     "output_type": "stream",
     "text": [
      "what brand of shirt do you like to purchase from herej\n",
      "rehny do\n"
     ]
    }
   ],
   "source": [
    "brand_name=input('what brand of shirt do you like to purchase from here')\n",
    "if brand_name=='bonanza':\n",
    "    print('pack krdo')\n",
    "else:\n",
    "    print('rehny do')"
   ]
  },
  {
   "cell_type": "markdown",
   "id": "f1e4271c",
   "metadata": {},
   "source": [
    "# to be contiue"
   ]
  },
  {
   "cell_type": "code",
   "execution_count": 2,
   "id": "dedda8d8",
   "metadata": {},
   "outputs": [
    {
     "name": "stdout",
     "output_type": "stream",
     "text": [
      "what brand of shirt do you like to purchase from herej\n",
      "rehny do\n"
     ]
    }
   ],
   "source": [
    "brand_name=input('what brand of shirt do you like to purchase from here')\n",
    "if brand_name=='bonanza':\n",
    "    color=input('tell your favourite color for your shirt')\n",
    "    if color=='red':\n",
    "        print('pack krdo')\n",
    "    else:\n",
    "        print('rehny do yar')\n",
    "else:\n",
    "    print('rehny do')"
   ]
  },
  {
   "cell_type": "markdown",
   "id": "31388996",
   "metadata": {},
   "source": [
    "# to be continue"
   ]
  },
  {
   "cell_type": "code",
   "execution_count": 3,
   "id": "7c6456e1",
   "metadata": {},
   "outputs": [
    {
     "name": "stdout",
     "output_type": "stream",
     "text": [
      "what brand of shirt do you like to purchase from hereh\n",
      "rehny do\n"
     ]
    }
   ],
   "source": [
    "brand_name=input('what brand of shirt do you like to purchase from here')\n",
    "if brand_name=='bonanza':\n",
    "    color=input('tell your favourite color for your shirt')\n",
    "    if color=='red':\n",
    "        size=input('what is your shirt size')\n",
    "        if size=='M':\n",
    "            print('pack krdo please')\n",
    "        else:\n",
    "            print('phir rehny do')\n",
    "    else:\n",
    "        print('rehny do yar')\n",
    "else:\n",
    "    print('rehny do')"
   ]
  },
  {
   "cell_type": "markdown",
   "id": "b892611a",
   "metadata": {},
   "source": [
    "# To be continue"
   ]
  },
  {
   "cell_type": "code",
   "execution_count": 4,
   "id": "2effcc5d",
   "metadata": {},
   "outputs": [
    {
     "name": "stdout",
     "output_type": "stream",
     "text": [
      "what brand of shirt do you like to purchase from here\n",
      "rehny do\n"
     ]
    }
   ],
   "source": [
    "brand_name=input('what brand of shirt do you like to purchase from here')\n",
    "if brand_name=='bonanza':\n",
    "    color=input('tell your favourite color for your shirt')\n",
    "    if color=='red':\n",
    "        size=input('what is your shirt size')\n",
    "        if size=='M':\n",
    "            price=int(input('what is the price of this shirt?'))\n",
    "            if price<1500:\n",
    "                print('pack krdo')\n",
    "            else:\n",
    "                print('rehny do my kahe aur sy le lon ga')\n",
    "        else:\n",
    "            print('phir rehny do')\n",
    "    else:\n",
    "        print('rehny do yar')\n",
    "else:\n",
    "    print('rehny do')"
   ]
  },
  {
   "cell_type": "markdown",
   "id": "5230bcbb",
   "metadata": {},
   "source": [
    "# To be continue"
   ]
  },
  {
   "cell_type": "code",
   "execution_count": 5,
   "id": "10ce23a4",
   "metadata": {},
   "outputs": [
    {
     "name": "stdout",
     "output_type": "stream",
     "text": [
      "what brand of shirt do you like to purchase from here?\n",
      "j\n",
      "rehny do\n"
     ]
    },
    {
     "ename": "NameError",
     "evalue": "name 'color' is not defined",
     "output_type": "error",
     "traceback": [
      "\u001b[1;31m---------------------------------------------------------------------------\u001b[0m",
      "\u001b[1;31mNameError\u001b[0m                                 Traceback (most recent call last)",
      "Input \u001b[1;32mIn [5]\u001b[0m, in \u001b[0;36m<cell line: 21>\u001b[1;34m()\u001b[0m\n\u001b[0;32m     18\u001b[0m \u001b[38;5;28;01melse\u001b[39;00m:\n\u001b[0;32m     19\u001b[0m     \u001b[38;5;28mprint\u001b[39m(\u001b[38;5;124m'\u001b[39m\u001b[38;5;124mrehny do\u001b[39m\u001b[38;5;124m'\u001b[39m)\n\u001b[0;32m     21\u001b[0m \u001b[38;5;28mprint\u001b[39m(\u001b[38;5;124mf\u001b[39m\u001b[38;5;124m\"\"\"\u001b[39m\u001b[38;5;124m  \u001b[39m\n\u001b[0;32m     22\u001b[0m \u001b[38;5;124m            ABC Shopping Center\u001b[39m\n\u001b[0;32m     23\u001b[0m \u001b[38;5;124m            _________________________\u001b[39m\n\u001b[0;32m     24\u001b[0m \u001b[38;5;124m            \u001b[39m\n\u001b[0;32m     25\u001b[0m \u001b[38;5;124m            Item Brand : \u001b[39m\u001b[38;5;132;01m{\u001b[39;00mbrand_name\u001b[38;5;132;01m}\u001b[39;00m\n\u001b[1;32m---> 26\u001b[0m \u001b[38;5;124m            Item Color : \u001b[39m\u001b[38;5;132;01m{\u001b[39;00mcolor\u001b[38;5;132;01m}\u001b[39;00m\n\u001b[0;32m     27\u001b[0m \u001b[38;5;124m            Item Size : \u001b[39m\u001b[38;5;132;01m{\u001b[39;00msize\u001b[38;5;132;01m}\u001b[39;00m\n\u001b[0;32m     28\u001b[0m \u001b[38;5;124m            Item Price : \u001b[39m\u001b[38;5;132;01m{\u001b[39;00mprice\u001b[38;5;132;01m}\u001b[39;00m\n\u001b[0;32m     29\u001b[0m \u001b[38;5;124m            \u001b[39m\n\u001b[0;32m     30\u001b[0m \u001b[38;5;124m            Thank you for shopping from here\u001b[39m\n\u001b[0;32m     31\u001b[0m \u001b[38;5;124m            ________________________________\u001b[39m\n\u001b[0;32m     32\u001b[0m \u001b[38;5;124m\"\"\"\u001b[39m)\n",
      "\u001b[1;31mNameError\u001b[0m: name 'color' is not defined"
     ]
    }
   ],
   "source": [
    "shopping_card = None\n",
    "brand_name=input('what brand of shirt do you like to purchase from here?\\n')\n",
    "if brand_name=='bonanza':\n",
    "    color=input('tell your favourite color for your shirt?\\n')\n",
    "    if color=='red':\n",
    "        size=input('what is your shirt size?\\n')\n",
    "        if size=='M':\n",
    "            price=int(input('what is the price of this shirt?\\n'))\n",
    "            if price<1500:\n",
    "                shopping_card=f'Brand={brand_name}\\nColor={color}\\nsize={size}\\nprice={price}'\n",
    "#                 print(shopping_card)\n",
    "            else:\n",
    "                print('rehny do my kahe aur sy le lon ga')\n",
    "        else:\n",
    "            print('phir rehny do')\n",
    "    else:\n",
    "        print('rehny do')\n",
    "else:\n",
    "    print('rehny do')\n",
    "    \n",
    "print(f\"\"\"  \n",
    "            ABC Shopping Center\n",
    "            _________________________\n",
    "            \n",
    "            Item Brand : {brand_name}\n",
    "            Item Color : {color}\n",
    "            Item Size : {size}\n",
    "            Item Price : {price}\n",
    "            \n",
    "            Thank you for shopping from here\n",
    "            ________________________________\n",
    "\"\"\")"
   ]
  },
  {
   "cell_type": "markdown",
   "id": "c536e631",
   "metadata": {},
   "source": [
    "# Multiple If with Else"
   ]
  },
  {
   "cell_type": "code",
   "execution_count": 6,
   "id": "950c0aa7",
   "metadata": {},
   "outputs": [
    {
     "name": "stdout",
     "output_type": "stream",
     "text": [
      "Obtained marks in Python\n",
      "70\n",
      "Obtained marks in Java\n",
      "60\n",
      "Obtained marks in C\n",
      "60\n",
      "Obtained marks in TypeScript\n",
      "59\n",
      "Obtained marks in R\n",
      "59\n",
      "\n",
      "    ABC Result Card\n",
      "    _______________\n",
      "    \n",
      "    Total Marks=500\n",
      "    Obtained Marks=308\n",
      "    Percentage=61.6\n",
      "    Grade=C\n",
      "    _______________________________\n",
      "    \n",
      "\n"
     ]
    }
   ],
   "source": [
    "python=int(input('Obtained marks in Python\\n'))\n",
    "Java=int(input('Obtained marks in Java\\n'))\n",
    "C=int(input('Obtained marks in C\\n'))\n",
    "TypeScript=int(input('Obtained marks in TypeScript\\n'))\n",
    "R=int(input('Obtained marks in R\\n'))\n",
    "Obtained_marks=python+Java+C+TypeScript+R\n",
    "Total_marks=500\n",
    "percentage=Obtained_marks/Total_marks*100\n",
    "Grade=None\n",
    "if percentage>=90:\n",
    "    Grade='A+'\n",
    "elif percentage>=80:\n",
    "    Grade='A'\n",
    "elif percentage>=70:\n",
    "    Grade='B'\n",
    "elif percentage>=60:\n",
    "    Grade='C'\n",
    "elif percentage>=50:\n",
    "    Grade='D'\n",
    "else:\n",
    "    Grade='F'\n",
    "    \n",
    "print(f\"\"\"\n",
    "    ABC Result Card\n",
    "    _______________\n",
    "    \n",
    "    Total Marks={Total_marks}\n",
    "    Obtained Marks={Obtained_marks}\n",
    "    Percentage={percentage}\n",
    "    Grade={Grade}\n",
    "    _______________________________\n",
    "    \n",
    "\"\"\")"
   ]
  },
  {
   "cell_type": "code",
   "execution_count": null,
   "id": "28620df1",
   "metadata": {},
   "outputs": [],
   "source": []
  }
 ],
 "metadata": {
  "kernelspec": {
   "display_name": "Python 3 (ipykernel)",
   "language": "python",
   "name": "python3"
  },
  "language_info": {
   "codemirror_mode": {
    "name": "ipython",
    "version": 3
   },
   "file_extension": ".py",
   "mimetype": "text/x-python",
   "name": "python",
   "nbconvert_exporter": "python",
   "pygments_lexer": "ipython3",
   "version": "3.9.12"
  }
 },
 "nbformat": 4,
 "nbformat_minor": 5
}
