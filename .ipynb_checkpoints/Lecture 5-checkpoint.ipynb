{
 "cells": [
  {
   "cell_type": "markdown",
   "id": "b65b3bd8",
   "metadata": {},
   "source": [
    "# List"
   ]
  },
  {
   "cell_type": "code",
   "execution_count": 1,
   "id": "7504bd78",
   "metadata": {},
   "outputs": [],
   "source": [
    "country=['Pakistan','India','Bangladesh','Afghanistan']\n"
   ]
  },
  {
   "cell_type": "code",
   "execution_count": 2,
   "id": "dd66aeed",
   "metadata": {},
   "outputs": [
    {
     "data": {
      "text/plain": [
       "['Pakistan', 'India', 'Bangladesh', 'Afghanistan']"
      ]
     },
     "execution_count": 2,
     "metadata": {},
     "output_type": "execute_result"
    }
   ],
   "source": [
    "country\n"
   ]
  },
  {
   "cell_type": "code",
   "execution_count": 3,
   "id": "3cc6b27e",
   "metadata": {},
   "outputs": [
    {
     "data": {
      "text/plain": [
       "list"
      ]
     },
     "execution_count": 3,
     "metadata": {},
     "output_type": "execute_result"
    }
   ],
   "source": [
    "type(country)"
   ]
  },
  {
   "cell_type": "code",
   "execution_count": 4,
   "id": "fb077d0b",
   "metadata": {},
   "outputs": [
    {
     "name": "stdout",
     "output_type": "stream",
     "text": [
      "<class 'list'>\n"
     ]
    }
   ],
   "source": [
    "print(type(country))"
   ]
  },
  {
   "cell_type": "markdown",
   "id": "dd967b43",
   "metadata": {},
   "source": [
    "# Retrieving Data from list via Indexing"
   ]
  },
  {
   "cell_type": "code",
   "execution_count": 5,
   "id": "b09a55b6",
   "metadata": {},
   "outputs": [
    {
     "data": {
      "text/plain": [
       "'Pakistan'"
      ]
     },
     "execution_count": 5,
     "metadata": {},
     "output_type": "execute_result"
    }
   ],
   "source": [
    "country[0]"
   ]
  },
  {
   "cell_type": "code",
   "execution_count": 6,
   "id": "508b4c5b",
   "metadata": {},
   "outputs": [
    {
     "data": {
      "text/plain": [
       "'Bangladesh'"
      ]
     },
     "execution_count": 6,
     "metadata": {},
     "output_type": "execute_result"
    }
   ],
   "source": [
    "country[2]"
   ]
  },
  {
   "cell_type": "markdown",
   "id": "d2ea5dae",
   "metadata": {},
   "source": [
    "# adding data to list\n"
   ]
  },
  {
   "cell_type": "raw",
   "id": "94dde647",
   "metadata": {},
   "source": [
    ".append() it is used to add item in the last of the list\n",
    ".insert() it is used to add item everywhere you want to add in the list"
   ]
  },
  {
   "cell_type": "code",
   "execution_count": 7,
   "id": "d307ac18",
   "metadata": {},
   "outputs": [],
   "source": [
    "country.append('Iran')"
   ]
  },
  {
   "cell_type": "code",
   "execution_count": 8,
   "id": "37174503",
   "metadata": {},
   "outputs": [
    {
     "data": {
      "text/plain": [
       "['Pakistan', 'India', 'Bangladesh', 'Afghanistan', 'Iran']"
      ]
     },
     "execution_count": 8,
     "metadata": {},
     "output_type": "execute_result"
    }
   ],
   "source": [
    "country"
   ]
  },
  {
   "cell_type": "code",
   "execution_count": 9,
   "id": "4d0645a2",
   "metadata": {},
   "outputs": [],
   "source": [
    "country.insert(1,'China')"
   ]
  },
  {
   "cell_type": "code",
   "execution_count": 10,
   "id": "00f2b27c",
   "metadata": {},
   "outputs": [
    {
     "data": {
      "text/plain": [
       "['Pakistan', 'China', 'India', 'Bangladesh', 'Afghanistan', 'Iran']"
      ]
     },
     "execution_count": 10,
     "metadata": {},
     "output_type": "execute_result"
    }
   ],
   "source": [
    "country"
   ]
  },
  {
   "cell_type": "markdown",
   "id": "08c5e2bc",
   "metadata": {},
   "source": [
    "# if we want to delete or removing value from list via Indexing so there are three way to do which is given below\n",
    " "
   ]
  },
  {
   "cell_type": "raw",
   "id": "5a573177",
   "metadata": {},
   "source": [
    "-del command is used to delete permanantly value from list via Indexing \n",
    "-.remove() function is used to remove a value from list via value,it take value of list not indexing of list \n",
    "-.pop() function is used to remove a value permenantly from list but it returns the value so you can utilize it later if you need it"
   ]
  },
  {
   "cell_type": "code",
   "execution_count": 11,
   "id": "af3061b4",
   "metadata": {},
   "outputs": [
    {
     "data": {
      "text/plain": [
       "['Pakistan', 'China', 'India', 'Bangladesh', 'Afghanistan', 'Iran']"
      ]
     },
     "execution_count": 11,
     "metadata": {},
     "output_type": "execute_result"
    }
   ],
   "source": [
    "country"
   ]
  },
  {
   "cell_type": "code",
   "execution_count": 12,
   "id": "bb901fbb",
   "metadata": {},
   "outputs": [],
   "source": [
    "del country[1]"
   ]
  },
  {
   "cell_type": "code",
   "execution_count": 13,
   "id": "7812e7b2",
   "metadata": {},
   "outputs": [
    {
     "data": {
      "text/plain": [
       "['Pakistan', 'India', 'Bangladesh', 'Afghanistan', 'Iran']"
      ]
     },
     "execution_count": 13,
     "metadata": {},
     "output_type": "execute_result"
    }
   ],
   "source": [
    "country"
   ]
  },
  {
   "cell_type": "code",
   "execution_count": 14,
   "id": "b90de9b3",
   "metadata": {},
   "outputs": [],
   "source": [
    "del country[-1]"
   ]
  },
  {
   "cell_type": "code",
   "execution_count": 15,
   "id": "7bc4bb68",
   "metadata": {},
   "outputs": [
    {
     "data": {
      "text/plain": [
       "['Pakistan', 'India', 'Bangladesh', 'Afghanistan']"
      ]
     },
     "execution_count": 15,
     "metadata": {},
     "output_type": "execute_result"
    }
   ],
   "source": [
    "country"
   ]
  },
  {
   "cell_type": "code",
   "execution_count": 16,
   "id": "6ac3465f",
   "metadata": {},
   "outputs": [],
   "source": [
    "country.remove('Bangladesh')"
   ]
  },
  {
   "cell_type": "code",
   "execution_count": 17,
   "id": "eb38e40c",
   "metadata": {},
   "outputs": [
    {
     "data": {
      "text/plain": [
       "['Pakistan', 'India', 'Afghanistan']"
      ]
     },
     "execution_count": 17,
     "metadata": {},
     "output_type": "execute_result"
    }
   ],
   "source": [
    "country"
   ]
  },
  {
   "cell_type": "code",
   "execution_count": 18,
   "id": "03f2cf5e",
   "metadata": {},
   "outputs": [],
   "source": [
    "country.insert(2,'Bangladesh')"
   ]
  },
  {
   "cell_type": "code",
   "execution_count": 19,
   "id": "ee8c2cc7",
   "metadata": {},
   "outputs": [],
   "source": [
    "country.insert(3,'Iran')"
   ]
  },
  {
   "cell_type": "code",
   "execution_count": 20,
   "id": "7e75bd66",
   "metadata": {},
   "outputs": [
    {
     "data": {
      "text/plain": [
       "['Pakistan', 'India', 'Bangladesh', 'Iran', 'Afghanistan']"
      ]
     },
     "execution_count": 20,
     "metadata": {},
     "output_type": "execute_result"
    }
   ],
   "source": [
    "country"
   ]
  },
  {
   "cell_type": "code",
   "execution_count": 21,
   "id": "0ea9f8a6",
   "metadata": {},
   "outputs": [],
   "source": [
    "country.append('Turkyie')"
   ]
  },
  {
   "cell_type": "code",
   "execution_count": 22,
   "id": "430c6018",
   "metadata": {},
   "outputs": [],
   "source": [
    "country.append('Turkyie')"
   ]
  },
  {
   "cell_type": "code",
   "execution_count": 23,
   "id": "2a1e5498",
   "metadata": {},
   "outputs": [
    {
     "data": {
      "text/plain": [
       "['Pakistan',\n",
       " 'India',\n",
       " 'Bangladesh',\n",
       " 'Iran',\n",
       " 'Afghanistan',\n",
       " 'Turkyie',\n",
       " 'Turkyie']"
      ]
     },
     "execution_count": 23,
     "metadata": {},
     "output_type": "execute_result"
    }
   ],
   "source": [
    "country"
   ]
  },
  {
   "cell_type": "code",
   "execution_count": 24,
   "id": "2d011ffa",
   "metadata": {},
   "outputs": [],
   "source": [
    "country.insert(2,'Turkyie')"
   ]
  },
  {
   "cell_type": "code",
   "execution_count": 25,
   "id": "4d103b01",
   "metadata": {},
   "outputs": [
    {
     "data": {
      "text/plain": [
       "['Pakistan',\n",
       " 'India',\n",
       " 'Turkyie',\n",
       " 'Bangladesh',\n",
       " 'Iran',\n",
       " 'Afghanistan',\n",
       " 'Turkyie',\n",
       " 'Turkyie']"
      ]
     },
     "execution_count": 25,
     "metadata": {},
     "output_type": "execute_result"
    }
   ],
   "source": [
    "country"
   ]
  },
  {
   "cell_type": "code",
   "execution_count": 26,
   "id": "e754a0f7",
   "metadata": {},
   "outputs": [],
   "source": [
    "country.remove('Turkyie')"
   ]
  },
  {
   "cell_type": "code",
   "execution_count": 27,
   "id": "52887a97",
   "metadata": {},
   "outputs": [
    {
     "data": {
      "text/plain": [
       "['Pakistan',\n",
       " 'India',\n",
       " 'Bangladesh',\n",
       " 'Iran',\n",
       " 'Afghanistan',\n",
       " 'Turkyie',\n",
       " 'Turkyie']"
      ]
     },
     "execution_count": 27,
     "metadata": {},
     "output_type": "execute_result"
    }
   ],
   "source": [
    "country"
   ]
  },
  {
   "cell_type": "code",
   "execution_count": 28,
   "id": "4892de1b",
   "metadata": {},
   "outputs": [
    {
     "data": {
      "text/plain": [
       "'Turkyie'"
      ]
     },
     "execution_count": 28,
     "metadata": {},
     "output_type": "execute_result"
    }
   ],
   "source": [
    "country.pop()"
   ]
  },
  {
   "cell_type": "code",
   "execution_count": 29,
   "id": "b9f3022e",
   "metadata": {},
   "outputs": [],
   "source": [
    "Afghan=country.pop()"
   ]
  },
  {
   "cell_type": "code",
   "execution_count": 30,
   "id": "ea6a4c3d",
   "metadata": {},
   "outputs": [
    {
     "data": {
      "text/plain": [
       "'Turkyie'"
      ]
     },
     "execution_count": 30,
     "metadata": {},
     "output_type": "execute_result"
    }
   ],
   "source": [
    "Afghan"
   ]
  },
  {
   "cell_type": "code",
   "execution_count": 31,
   "id": "945248b1",
   "metadata": {},
   "outputs": [
    {
     "data": {
      "text/plain": [
       "'Afghanistan'"
      ]
     },
     "execution_count": 31,
     "metadata": {},
     "output_type": "execute_result"
    }
   ],
   "source": [
    "country.pop()"
   ]
  },
  {
   "cell_type": "code",
   "execution_count": 32,
   "id": "21554c8c",
   "metadata": {},
   "outputs": [
    {
     "data": {
      "text/plain": [
       "['Pakistan', 'India', 'Bangladesh', 'Iran']"
      ]
     },
     "execution_count": 32,
     "metadata": {},
     "output_type": "execute_result"
    }
   ],
   "source": [
    "country"
   ]
  },
  {
   "cell_type": "code",
   "execution_count": 33,
   "id": "b36d44f3",
   "metadata": {},
   "outputs": [],
   "source": [
    "Iranian=country.pop(2)"
   ]
  },
  {
   "cell_type": "code",
   "execution_count": 34,
   "id": "0907eff4",
   "metadata": {},
   "outputs": [
    {
     "data": {
      "text/plain": [
       "'Bangladesh'"
      ]
     },
     "execution_count": 34,
     "metadata": {},
     "output_type": "execute_result"
    }
   ],
   "source": [
    "Iranian"
   ]
  },
  {
   "cell_type": "code",
   "execution_count": 35,
   "id": "ad67bc30",
   "metadata": {},
   "outputs": [
    {
     "data": {
      "text/plain": [
       "['Pakistan', 'India', 'Iran']"
      ]
     },
     "execution_count": 35,
     "metadata": {},
     "output_type": "execute_result"
    }
   ],
   "source": [
    "country"
   ]
  },
  {
   "cell_type": "markdown",
   "id": "455692fa",
   "metadata": {},
   "source": [
    "# clear function .clear()"
   ]
  },
  {
   "cell_type": "code",
   "execution_count": 36,
   "id": "7d95ede0",
   "metadata": {},
   "outputs": [
    {
     "data": {
      "text/plain": [
       "['Pakistan', 'India', 'Iran']"
      ]
     },
     "execution_count": 36,
     "metadata": {},
     "output_type": "execute_result"
    }
   ],
   "source": [
    "country"
   ]
  },
  {
   "cell_type": "code",
   "execution_count": 37,
   "id": "233fdd3c",
   "metadata": {},
   "outputs": [],
   "source": [
    "country.clear()"
   ]
  },
  {
   "cell_type": "code",
   "execution_count": 38,
   "id": "c34cea2b",
   "metadata": {},
   "outputs": [
    {
     "data": {
      "text/plain": [
       "[]"
      ]
     },
     "execution_count": 38,
     "metadata": {},
     "output_type": "execute_result"
    }
   ],
   "source": [
    "country"
   ]
  },
  {
   "cell_type": "markdown",
   "id": "12df2b06",
   "metadata": {},
   "source": [
    "# Copying a list"
   ]
  },
  {
   "cell_type": "markdown",
   "id": "59e5544e",
   "metadata": {},
   "source": [
    "    -direct assignment>>>blist=alist 'in this situation we can not change variable's value specifically and direct assignment does not give seperate copy'\n",
    "    -.copy() function 'in this situation we can change variable's value specifically and .copy() function gives seperate copy'\n",
    "    -[:]"
   ]
  },
  {
   "cell_type": "markdown",
   "id": "0452ab64",
   "metadata": {},
   "source": [
    "                    direct assignment"
   ]
  },
  {
   "cell_type": "code",
   "execution_count": 39,
   "id": "298ccda9",
   "metadata": {},
   "outputs": [],
   "source": [
    "alist=[2,3,4,8,9]"
   ]
  },
  {
   "cell_type": "code",
   "execution_count": 40,
   "id": "4a305e4b",
   "metadata": {},
   "outputs": [],
   "source": [
    "blist=alist"
   ]
  },
  {
   "cell_type": "code",
   "execution_count": 41,
   "id": "b14f7f68",
   "metadata": {},
   "outputs": [
    {
     "data": {
      "text/plain": [
       "[2, 3, 4, 8, 9]"
      ]
     },
     "execution_count": 41,
     "metadata": {},
     "output_type": "execute_result"
    }
   ],
   "source": [
    "alist"
   ]
  },
  {
   "cell_type": "code",
   "execution_count": 42,
   "id": "f45b48b6",
   "metadata": {},
   "outputs": [
    {
     "data": {
      "text/plain": [
       "[2, 3, 4, 8, 9]"
      ]
     },
     "execution_count": 42,
     "metadata": {},
     "output_type": "execute_result"
    }
   ],
   "source": [
    "blist"
   ]
  },
  {
   "cell_type": "code",
   "execution_count": 43,
   "id": "3a0f34be",
   "metadata": {},
   "outputs": [],
   "source": [
    "alist[0]=8"
   ]
  },
  {
   "cell_type": "code",
   "execution_count": 44,
   "id": "97db2174",
   "metadata": {},
   "outputs": [
    {
     "data": {
      "text/plain": [
       "[8, 3, 4, 8, 9]"
      ]
     },
     "execution_count": 44,
     "metadata": {},
     "output_type": "execute_result"
    }
   ],
   "source": [
    "alist"
   ]
  },
  {
   "cell_type": "code",
   "execution_count": 45,
   "id": "c1b0b318",
   "metadata": {},
   "outputs": [
    {
     "data": {
      "text/plain": [
       "[8, 3, 4, 8, 9]"
      ]
     },
     "execution_count": 45,
     "metadata": {},
     "output_type": "execute_result"
    }
   ],
   "source": [
    "blist"
   ]
  },
  {
   "cell_type": "markdown",
   "id": "8a0ee9e3",
   "metadata": {},
   "source": [
    "                    .copy()"
   ]
  },
  {
   "cell_type": "code",
   "execution_count": 46,
   "id": "5e6ff3b4",
   "metadata": {},
   "outputs": [],
   "source": [
    "clist=['lamborghini','Audi','Mercedes','Supra']"
   ]
  },
  {
   "cell_type": "code",
   "execution_count": 47,
   "id": "054685f6",
   "metadata": {},
   "outputs": [],
   "source": [
    "dlist=clist.copy()"
   ]
  },
  {
   "cell_type": "code",
   "execution_count": 48,
   "id": "63846463",
   "metadata": {},
   "outputs": [
    {
     "data": {
      "text/plain": [
       "['lamborghini', 'Audi', 'Mercedes', 'Supra']"
      ]
     },
     "execution_count": 48,
     "metadata": {},
     "output_type": "execute_result"
    }
   ],
   "source": [
    "dlist"
   ]
  },
  {
   "cell_type": "code",
   "execution_count": 49,
   "id": "09a09770",
   "metadata": {},
   "outputs": [],
   "source": [
    "clist[0]='Civic'"
   ]
  },
  {
   "cell_type": "code",
   "execution_count": 50,
   "id": "853f2159",
   "metadata": {},
   "outputs": [
    {
     "data": {
      "text/plain": [
       "['Civic', 'Audi', 'Mercedes', 'Supra']"
      ]
     },
     "execution_count": 50,
     "metadata": {},
     "output_type": "execute_result"
    }
   ],
   "source": [
    "clist"
   ]
  },
  {
   "cell_type": "code",
   "execution_count": 51,
   "id": "93c7ee7b",
   "metadata": {},
   "outputs": [
    {
     "data": {
      "text/plain": [
       "['lamborghini', 'Audi', 'Mercedes', 'Supra']"
      ]
     },
     "execution_count": 51,
     "metadata": {},
     "output_type": "execute_result"
    }
   ],
   "source": [
    "dlist"
   ]
  },
  {
   "cell_type": "markdown",
   "id": "29ecb7bb",
   "metadata": {},
   "source": [
    "                    .count()"
   ]
  },
  {
   "cell_type": "code",
   "execution_count": 52,
   "id": "e84c84a6",
   "metadata": {},
   "outputs": [
    {
     "data": {
      "text/plain": [
       "['Civic', 'Audi', 'Mercedes', 'Supra']"
      ]
     },
     "execution_count": 52,
     "metadata": {},
     "output_type": "execute_result"
    }
   ],
   "source": [
    "clist"
   ]
  },
  {
   "cell_type": "code",
   "execution_count": 53,
   "id": "d604a013",
   "metadata": {},
   "outputs": [],
   "source": [
    "clist.insert(0,'lamborghini')"
   ]
  },
  {
   "cell_type": "code",
   "execution_count": 54,
   "id": "537f2c74",
   "metadata": {},
   "outputs": [
    {
     "data": {
      "text/plain": [
       "['lamborghini', 'Civic', 'Audi', 'Mercedes', 'Supra']"
      ]
     },
     "execution_count": 54,
     "metadata": {},
     "output_type": "execute_result"
    }
   ],
   "source": [
    "clist"
   ]
  },
  {
   "cell_type": "code",
   "execution_count": 55,
   "id": "7ba75ecd",
   "metadata": {},
   "outputs": [],
   "source": [
    "clist.append('lamborghini')"
   ]
  },
  {
   "cell_type": "code",
   "execution_count": 56,
   "id": "61581cb9",
   "metadata": {},
   "outputs": [
    {
     "data": {
      "text/plain": [
       "['lamborghini', 'Civic', 'Audi', 'Mercedes', 'Supra', 'lamborghini']"
      ]
     },
     "execution_count": 56,
     "metadata": {},
     "output_type": "execute_result"
    }
   ],
   "source": [
    "clist"
   ]
  },
  {
   "cell_type": "code",
   "execution_count": 57,
   "id": "d3cb2aa9",
   "metadata": {},
   "outputs": [
    {
     "data": {
      "text/plain": [
       "2"
      ]
     },
     "execution_count": 57,
     "metadata": {},
     "output_type": "execute_result"
    }
   ],
   "source": [
    "clist.count('lamborghini')"
   ]
  },
  {
   "cell_type": "markdown",
   "id": "38c658d0",
   "metadata": {},
   "source": [
    "                    .index()"
   ]
  },
  {
   "cell_type": "code",
   "execution_count": 58,
   "id": "90f747ef",
   "metadata": {},
   "outputs": [
    {
     "data": {
      "text/plain": [
       "0"
      ]
     },
     "execution_count": 58,
     "metadata": {},
     "output_type": "execute_result"
    }
   ],
   "source": [
    "clist.index('lamborghini')"
   ]
  },
  {
   "cell_type": "code",
   "execution_count": 59,
   "id": "edfafe97",
   "metadata": {},
   "outputs": [
    {
     "data": {
      "text/plain": [
       "5"
      ]
     },
     "execution_count": 59,
     "metadata": {},
     "output_type": "execute_result"
    }
   ],
   "source": [
    "clist.index('lamborghini',1)"
   ]
  },
  {
   "cell_type": "markdown",
   "id": "2a652f49",
   "metadata": {},
   "source": [
    "                    .reverse()"
   ]
  },
  {
   "cell_type": "code",
   "execution_count": 60,
   "id": "3e8e16a6",
   "metadata": {},
   "outputs": [],
   "source": [
    "clist.reverse()"
   ]
  },
  {
   "cell_type": "code",
   "execution_count": 61,
   "id": "d41847de",
   "metadata": {},
   "outputs": [
    {
     "data": {
      "text/plain": [
       "['lamborghini', 'Supra', 'Mercedes', 'Audi', 'Civic', 'lamborghini']"
      ]
     },
     "execution_count": 61,
     "metadata": {},
     "output_type": "execute_result"
    }
   ],
   "source": [
    "clist"
   ]
  },
  {
   "cell_type": "code",
   "execution_count": 62,
   "id": "1eb59d69",
   "metadata": {},
   "outputs": [],
   "source": [
    "clist.reverse()"
   ]
  },
  {
   "cell_type": "code",
   "execution_count": 63,
   "id": "21559b51",
   "metadata": {},
   "outputs": [
    {
     "data": {
      "text/plain": [
       "['lamborghini', 'Civic', 'Audi', 'Mercedes', 'Supra', 'lamborghini']"
      ]
     },
     "execution_count": 63,
     "metadata": {},
     "output_type": "execute_result"
    }
   ],
   "source": [
    "clist"
   ]
  },
  {
   "cell_type": "markdown",
   "id": "95a4cdac",
   "metadata": {},
   "source": [
    "                    .sort()"
   ]
  },
  {
   "cell_type": "code",
   "execution_count": 64,
   "id": "6264aeea",
   "metadata": {},
   "outputs": [],
   "source": [
    "intlist=[3,5,7,2,1,3]"
   ]
  },
  {
   "cell_type": "code",
   "execution_count": 65,
   "id": "d409a26d",
   "metadata": {},
   "outputs": [],
   "source": [
    "intlist.sort()"
   ]
  },
  {
   "cell_type": "code",
   "execution_count": 66,
   "id": "7a0fe33e",
   "metadata": {},
   "outputs": [
    {
     "data": {
      "text/plain": [
       "[1, 2, 3, 3, 5, 7]"
      ]
     },
     "execution_count": 66,
     "metadata": {},
     "output_type": "execute_result"
    }
   ],
   "source": [
    "intlist"
   ]
  },
  {
   "cell_type": "code",
   "execution_count": 67,
   "id": "a716a30b",
   "metadata": {},
   "outputs": [],
   "source": [
    "intlist.sort(reverse=True)"
   ]
  },
  {
   "cell_type": "code",
   "execution_count": 68,
   "id": "0ffb13b2",
   "metadata": {},
   "outputs": [
    {
     "data": {
      "text/plain": [
       "[7, 5, 3, 3, 2, 1]"
      ]
     },
     "execution_count": 68,
     "metadata": {},
     "output_type": "execute_result"
    }
   ],
   "source": [
    "intlist"
   ]
  },
  {
   "cell_type": "code",
   "execution_count": 69,
   "id": "29f1b67a",
   "metadata": {},
   "outputs": [],
   "source": [
    "intlist.reverse()"
   ]
  },
  {
   "cell_type": "code",
   "execution_count": 70,
   "id": "1dfa2295",
   "metadata": {},
   "outputs": [
    {
     "data": {
      "text/plain": [
       "[1, 2, 3, 3, 5, 7]"
      ]
     },
     "execution_count": 70,
     "metadata": {},
     "output_type": "execute_result"
    }
   ],
   "source": [
    "intlist"
   ]
  },
  {
   "cell_type": "code",
   "execution_count": 71,
   "id": "2c3bf136",
   "metadata": {},
   "outputs": [],
   "source": [
    "a=['B','A','C']"
   ]
  },
  {
   "cell_type": "code",
   "execution_count": 72,
   "id": "27df1487",
   "metadata": {},
   "outputs": [],
   "source": [
    "a.sort()"
   ]
  },
  {
   "cell_type": "code",
   "execution_count": 73,
   "id": "b5baf817",
   "metadata": {},
   "outputs": [
    {
     "data": {
      "text/plain": [
       "['A', 'B', 'C']"
      ]
     },
     "execution_count": 73,
     "metadata": {},
     "output_type": "execute_result"
    }
   ],
   "source": [
    "a"
   ]
  },
  {
   "cell_type": "code",
   "execution_count": 74,
   "id": "ce5b0195",
   "metadata": {},
   "outputs": [
    {
     "data": {
      "text/plain": [
       "65"
      ]
     },
     "execution_count": 74,
     "metadata": {},
     "output_type": "execute_result"
    }
   ],
   "source": [
    "ord('A')"
   ]
  },
  {
   "cell_type": "code",
   "execution_count": 75,
   "id": "db08ef2a",
   "metadata": {},
   "outputs": [
    {
     "data": {
      "text/plain": [
       "66"
      ]
     },
     "execution_count": 75,
     "metadata": {},
     "output_type": "execute_result"
    }
   ],
   "source": [
    "ord('B')"
   ]
  },
  {
   "cell_type": "code",
   "execution_count": 76,
   "id": "3dabae52",
   "metadata": {},
   "outputs": [
    {
     "data": {
      "text/plain": [
       "67"
      ]
     },
     "execution_count": 76,
     "metadata": {},
     "output_type": "execute_result"
    }
   ],
   "source": [
    "ord('C')"
   ]
  },
  {
   "cell_type": "code",
   "execution_count": 77,
   "id": "2597e9e0",
   "metadata": {},
   "outputs": [
    {
     "data": {
      "text/plain": [
       "'\\x11'"
      ]
     },
     "execution_count": 77,
     "metadata": {},
     "output_type": "execute_result"
    }
   ],
   "source": [
    "chr(17)"
   ]
  },
  {
   "cell_type": "code",
   "execution_count": 78,
   "id": "687d0531",
   "metadata": {},
   "outputs": [
    {
     "data": {
      "text/plain": [
       "'\\x05'"
      ]
     },
     "execution_count": 78,
     "metadata": {},
     "output_type": "execute_result"
    }
   ],
   "source": [
    "chr(5)"
   ]
  },
  {
   "cell_type": "markdown",
   "id": "be547a2c",
   "metadata": {},
   "source": [
    "# Append/Extend"
   ]
  },
  {
   "cell_type": "code",
   "execution_count": 79,
   "id": "70e8e11e",
   "metadata": {},
   "outputs": [],
   "source": [
    "listA=['PIAIC',3,5.5,'p']"
   ]
  },
  {
   "cell_type": "code",
   "execution_count": 80,
   "id": "2d69cf42",
   "metadata": {},
   "outputs": [],
   "source": [
    "listA.append([3,5,6])"
   ]
  },
  {
   "cell_type": "code",
   "execution_count": 81,
   "id": "bb14199d",
   "metadata": {},
   "outputs": [
    {
     "data": {
      "text/plain": [
       "['PIAIC', 3, 5.5, 'p', [3, 5, 6]]"
      ]
     },
     "execution_count": 81,
     "metadata": {},
     "output_type": "execute_result"
    }
   ],
   "source": [
    "listA\n"
   ]
  },
  {
   "cell_type": "code",
   "execution_count": 82,
   "id": "7c30990f",
   "metadata": {},
   "outputs": [
    {
     "data": {
      "text/plain": [
       "['PIAIC', 3, 5.5, 'p', [3, 5, 6], 3, 5, 6]"
      ]
     },
     "execution_count": 82,
     "metadata": {},
     "output_type": "execute_result"
    }
   ],
   "source": [
    "listA.extend([3,5,6])\n",
    "listA"
   ]
  },
  {
   "cell_type": "code",
   "execution_count": 83,
   "id": "4315f1c8",
   "metadata": {},
   "outputs": [
    {
     "data": {
      "text/plain": [
       "['PIAIC', 3, 5.5, 'p', [3, 5, 6], 3, 5, 6]"
      ]
     },
     "execution_count": 83,
     "metadata": {},
     "output_type": "execute_result"
    }
   ],
   "source": [
    "listA"
   ]
  },
  {
   "cell_type": "code",
   "execution_count": 84,
   "id": "432c73c6",
   "metadata": {},
   "outputs": [
    {
     "data": {
      "text/plain": [
       "['PIAIC', 3, 5.5, 'p', [3, 5, 6], 3, 5, 6]"
      ]
     },
     "execution_count": 84,
     "metadata": {},
     "output_type": "execute_result"
    }
   ],
   "source": [
    "listA"
   ]
  },
  {
   "cell_type": "code",
   "execution_count": 85,
   "id": "bb7a6420",
   "metadata": {},
   "outputs": [],
   "source": [
    "listA.extend([3,5,6])"
   ]
  },
  {
   "cell_type": "code",
   "execution_count": 86,
   "id": "bf680ff8",
   "metadata": {},
   "outputs": [
    {
     "data": {
      "text/plain": [
       "['PIAIC', 3, 5.5, 'p', [3, 5, 6], 3, 5, 6, 3, 5, 6]"
      ]
     },
     "execution_count": 86,
     "metadata": {},
     "output_type": "execute_result"
    }
   ],
   "source": [
    "listA"
   ]
  },
  {
   "cell_type": "code",
   "execution_count": 87,
   "id": "a8510c91",
   "metadata": {},
   "outputs": [],
   "source": [
    "listA.remove(5)"
   ]
  },
  {
   "cell_type": "code",
   "execution_count": 88,
   "id": "c95b67a2",
   "metadata": {},
   "outputs": [
    {
     "data": {
      "text/plain": [
       "['PIAIC', 3, 5.5, 'p', [3, 5, 6], 3, 6, 3, 5, 6]"
      ]
     },
     "execution_count": 88,
     "metadata": {},
     "output_type": "execute_result"
    }
   ],
   "source": [
    "listA"
   ]
  },
  {
   "cell_type": "code",
   "execution_count": 89,
   "id": "50266bc3",
   "metadata": {},
   "outputs": [],
   "source": [
    "listA.remove(3)"
   ]
  },
  {
   "cell_type": "code",
   "execution_count": 90,
   "id": "77b5a181",
   "metadata": {},
   "outputs": [
    {
     "data": {
      "text/plain": [
       "['PIAIC', 5.5, 'p', [3, 5, 6], 3, 6, 3, 5, 6]"
      ]
     },
     "execution_count": 90,
     "metadata": {},
     "output_type": "execute_result"
    }
   ],
   "source": [
    "listA"
   ]
  },
  {
   "cell_type": "code",
   "execution_count": 91,
   "id": "914c7c81",
   "metadata": {},
   "outputs": [
    {
     "data": {
      "text/plain": [
       "['PIAIC', 5.5, 'p', [3, 5, 6], 3, 6, 3, 5, 6]"
      ]
     },
     "execution_count": 91,
     "metadata": {},
     "output_type": "execute_result"
    }
   ],
   "source": [
    "listA"
   ]
  },
  {
   "cell_type": "code",
   "execution_count": 92,
   "id": "9edcd1c2",
   "metadata": {},
   "outputs": [],
   "source": [
    "listA.remove(3)"
   ]
  },
  {
   "cell_type": "code",
   "execution_count": 93,
   "id": "6368c404",
   "metadata": {},
   "outputs": [
    {
     "data": {
      "text/plain": [
       "['PIAIC', 5.5, 'p', [3, 5, 6], 6, 3, 5, 6]"
      ]
     },
     "execution_count": 93,
     "metadata": {},
     "output_type": "execute_result"
    }
   ],
   "source": [
    "listA"
   ]
  },
  {
   "cell_type": "code",
   "execution_count": 94,
   "id": "c0d7a766",
   "metadata": {},
   "outputs": [],
   "source": [
    "listA.extend([3,5,6])"
   ]
  },
  {
   "cell_type": "code",
   "execution_count": 95,
   "id": "c1019272",
   "metadata": {},
   "outputs": [
    {
     "data": {
      "text/plain": [
       "['PIAIC', 5.5, 'p', [3, 5, 6], 6, 3, 5, 6, 3, 5, 6]"
      ]
     },
     "execution_count": 95,
     "metadata": {},
     "output_type": "execute_result"
    }
   ],
   "source": [
    "listA"
   ]
  },
  {
   "cell_type": "code",
   "execution_count": 96,
   "id": "fe466451",
   "metadata": {},
   "outputs": [],
   "source": [
    "listA.append('Pakistan')"
   ]
  },
  {
   "cell_type": "code",
   "execution_count": 97,
   "id": "fbd41455",
   "metadata": {},
   "outputs": [
    {
     "data": {
      "text/plain": [
       "['PIAIC', 5.5, 'p', [3, 5, 6], 6, 3, 5, 6, 3, 5, 6, 'Pakistan']"
      ]
     },
     "execution_count": 97,
     "metadata": {},
     "output_type": "execute_result"
    }
   ],
   "source": [
    "listA"
   ]
  },
  {
   "cell_type": "code",
   "execution_count": 98,
   "id": "603112c4",
   "metadata": {},
   "outputs": [],
   "source": [
    "listA.extend('Pakistan')"
   ]
  },
  {
   "cell_type": "code",
   "execution_count": 99,
   "id": "0ad81977",
   "metadata": {},
   "outputs": [
    {
     "data": {
      "text/plain": [
       "['PIAIC',\n",
       " 5.5,\n",
       " 'p',\n",
       " [3, 5, 6],\n",
       " 6,\n",
       " 3,\n",
       " 5,\n",
       " 6,\n",
       " 3,\n",
       " 5,\n",
       " 6,\n",
       " 'Pakistan',\n",
       " 'P',\n",
       " 'a',\n",
       " 'k',\n",
       " 'i',\n",
       " 's',\n",
       " 't',\n",
       " 'a',\n",
       " 'n']"
      ]
     },
     "execution_count": 99,
     "metadata": {},
     "output_type": "execute_result"
    }
   ],
   "source": [
    "listA"
   ]
  },
  {
   "cell_type": "code",
   "execution_count": 100,
   "id": "45abac5d",
   "metadata": {},
   "outputs": [],
   "source": [
    "listA.extend('555555')"
   ]
  },
  {
   "cell_type": "code",
   "execution_count": 101,
   "id": "aecb4e86",
   "metadata": {},
   "outputs": [
    {
     "data": {
      "text/plain": [
       "['PIAIC',\n",
       " 5.5,\n",
       " 'p',\n",
       " [3, 5, 6],\n",
       " 6,\n",
       " 3,\n",
       " 5,\n",
       " 6,\n",
       " 3,\n",
       " 5,\n",
       " 6,\n",
       " 'Pakistan',\n",
       " 'P',\n",
       " 'a',\n",
       " 'k',\n",
       " 'i',\n",
       " 's',\n",
       " 't',\n",
       " 'a',\n",
       " 'n',\n",
       " '5',\n",
       " '5',\n",
       " '5',\n",
       " '5',\n",
       " '5',\n",
       " '5']"
      ]
     },
     "execution_count": 101,
     "metadata": {},
     "output_type": "execute_result"
    }
   ],
   "source": [
    "listA"
   ]
  },
  {
   "cell_type": "code",
   "execution_count": 102,
   "id": "6530d9fc",
   "metadata": {},
   "outputs": [],
   "source": [
    "listA.append('5555')"
   ]
  },
  {
   "cell_type": "code",
   "execution_count": 103,
   "id": "c595136a",
   "metadata": {
    "scrolled": true
   },
   "outputs": [
    {
     "data": {
      "text/plain": [
       "['PIAIC',\n",
       " 5.5,\n",
       " 'p',\n",
       " [3, 5, 6],\n",
       " 6,\n",
       " 3,\n",
       " 5,\n",
       " 6,\n",
       " 3,\n",
       " 5,\n",
       " 6,\n",
       " 'Pakistan',\n",
       " 'P',\n",
       " 'a',\n",
       " 'k',\n",
       " 'i',\n",
       " 's',\n",
       " 't',\n",
       " 'a',\n",
       " 'n',\n",
       " '5',\n",
       " '5',\n",
       " '5',\n",
       " '5',\n",
       " '5',\n",
       " '5',\n",
       " '5555']"
      ]
     },
     "execution_count": 103,
     "metadata": {},
     "output_type": "execute_result"
    }
   ],
   "source": [
    "listA"
   ]
  },
  {
   "cell_type": "markdown",
   "id": "31a26da4",
   "metadata": {},
   "source": [
    "                    slicing\n",
    "                    [start:end]"
   ]
  },
  {
   "cell_type": "code",
   "execution_count": 104,
   "id": "56cca2a7",
   "metadata": {},
   "outputs": [
    {
     "data": {
      "text/plain": [
       "[1, 2, 3, 3, 5, 7]"
      ]
     },
     "execution_count": 104,
     "metadata": {},
     "output_type": "execute_result"
    }
   ],
   "source": [
    "intlist"
   ]
  },
  {
   "cell_type": "code",
   "execution_count": 105,
   "id": "d28108a8",
   "metadata": {},
   "outputs": [],
   "source": [
    "sliced=intlist[0:6]"
   ]
  },
  {
   "cell_type": "code",
   "execution_count": 106,
   "id": "568de62f",
   "metadata": {},
   "outputs": [
    {
     "data": {
      "text/plain": [
       "[1, 2, 3, 3, 5, 7]"
      ]
     },
     "execution_count": 106,
     "metadata": {},
     "output_type": "execute_result"
    }
   ],
   "source": [
    "sliced"
   ]
  },
  {
   "cell_type": "code",
   "execution_count": 107,
   "id": "046d76bd",
   "metadata": {},
   "outputs": [
    {
     "data": {
      "text/plain": [
       "[1, 2, 3, 3, 5]"
      ]
     },
     "execution_count": 107,
     "metadata": {},
     "output_type": "execute_result"
    }
   ],
   "source": [
    "intlist[0:5]"
   ]
  },
  {
   "cell_type": "code",
   "execution_count": 108,
   "id": "952a98bb",
   "metadata": {},
   "outputs": [],
   "source": [
    "sliced=intlist[0:5]"
   ]
  },
  {
   "cell_type": "code",
   "execution_count": 109,
   "id": "c5fe8bba",
   "metadata": {},
   "outputs": [
    {
     "data": {
      "text/plain": [
       "[1, 2, 3, 3, 5]"
      ]
     },
     "execution_count": 109,
     "metadata": {},
     "output_type": "execute_result"
    }
   ],
   "source": [
    "sliced"
   ]
  },
  {
   "cell_type": "code",
   "execution_count": 110,
   "id": "cc820f10",
   "metadata": {},
   "outputs": [],
   "source": [
    "sliced=intlist[0:6:1]"
   ]
  },
  {
   "cell_type": "code",
   "execution_count": 111,
   "id": "6f169815",
   "metadata": {},
   "outputs": [
    {
     "data": {
      "text/plain": [
       "[1, 2, 3, 3, 5, 7]"
      ]
     },
     "execution_count": 111,
     "metadata": {},
     "output_type": "execute_result"
    }
   ],
   "source": [
    "sliced"
   ]
  },
  {
   "cell_type": "code",
   "execution_count": 112,
   "id": "30bc0042",
   "metadata": {},
   "outputs": [],
   "source": [
    "sliced=intlist[0:6:2]"
   ]
  },
  {
   "cell_type": "code",
   "execution_count": 113,
   "id": "e906eceb",
   "metadata": {},
   "outputs": [
    {
     "data": {
      "text/plain": [
       "[1, 3, 5]"
      ]
     },
     "execution_count": 113,
     "metadata": {},
     "output_type": "execute_result"
    }
   ],
   "source": [
    "sliced"
   ]
  },
  {
   "cell_type": "code",
   "execution_count": 114,
   "id": "72c89d8e",
   "metadata": {},
   "outputs": [],
   "source": [
    "sliced=intlist[:]"
   ]
  },
  {
   "cell_type": "code",
   "execution_count": 115,
   "id": "7e179e48",
   "metadata": {},
   "outputs": [
    {
     "data": {
      "text/plain": [
       "[1, 2, 3, 3, 5, 7]"
      ]
     },
     "execution_count": 115,
     "metadata": {},
     "output_type": "execute_result"
    }
   ],
   "source": [
    "sliced"
   ]
  },
  {
   "cell_type": "code",
   "execution_count": 116,
   "id": "8a362d65",
   "metadata": {},
   "outputs": [],
   "source": [
    "sliced=intlist[:6]"
   ]
  },
  {
   "cell_type": "code",
   "execution_count": 117,
   "id": "707531df",
   "metadata": {},
   "outputs": [
    {
     "data": {
      "text/plain": [
       "[1, 2, 3, 3, 5, 7]"
      ]
     },
     "execution_count": 117,
     "metadata": {},
     "output_type": "execute_result"
    }
   ],
   "source": [
    "sliced"
   ]
  },
  {
   "cell_type": "markdown",
   "id": "dbc95ff5",
   "metadata": {},
   "source": [
    "# Tuple"
   ]
  },
  {
   "cell_type": "markdown",
   "id": "595e4340",
   "metadata": {},
   "source": [
    "                    -In tuple we can only retrieve or access the value of tuple"
   ]
  },
  {
   "cell_type": "code",
   "execution_count": 118,
   "id": "9efa354d",
   "metadata": {},
   "outputs": [],
   "source": [
    "tupp=(2,5,8,0)"
   ]
  },
  {
   "cell_type": "code",
   "execution_count": 7,
   "id": "a5e2498e",
   "metadata": {},
   "outputs": [
    {
     "data": {
      "text/plain": [
       "('Talha', 1, 2)"
      ]
     },
     "execution_count": 7,
     "metadata": {},
     "output_type": "execute_result"
    }
   ],
   "source": [
    "tuple=('Talha',1,2)\n",
    "tuple"
   ]
  },
  {
   "cell_type": "code",
   "execution_count": 119,
   "id": "cfdcbc71",
   "metadata": {},
   "outputs": [
    {
     "data": {
      "text/plain": [
       "2"
      ]
     },
     "execution_count": 119,
     "metadata": {},
     "output_type": "execute_result"
    }
   ],
   "source": [
    "tupp[0]"
   ]
  },
  {
   "cell_type": "code",
   "execution_count": 120,
   "id": "45b1fb7f",
   "metadata": {},
   "outputs": [
    {
     "data": {
      "text/plain": [
       "0"
      ]
     },
     "execution_count": 120,
     "metadata": {},
     "output_type": "execute_result"
    }
   ],
   "source": [
    "tupp[3]"
   ]
  },
  {
   "cell_type": "markdown",
   "id": "fa6dfd10",
   "metadata": {},
   "source": [
    "# SET"
   ]
  },
  {
   "cell_type": "markdown",
   "id": "d345c0e3",
   "metadata": {},
   "source": [
    "                    -In Set there is no repeatation of the value,it gives unique value"
   ]
  },
  {
   "cell_type": "raw",
   "id": "88700768",
   "metadata": {},
   "source": [
    "a={2,3,4,5,6,87,2,3}"
   ]
  },
  {
   "cell_type": "code",
   "execution_count": 121,
   "id": "0a24e0d9",
   "metadata": {},
   "outputs": [
    {
     "data": {
      "text/plain": [
       "['A', 'B', 'C']"
      ]
     },
     "execution_count": 121,
     "metadata": {},
     "output_type": "execute_result"
    }
   ],
   "source": [
    "a"
   ]
  },
  {
   "cell_type": "code",
   "execution_count": 122,
   "id": "d29e6468",
   "metadata": {},
   "outputs": [],
   "source": [
    "listg=[3,5,6,3,2,6,8,3,3,3,3]"
   ]
  },
  {
   "cell_type": "code",
   "execution_count": 123,
   "id": "8e598c5c",
   "metadata": {},
   "outputs": [
    {
     "data": {
      "text/plain": [
       "{2, 3, 5, 6, 8}"
      ]
     },
     "execution_count": 123,
     "metadata": {},
     "output_type": "execute_result"
    }
   ],
   "source": [
    "set(listg)"
   ]
  },
  {
   "cell_type": "code",
   "execution_count": 124,
   "id": "cf3fa752",
   "metadata": {},
   "outputs": [
    {
     "data": {
      "text/plain": [
       "[2, 3, 5, 6, 8]"
      ]
     },
     "execution_count": 124,
     "metadata": {},
     "output_type": "execute_result"
    }
   ],
   "source": [
    "list(set(listg))"
   ]
  },
  {
   "cell_type": "code",
   "execution_count": 125,
   "id": "6eda2170",
   "metadata": {},
   "outputs": [],
   "source": [
    "listr=[3,3,3,4,5,6,]"
   ]
  },
  {
   "cell_type": "code",
   "execution_count": 5,
   "id": "577dac68",
   "metadata": {},
   "outputs": [
    {
     "data": {
      "text/plain": [
       "{'1', 2, 3, 4}"
      ]
     },
     "execution_count": 5,
     "metadata": {},
     "output_type": "execute_result"
    }
   ],
   "source": [
    "d={'1',2,3,4}\n",
    "type(d)\n",
    "d"
   ]
  },
  {
   "cell_type": "code",
   "execution_count": 6,
   "id": "2f07dbc6",
   "metadata": {},
   "outputs": [
    {
     "ename": "NameError",
     "evalue": "name 'a' is not defined",
     "output_type": "error",
     "traceback": [
      "\u001b[1;31m---------------------------------------------------------------------------\u001b[0m",
      "\u001b[1;31mNameError\u001b[0m                                 Traceback (most recent call last)",
      "Input \u001b[1;32mIn [6]\u001b[0m, in \u001b[0;36m<cell line: 1>\u001b[1;34m()\u001b[0m\n\u001b[1;32m----> 1\u001b[0m \u001b[43ma\u001b[49m\n",
      "\u001b[1;31mNameError\u001b[0m: name 'a' is not defined"
     ]
    }
   ],
   "source": []
  },
  {
   "cell_type": "code",
   "execution_count": null,
   "id": "d3595fb6",
   "metadata": {},
   "outputs": [],
   "source": []
  }
 ],
 "metadata": {
  "kernelspec": {
   "display_name": "Python 3 (ipykernel)",
   "language": "python",
   "name": "python3"
  },
  "language_info": {
   "codemirror_mode": {
    "name": "ipython",
    "version": 3
   },
   "file_extension": ".py",
   "mimetype": "text/x-python",
   "name": "python",
   "nbconvert_exporter": "python",
   "pygments_lexer": "ipython3",
   "version": "3.9.12"
  }
 },
 "nbformat": 4,
 "nbformat_minor": 5
}
