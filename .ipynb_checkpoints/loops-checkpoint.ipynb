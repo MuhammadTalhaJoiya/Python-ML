{
 "cells": [
  {
   "cell_type": "markdown",
   "id": "e3d0ea2b",
   "metadata": {},
   "source": [
    "# For Loops"
   ]
  },
  {
   "cell_type": "code",
   "execution_count": 1,
   "id": "ed803227",
   "metadata": {},
   "outputs": [
    {
     "name": "stdout",
     "output_type": "stream",
     "text": [
      "Hello world\n",
      "Hello world\n",
      "Hello world\n",
      "Hello world\n",
      "Hello world\n",
      "Hello world\n",
      "Hello world\n",
      "Hello world\n",
      "Hello world\n",
      "Hello world\n"
     ]
    }
   ],
   "source": [
    "for i in range(10):               #[0,1,2,3,4,5,6,7,8,9]\n",
    "    print('Hello world')"
   ]
  },
  {
   "cell_type": "code",
   "execution_count": 2,
   "id": "3398e408",
   "metadata": {},
   "outputs": [
    {
     "name": "stdout",
     "output_type": "stream",
     "text": [
      "0 Hello world\n",
      "1 Hello world\n",
      "2 Hello world\n",
      "3 Hello world\n",
      "4 Hello world\n",
      "5 Hello world\n",
      "6 Hello world\n",
      "7 Hello world\n",
      "8 Hello world\n",
      "9 Hello world\n"
     ]
    }
   ],
   "source": [
    "for i in range(10):\n",
    "    print(i,'Hello world')"
   ]
  },
  {
   "cell_type": "code",
   "execution_count": 3,
   "id": "cc96973f",
   "metadata": {},
   "outputs": [
    {
     "name": "stdout",
     "output_type": "stream",
     "text": [
      "0 Hello World\n",
      "2 Hello World\n",
      "4 Hello World\n",
      "6 Hello World\n",
      "8 Hello World\n"
     ]
    }
   ],
   "source": [
    "for j in range(0,10,2):\n",
    "    print(j,'Hello World')"
   ]
  },
  {
   "cell_type": "code",
   "execution_count": 4,
   "id": "9d55d6d6",
   "metadata": {},
   "outputs": [
    {
     "name": "stdout",
     "output_type": "stream",
     "text": [
      "2 Salam Talha\n",
      "5 Salam Talha\n",
      "8 Salam Talha\n"
     ]
    }
   ],
   "source": [
    "for i in range(2,10,3):\n",
    "    print(i,'Salam Talha')"
   ]
  },
  {
   "cell_type": "code",
   "execution_count": 5,
   "id": "d7ce6dfa",
   "metadata": {},
   "outputs": [
    {
     "name": "stdout",
     "output_type": "stream",
     "text": [
      "10 Salam Talha\n",
      "9 Salam Talha\n",
      "8 Salam Talha\n",
      "7 Salam Talha\n",
      "6 Salam Talha\n",
      "5 Salam Talha\n",
      "4 Salam Talha\n",
      "3 Salam Talha\n"
     ]
    }
   ],
   "source": [
    "for i in range(10,2,-1):\n",
    "    print(i,'Salam Talha')"
   ]
  },
  {
   "cell_type": "code",
   "execution_count": 6,
   "id": "24651036",
   "metadata": {},
   "outputs": [
    {
     "name": "stdout",
     "output_type": "stream",
     "text": [
      "P\n",
      "a\n",
      "k\n",
      "i\n",
      "s\n",
      "t\n",
      "a\n",
      "n\n"
     ]
    }
   ],
   "source": [
    "for i in 'Pakistan':\n",
    "    print(i)"
   ]
  },
  {
   "cell_type": "code",
   "execution_count": 7,
   "id": "973eef70",
   "metadata": {},
   "outputs": [
    {
     "name": "stdout",
     "output_type": "stream",
     "text": [
      "Pakistan\n",
      "India\n",
      "China\n",
      "['Talha', 'Usman']\n"
     ]
    }
   ],
   "source": [
    "for h in ['Pakistan','India','China',['Talha','Usman']]:\n",
    "    print(h)"
   ]
  },
  {
   "cell_type": "code",
   "execution_count": 8,
   "id": "a9f8918f",
   "metadata": {},
   "outputs": [
    {
     "name": "stdout",
     "output_type": "stream",
     "text": [
      "2\n",
      "3\n",
      "3\n",
      "2\n",
      "3\n",
      "2\n"
     ]
    }
   ],
   "source": [
    "for i in '233232':\n",
    "    print(i)"
   ]
  },
  {
   "cell_type": "code",
   "execution_count": 9,
   "id": "725c31dc",
   "metadata": {},
   "outputs": [
    {
     "name": "stdout",
     "output_type": "stream",
     "text": [
      "CIVIC\n",
      "MEHRAN\n",
      "CITY\n"
     ]
    }
   ],
   "source": [
    "for car in ['civic','mehran','city']:\n",
    "    print(car.upper())"
   ]
  },
  {
   "cell_type": "code",
   "execution_count": 10,
   "id": "c002b437",
   "metadata": {},
   "outputs": [
    {
     "data": {
      "text/plain": [
       "'city'"
      ]
     },
     "execution_count": 10,
     "metadata": {},
     "output_type": "execute_result"
    }
   ],
   "source": [
    "car"
   ]
  },
  {
   "cell_type": "code",
   "execution_count": 11,
   "id": "7e21e22c",
   "metadata": {},
   "outputs": [
    {
     "name": "stdout",
     "output_type": "stream",
     "text": [
      "okay\n"
     ]
    }
   ],
   "source": [
    "if car=='city':\n",
    "    print('okay')\n",
    "else:\n",
    "    print('not Okay')"
   ]
  },
  {
   "cell_type": "code",
   "execution_count": 12,
   "id": "c18f0837",
   "metadata": {},
   "outputs": [
    {
     "name": "stdout",
     "output_type": "stream",
     "text": [
      "ISLAMABAD\n",
      "KARACHI\n",
      "LAHORE\n",
      "RAWALPINDI\n"
     ]
    }
   ],
   "source": [
    "city_name=['islamabad','karachi','lahore','rawalpindi']\n",
    "for i in city_name[0::]:\n",
    "    print(i.upper())\n"
   ]
  },
  {
   "cell_type": "code",
   "execution_count": 13,
   "id": "719c118e",
   "metadata": {},
   "outputs": [
    {
     "name": "stdout",
     "output_type": "stream",
     "text": [
      "LAHORE\n",
      "RAWALPINDI\n"
     ]
    }
   ],
   "source": [
    "for i in city_name[-2::]:\n",
    "    print(i.upper())"
   ]
  },
  {
   "cell_type": "code",
   "execution_count": 14,
   "id": "0e342ecf",
   "metadata": {},
   "outputs": [
    {
     "name": "stdout",
     "output_type": "stream",
     "text": [
      "rawalpindi\n",
      "lahore\n",
      "karachi\n",
      "islamabad\n"
     ]
    }
   ],
   "source": [
    "for i in city_name[-1:-5:-1]:\n",
    "    print(i.lower())"
   ]
  },
  {
   "cell_type": "code",
   "execution_count": 15,
   "id": "a69f560a",
   "metadata": {},
   "outputs": [
    {
     "name": "stdout",
     "output_type": "stream",
     "text": [
      "RAWALPINDI\n",
      "LAHORE\n",
      "KARACHI\n"
     ]
    }
   ],
   "source": [
    "for i in city_name[-1:-4:-1]:\n",
    "    print(i.upper())"
   ]
  },
  {
   "cell_type": "code",
   "execution_count": 16,
   "id": "619b52f2",
   "metadata": {},
   "outputs": [
    {
     "name": "stdout",
     "output_type": "stream",
     "text": [
      "lahore\n"
     ]
    }
   ],
   "source": [
    "for i in city_name:\n",
    "    if i[-1]=='e':\n",
    "        print(i)"
   ]
  },
  {
   "cell_type": "code",
   "execution_count": 17,
   "id": "03eb8a0d",
   "metadata": {},
   "outputs": [
    {
     "name": "stdout",
     "output_type": "stream",
     "text": [
      "lahore\n"
     ]
    }
   ],
   "source": [
    "for i in city_name:\n",
    "    if i[-1]=='e':\n",
    "        print(i)"
   ]
  },
  {
   "cell_type": "code",
   "execution_count": 18,
   "id": "31c890a8",
   "metadata": {},
   "outputs": [
    {
     "name": "stdout",
     "output_type": "stream",
     "text": [
      "karachi\n",
      "rawalpindi\n"
     ]
    }
   ],
   "source": [
    "for i in city_name:\n",
    "    if len(i)>6 and i.endswith('i'):\n",
    "        print(i)"
   ]
  },
  {
   "cell_type": "code",
   "execution_count": 19,
   "id": "870da420",
   "metadata": {},
   "outputs": [
    {
     "name": "stdout",
     "output_type": "stream",
     "text": [
      "karachi\n",
      "rawalpindi\n"
     ]
    }
   ],
   "source": [
    "for i in city_name:\n",
    "    if len(i)>6 and i[-1]=='i':\n",
    "        print(i)"
   ]
  },
  {
   "cell_type": "code",
   "execution_count": 20,
   "id": "d7631ff1",
   "metadata": {},
   "outputs": [
    {
     "name": "stdout",
     "output_type": "stream",
     "text": [
      "islamabad\n",
      "karachi\n",
      "lahore\n",
      "rawalpindi\n"
     ]
    }
   ],
   "source": [
    "for i in city_name:\n",
    "    if len(i)>4 or i[-1]=='':\n",
    "        print(i)"
   ]
  },
  {
   "cell_type": "markdown",
   "id": "681a5415",
   "metadata": {},
   "source": [
    "task:we need to make a list of friend to invite in a party.take freinds name as input and add in guest list"
   ]
  },
  {
   "cell_type": "code",
   "execution_count": 21,
   "id": "3a693573",
   "metadata": {},
   "outputs": [
    {
     "name": "stdout",
     "output_type": "stream",
     "text": [
      "enter your guest nametalha\n",
      "enter your guest namejoiya\n",
      "enter your guest nameMuhammad\n",
      "enter your guest nameAli\n",
      "enter your guest nameUsman\n"
     ]
    }
   ],
   "source": [
    "guests=[]\n",
    "for i in range(5):\n",
    "    friends=input('enter your guest name')\n",
    "    guests.append(friends)\n",
    "    "
   ]
  },
  {
   "cell_type": "code",
   "execution_count": 22,
   "id": "dbc36900",
   "metadata": {},
   "outputs": [
    {
     "data": {
      "text/plain": [
       "['talha', 'joiya', 'Muhammad', 'Ali', 'Usman']"
      ]
     },
     "execution_count": 22,
     "metadata": {},
     "output_type": "execute_result"
    }
   ],
   "source": [
    "guests"
   ]
  },
  {
   "cell_type": "markdown",
   "id": "bbfde740",
   "metadata": {},
   "source": [
    "# Break,Continue"
   ]
  },
  {
   "cell_type": "code",
   "execution_count": 23,
   "id": "b5ea333c",
   "metadata": {},
   "outputs": [
    {
     "name": "stdout",
     "output_type": "stream",
     "text": [
      "0\n",
      "1\n",
      "2\n",
      "3\n",
      "4\n"
     ]
    }
   ],
   "source": [
    "for i in range(10):\n",
    "    if i==5:\n",
    "        break\n",
    "    print(i)"
   ]
  },
  {
   "cell_type": "code",
   "execution_count": 24,
   "id": "9960aa4e",
   "metadata": {},
   "outputs": [
    {
     "name": "stdout",
     "output_type": "stream",
     "text": [
      "0\n",
      "1\n",
      "2\n",
      "3\n",
      "4\n",
      "5\n"
     ]
    }
   ],
   "source": [
    "for i in range(10):\n",
    "    print(i)\n",
    "    if i==5:\n",
    "        break"
   ]
  },
  {
   "cell_type": "code",
   "execution_count": 25,
   "id": "b15bb09d",
   "metadata": {},
   "outputs": [
    {
     "name": "stdout",
     "output_type": "stream",
     "text": [
      "0\n",
      "1\n",
      "2\n",
      "3\n",
      "5\n",
      "6\n",
      "7\n"
     ]
    }
   ],
   "source": [
    "for i in range(8):\n",
    "    if i==4:\n",
    "        continue\n",
    "    print(i)"
   ]
  },
  {
   "cell_type": "code",
   "execution_count": 26,
   "id": "4a0fb6b6",
   "metadata": {},
   "outputs": [
    {
     "name": "stdout",
     "output_type": "stream",
     "text": [
      "0\n",
      "1\n",
      "2\n",
      "3\n",
      "4\n",
      "5\n",
      "6\n",
      "7\n"
     ]
    }
   ],
   "source": [
    "for i in range(8):\n",
    "    print(i)\n",
    "    if i==5:\n",
    "        continue #this is not the correct way\n",
    "    "
   ]
  },
  {
   "cell_type": "markdown",
   "id": "629cd41e",
   "metadata": {},
   "source": [
    "tasK:take 10 integers as input and find the sum of all integers supplied"
   ]
  },
  {
   "cell_type": "code",
   "execution_count": 27,
   "id": "59f5a8fb",
   "metadata": {},
   "outputs": [
    {
     "name": "stdout",
     "output_type": "stream",
     "text": [
      "enter your integer number3\n",
      "enter your integer number4\n",
      "enter your integer number5\n",
      "enter your integer number3\n",
      "enter your integer number2\n",
      "enter your integer number4\n",
      "enter your integer number5\n",
      "enter your integer number6\n",
      "enter your integer number3\n",
      "enter your integer number5\n",
      "40\n"
     ]
    }
   ],
   "source": [
    "tot=0\n",
    "for i in range(10):\n",
    "    integer=int(input('enter your integer number'))\n",
    "    tot+=integer\n",
    "print(tot)"
   ]
  },
  {
   "cell_type": "code",
   "execution_count": 28,
   "id": "9d9c6f1c",
   "metadata": {},
   "outputs": [
    {
     "name": "stdout",
     "output_type": "stream",
     "text": [
      "enter your integer number seperated by comma2,5,6,7\n"
     ]
    },
    {
     "data": {
      "text/plain": [
       "['2', '5', '6', '7']"
      ]
     },
     "execution_count": 28,
     "metadata": {},
     "output_type": "execute_result"
    }
   ],
   "source": [
    "int_num=input('enter your integer number seperated by comma').split(',')\n",
    "int_num"
   ]
  },
  {
   "cell_type": "code",
   "execution_count": 29,
   "id": "0b13dd39",
   "metadata": {},
   "outputs": [
    {
     "name": "stdout",
     "output_type": "stream",
     "text": [
      "enter your integer number seperated by comma3,5,6,3\n",
      "17\n"
     ]
    }
   ],
   "source": [
    "int_num=input('enter your integer number seperated by comma').split(',')\n",
    "tot=0\n",
    "for inte in int_num:\n",
    "    tot+=int(inte)\n",
    "print(tot)"
   ]
  },
  {
   "cell_type": "markdown",
   "id": "48445572",
   "metadata": {},
   "source": [
    "# While loop"
   ]
  },
  {
   "cell_type": "code",
   "execution_count": 1,
   "id": "c4e973dd",
   "metadata": {},
   "outputs": [
    {
     "name": "stdout",
     "output_type": "stream",
     "text": [
      "0\n",
      "1\n",
      "2\n",
      "3\n",
      "4\n",
      "5\n",
      "6\n",
      "7\n",
      "8\n",
      "9\n"
     ]
    }
   ],
   "source": [
    "b=0\n",
    "while b<10:\n",
    "    print(b)\n",
    "    b+=1"
   ]
  },
  {
   "cell_type": "code",
   "execution_count": 2,
   "id": "238fe41a",
   "metadata": {},
   "outputs": [
    {
     "name": "stdout",
     "output_type": "stream",
     "text": [
      "0\n",
      "1\n",
      "2\n",
      "3\n",
      "4\n",
      "5\n",
      "6\n",
      "7\n",
      "8\n",
      "9\n",
      "10\n"
     ]
    }
   ],
   "source": [
    "c=0\n",
    "while c<=10:\n",
    "    print(c)\n",
    "    c+=1"
   ]
  },
  {
   "cell_type": "code",
   "execution_count": 5,
   "id": "44e77efc",
   "metadata": {},
   "outputs": [
    {
     "name": "stdout",
     "output_type": "stream",
     "text": [
      "Enter your best friend name or press q to exit guest listTalha\n",
      "Enter your best friend name or press q to exit guest listJoiya\n",
      "Enter your best friend name or press q to exit guest listq\n",
      "['Talha', 'Joiya']\n"
     ]
    }
   ],
   "source": [
    "guests=[]\n",
    "while True:\n",
    "    dost=input('Enter your best friend name or press q to exit guest list')\n",
    "    if dost=='q':\n",
    "        break\n",
    "    else:\n",
    "        guests.append(dost)\n",
    "print(guests)\n",
    "    \n",
    "    "
   ]
  },
  {
   "cell_type": "code",
   "execution_count": 7,
   "id": "f0c31c16",
   "metadata": {},
   "outputs": [
    {
     "name": "stdout",
     "output_type": "stream",
     "text": [
      "Enter your name for party and press to exit the listTalha\n",
      "Enter your name for party and press to exit the listJoiya\n",
      "Enter your name for party and press to exit the listMuhammad\n",
      "Enter your name for party and press to exit the listq\n",
      "['Talha', 'Joiya', 'Muhammad']\n"
     ]
    }
   ],
   "source": [
    "guest=[]\n",
    "loop=True\n",
    "while loop:\n",
    "    dost_Name=input('Enter your name for party and press to exit the list')\n",
    "    if dost_Name=='q':\n",
    "        loop=False\n",
    "    else:\n",
    "        guest.append(dost_Name)\n",
    "print(guest)"
   ]
  },
  {
   "cell_type": "code",
   "execution_count": 4,
   "id": "7461fbd6",
   "metadata": {},
   "outputs": [
    {
     "name": "stdout",
     "output_type": "stream",
     "text": [
      "10\n",
      "9\n",
      "8\n",
      "7\n",
      "6\n",
      "5\n",
      "4\n",
      "3\n",
      "2\n",
      "1\n"
     ]
    }
   ],
   "source": [
    "a=10\n",
    "while a>0:\n",
    "    print(a)\n",
    "    a-=1"
   ]
  },
  {
   "cell_type": "code",
   "execution_count": 1,
   "id": "3a97e836",
   "metadata": {},
   "outputs": [
    {
     "name": "stdout",
     "output_type": "stream",
     "text": [
      "10\n",
      "9\n",
      "8\n",
      "7\n",
      "6\n",
      "5\n",
      "4\n",
      "3\n",
      "2\n",
      "1\n",
      "0\n"
     ]
    }
   ],
   "source": [
    "c=10\n",
    "while c>=0:\n",
    "    print(c)\n",
    "    c-=1"
   ]
  },
  {
   "cell_type": "code",
   "execution_count": 5,
   "id": "a790f59f",
   "metadata": {},
   "outputs": [
    {
     "name": "stdout",
     "output_type": "stream",
     "text": [
      "[0, 2, 4, 6, 8, 10]\n"
     ]
    }
   ],
   "source": [
    "even=[]\n",
    "for i in range(11):\n",
    "    if i%2==0:\n",
    "        even.append(i)\n",
    "print(even)"
   ]
  },
  {
   "cell_type": "markdown",
   "id": "d5e6f5e6",
   "metadata": {},
   "source": [
    "# List Comprehension"
   ]
  },
  {
   "cell_type": "code",
   "execution_count": 10,
   "id": "37df6027",
   "metadata": {},
   "outputs": [
    {
     "data": {
      "text/plain": [
       "[0, 2, 4, 6, 8, 10]"
      ]
     },
     "execution_count": 10,
     "metadata": {},
     "output_type": "execute_result"
    }
   ],
   "source": [
    "[num for num in range(11) if num%2==0]"
   ]
  },
  {
   "cell_type": "code",
   "execution_count": 14,
   "id": "f15820d7",
   "metadata": {},
   "outputs": [
    {
     "data": {
      "text/plain": [
       "[4, 6, 8, 10]"
      ]
     },
     "execution_count": 14,
     "metadata": {},
     "output_type": "execute_result"
    }
   ],
   "source": [
    "[i for i in range(11) if i%2==0 if i>3]"
   ]
  },
  {
   "cell_type": "code",
   "execution_count": 7,
   "id": "db522707",
   "metadata": {},
   "outputs": [
    {
     "data": {
      "text/plain": [
       "['0 is even',\n",
       " '1 is odd',\n",
       " '2 is even',\n",
       " '3 is odd',\n",
       " '4 is even',\n",
       " '5 is odd',\n",
       " '6 is even',\n",
       " '7 is odd',\n",
       " '8 is even',\n",
       " '9 is odd',\n",
       " '10 is even']"
      ]
     },
     "execution_count": 7,
     "metadata": {},
     "output_type": "execute_result"
    }
   ],
   "source": [
    "[f'{i} is even' if i%2==0 else f'{i} is odd' for i in range(11)]"
   ]
  },
  {
   "cell_type": "code",
   "execution_count": 21,
   "id": "3bc2e583",
   "metadata": {},
   "outputs": [
    {
     "data": {
      "text/plain": [
       "['0 is even',\n",
       " '1 is odd',\n",
       " '2 is even',\n",
       " '3 is odd',\n",
       " '4 is even',\n",
       " '5 is odd',\n",
       " '6 is even',\n",
       " '7 is odd',\n",
       " '8 is even',\n",
       " '9 is odd',\n",
       " '10 is even']"
      ]
     },
     "execution_count": 21,
     "metadata": {},
     "output_type": "execute_result"
    }
   ],
   "source": [
    "[f'{i} is even' if i%2==0 else f'{i} is odd' for i in range(11)]"
   ]
  },
  {
   "cell_type": "markdown",
   "id": "740319b3",
   "metadata": {},
   "source": [
    "# Nested For Loops"
   ]
  },
  {
   "cell_type": "code",
   "execution_count": 38,
   "id": "90b1b778",
   "metadata": {},
   "outputs": [
    {
     "name": "stdout",
     "output_type": "stream",
     "text": [
      "2*1=2\n",
      "2*2=4\n",
      "2*3=6\n",
      "2*4=8\n",
      "2*5=10\n",
      "2*6=12\n",
      "2*7=14\n",
      "2*8=16\n",
      "2*9=18\n",
      "2*10=20\n",
      "3*1=3\n",
      "3*2=6\n",
      "3*3=9\n",
      "3*4=12\n",
      "3*5=15\n",
      "3*6=18\n",
      "3*7=21\n",
      "3*8=24\n",
      "3*9=27\n",
      "3*10=30\n",
      "4*1=4\n",
      "4*2=8\n",
      "4*3=12\n",
      "4*4=16\n",
      "4*5=20\n",
      "4*6=24\n",
      "4*7=28\n",
      "4*8=32\n",
      "4*9=36\n",
      "4*10=40\n",
      "5*1=5\n",
      "5*2=10\n",
      "5*3=15\n",
      "5*4=20\n",
      "5*5=25\n",
      "5*6=30\n",
      "5*7=35\n",
      "5*8=40\n",
      "5*9=45\n",
      "5*10=50\n"
     ]
    }
   ],
   "source": [
    "for table_num in range(2,6):\n",
    "    for num in range(1,11):\n",
    "        print(f'{table_num}*{num}={table_num*num}')"
   ]
  },
  {
   "cell_type": "code",
   "execution_count": 2,
   "id": "6e018ce1",
   "metadata": {},
   "outputs": [
    {
     "data": {
      "text/plain": [
       "[(1, 'A'),\n",
       " (1, 'B'),\n",
       " (1, 'C'),\n",
       " (2, 'A'),\n",
       " (2, 'B'),\n",
       " (2, 'C'),\n",
       " (3, 'A'),\n",
       " (3, 'B'),\n",
       " (3, 'C')]"
      ]
     },
     "execution_count": 2,
     "metadata": {},
     "output_type": "execute_result"
    }
   ],
   "source": [
    "[(x,y) for x in range(1,4) for y in 'ABC']"
   ]
  },
  {
   "cell_type": "code",
   "execution_count": 4,
   "id": "24e519f2",
   "metadata": {},
   "outputs": [
    {
     "data": {
      "text/plain": [
       "[1,\n",
       " 2,\n",
       " 3,\n",
       " 4,\n",
       " 6,\n",
       " 8,\n",
       " 9,\n",
       " 11,\n",
       " 12,\n",
       " 13,\n",
       " 16,\n",
       " 17,\n",
       " 18,\n",
       " 19,\n",
       " 22,\n",
       " 23,\n",
       " 24,\n",
       " 26,\n",
       " 27,\n",
       " 29,\n",
       " 31,\n",
       " 32,\n",
       " 33,\n",
       " 34,\n",
       " 36,\n",
       " 37,\n",
       " 38,\n",
       " 39,\n",
       " 41,\n",
       " 43,\n",
       " 44,\n",
       " 46,\n",
       " 47,\n",
       " 48]"
      ]
     },
     "execution_count": 4,
     "metadata": {},
     "output_type": "execute_result"
    }
   ],
   "source": [
    "[i for i in range(50) if i%7!=0 if i%5!=0]"
   ]
  },
  {
   "cell_type": "markdown",
   "id": "39ed0919",
   "metadata": {},
   "source": [
    "task:make a list of square of first 10 natural numbers"
   ]
  },
  {
   "cell_type": "code",
   "execution_count": 6,
   "id": "05073ed3",
   "metadata": {},
   "outputs": [
    {
     "data": {
      "text/plain": [
       "[1, 4, 9, 16, 25, 36, 49, 64, 81, 100]"
      ]
     },
     "execution_count": 6,
     "metadata": {},
     "output_type": "execute_result"
    }
   ],
   "source": [
    "[i**2 for i in range(1,11)]"
   ]
  },
  {
   "cell_type": "markdown",
   "id": "476a010a",
   "metadata": {},
   "source": [
    "task:make a list of square root of first ten natural numbers"
   ]
  },
  {
   "cell_type": "code",
   "execution_count": 7,
   "id": "7b79b4f2",
   "metadata": {},
   "outputs": [
    {
     "data": {
      "text/plain": [
       "[1.0,\n",
       " 1.4142135623730951,\n",
       " 1.7320508075688772,\n",
       " 2.0,\n",
       " 2.23606797749979,\n",
       " 2.449489742783178,\n",
       " 2.6457513110645907,\n",
       " 2.8284271247461903,\n",
       " 3.0,\n",
       " 3.1622776601683795]"
      ]
     },
     "execution_count": 7,
     "metadata": {},
     "output_type": "execute_result"
    }
   ],
   "source": [
    "[i**0.5 for i in range(1,11)]"
   ]
  },
  {
   "cell_type": "markdown",
   "id": "275734ab",
   "metadata": {},
   "source": [
    "# Dictionary"
   ]
  },
  {
   "cell_type": "code",
   "execution_count": 3,
   "id": "816e86b2",
   "metadata": {},
   "outputs": [],
   "source": [
    "alist={}\n",
    "blist={3}"
   ]
  },
  {
   "cell_type": "code",
   "execution_count": 4,
   "id": "149f17a3",
   "metadata": {},
   "outputs": [
    {
     "data": {
      "text/plain": [
       "dict"
      ]
     },
     "execution_count": 4,
     "metadata": {},
     "output_type": "execute_result"
    }
   ],
   "source": [
    "type(alist)"
   ]
  },
  {
   "cell_type": "code",
   "execution_count": 5,
   "id": "ae4dc13d",
   "metadata": {},
   "outputs": [
    {
     "data": {
      "text/plain": [
       "set"
      ]
     },
     "execution_count": 5,
     "metadata": {},
     "output_type": "execute_result"
    }
   ],
   "source": [
    "type(blist)"
   ]
  },
  {
   "cell_type": "markdown",
   "id": "4943f573",
   "metadata": {},
   "source": [
    "-A dictionary is a keyvalue pair"
   ]
  },
  {
   "cell_type": "code",
   "execution_count": 24,
   "id": "5591e6de",
   "metadata": {},
   "outputs": [],
   "source": [
    "bio={\"name\":\"Talha\",\"School\":\"Usman Public\",\"Rollnum\":20,\"name\":\"Usman\"}"
   ]
  },
  {
   "cell_type": "markdown",
   "id": "2e391c23",
   "metadata": {},
   "source": [
    "#There is no indexing concept in dictionary"
   ]
  },
  {
   "cell_type": "code",
   "execution_count": 25,
   "id": "f820f112",
   "metadata": {},
   "outputs": [
    {
     "data": {
      "text/plain": [
       "{'name': 'Usman', 'School': 'Usman Public', 'Rollnum': 20}"
      ]
     },
     "execution_count": 25,
     "metadata": {},
     "output_type": "execute_result"
    }
   ],
   "source": [
    "bio"
   ]
  },
  {
   "cell_type": "code",
   "execution_count": 4,
   "id": "0cbc8a1f",
   "metadata": {},
   "outputs": [
    {
     "data": {
      "text/plain": [
       "{3: 3, 5: 7}"
      ]
     },
     "execution_count": 4,
     "metadata": {},
     "output_type": "execute_result"
    }
   ],
   "source": [
    "abc={3:3,5:7}\n",
    "abc"
   ]
  },
  {
   "cell_type": "code",
   "execution_count": 26,
   "id": "c5a275e5",
   "metadata": {},
   "outputs": [
    {
     "data": {
      "text/plain": [
       "'Usman'"
      ]
     },
     "execution_count": 26,
     "metadata": {},
     "output_type": "execute_result"
    }
   ],
   "source": [
    "bio['name']"
   ]
  },
  {
   "cell_type": "code",
   "execution_count": 27,
   "id": "07b78f7a",
   "metadata": {},
   "outputs": [
    {
     "data": {
      "text/plain": [
       "'Usman Public'"
      ]
     },
     "execution_count": 27,
     "metadata": {},
     "output_type": "execute_result"
    }
   ],
   "source": [
    "bio['School']"
   ]
  },
  {
   "cell_type": "code",
   "execution_count": 28,
   "id": "0968b522",
   "metadata": {},
   "outputs": [],
   "source": [
    "bio['Rollnum']=48"
   ]
  },
  {
   "cell_type": "code",
   "execution_count": 29,
   "id": "753818fc",
   "metadata": {},
   "outputs": [
    {
     "data": {
      "text/plain": [
       "{'name': 'Usman', 'School': 'Usman Public', 'Rollnum': 48}"
      ]
     },
     "execution_count": 29,
     "metadata": {},
     "output_type": "execute_result"
    }
   ],
   "source": [
    "bio"
   ]
  },
  {
   "cell_type": "code",
   "execution_count": 30,
   "id": "d0693d78",
   "metadata": {},
   "outputs": [],
   "source": [
    "bio['School']='Usman Public(11)'"
   ]
  },
  {
   "cell_type": "code",
   "execution_count": 31,
   "id": "9e1f29de",
   "metadata": {},
   "outputs": [
    {
     "data": {
      "text/plain": [
       "{'name': 'Usman', 'School': 'Usman Public(11)', 'Rollnum': 48}"
      ]
     },
     "execution_count": 31,
     "metadata": {},
     "output_type": "execute_result"
    }
   ],
   "source": [
    "bio"
   ]
  },
  {
   "cell_type": "markdown",
   "id": "51d0ab57",
   "metadata": {},
   "source": [
    "#if two key are lies in a same list then last key overright the first one"
   ]
  },
  {
   "cell_type": "markdown",
   "id": "61d8eb8f",
   "metadata": {},
   "source": [
    "#if we iterate in dictionary.keys() it will give you the key"
   ]
  },
  {
   "cell_type": "code",
   "execution_count": 33,
   "id": "6b33fa3e",
   "metadata": {},
   "outputs": [
    {
     "name": "stdout",
     "output_type": "stream",
     "text": [
      "name\n",
      "School\n",
      "Rollnum\n"
     ]
    }
   ],
   "source": [
    "for keyval in bio:\n",
    "    print(keyval)"
   ]
  },
  {
   "cell_type": "code",
   "execution_count": 34,
   "id": "92fd6b32",
   "metadata": {},
   "outputs": [
    {
     "name": "stdout",
     "output_type": "stream",
     "text": [
      "name\n",
      "School\n",
      "Rollnum\n"
     ]
    }
   ],
   "source": [
    "for keyval in bio.keys():\n",
    "    print(keyval)"
   ]
  },
  {
   "cell_type": "code",
   "execution_count": 35,
   "id": "3e70847c",
   "metadata": {},
   "outputs": [
    {
     "name": "stdout",
     "output_type": "stream",
     "text": [
      "Usman\n",
      "Usman Public(11)\n",
      "48\n"
     ]
    }
   ],
   "source": [
    "for keyval in bio.values():\n",
    "    print(keyval)"
   ]
  },
  {
   "cell_type": "code",
   "execution_count": 36,
   "id": "28b453d4",
   "metadata": {},
   "outputs": [
    {
     "name": "stdout",
     "output_type": "stream",
     "text": [
      "('name', 'Usman')\n",
      "('School', 'Usman Public(11)')\n",
      "('Rollnum', 48)\n"
     ]
    }
   ],
   "source": [
    "for keyval in bio.items():\n",
    "    print(keyval)"
   ]
  },
  {
   "cell_type": "code",
   "execution_count": 38,
   "id": "a8032824",
   "metadata": {},
   "outputs": [
    {
     "name": "stdout",
     "output_type": "stream",
     "text": [
      "Usman\n",
      "Usman Public(11)\n",
      "48\n"
     ]
    }
   ],
   "source": [
    "for keyval in bio:\n",
    "    print(bio[keyval])"
   ]
  },
  {
   "cell_type": "code",
   "execution_count": null,
   "id": "454d8af3",
   "metadata": {},
   "outputs": [],
   "source": [
    "#if we add 'dict[key_name]',then it will give you the value of the key from the list"
   ]
  },
  {
   "cell_type": "code",
   "execution_count": 39,
   "id": "054431b4",
   "metadata": {},
   "outputs": [
    {
     "name": "stdout",
     "output_type": "stream",
     "text": [
      "Usman\n",
      "Usman Public(11)\n",
      "48\n"
     ]
    }
   ],
   "source": [
    "for keyval in bio.keys():\n",
    "    print(bio[keyval])"
   ]
  },
  {
   "cell_type": "code",
   "execution_count": 46,
   "id": "802737eb",
   "metadata": {},
   "outputs": [
    {
     "name": "stdout",
     "output_type": "stream",
     "text": [
      "Usman\n",
      "Usman\n",
      "Usman\n"
     ]
    }
   ],
   "source": [
    "for keyval in bio:\n",
    "    print(bio['name'])"
   ]
  },
  {
   "cell_type": "code",
   "execution_count": 58,
   "id": "2b157391",
   "metadata": {},
   "outputs": [
    {
     "name": "stdout",
     "output_type": "stream",
     "text": [
      "name:Usman\n",
      "School:Usman Public(11)\n",
      "Rollnum:48\n"
     ]
    }
   ],
   "source": [
    "for i in bio:\n",
    "    print(f'{i}:{bio[i]}')"
   ]
  },
  {
   "cell_type": "code",
   "execution_count": 60,
   "id": "7de246ef",
   "metadata": {},
   "outputs": [
    {
     "name": "stdout",
     "output_type": "stream",
     "text": [
      "name:Usman\n",
      "School:Usman Public(11)\n",
      "Rollnum:48\n"
     ]
    }
   ],
   "source": [
    "for i in bio:\n",
    "    print(i,bio[i],sep=':')"
   ]
  },
  {
   "cell_type": "code",
   "execution_count": 8,
   "id": "21779007",
   "metadata": {},
   "outputs": [],
   "source": [
    "dd={'rr':45}"
   ]
  },
  {
   "cell_type": "code",
   "execution_count": 9,
   "id": "bee30657",
   "metadata": {},
   "outputs": [
    {
     "data": {
      "text/plain": [
       "{'rr': 45}"
      ]
     },
     "execution_count": 9,
     "metadata": {},
     "output_type": "execute_result"
    }
   ],
   "source": [
    "dd"
   ]
  },
  {
   "cell_type": "code",
   "execution_count": 2,
   "id": "7663ba58",
   "metadata": {},
   "outputs": [],
   "source": [
    "dict={'name':2}"
   ]
  },
  {
   "cell_type": "code",
   "execution_count": 3,
   "id": "ae5be634",
   "metadata": {},
   "outputs": [
    {
     "data": {
      "text/plain": [
       "{'name': 2}"
      ]
     },
     "execution_count": 3,
     "metadata": {},
     "output_type": "execute_result"
    }
   ],
   "source": [
    "dict"
   ]
  },
  {
   "cell_type": "code",
   "execution_count": null,
   "id": "c5d1eff8",
   "metadata": {},
   "outputs": [],
   "source": []
  }
 ],
 "metadata": {
  "kernelspec": {
   "display_name": "Python 3 (ipykernel)",
   "language": "python",
   "name": "python3"
  },
  "language_info": {
   "codemirror_mode": {
    "name": "ipython",
    "version": 3
   },
   "file_extension": ".py",
   "mimetype": "text/x-python",
   "name": "python",
   "nbconvert_exporter": "python",
   "pygments_lexer": "ipython3",
   "version": "3.9.12"
  }
 },
 "nbformat": 4,
 "nbformat_minor": 5
}
