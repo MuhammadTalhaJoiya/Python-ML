{
 "cells": [
  {
   "cell_type": "markdown",
   "id": "219884d5",
   "metadata": {},
   "source": [
    "# Inheritance "
   ]
  },
  {
   "cell_type": "code",
   "execution_count": 1,
   "id": "b596dce9",
   "metadata": {},
   "outputs": [],
   "source": [
    "class Car():\n",
    "    def __init__(self,brand,model,engine):\n",
    "        self.brand=brand\n",
    "        self.model=model\n",
    "        self.engine=engine\n",
    "    def start(self):\n",
    "        print(f'{self.brand} is moving')\n",
    "    def stop(self):\n",
    "        print(f'{self.brand} is stopping')\n",
    "    def fuel(self):\n",
    "        print('It has full of fuel in its tank')"
   ]
  },
  {
   "cell_type": "code",
   "execution_count": 2,
   "id": "ca1f7ba5",
   "metadata": {},
   "outputs": [],
   "source": [
    "car1=Car('Honda',2022,'1000CC')"
   ]
  },
  {
   "cell_type": "code",
   "execution_count": 3,
   "id": "6100e40e",
   "metadata": {},
   "outputs": [
    {
     "data": {
      "text/plain": [
       "'Honda'"
      ]
     },
     "execution_count": 3,
     "metadata": {},
     "output_type": "execute_result"
    }
   ],
   "source": [
    "car1.brand"
   ]
  },
  {
   "cell_type": "code",
   "execution_count": 4,
   "id": "835a6caa",
   "metadata": {},
   "outputs": [
    {
     "data": {
      "text/plain": [
       "2022"
      ]
     },
     "execution_count": 4,
     "metadata": {},
     "output_type": "execute_result"
    }
   ],
   "source": [
    "car1.model"
   ]
  },
  {
   "cell_type": "code",
   "execution_count": 5,
   "id": "76ac0712",
   "metadata": {},
   "outputs": [
    {
     "name": "stdout",
     "output_type": "stream",
     "text": [
      "Honda is moving\n"
     ]
    }
   ],
   "source": [
    "car1.start()"
   ]
  },
  {
   "cell_type": "code",
   "execution_count": 6,
   "id": "3d36f3a9",
   "metadata": {},
   "outputs": [],
   "source": [
    "class SportsCar(Car):\n",
    "    def __init__(self,brand,model,engine,seat,topspeed):\n",
    "        super().__init__(brand,model,engine)\n",
    "        self.seat=seat\n",
    "        self.topspeed=topspeed\n",
    "    def Speed(self):\n",
    "        print(f'{self.brand} is moving with {self.speed}')"
   ]
  },
  {
   "cell_type": "code",
   "execution_count": 7,
   "id": "2fd77ac7",
   "metadata": {},
   "outputs": [],
   "source": [
    "carr3=SportsCar('Audi',2,'1',2,'400km/h')"
   ]
  },
  {
   "cell_type": "code",
   "execution_count": 8,
   "id": "d0f300c4",
   "metadata": {},
   "outputs": [
    {
     "name": "stdout",
     "output_type": "stream",
     "text": [
      "Audi is moving\n"
     ]
    }
   ],
   "source": [
    "carr3.start()"
   ]
  },
  {
   "cell_type": "code",
   "execution_count": 9,
   "id": "8af32a79",
   "metadata": {},
   "outputs": [],
   "source": [
    "class human():\n",
    "    def __init__(self,height,weight,blood_grp):\n",
    "        self.height=height\n",
    "        self.weight=weight\n",
    "        self.blood_grp=blood_grp\n",
    "    def play(self):\n",
    "        print('human can play cricket')"
   ]
  },
  {
   "cell_type": "code",
   "execution_count": 10,
   "id": "90312ddc",
   "metadata": {},
   "outputs": [],
   "source": [
    "h1=human('5ft','80kg','B+')"
   ]
  },
  {
   "cell_type": "code",
   "execution_count": 11,
   "id": "b47f0454",
   "metadata": {},
   "outputs": [
    {
     "name": "stdout",
     "output_type": "stream",
     "text": [
      "human can play cricket\n"
     ]
    }
   ],
   "source": [
    "h1.play()"
   ]
  },
  {
   "cell_type": "code",
   "execution_count": 12,
   "id": "88e98dcf",
   "metadata": {},
   "outputs": [
    {
     "data": {
      "text/plain": [
       "'5ft'"
      ]
     },
     "execution_count": 12,
     "metadata": {},
     "output_type": "execute_result"
    }
   ],
   "source": [
    "h1.height"
   ]
  },
  {
   "cell_type": "code",
   "execution_count": 13,
   "id": "16a33e4c",
   "metadata": {},
   "outputs": [],
   "source": [
    "class patient(human):\n",
    "    def __init__(self,height,weight,blood_grp,eyesight,sugar):\n",
    "        super().__init__(height,weight,blood_grp)\n",
    "        self.eyesight=eyesight\n",
    "        self.sugar=sugar\n",
    "    def operation(self):\n",
    "        print('patient is ready for operation')"
   ]
  },
  {
   "cell_type": "code",
   "execution_count": 14,
   "id": "71c8a17f",
   "metadata": {},
   "outputs": [],
   "source": [
    "c1=patient('5ft','77kg','C','Normal','Normal')"
   ]
  },
  {
   "cell_type": "code",
   "execution_count": 15,
   "id": "9945beec",
   "metadata": {},
   "outputs": [
    {
     "data": {
      "text/plain": [
       "'5ft'"
      ]
     },
     "execution_count": 15,
     "metadata": {},
     "output_type": "execute_result"
    }
   ],
   "source": [
    "c1.height"
   ]
  },
  {
   "cell_type": "markdown",
   "id": "bef0a668",
   "metadata": {},
   "source": [
    "# Polymorphism"
   ]
  },
  {
   "cell_type": "code",
   "execution_count": 16,
   "id": "c9474feb",
   "metadata": {},
   "outputs": [],
   "source": [
    "class batteryCar(Car):\n",
    "    def __init__(self,brand,model,engine,battery,seat):\n",
    "        super().__init__(brand,model,engine)\n",
    "        self.battery=battery\n",
    "        self.seat=seat\n",
    "    def fuel(self):\n",
    "        print(f'It operate with {self.battery}')\n",
    "    "
   ]
  },
  {
   "cell_type": "code",
   "execution_count": 17,
   "id": "f30a85ce",
   "metadata": {},
   "outputs": [],
   "source": [
    "battercar1=batteryCar('MG','2018',1,'Exide',2)"
   ]
  },
  {
   "cell_type": "code",
   "execution_count": 18,
   "id": "87feb25b",
   "metadata": {},
   "outputs": [
    {
     "name": "stdout",
     "output_type": "stream",
     "text": [
      "It operate with Exide\n"
     ]
    }
   ],
   "source": [
    "battercar1.fuel()"
   ]
  },
  {
   "cell_type": "markdown",
   "id": "b6a1a8b7",
   "metadata": {},
   "source": [
    "# Encapsulation"
   ]
  },
  {
   "cell_type": "code",
   "execution_count": 49,
   "id": "b0f66308",
   "metadata": {},
   "outputs": [],
   "source": [
    "class student():\n",
    "    def __init__(self,name,cource,rollnumber,institude):\n",
    "        self.namee=name\n",
    "        self.cource=cource\n",
    "        self.rollnumber=rollnumber\n",
    "        self.institude=institude\n",
    "        \n",
    "    def getinstitude(self):\n",
    "        print(f'Applied cource is {self.institude}')\n",
    "    def setinstitude(self,newinstitude):\n",
    "        insti=['AI','BCC','IOT','META','CLOUD']\n",
    "        for new in insti:\n",
    "            if new==newinstitude:\n",
    "                self.institude=newinstitude\n",
    "                break\n",
    "        else:\n",
    "            print('not available')\n",
    "    def getrollnumber(self):\n",
    "        print(f'your rollnumber is {self.rollnumber}')\n",
    "    def setrollnumber(self,newroll):\n",
    "        if newroll<1000:\n",
    "            self.rollnumber=newroll\n",
    "        else:\n",
    "            print('Invalid rollnumber')"
   ]
  },
  {
   "cell_type": "code",
   "execution_count": 50,
   "id": "7de8d2dc",
   "metadata": {},
   "outputs": [],
   "source": [
    "s1=student('Talha','AI','455','SSUET')"
   ]
  },
  {
   "cell_type": "code",
   "execution_count": 51,
   "id": "5ec0280f",
   "metadata": {},
   "outputs": [
    {
     "data": {
      "text/plain": [
       "'Talha'"
      ]
     },
     "execution_count": 51,
     "metadata": {},
     "output_type": "execute_result"
    }
   ],
   "source": [
    "s1.namee"
   ]
  },
  {
   "cell_type": "code",
   "execution_count": 52,
   "id": "ffdf8c5a",
   "metadata": {},
   "outputs": [
    {
     "data": {
      "text/plain": [
       "'SSUET'"
      ]
     },
     "execution_count": 52,
     "metadata": {},
     "output_type": "execute_result"
    }
   ],
   "source": [
    "s1.institude"
   ]
  },
  {
   "cell_type": "code",
   "execution_count": 53,
   "id": "ed8b4c78",
   "metadata": {},
   "outputs": [
    {
     "data": {
      "text/plain": [
       "'SSUET'"
      ]
     },
     "execution_count": 53,
     "metadata": {},
     "output_type": "execute_result"
    }
   ],
   "source": [
    "s1.institude"
   ]
  },
  {
   "cell_type": "code",
   "execution_count": 54,
   "id": "4f3ce353",
   "metadata": {},
   "outputs": [
    {
     "name": "stdout",
     "output_type": "stream",
     "text": [
      "Applied cource is SSUET\n"
     ]
    }
   ],
   "source": [
    "s1.getinstitude()"
   ]
  },
  {
   "cell_type": "code",
   "execution_count": 55,
   "id": "efb13d71",
   "metadata": {},
   "outputs": [
    {
     "name": "stdout",
     "output_type": "stream",
     "text": [
      "Applied cource is SSUET\n"
     ]
    }
   ],
   "source": [
    "s1.getinstitude()"
   ]
  },
  {
   "cell_type": "code",
   "execution_count": 56,
   "id": "af91fc2c",
   "metadata": {},
   "outputs": [
    {
     "name": "stdout",
     "output_type": "stream",
     "text": [
      "Invalid rollnumber\n"
     ]
    }
   ],
   "source": [
    "s1.setrollnumber(3000)"
   ]
  },
  {
   "cell_type": "code",
   "execution_count": 57,
   "id": "c0e65483",
   "metadata": {},
   "outputs": [
    {
     "name": "stdout",
     "output_type": "stream",
     "text": [
      "your rollnumber is 455\n"
     ]
    }
   ],
   "source": [
    "s1.getrollnumber()"
   ]
  },
  {
   "cell_type": "code",
   "execution_count": 58,
   "id": "9f095c1e",
   "metadata": {},
   "outputs": [],
   "source": [
    "s1.setrollnumber(200)"
   ]
  },
  {
   "cell_type": "code",
   "execution_count": 59,
   "id": "63c8cfbc",
   "metadata": {},
   "outputs": [
    {
     "name": "stdout",
     "output_type": "stream",
     "text": [
      "your rollnumber is 200\n"
     ]
    }
   ],
   "source": [
    "s1.getrollnumber()"
   ]
  },
  {
   "cell_type": "code",
   "execution_count": 60,
   "id": "f7fd0436",
   "metadata": {},
   "outputs": [
    {
     "name": "stdout",
     "output_type": "stream",
     "text": [
      "Invalid rollnumber\n"
     ]
    }
   ],
   "source": [
    "s1.setrollnumber(2000)"
   ]
  },
  {
   "cell_type": "code",
   "execution_count": 61,
   "id": "c0323290",
   "metadata": {},
   "outputs": [
    {
     "name": "stdout",
     "output_type": "stream",
     "text": [
      "not available\n"
     ]
    }
   ],
   "source": [
    "s1.setinstitude('AII')"
   ]
  },
  {
   "cell_type": "code",
   "execution_count": 62,
   "id": "10ac1d9e",
   "metadata": {},
   "outputs": [
    {
     "name": "stdout",
     "output_type": "stream",
     "text": [
      "Applied cource is SSUET\n"
     ]
    }
   ],
   "source": [
    "s1.getinstitude()"
   ]
  },
  {
   "cell_type": "code",
   "execution_count": 63,
   "id": "88665762",
   "metadata": {},
   "outputs": [],
   "source": [
    "s1.setinstitude('BCC')"
   ]
  },
  {
   "cell_type": "code",
   "execution_count": 64,
   "id": "4ecfd965",
   "metadata": {},
   "outputs": [
    {
     "name": "stdout",
     "output_type": "stream",
     "text": [
      "Applied cource is BCC\n"
     ]
    }
   ],
   "source": [
    "s1.getinstitude()"
   ]
  },
  {
   "cell_type": "code",
   "execution_count": 1,
   "id": "e4270be2",
   "metadata": {},
   "outputs": [],
   "source": [
    "class PetCar():\n",
    "    def __init__(self,model,brand,enginepower):\n",
    "        self.model=model\n",
    "        self.brand=brand\n",
    "        self.enginepower=enginepower\n",
    "    def start(self):\n",
    "        print(f'{self.brand} is start')\n",
    "    def stop(self):\n",
    "        print(f'{self.brand} is stop')\n",
    "    def fueltank(self):\n",
    "        print(f'{self.brand} has full of fuel in its tank')"
   ]
  },
  {
   "cell_type": "code",
   "execution_count": 3,
   "id": "b859f885",
   "metadata": {},
   "outputs": [],
   "source": [
    "car1=PetCar(2022,'Toyota','2000CC')"
   ]
  },
  {
   "cell_type": "code",
   "execution_count": 4,
   "id": "82344a1a",
   "metadata": {},
   "outputs": [
    {
     "data": {
      "text/plain": [
       "2022"
      ]
     },
     "execution_count": 4,
     "metadata": {},
     "output_type": "execute_result"
    }
   ],
   "source": [
    "car1.model"
   ]
  },
  {
   "cell_type": "code",
   "execution_count": 6,
   "id": "c9bcaa5b",
   "metadata": {},
   "outputs": [
    {
     "name": "stdout",
     "output_type": "stream",
     "text": [
      "Toyota is start\n"
     ]
    }
   ],
   "source": [
    "car1.start()"
   ]
  },
  {
   "cell_type": "code",
   "execution_count": 136,
   "id": "e500f8d8",
   "metadata": {},
   "outputs": [],
   "source": [
    "class ElecCar(PetCar):\n",
    "    def __init__(self,model,brand,enginepower,color):\n",
    "        super().__init__(model,brand,enginepower)\n",
    "        self.color=color\n",
    "    def fueltank(self):\n",
    "        print('I have no fuel tank,I have battery')\n",
    "    def run(self):\n",
    "        print(f'{self.brand} is running')"
   ]
  },
  {
   "cell_type": "code",
   "execution_count": 137,
   "id": "203ea773",
   "metadata": {},
   "outputs": [],
   "source": [
    "el2=ElecCar(2001,'Hondai','2000CC','Yellow')"
   ]
  },
  {
   "cell_type": "code",
   "execution_count": 138,
   "id": "e2fb435b",
   "metadata": {},
   "outputs": [
    {
     "data": {
      "text/plain": [
       "'Yellow'"
      ]
     },
     "execution_count": 138,
     "metadata": {},
     "output_type": "execute_result"
    }
   ],
   "source": [
    "el2.color"
   ]
  },
  {
   "cell_type": "code",
   "execution_count": 139,
   "id": "d44ec786",
   "metadata": {},
   "outputs": [
    {
     "data": {
      "text/plain": [
       "2001"
      ]
     },
     "execution_count": 139,
     "metadata": {},
     "output_type": "execute_result"
    }
   ],
   "source": [
    "el2.model"
   ]
  },
  {
   "cell_type": "code",
   "execution_count": 140,
   "id": "d73b6f6f",
   "metadata": {},
   "outputs": [
    {
     "name": "stdout",
     "output_type": "stream",
     "text": [
      "Hondai is stop\n"
     ]
    }
   ],
   "source": [
    "el2.stop()"
   ]
  },
  {
   "cell_type": "code",
   "execution_count": null,
   "id": "d27d8f3b",
   "metadata": {},
   "outputs": [],
   "source": [
    " el2.fueltank() #that the problem,so we need to overwrite the parent function in child function"
   ]
  },
  {
   "cell_type": "code",
   "execution_count": 142,
   "id": "9be8530d",
   "metadata": {},
   "outputs": [
    {
     "name": "stdout",
     "output_type": "stream",
     "text": [
      "I have no fuel tank,I have battery\n"
     ]
    }
   ],
   "source": [
    "el2.fueltank()"
   ]
  },
  {
   "cell_type": "code",
   "execution_count": 143,
   "id": "99b268fb",
   "metadata": {},
   "outputs": [
    {
     "name": "stdout",
     "output_type": "stream",
     "text": [
      "Hondai is running\n"
     ]
    }
   ],
   "source": [
    "el2.run()"
   ]
  },
  {
   "cell_type": "code",
   "execution_count": 144,
   "id": "b5dfe7a0",
   "metadata": {},
   "outputs": [
    {
     "name": "stdout",
     "output_type": "stream",
     "text": [
      "Hondai is start\n"
     ]
    }
   ],
   "source": [
    "el2.start()"
   ]
  },
  {
   "cell_type": "code",
   "execution_count": 145,
   "id": "801ad542",
   "metadata": {},
   "outputs": [
    {
     "data": {
      "text/plain": [
       "'Hondai'"
      ]
     },
     "execution_count": 145,
     "metadata": {},
     "output_type": "execute_result"
    }
   ],
   "source": [
    "el2.brand"
   ]
  },
  {
   "cell_type": "code",
   "execution_count": 146,
   "id": "a8a4a589",
   "metadata": {},
   "outputs": [
    {
     "data": {
      "text/plain": [
       "2001"
      ]
     },
     "execution_count": 146,
     "metadata": {},
     "output_type": "execute_result"
    }
   ],
   "source": [
    "el2.model"
   ]
  },
  {
   "cell_type": "code",
   "execution_count": 147,
   "id": "5e6e9f46",
   "metadata": {},
   "outputs": [
    {
     "data": {
      "text/plain": [
       "'2000CC'"
      ]
     },
     "execution_count": 147,
     "metadata": {},
     "output_type": "execute_result"
    }
   ],
   "source": [
    "el2.enginepower"
   ]
  },
  {
   "cell_type": "code",
   "execution_count": 148,
   "id": "c55e0510",
   "metadata": {},
   "outputs": [
    {
     "data": {
      "text/plain": [
       "'Yellow'"
      ]
     },
     "execution_count": 148,
     "metadata": {},
     "output_type": "execute_result"
    }
   ],
   "source": [
    "el2.color"
   ]
  },
  {
   "cell_type": "code",
   "execution_count": null,
   "id": "2d8170ad",
   "metadata": {},
   "outputs": [],
   "source": []
  }
 ],
 "metadata": {
  "kernelspec": {
   "display_name": "Python 3 (ipykernel)",
   "language": "python",
   "name": "python3"
  },
  "language_info": {
   "codemirror_mode": {
    "name": "ipython",
    "version": 3
   },
   "file_extension": ".py",
   "mimetype": "text/x-python",
   "name": "python",
   "nbconvert_exporter": "python",
   "pygments_lexer": "ipython3",
   "version": "3.9.12"
  }
 },
 "nbformat": 4,
 "nbformat_minor": 5
}
