{
 "cells": [
  {
   "cell_type": "code",
   "execution_count": 1,
   "id": "3c65ae0f",
   "metadata": {},
   "outputs": [],
   "source": [
    "def userBio(name,father_name,**other):\n",
    "    dict={}\n",
    "    dict['Name Of Student']=name\n",
    "    dict['Father Name']=father_name\n",
    "    dict['others']=other\n",
    "    return dict"
   ]
  },
  {
   "cell_type": "code",
   "execution_count": 2,
   "id": "4232e2c9",
   "metadata": {},
   "outputs": [
    {
     "data": {
      "text/plain": [
       "{'Name Of Student': 'Talha',\n",
       " 'Father Name': 'Abdul Rehman',\n",
       " 'others': {'Address': 'Saima Arabian', 'Block': 'C'}}"
      ]
     },
     "execution_count": 2,
     "metadata": {},
     "output_type": "execute_result"
    }
   ],
   "source": [
    "userBio('Talha','Abdul Rehman',Address='Saima Arabian',Block='C')"
   ]
  },
  {
   "cell_type": "code",
   "execution_count": 3,
   "id": "d21dacf7",
   "metadata": {},
   "outputs": [],
   "source": [
    "def userBio(name,father_name,**other):\n",
    "    dict={}\n",
    "    dict['Name Of Student']=name\n",
    "    dict['Father Name']=father_name\n",
    "    for i,k in other.items():\n",
    "        dict[i]=k\n",
    "    return dict"
   ]
  },
  {
   "cell_type": "code",
   "execution_count": 4,
   "id": "528ea3a6",
   "metadata": {},
   "outputs": [
    {
     "data": {
      "text/plain": [
       "{'Name Of Student': 'Talha',\n",
       " 'Father Name': 'Abdul Rehman',\n",
       " 'Address': 'Saima Arabian',\n",
       " 'Block': 'C'}"
      ]
     },
     "execution_count": 4,
     "metadata": {},
     "output_type": "execute_result"
    }
   ],
   "source": [
    "userBio('Talha','Abdul Rehman',Address='Saima Arabian',Block='C')"
   ]
  },
  {
   "cell_type": "code",
   "execution_count": 5,
   "id": "2e89d296",
   "metadata": {},
   "outputs": [],
   "source": [
    "def make_album(artist_name,title_name):\n",
    "    album={}\n",
    "    album['Artist Name']=artist_name\n",
    "    album['Album title']=title_name\n",
    "    return album"
   ]
  },
  {
   "cell_type": "code",
   "execution_count": 6,
   "id": "13d6bd34",
   "metadata": {},
   "outputs": [
    {
     "data": {
      "text/plain": [
       "{'Artist Name': 'Atif Aslam', 'Album title': 'title1'}"
      ]
     },
     "execution_count": 6,
     "metadata": {},
     "output_type": "execute_result"
    }
   ],
   "source": [
    "make_album('Atif Aslam','title1')"
   ]
  },
  {
   "cell_type": "code",
   "execution_count": 7,
   "id": "78c49dbd",
   "metadata": {},
   "outputs": [],
   "source": [
    "def make_album(artist_name,title_name,num_of_track=5):\n",
    "    album={}\n",
    "    album['Artist Name']=artist_name\n",
    "    album['Album title']=title_name\n",
    "    if num_of_track:\n",
    "        album['Track Number']=int(num_of_track)\n",
    "    return album"
   ]
  },
  {
   "cell_type": "code",
   "execution_count": 8,
   "id": "7a3d3222",
   "metadata": {},
   "outputs": [
    {
     "data": {
      "text/plain": [
       "{'Artist Name': 'Atif', 'Album title': 'title1', 'Track Number': 5}"
      ]
     },
     "execution_count": 8,
     "metadata": {},
     "output_type": "execute_result"
    }
   ],
   "source": [
    "make_album('Atif','title1')"
   ]
  },
  {
   "cell_type": "code",
   "execution_count": 9,
   "id": "366cf498",
   "metadata": {},
   "outputs": [],
   "source": [
    "def make_album(artist_name,title_name,num_of_track=None):\n",
    "    album={}\n",
    "    album['Artist Name']=artist_name\n",
    "    album['Album title']=title_name\n",
    "    if num_of_track:\n",
    "        album['Track Number']=int(num_of_track)\n",
    "    return album"
   ]
  },
  {
   "cell_type": "code",
   "execution_count": 10,
   "id": "7b8eba94",
   "metadata": {},
   "outputs": [
    {
     "data": {
      "text/plain": [
       "{'Artist Name': 'Atif', 'Album title': 'Title1', 'Track Number': 23}"
      ]
     },
     "execution_count": 10,
     "metadata": {},
     "output_type": "execute_result"
    }
   ],
   "source": [
    "make_album('Atif','Title1',23)"
   ]
  },
  {
   "cell_type": "code",
   "execution_count": 1,
   "id": "2fbc2465",
   "metadata": {},
   "outputs": [],
   "source": [
    "def make_album(artist_name,title_name,num_of_track=None):\n",
    "    album={}\n",
    "    album['Artist Name']=artist_name\n",
    "    album['Album title']=title_name\n",
    "    if num_of_track:\n",
    "        album['Track Number']=int(num_of_track)\n",
    "    return album"
   ]
  },
  {
   "cell_type": "code",
   "execution_count": 7,
   "id": "10bc6d1a",
   "metadata": {},
   "outputs": [
    {
     "name": "stdout",
     "output_type": "stream",
     "text": [
      "enter your artist nameAtif Aslam\n",
      "enter your title namealbum1\n",
      "{'Artist Name': 'Atif Aslam', 'Album title': 'album1'}\n",
      "enter your artist nameq\n"
     ]
    }
   ],
   "source": [
    "while True:\n",
    "    artist_name=input('enter your artist name')\n",
    "    if artist_name=='q':\n",
    "        break\n",
    "    title_name=input('enter your title name')\n",
    "    if title_name=='q':\n",
    "        break\n",
    "    print(make_album(artist_name,title_name))\n",
    "    "
   ]
  },
  {
   "cell_type": "code",
   "execution_count": null,
   "id": "9f219e02",
   "metadata": {},
   "outputs": [],
   "source": []
  }
 ],
 "metadata": {
  "kernelspec": {
   "display_name": "Python 3 (ipykernel)",
   "language": "python",
   "name": "python3"
  },
  "language_info": {
   "codemirror_mode": {
    "name": "ipython",
    "version": 3
   },
   "file_extension": ".py",
   "mimetype": "text/x-python",
   "name": "python",
   "nbconvert_exporter": "python",
   "pygments_lexer": "ipython3",
   "version": "3.9.12"
  }
 },
 "nbformat": 4,
 "nbformat_minor": 5
}
