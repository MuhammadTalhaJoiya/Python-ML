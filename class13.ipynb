{
 "cells": [
  {
   "cell_type": "markdown",
   "id": "847f712e",
   "metadata": {},
   "source": [
    "# File handling"
   ]
  },
  {
   "cell_type": "code",
   "execution_count": 4,
   "id": "bdb47321",
   "metadata": {},
   "outputs": [
    {
     "name": "stdout",
     "output_type": "stream",
     "text": [
      "Q;What is your name?\n",
      "\n"
     ]
    }
   ],
   "source": [
    "with open('student.txt','r') as f:\n",
    "    a=f.readline()\n",
    "    print(a)"
   ]
  },
  {
   "cell_type": "code",
   "execution_count": 5,
   "id": "d04efd31",
   "metadata": {},
   "outputs": [
    {
     "name": "stdout",
     "output_type": "stream",
     "text": [
      "['Q;What is your name?\\n', 'A;My name is Talha']\n"
     ]
    }
   ],
   "source": [
    "with open('student.txt','r') as f:\n",
    "    a=f.readlines()\n",
    "    print(a)"
   ]
  },
  {
   "cell_type": "code",
   "execution_count": 6,
   "id": "5b6fc4c3",
   "metadata": {},
   "outputs": [
    {
     "name": "stdout",
     "output_type": "stream",
     "text": [
      "Q;What is your name?\n",
      "\n",
      "A;My name is Talha\n"
     ]
    }
   ],
   "source": [
    "with open('student.txt','r') as f:\n",
    "    a=f.readlines()\n",
    "    for i in a:\n",
    "        print(i)"
   ]
  },
  {
   "cell_type": "code",
   "execution_count": 79,
   "id": "581e96d5",
   "metadata": {},
   "outputs": [
    {
     "name": "stdout",
     "output_type": "stream",
     "text": [
      "I am data scientist\n"
     ]
    }
   ],
   "source": [
    "with open('talhajoiya.txt','w+') as f:\n",
    "    f.write('I am data scientist')\n",
    "    f.seek(0)\n",
    "    print(f.read()) #it is use most of the cases"
   ]
  },
  {
   "cell_type": "code",
   "execution_count": 80,
   "id": "c7eefdf4",
   "metadata": {},
   "outputs": [
    {
     "name": "stdout",
     "output_type": "stream",
     "text": [
      "I am a AI engineert\n"
     ]
    }
   ],
   "source": [
    "with open('talhajoiya.txt','r+') as f:\n",
    "    f.write('I am a AI engineer')\n",
    "    f.seek(0)\n",
    "    print(f.read())"
   ]
  },
  {
   "cell_type": "code",
   "execution_count": 81,
   "id": "6b360c53",
   "metadata": {},
   "outputs": [],
   "source": [
    "with open('talhajoiya.txt','a') as f:\n",
    "    f.write('I am a data scientist')\n",
    "    f.write('I am a data scientist.')"
   ]
  },
  {
   "cell_type": "code",
   "execution_count": 82,
   "id": "0161d147",
   "metadata": {},
   "outputs": [
    {
     "name": "stdout",
     "output_type": "stream",
     "text": [
      "I am a AI engineertI am a data scientistI am a data scientist.\n"
     ]
    }
   ],
   "source": [
    "with open('talhajoiya.txt','r+') as f:\n",
    "    print(f.read())"
   ]
  },
  {
   "cell_type": "code",
   "execution_count": 85,
   "id": "c7a2d7f9",
   "metadata": {},
   "outputs": [
    {
     "name": "stdout",
     "output_type": "stream",
     "text": [
      "['I am a AI engineertI am a data scientistI am a data scientist.']\n"
     ]
    }
   ],
   "source": [
    "with open('talhajoiya.txt','r+') as f:\n",
    "    a=f.readlines()\n",
    "    print(a)\n",
    "    for i in a:\n",
    "        with open('new1.txt','a') as f:\n",
    "            f.write(i)\n",
    "    "
   ]
  },
  {
   "cell_type": "code",
   "execution_count": 86,
   "id": "980c0e55",
   "metadata": {},
   "outputs": [
    {
     "name": "stdout",
     "output_type": "stream",
     "text": [
      "I am a AI engineertI am a data scientistI am a data scientist.\n"
     ]
    }
   ],
   "source": [
    "with open('new1.txt','r') as f:\n",
    "    print(f.read())"
   ]
  },
  {
   "cell_type": "code",
   "execution_count": 2,
   "id": "029501db",
   "metadata": {},
   "outputs": [],
   "source": [
    "import csv"
   ]
  },
  {
   "cell_type": "code",
   "execution_count": 23,
   "id": "69fabef1",
   "metadata": {},
   "outputs": [
    {
     "name": "stdout",
     "output_type": "stream",
     "text": [
      "['Player', 'Sports']\n",
      "['Babar Azam', 'Cricket']\n",
      "['Jahangir Khan', 'Scoish']\n",
      "[]\n"
     ]
    }
   ],
   "source": [
    "with open('record.csv','r') as f:\n",
    "    a=csv.reader(f)\n",
    "    for i in a:\n",
    "        print(i)"
   ]
  },
  {
   "cell_type": "code",
   "execution_count": 24,
   "id": "6e1a5ea3",
   "metadata": {},
   "outputs": [],
   "source": [
    "with open('record.csv','a')as f:\n",
    "    data_handler=csv.writer(f,delimiter=',')\n",
    "    data_handler.writerow(['Shadab Khan','Cricket'])"
   ]
  },
  {
   "cell_type": "code",
   "execution_count": 25,
   "id": "2e7adf7d",
   "metadata": {},
   "outputs": [
    {
     "name": "stdout",
     "output_type": "stream",
     "text": [
      "['Player', 'Sports']\n",
      "['Babar Azam', 'Cricket']\n",
      "['Jahangir Khan', 'Scoish']\n",
      "[]\n",
      "['Shadab Khan', 'Cricket']\n",
      "[]\n"
     ]
    }
   ],
   "source": [
    "with open('record.csv','r')as f:\n",
    "    a=csv.reader(f)\n",
    "    for i in a:\n",
    "        print(i)\n",
    "    "
   ]
  },
  {
   "cell_type": "code",
   "execution_count": 1,
   "id": "7a5a23ef",
   "metadata": {},
   "outputs": [],
   "source": [
    "import json"
   ]
  },
  {
   "cell_type": "code",
   "execution_count": 2,
   "id": "04dee80c",
   "metadata": {},
   "outputs": [],
   "source": [
    "a={'name':'Talha','School':'Usman Public'}"
   ]
  },
  {
   "cell_type": "code",
   "execution_count": 4,
   "id": "af387380",
   "metadata": {},
   "outputs": [],
   "source": [
    "with open('jsonfile.json','w') as f:\n",
    "    json.dump(a,f)"
   ]
  },
  {
   "cell_type": "code",
   "execution_count": 8,
   "id": "c5b9bdca",
   "metadata": {},
   "outputs": [
    {
     "name": "stdout",
     "output_type": "stream",
     "text": [
      "{'name': 'Talha', 'School': 'Usman Public'}\n",
      "Talha\n"
     ]
    }
   ],
   "source": [
    "with open('jsonfile.json','r') as f:\n",
    "    a=json.load(f)\n",
    "    print(a)\n",
    "    print(a['name'])"
   ]
  },
  {
   "cell_type": "markdown",
   "id": "0339667d",
   "metadata": {},
   "source": [
    "dictionary comprehension"
   ]
  },
  {
   "cell_type": "code",
   "execution_count": 10,
   "id": "35c82bc0",
   "metadata": {},
   "outputs": [],
   "source": [
    "a={i:i*i for i in range(40)}"
   ]
  },
  {
   "cell_type": "code",
   "execution_count": 14,
   "id": "0c10ff0d",
   "metadata": {},
   "outputs": [
    {
     "data": {
      "text/plain": [
       "{0: 0,\n",
       " 1: 1,\n",
       " 2: 4,\n",
       " 3: 9,\n",
       " 4: 16,\n",
       " 5: 25,\n",
       " 6: 36,\n",
       " 7: 49,\n",
       " 8: 64,\n",
       " 9: 81,\n",
       " 10: 100,\n",
       " 11: 121,\n",
       " 12: 144,\n",
       " 13: 169,\n",
       " 14: 196,\n",
       " 15: 225,\n",
       " 16: 256,\n",
       " 17: 289,\n",
       " 18: 324,\n",
       " 19: 361,\n",
       " 20: 400,\n",
       " 21: 441,\n",
       " 22: 484,\n",
       " 23: 529,\n",
       " 24: 576,\n",
       " 25: 625,\n",
       " 26: 676,\n",
       " 27: 729,\n",
       " 28: 784,\n",
       " 29: 841,\n",
       " 30: 900,\n",
       " 31: 961,\n",
       " 32: 1024,\n",
       " 33: 1089,\n",
       " 34: 1156,\n",
       " 35: 1225,\n",
       " 36: 1296,\n",
       " 37: 1369,\n",
       " 38: 1444,\n",
       " 39: 1521}"
      ]
     },
     "execution_count": 14,
     "metadata": {},
     "output_type": "execute_result"
    }
   ],
   "source": [
    "a"
   ]
  },
  {
   "cell_type": "code",
   "execution_count": 11,
   "id": "c4e7a4de",
   "metadata": {},
   "outputs": [],
   "source": [
    "with open('jsonfile2.json','w') as f:\n",
    "    json.dump(a,f)"
   ]
  },
  {
   "cell_type": "code",
   "execution_count": 16,
   "id": "5dc87996",
   "metadata": {},
   "outputs": [
    {
     "name": "stdout",
     "output_type": "stream",
     "text": [
      "{'0': 0, '1': 1, '2': 4, '3': 9, '4': 16, '5': 25, '6': 36, '7': 49, '8': 64, '9': 81, '10': 100, '11': 121, '12': 144, '13': 169, '14': 196, '15': 225, '16': 256, '17': 289, '18': 324, '19': 361, '20': 400, '21': 441, '22': 484, '23': 529, '24': 576, '25': 625, '26': 676, '27': 729, '28': 784, '29': 841, '30': 900, '31': 961, '32': 1024, '33': 1089, '34': 1156, '35': 1225, '36': 1296, '37': 1369, '38': 1444, '39': 1521}\n",
      "9\n"
     ]
    }
   ],
   "source": [
    "with open('jsonfile2.json','r')as f:\n",
    "    v=json.load(f)\n",
    "    print(v)\n",
    "    print(v['3'])"
   ]
  },
  {
   "cell_type": "code",
   "execution_count": null,
   "id": "be073e0e",
   "metadata": {},
   "outputs": [],
   "source": []
  }
 ],
 "metadata": {
  "kernelspec": {
   "display_name": "Python 3 (ipykernel)",
   "language": "python",
   "name": "python3"
  },
  "language_info": {
   "codemirror_mode": {
    "name": "ipython",
    "version": 3
   },
   "file_extension": ".py",
   "mimetype": "text/x-python",
   "name": "python",
   "nbconvert_exporter": "python",
   "pygments_lexer": "ipython3",
   "version": "3.9.12"
  }
 },
 "nbformat": 4,
 "nbformat_minor": 5
}
