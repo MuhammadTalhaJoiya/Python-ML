{
 "cells": [
  {
   "cell_type": "markdown",
   "id": "de7a0998",
   "metadata": {},
   "source": [
    "# Topic Print()"
   ]
  },
  {
   "cell_type": "markdown",
   "id": "63cb9689",
   "metadata": {},
   "source": [
    "1) Using the python print function print any string value, integer value, boolean value, float value in single print command"
   ]
  },
  {
   "cell_type": "code",
   "execution_count": 3,
   "id": "5c9da181",
   "metadata": {},
   "outputs": [
    {
     "name": "stdout",
     "output_type": "stream",
     "text": [
      "12 True Pakistan 23.33"
     ]
    }
   ],
   "source": [
    "print(12,12>6,'Pakistan',23.33,end='')"
   ]
  },
  {
   "cell_type": "markdown",
   "id": "1f66c420",
   "metadata": {},
   "source": [
    "2) Using the python print function print hyphon(-) separated any string value, integer value, boolean value, float value in single print command"
   ]
  },
  {
   "cell_type": "code",
   "execution_count": 4,
   "id": "8e1e78eb",
   "metadata": {},
   "outputs": [
    {
     "name": "stdout",
     "output_type": "stream",
     "text": [
      "Pakistan-23-12.56-True\n"
     ]
    }
   ],
   "source": [
    "print('Pakistan',23,12.56,20>10,sep='-')"
   ]
  },
  {
   "cell_type": "markdown",
   "id": "deeab08d",
   "metadata": {},
   "source": [
    "3) Using the python print function print any string value, integer value, boolean value, float value in separate print command.\n",
    "But every value must be space separated and in single line "
   ]
  },
  {
   "cell_type": "code",
   "execution_count": 5,
   "id": "6a68bd60",
   "metadata": {},
   "outputs": [
    {
     "name": "stdout",
     "output_type": "stream",
     "text": [
      "Pakistan 23 54.45 True\n"
     ]
    }
   ],
   "source": [
    "print('Pakistan',23,54.45,12>11,sep=' ')"
   ]
  },
  {
   "cell_type": "markdown",
   "id": "c25f9216",
   "metadata": {},
   "source": [
    "4) Can a python print function take no value to print???"
   ]
  },
  {
   "cell_type": "code",
   "execution_count": 7,
   "id": "abe7c7d8",
   "metadata": {},
   "outputs": [
    {
     "name": "stdout",
     "output_type": "stream",
     "text": [
      "None\n"
     ]
    }
   ],
   "source": [
    "a=None\n",
    "print(a)"
   ]
  },
  {
   "cell_type": "code",
   "execution_count": 8,
   "id": "ea17f82c",
   "metadata": {},
   "outputs": [],
   "source": [
    "# TOPIC :Variables in Python Operators"
   ]
  },
  {
   "cell_type": "markdown",
   "id": "ae6aba38",
   "metadata": {},
   "source": [
    "5) One of my friends name is Mr. Ahmed. He is 30 years old.  He is a lawer by profession. He has done his bachelors in law in the year 2005. He is working with a reputable law firm 'The Himalya Associates' in Karachi since 2015.\n",
    "He is a handsome lawer with height of 5.10 feets and weight 70600g. His monthly income is Rs. 200k PKR.\n",
    "\n",
    "Note: Create variables from above text and also assign values from the text.  "
   ]
  },
  {
   "cell_type": "code",
   "execution_count": 21,
   "id": "995ee387",
   "metadata": {},
   "outputs": [
    {
     "name": "stdout",
     "output_type": "stream",
     "text": [
      "one of my friends name is Mr.Ahmad.He is 30 year old.he is lawer by profession.he has done his bachelors in law in the year 2005.he is working with a reputable law firm The Himalya Associates in Karchi since 2015.He is a handsome lawer with height of 5.1 and weight 70600.His monthly income is 200 PKR \n"
     ]
    }
   ],
   "source": [
    "name='Mr.Ahmad'\n",
    "age=30\n",
    "passing_year=2005\n",
    "firm='The Himalya Associates'\n",
    "joining_firm=2015\n",
    "height=5.10\n",
    "weight=70600\n",
    "income=200\n",
    "print(f'one of my friends name is {name}.He is {age} year old.he is lawer by profession.he has done his bachelors in law in the year {passing_year}.he is working with a reputable law firm {firm} in Karchi since {joining_firm}.He is a handsome lawer with height of {height} and weight {weight}.His monthly income is {income} PKR ')"
   ]
  },
  {
   "cell_type": "markdown",
   "id": "373eb098",
   "metadata": {},
   "source": [
    "6)How many years has been to Mr. Ahmed after his bachelors degree? Create a variable that hold current year value and then subtract it from his passout year"
   ]
  },
  {
   "cell_type": "code",
   "execution_count": 12,
   "id": "3e90a9a9",
   "metadata": {},
   "outputs": [
    {
     "name": "stdout",
     "output_type": "stream",
     "text": [
      "Mr Ahmad graduate 17 year ago\n"
     ]
    }
   ],
   "source": [
    "passing_year=2005\n",
    "current_year=2022\n",
    "time_to_bachelors=current_year-passing_year\n",
    "print(f'Mr Ahmad graduate {time_to_bachelors} year ago')"
   ]
  },
  {
   "cell_type": "markdown",
   "id": "d2e16bec",
   "metadata": {},
   "source": [
    "7) How many years has Mr. Ahmed been working with law firm 'The Himalya Associates'. Create necesary variables and print the correct number of years in working in the firm"
   ]
  },
  {
   "cell_type": "code",
   "execution_count": 15,
   "id": "8c84c76e",
   "metadata": {},
   "outputs": [
    {
     "name": "stdout",
     "output_type": "stream",
     "text": [
      "Mr.Ahmad has 7 since joining firm\n"
     ]
    }
   ],
   "source": [
    "joining_firm=2015\n",
    "current_year=2022\n",
    "time_to_firm=current_year-joining_firm\n",
    "print(f'Mr.Ahmad has {time_to_firm} since joining firm')"
   ]
  },
  {
   "cell_type": "markdown",
   "id": "4a653c97",
   "metadata": {},
   "source": [
    "8)Convert the monthly income of Mr. Ahmed in dollars.  Create necesary variables and print the income in dollars."
   ]
  },
  {
   "cell_type": "code",
   "execution_count": 18,
   "id": "a48822c6",
   "metadata": {},
   "outputs": [
    {
     "name": "stdout",
     "output_type": "stream",
     "text": [
      "Mr Ahmad monthly income is 1.0\n"
     ]
    }
   ],
   "source": [
    "dollars=200/200\n",
    "print(f'Mr Ahmad monthly income is {dollars}')"
   ]
  },
  {
   "cell_type": "markdown",
   "id": "f706ced2",
   "metadata": {},
   "source": [
    "9) Check if the income in dollars is a float or integer value. if it is float, re-write the code so that income gets converted in integer. print the income in integer type value"
   ]
  },
  {
   "cell_type": "code",
   "execution_count": 30,
   "id": "ce1683ef",
   "metadata": {},
   "outputs": [],
   "source": [
    "income=float(200)"
   ]
  },
  {
   "cell_type": "code",
   "execution_count": 31,
   "id": "a2db4ddd",
   "metadata": {},
   "outputs": [
    {
     "name": "stdout",
     "output_type": "stream",
     "text": [
      "Mr Ahmad income is 200.0\n"
     ]
    }
   ],
   "source": [
    "print(f'Mr Ahmad income is {income}')"
   ]
  },
  {
   "cell_type": "markdown",
   "id": "4fd853c5",
   "metadata": {},
   "source": [
    "10) Print the type of Mr. Ahmed's weight. Convert the weight of Mr. Ahmed in kg so that weight must be a integer value. "
   ]
  },
  {
   "cell_type": "code",
   "execution_count": 35,
   "id": "08ccd154",
   "metadata": {},
   "outputs": [
    {
     "data": {
      "text/plain": [
       "70"
      ]
     },
     "execution_count": 35,
     "metadata": {},
     "output_type": "execute_result"
    }
   ],
   "source": [
    "weight\n",
    "weight_kg=weight//1000\n",
    "weight_kg"
   ]
  },
  {
   "cell_type": "code",
   "execution_count": 37,
   "id": "0c12b7a4",
   "metadata": {},
   "outputs": [
    {
     "name": "stdout",
     "output_type": "stream",
     "text": [
      "the weight of Mr Ahmad is 70\n"
     ]
    }
   ],
   "source": [
    "print(f'the weight of Mr Ahmad is {weight_kg}')"
   ]
  },
  {
   "cell_type": "markdown",
   "id": "3cf3ef9f",
   "metadata": {},
   "source": [
    "11) print the year of birth of Mr. Ahmed."
   ]
  },
  {
   "cell_type": "code",
   "execution_count": 41,
   "id": "d53d4ab7",
   "metadata": {},
   "outputs": [
    {
     "name": "stdout",
     "output_type": "stream",
     "text": [
      "year of birthday of Mr Ahmad is 1992\n"
     ]
    }
   ],
   "source": [
    "year_of_birthday=2022-age\n",
    "print(f'year of birthday of Mr Ahmad is {year_of_birthday}')"
   ]
  },
  {
   "cell_type": "markdown",
   "id": "b24a738c",
   "metadata": {},
   "source": [
    "12) Can Rs. 100 be divided equally among 6 students? \n",
    "HINT: % operator"
   ]
  },
  {
   "cell_type": "code",
   "execution_count": 45,
   "id": "e1cd5c57",
   "metadata": {},
   "outputs": [
    {
     "name": "stdout",
     "output_type": "stream",
     "text": [
      "the division is not possible among 6 students\n"
     ]
    }
   ],
   "source": [
    "division=100%6\n",
    "division\n",
    "print('the division is not possible among 6 students')"
   ]
  },
  {
   "cell_type": "code",
   "execution_count": 1,
   "id": "0c114e81",
   "metadata": {},
   "outputs": [],
   "source": [
    "a=7\n"
   ]
  },
  {
   "cell_type": "code",
   "execution_count": 2,
   "id": "f0aa2b54",
   "metadata": {},
   "outputs": [
    {
     "data": {
      "text/plain": [
       "7"
      ]
     },
     "execution_count": 2,
     "metadata": {},
     "output_type": "execute_result"
    }
   ],
   "source": [
    "a"
   ]
  },
  {
   "cell_type": "code",
   "execution_count": null,
   "id": "47329e1c",
   "metadata": {},
   "outputs": [],
   "source": []
  }
 ],
 "metadata": {
  "kernelspec": {
   "display_name": "Python 3 (ipykernel)",
   "language": "python",
   "name": "python3"
  },
  "language_info": {
   "codemirror_mode": {
    "name": "ipython",
    "version": 3
   },
   "file_extension": ".py",
   "mimetype": "text/x-python",
   "name": "python",
   "nbconvert_exporter": "python",
   "pygments_lexer": "ipython3",
   "version": "3.9.12"
  }
 },
 "nbformat": 4,
 "nbformat_minor": 5
}
