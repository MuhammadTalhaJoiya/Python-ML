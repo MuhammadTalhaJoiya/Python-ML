{
 "cells": [
  {
   "cell_type": "code",
   "execution_count": 1,
   "id": "493a5833",
   "metadata": {},
   "outputs": [
    {
     "name": "stdout",
     "output_type": "stream",
     "text": [
      "enter your roll1\n",
      "enter your roll2\n",
      "enter your roll4\n",
      "you are not the student\n",
      "enter your correct roll number5\n",
      "enter your roll6\n",
      "[1, 2, 5, 6]\n"
     ]
    }
   ],
   "source": [
    "list1=[1,2,5,6]\n",
    "ag=[]\n",
    "for i in range(len(list1)):\n",
    "    \n",
    "    try:\n",
    "        a=int(input(\"enter your roll\"))\n",
    "    except Exception as e:\n",
    "        print(e)\n",
    "    else:\n",
    "        \n",
    "        if a in list1:\n",
    "            ag.append(a)\n",
    "        else:\n",
    "            print('you are not the student')\n",
    "            agr=int(input('enter your correct roll number'))\n",
    "            if agr in list1:\n",
    "                ag.append(agr)\n",
    "            if agr not in list1:\n",
    "                while True:\n",
    "                    agr=int(input('enter your correct roll number'))\n",
    "                    if agr in list1:\n",
    "                        ag.append(agr)\n",
    "                        break\n",
    "print(ag)"
   ]
  },
  {
   "cell_type": "code",
   "execution_count": null,
   "id": "7c8f8268",
   "metadata": {},
   "outputs": [],
   "source": []
  }
 ],
 "metadata": {
  "kernelspec": {
   "display_name": "Python 3 (ipykernel)",
   "language": "python",
   "name": "python3"
  },
  "language_info": {
   "codemirror_mode": {
    "name": "ipython",
    "version": 3
   },
   "file_extension": ".py",
   "mimetype": "text/x-python",
   "name": "python",
   "nbconvert_exporter": "python",
   "pygments_lexer": "ipython3",
   "version": "3.9.12"
  }
 },
 "nbformat": 4,
 "nbformat_minor": 5
}
