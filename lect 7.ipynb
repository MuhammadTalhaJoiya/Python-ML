{
 "cells": [
  {
   "cell_type": "markdown",
   "id": "e38050f7",
   "metadata": {},
   "source": [
    "# Functions"
   ]
  },
  {
   "cell_type": "code",
   "execution_count": 1,
   "id": "9fce3d86",
   "metadata": {},
   "outputs": [
    {
     "name": "stdout",
     "output_type": "stream",
     "text": [
      "enter your nametalha\n",
      "TALHA\n"
     ]
    }
   ],
   "source": [
    "#defination\n",
    "#call\n",
    "#result\n",
    "\n",
    "def nameUpper():\n",
    "    a=input('enter your name')\n",
    "    a=a.upper()\n",
    "    print(a)\n",
    "    \n",
    "nameUpper()"
   ]
  },
  {
   "cell_type": "code",
   "execution_count": 2,
   "id": "daf709b4",
   "metadata": {},
   "outputs": [
    {
     "name": "stdout",
     "output_type": "stream",
     "text": [
      "enter your nametalhajoiya\n",
      "TALHAJOIYA\n"
     ]
    }
   ],
   "source": [
    "nameUpper()"
   ]
  },
  {
   "cell_type": "code",
   "execution_count": 8,
   "id": "9664a956",
   "metadata": {},
   "outputs": [],
   "source": [
    "def squareNum(num): #here num is called parameter\n",
    "    sq=num**2\n",
    "    print(sq)"
   ]
  },
  {
   "cell_type": "code",
   "execution_count": 9,
   "id": "b9b3992a",
   "metadata": {},
   "outputs": [
    {
     "name": "stdout",
     "output_type": "stream",
     "text": [
      "100\n"
     ]
    }
   ],
   "source": [
    "squareNum(10) #here 10 is called argument"
   ]
  },
  {
   "cell_type": "code",
   "execution_count": 10,
   "id": "80c13530",
   "metadata": {},
   "outputs": [],
   "source": [
    "def squarerootNum(num):\n",
    "    global sqroot\n",
    "    sqroot=num**0.5"
   ]
  },
  {
   "cell_type": "code",
   "execution_count": 11,
   "id": "8da7df22",
   "metadata": {},
   "outputs": [],
   "source": [
    "squarerootNum(9)"
   ]
  },
  {
   "cell_type": "code",
   "execution_count": 12,
   "id": "16b68704",
   "metadata": {},
   "outputs": [
    {
     "name": "stdout",
     "output_type": "stream",
     "text": [
      "3.0\n"
     ]
    }
   ],
   "source": [
    "print(sqroot)"
   ]
  },
  {
   "cell_type": "markdown",
   "id": "56d996de",
   "metadata": {},
   "source": [
    "task:how to get result or value back from function"
   ]
  },
  {
   "cell_type": "code",
   "execution_count": 32,
   "id": "8414cc12",
   "metadata": {},
   "outputs": [],
   "source": [
    "def areaofTriangle(l,b):\n",
    "    area=l*b*0.5\n",
    "    return area"
   ]
  },
  {
   "cell_type": "code",
   "execution_count": 38,
   "id": "19c7b488",
   "metadata": {},
   "outputs": [
    {
     "data": {
      "text/plain": [
       "10.0"
      ]
     },
     "execution_count": 38,
     "metadata": {},
     "output_type": "execute_result"
    }
   ],
   "source": [
    "areaofTriangle(5,4)"
   ]
  },
  {
   "cell_type": "code",
   "execution_count": 44,
   "id": "640afc14",
   "metadata": {},
   "outputs": [],
   "source": [
    "def Triangle_area(l,b):\n",
    "    jaga=l*b*0.5\n",
    "    return jaga,l,b"
   ]
  },
  {
   "cell_type": "code",
   "execution_count": 45,
   "id": "20db9205",
   "metadata": {},
   "outputs": [
    {
     "ename": "NameError",
     "evalue": "name 'Traiangle_area' is not defined",
     "output_type": "error",
     "traceback": [
      "\u001b[1;31m---------------------------------------------------------------------------\u001b[0m",
      "\u001b[1;31mNameError\u001b[0m                                 Traceback (most recent call last)",
      "Input \u001b[1;32mIn [45]\u001b[0m, in \u001b[0;36m<cell line: 1>\u001b[1;34m()\u001b[0m\n\u001b[1;32m----> 1\u001b[0m \u001b[43mTraiangle_area\u001b[49m(\u001b[38;5;241m4\u001b[39m,\u001b[38;5;241m4\u001b[39m)\n",
      "\u001b[1;31mNameError\u001b[0m: name 'Traiangle_area' is not defined"
     ]
    }
   ],
   "source": [
    "Traiangle_area(4,4)"
   ]
  },
  {
   "cell_type": "code",
   "execution_count": 28,
   "id": "cfe7b344",
   "metadata": {},
   "outputs": [],
   "source": [
    "def studentMarks(marks):\n",
    "    if marks>=80:\n",
    "        return 'A+ Grade'\n",
    "    elif marks>=70:\n",
    "        return 'A Grade'\n",
    "    elif marks>=60:\n",
    "        return 'B Grade'"
   ]
  },
  {
   "cell_type": "code",
   "execution_count": 29,
   "id": "d0746e57",
   "metadata": {},
   "outputs": [
    {
     "data": {
      "text/plain": [
       "'B Grade'"
      ]
     },
     "execution_count": 29,
     "metadata": {},
     "output_type": "execute_result"
    }
   ],
   "source": [
    "studentMarks(66)"
   ]
  },
  {
   "cell_type": "code",
   "execution_count": 30,
   "id": "50d24229",
   "metadata": {},
   "outputs": [],
   "source": [
    "grading=studentMarks(78)"
   ]
  },
  {
   "cell_type": "code",
   "execution_count": 31,
   "id": "d370cff8",
   "metadata": {},
   "outputs": [
    {
     "name": "stdout",
     "output_type": "stream",
     "text": [
      "A Grade\n"
     ]
    }
   ],
   "source": [
    "print(grading)"
   ]
  },
  {
   "cell_type": "markdown",
   "id": "2fd4c16a",
   "metadata": {},
   "source": [
    "# default parameter"
   ]
  },
  {
   "cell_type": "code",
   "execution_count": 39,
   "id": "f02dd83a",
   "metadata": {},
   "outputs": [],
   "source": [
    "def salaryPackage(salary,allowance,bonus=0):\n",
    "    gross=salary+allowance+bonus\n",
    "    return gross"
   ]
  },
  {
   "cell_type": "code",
   "execution_count": 40,
   "id": "3bc6a044",
   "metadata": {},
   "outputs": [
    {
     "data": {
      "text/plain": [
       "22000"
      ]
     },
     "execution_count": 40,
     "metadata": {},
     "output_type": "execute_result"
    }
   ],
   "source": [
    "salaryPackage(20000,2000)"
   ]
  },
  {
   "cell_type": "code",
   "execution_count": 41,
   "id": "6cc2777e",
   "metadata": {},
   "outputs": [],
   "source": [
    "a=salaryPackage(2000,1000,1000)"
   ]
  },
  {
   "cell_type": "code",
   "execution_count": 42,
   "id": "887d6cee",
   "metadata": {},
   "outputs": [
    {
     "name": "stdout",
     "output_type": "stream",
     "text": [
      "4000\n"
     ]
    }
   ],
   "source": [
    "print(a)"
   ]
  },
  {
   "cell_type": "code",
   "execution_count": 43,
   "id": "f0d1936a",
   "metadata": {},
   "outputs": [
    {
     "name": "stdout",
     "output_type": "stream",
     "text": [
      "22000\n"
     ]
    }
   ],
   "source": [
    "b=salaryPackage(20000,2000)\n",
    "print(b)"
   ]
  },
  {
   "cell_type": "code",
   "execution_count": null,
   "id": "86426609",
   "metadata": {},
   "outputs": [],
   "source": [
    "#git config --global user.name 'TalhaFile'\n",
    "#git config --global user.name ''\n",
    "#git add 'file name'"
   ]
  },
  {
   "cell_type": "markdown",
   "id": "71a03f3e",
   "metadata": {},
   "source": [
    "1000000 py 20 per\n",
    "500000 py 10 per\n",
    "250000 py 5 per"
   ]
  },
  {
   "cell_type": "code",
   "execution_count": 9,
   "id": "9c49ac16",
   "metadata": {},
   "outputs": [],
   "source": [
    "def taxCal(salary):\n",
    "    if salary>=1000000:\n",
    "        tax=salary*0.20\n",
    "        return tax\n",
    "#         remainingSalary=salary-tax\n",
    "#         print('remaining salary is',remainingSalary)\n",
    "    elif(salary>=500000):\n",
    "        tax=salary*0.10\n",
    "        return tax\n",
    "#         remainingsalary=salary-tax\n",
    "#         print('remaining salary is',remainingsalary)\n",
    "    elif(salary>=250000):\n",
    "        tax=salary*0.05\n",
    "        return tax\n",
    "#         remainingsalary=salary-tax\n",
    "#         print('remaining salary is',remainingsalary)\n",
    "    else:\n",
    "        tax=0\n",
    "        return tax\n",
    "#         remainingsalary=salary-tax\n",
    "#         print('remaining salary is',remainingsalary)"
   ]
  },
  {
   "cell_type": "code",
   "execution_count": 10,
   "id": "8edc1d45",
   "metadata": {},
   "outputs": [
    {
     "data": {
      "text/plain": [
       "90000.0"
      ]
     },
     "execution_count": 10,
     "metadata": {},
     "output_type": "execute_result"
    }
   ],
   "source": [
    "taxCal(900000)"
   ]
  },
  {
   "cell_type": "code",
   "execution_count": 11,
   "id": "16c4341c",
   "metadata": {},
   "outputs": [],
   "source": [
    "def grossSalary(salary,tax):\n",
    "    remainingSalary=salary-tax\n",
    "    return remainingSalary"
   ]
  },
  {
   "cell_type": "code",
   "execution_count": 12,
   "id": "14ec3d8a",
   "metadata": {},
   "outputs": [
    {
     "data": {
      "text/plain": [
       "237500.0"
      ]
     },
     "execution_count": 12,
     "metadata": {},
     "output_type": "execute_result"
    }
   ],
   "source": [
    "grossSalary(250000,taxCal(250000))"
   ]
  },
  {
   "cell_type": "code",
   "execution_count": 1,
   "id": "62d8eee7",
   "metadata": {},
   "outputs": [],
   "source": [
    "def salaryBonus(salary,bonus=7):\n",
    "    return salary,bonus"
   ]
  },
  {
   "cell_type": "code",
   "execution_count": 3,
   "id": "f49457d5",
   "metadata": {},
   "outputs": [],
   "source": [
    "salary,bonus=salaryBonus(2000,222)"
   ]
  },
  {
   "cell_type": "code",
   "execution_count": 4,
   "id": "fc58075f",
   "metadata": {},
   "outputs": [
    {
     "data": {
      "text/plain": [
       "2000"
      ]
     },
     "execution_count": 4,
     "metadata": {},
     "output_type": "execute_result"
    }
   ],
   "source": [
    "salary"
   ]
  },
  {
   "cell_type": "code",
   "execution_count": 5,
   "id": "3c355504",
   "metadata": {},
   "outputs": [
    {
     "data": {
      "text/plain": [
       "222"
      ]
     },
     "execution_count": 5,
     "metadata": {},
     "output_type": "execute_result"
    }
   ],
   "source": [
    "bonus"
   ]
  },
  {
   "cell_type": "code",
   "execution_count": 7,
   "id": "11854f0b",
   "metadata": {},
   "outputs": [],
   "source": [
    "salaryBonus=salaryBonus(2000)"
   ]
  },
  {
   "cell_type": "code",
   "execution_count": 8,
   "id": "b0db94c0",
   "metadata": {},
   "outputs": [
    {
     "data": {
      "text/plain": [
       "2000"
      ]
     },
     "execution_count": 8,
     "metadata": {},
     "output_type": "execute_result"
    }
   ],
   "source": [
    "salary"
   ]
  },
  {
   "cell_type": "code",
   "execution_count": 9,
   "id": "b53b951e",
   "metadata": {},
   "outputs": [
    {
     "data": {
      "text/plain": [
       "222"
      ]
     },
     "execution_count": 9,
     "metadata": {},
     "output_type": "execute_result"
    }
   ],
   "source": [
    "bonus"
   ]
  },
  {
   "cell_type": "code",
   "execution_count": 43,
   "id": "6d4d8f51",
   "metadata": {},
   "outputs": [],
   "source": [
    "def dict(name,fatherName,age=''):\n",
    "    bio={'name':name,'Father name':fatherName}\n",
    "    if age:\n",
    "        bio['age']=age\n",
    "    return bio"
   ]
  },
  {
   "cell_type": "code",
   "execution_count": 44,
   "id": "3ab05b81",
   "metadata": {},
   "outputs": [
    {
     "data": {
      "text/plain": [
       "{'name': 'Talha', 'Father name': 'Abdul Rehman'}"
      ]
     },
     "execution_count": 44,
     "metadata": {},
     "output_type": "execute_result"
    }
   ],
   "source": [
    "dict('Talha','Abdul Rehman')"
   ]
  },
  {
   "cell_type": "code",
   "execution_count": 48,
   "id": "f0727bad",
   "metadata": {},
   "outputs": [
    {
     "data": {
      "text/plain": [
       "{'name': 'Talha', 'Father name': 'Abdul Rehman', 'age': 45}"
      ]
     },
     "execution_count": 48,
     "metadata": {},
     "output_type": "execute_result"
    }
   ],
   "source": [
    "dict('Talha','Abdul Rehman',age=45)"
   ]
  },
  {
   "cell_type": "code",
   "execution_count": 49,
   "id": "56e60e12",
   "metadata": {},
   "outputs": [],
   "source": [
    "def School(name,classname,rollnumber=''):\n",
    "    dict={'School Name':name,'Class':classname}\n",
    "    if rollnumber:\n",
    "        dict['Roll number']=rollnumber\n",
    "    return dict"
   ]
  },
  {
   "cell_type": "code",
   "execution_count": 50,
   "id": "244bf663",
   "metadata": {},
   "outputs": [
    {
     "data": {
      "text/plain": [
       "{'School Name': 'Talha', 'Class': 'Seven'}"
      ]
     },
     "execution_count": 50,
     "metadata": {},
     "output_type": "execute_result"
    }
   ],
   "source": [
    "School('Talha','Seven')"
   ]
  },
  {
   "cell_type": "code",
   "execution_count": 55,
   "id": "a28d625f",
   "metadata": {},
   "outputs": [
    {
     "data": {
      "text/plain": [
       "{'School Name': 'Talha', 'Class': 'Eight', 'Roll number': 20}"
      ]
     },
     "execution_count": 55,
     "metadata": {},
     "output_type": "execute_result"
    }
   ],
   "source": [
    "School('Talha','Eight',rollnumber=20)"
   ]
  },
  {
   "cell_type": "markdown",
   "id": "af6837d9",
   "metadata": {},
   "source": [
    "# Using a function with a while loop"
   ]
  },
  {
   "cell_type": "markdown",
   "id": "93d67550",
   "metadata": {},
   "source": [
    "Q;you can use function with all the python structure you've learned about so far.for example,let's use the get_formatted_name()function with a while loop to greet users more formally.here's first attempt at greeting people using their first and last names"
   ]
  },
  {
   "cell_type": "markdown",
   "id": "0f1f9bd3",
   "metadata": {},
   "source": [
    "Q;for this example,we use a simple version of get_formated_name()that does not involve middle names.The while loop asks the user to enter their name,and we prompt for their first and last name seperately.\n",
    "but there's one problem with this while loop;we haven't defined a quit condition.where do you put a quit condition when you ask for a series of inputs?We want the user to be able to quit as easily as possible,so each prompt should offer a way to quit.The break statement offers a straightforward way to exit the loop at either prompt"
   ]
  },
  {
   "cell_type": "code",
   "execution_count": 21,
   "id": "771a350a",
   "metadata": {},
   "outputs": [],
   "source": [
    "def formatted_name(name1,name2):\n",
    "    formatted=name1+' '+name2\n",
    "    return formatted.title()"
   ]
  },
  {
   "cell_type": "code",
   "execution_count": 78,
   "id": "5d2e659d",
   "metadata": {},
   "outputs": [],
   "source": [
    "def greet():\n",
    "    while True:\n",
    "        f_name=input('enter your first name\\n')\n",
    "        l_name=input('enter your second name\\n')\n",
    "        if f_name=='q':\n",
    "            break\n",
    "#         else:\n",
    "#             if l_name=='q':\n",
    "#                 break\n",
    "        elif l_name=='q':\n",
    "                break\n",
    "        a=print('Salam',formatted_name(f_name,l_name))"
   ]
  },
  {
   "cell_type": "code",
   "execution_count": 79,
   "id": "2ab56f82",
   "metadata": {},
   "outputs": [
    {
     "name": "stdout",
     "output_type": "stream",
     "text": [
      "enter your first name\n",
      "talha\n",
      "enter your second name\n",
      "joiya\n",
      "Salam Talha Joiya\n",
      "enter your first name\n",
      "q\n",
      "enter your second name\n",
      "q\n"
     ]
    }
   ],
   "source": [
    "greet()"
   ]
  },
  {
   "cell_type": "markdown",
   "id": "1fc12ba6",
   "metadata": {},
   "source": [
    "Q:Say we have a list of users and want to print a greeting to each.The following example sends a list of names to a function called greet_user().which great each person in the list individually"
   ]
  },
  {
   "cell_type": "code",
   "execution_count": 137,
   "id": "1568313f",
   "metadata": {},
   "outputs": [],
   "source": [
    "def greet_person(personss):\n",
    "    for i in personss:\n",
    "#         a=print('Salam',i) this is wrong way to print iterate value,in this statement we print only one item and store i in the variable a and after that we return a which is 'Talha'\n",
    "#         return a\n",
    "        print('Salam',i)"
   ]
  },
  {
   "cell_type": "code",
   "execution_count": 138,
   "id": "f6098002",
   "metadata": {},
   "outputs": [],
   "source": [
    "person=['Talha','Usman','Ali','Umer']"
   ]
  },
  {
   "cell_type": "code",
   "execution_count": 209,
   "id": "a92e1493",
   "metadata": {},
   "outputs": [
    {
     "name": "stdout",
     "output_type": "stream",
     "text": [
      "Salam Talha\n",
      "Salam Usman\n",
      "Salam Ali\n",
      "Salam Umer\n"
     ]
    }
   ],
   "source": [
    "greet_person(person)"
   ]
  },
  {
   "cell_type": "code",
   "execution_count": 210,
   "id": "76cfa955",
   "metadata": {},
   "outputs": [
    {
     "name": "stdout",
     "output_type": "stream",
     "text": [
      "Salam Talha\n",
      "Salam Usman\n",
      "Salam Ali\n",
      "Salam Umer\n"
     ]
    }
   ],
   "source": [
    "a=greet_person(person)"
   ]
  },
  {
   "cell_type": "code",
   "execution_count": 211,
   "id": "e0cf200f",
   "metadata": {},
   "outputs": [
    {
     "name": "stdout",
     "output_type": "stream",
     "text": [
      "None\n"
     ]
    }
   ],
   "source": [
    "print(a) #this is because we use print in our functon,our variable has not stored globally"
   ]
  },
  {
   "cell_type": "code",
   "execution_count": 212,
   "id": "92932f6e",
   "metadata": {},
   "outputs": [],
   "source": [
    "def add(a,b):\n",
    "    c=a+b\n",
    "    return c #this 'c' is global because we add return to it and we can use it outside of the function"
   ]
  },
  {
   "cell_type": "code",
   "execution_count": 213,
   "id": "0dba6068",
   "metadata": {},
   "outputs": [],
   "source": [
    "f=add(2,3)"
   ]
  },
  {
   "cell_type": "code",
   "execution_count": 214,
   "id": "d3315d57",
   "metadata": {},
   "outputs": [
    {
     "name": "stdout",
     "output_type": "stream",
     "text": [
      "5\n"
     ]
    }
   ],
   "source": [
    "print(f)"
   ]
  },
  {
   "cell_type": "code",
   "execution_count": 215,
   "id": "abc3ee7e",
   "metadata": {},
   "outputs": [],
   "source": [
    "def add(a,b):\n",
    "    c=a+b\n",
    "    print(c) #this 'c' is not global so we can not use it outside of the function"
   ]
  },
  {
   "cell_type": "code",
   "execution_count": 216,
   "id": "40339f6f",
   "metadata": {},
   "outputs": [
    {
     "name": "stdout",
     "output_type": "stream",
     "text": [
      "4\n"
     ]
    }
   ],
   "source": [
    "a=add(2,2)"
   ]
  },
  {
   "cell_type": "code",
   "execution_count": 217,
   "id": "42bda839",
   "metadata": {},
   "outputs": [
    {
     "name": "stdout",
     "output_type": "stream",
     "text": [
      "None\n"
     ]
    }
   ],
   "source": [
    "print(a)"
   ]
  },
  {
   "cell_type": "code",
   "execution_count": 269,
   "id": "bccdb190",
   "metadata": {},
   "outputs": [
    {
     "name": "stdout",
     "output_type": "stream",
     "text": [
      "printing model:  robot pendant\n",
      "printing model:  Iphone\n",
      "printing model:  dodcahedrone\n",
      "Following are the printing model\n",
      "robot pendant\n",
      "Iphone\n",
      "dodcahedrone\n"
     ]
    }
   ],
   "source": [
    "unprinted_model=['dodcahedrone','Iphone','robot pendant']\n",
    "completed_models=[]\n",
    "while unprinted_model:\n",
    "    abc=unprinted_model.pop()\n",
    "    print('printing model: ',abc)\n",
    "    completed_models.append(abc)\n",
    "print('Following are the printing model')\n",
    "for i in completed_models:\n",
    "    print(i)\n"
   ]
  },
  {
   "cell_type": "code",
   "execution_count": 270,
   "id": "1c5b173c",
   "metadata": {},
   "outputs": [
    {
     "data": {
      "text/plain": [
       "['robot pendant', 'Iphone', 'dodcahedrone']"
      ]
     },
     "execution_count": 270,
     "metadata": {},
     "output_type": "execute_result"
    }
   ],
   "source": [
    "completed_models"
   ]
  },
  {
   "cell_type": "code",
   "execution_count": 271,
   "id": "4e79cd8f",
   "metadata": {},
   "outputs": [
    {
     "data": {
      "text/plain": [
       "[]"
      ]
     },
     "execution_count": 271,
     "metadata": {},
     "output_type": "execute_result"
    }
   ],
   "source": [
    "unprinted_model # we can prevent from this problem by using it in function"
   ]
  },
  {
   "cell_type": "code",
   "execution_count": 17,
   "id": "aa2e62ea",
   "metadata": {},
   "outputs": [],
   "source": [
    "Famous_brand=['Iphone','Samsung','Huawei']\n",
    "Brand=[]"
   ]
  },
  {
   "cell_type": "code",
   "execution_count": 18,
   "id": "b1f0f41b",
   "metadata": {},
   "outputs": [],
   "source": [
    "def Famous(abc,deff):\n",
    "    while abc:\n",
    "        ghi=abc.pop()\n",
    "        print('Famous brand is',ghi)\n",
    "        Brand.append(ghi)"
   ]
  },
  {
   "cell_type": "code",
   "execution_count": 19,
   "id": "c47844a7",
   "metadata": {},
   "outputs": [],
   "source": [
    "def brand_name(Bran):\n",
    "    for i in Bran:\n",
    "        print(i)"
   ]
  },
  {
   "cell_type": "code",
   "execution_count": 20,
   "id": "1ae529fd",
   "metadata": {},
   "outputs": [
    {
     "name": "stdout",
     "output_type": "stream",
     "text": [
      "Famous brand is Huawei\n",
      "Famous brand is Samsung\n",
      "Famous brand is Iphone\n",
      "Huawei\n",
      "Samsung\n",
      "Iphone\n"
     ]
    }
   ],
   "source": [
    "Famous(Famous_brand[:],Brand)\n",
    "brand_name(Brand)"
   ]
  },
  {
   "cell_type": "code",
   "execution_count": 21,
   "id": "8dd33c01",
   "metadata": {},
   "outputs": [],
   "source": [
    "aa=[1,2,3]"
   ]
  },
  {
   "cell_type": "code",
   "execution_count": 22,
   "id": "744f911e",
   "metadata": {},
   "outputs": [],
   "source": [
    "bb=aa[:]"
   ]
  },
  {
   "cell_type": "code",
   "execution_count": 23,
   "id": "4f283839",
   "metadata": {},
   "outputs": [
    {
     "data": {
      "text/plain": [
       "[1, 2, 3]"
      ]
     },
     "execution_count": 23,
     "metadata": {},
     "output_type": "execute_result"
    }
   ],
   "source": [
    "bb"
   ]
  },
  {
   "cell_type": "code",
   "execution_count": 28,
   "id": "ba98e525",
   "metadata": {},
   "outputs": [
    {
     "data": {
      "text/plain": [
       "3"
      ]
     },
     "execution_count": 28,
     "metadata": {},
     "output_type": "execute_result"
    }
   ],
   "source": [
    "bb.pop()"
   ]
  },
  {
   "cell_type": "code",
   "execution_count": 29,
   "id": "bcbcad00",
   "metadata": {},
   "outputs": [
    {
     "data": {
      "text/plain": [
       "[1, 2]"
      ]
     },
     "execution_count": 29,
     "metadata": {},
     "output_type": "execute_result"
    }
   ],
   "source": [
    "bb"
   ]
  },
  {
   "cell_type": "code",
   "execution_count": 31,
   "id": "36a0c17b",
   "metadata": {},
   "outputs": [],
   "source": [
    "cc=bb"
   ]
  },
  {
   "cell_type": "code",
   "execution_count": 32,
   "id": "02dd3ed9",
   "metadata": {},
   "outputs": [
    {
     "data": {
      "text/plain": [
       "[1, 2]"
      ]
     },
     "execution_count": 32,
     "metadata": {},
     "output_type": "execute_result"
    }
   ],
   "source": [
    "cc"
   ]
  },
  {
   "cell_type": "code",
   "execution_count": 33,
   "id": "cdbeb1d5",
   "metadata": {},
   "outputs": [],
   "source": [
    "cc.append(5)"
   ]
  },
  {
   "cell_type": "code",
   "execution_count": 34,
   "id": "42ab02b1",
   "metadata": {},
   "outputs": [
    {
     "data": {
      "text/plain": [
       "[1, 2, 5]"
      ]
     },
     "execution_count": 34,
     "metadata": {},
     "output_type": "execute_result"
    }
   ],
   "source": [
    "cc"
   ]
  },
  {
   "cell_type": "code",
   "execution_count": 35,
   "id": "87fe6a16",
   "metadata": {},
   "outputs": [
    {
     "data": {
      "text/plain": [
       "[1, 2, 5]"
      ]
     },
     "execution_count": 35,
     "metadata": {},
     "output_type": "execute_result"
    }
   ],
   "source": [
    "bb "
   ]
  },
  {
   "cell_type": "code",
   "execution_count": 36,
   "id": "2a7e5415",
   "metadata": {},
   "outputs": [],
   "source": [
    "hh=cc.copy()"
   ]
  },
  {
   "cell_type": "code",
   "execution_count": 37,
   "id": "3657c259",
   "metadata": {},
   "outputs": [
    {
     "data": {
      "text/plain": [
       "[1, 2, 5]"
      ]
     },
     "execution_count": 37,
     "metadata": {},
     "output_type": "execute_result"
    }
   ],
   "source": [
    "hh"
   ]
  },
  {
   "cell_type": "code",
   "execution_count": 38,
   "id": "44a0804f",
   "metadata": {},
   "outputs": [],
   "source": [
    "hh.append(7)"
   ]
  },
  {
   "cell_type": "code",
   "execution_count": 39,
   "id": "877ce5a1",
   "metadata": {},
   "outputs": [
    {
     "data": {
      "text/plain": [
       "[1, 2, 5, 7]"
      ]
     },
     "execution_count": 39,
     "metadata": {},
     "output_type": "execute_result"
    }
   ],
   "source": [
    "hh"
   ]
  },
  {
   "cell_type": "code",
   "execution_count": 41,
   "id": "7304f909",
   "metadata": {},
   "outputs": [
    {
     "data": {
      "text/plain": [
       "[1, 2, 5]"
      ]
     },
     "execution_count": 41,
     "metadata": {},
     "output_type": "execute_result"
    }
   ],
   "source": [
    "cc"
   ]
  },
  {
   "cell_type": "code",
   "execution_count": 42,
   "id": "117f7dd9",
   "metadata": {},
   "outputs": [],
   "source": [
    "a=['tta','hdh']"
   ]
  },
  {
   "cell_type": "code",
   "execution_count": 43,
   "id": "d967de24",
   "metadata": {},
   "outputs": [],
   "source": [
    "b=[]"
   ]
  },
  {
   "cell_type": "code",
   "execution_count": 44,
   "id": "8255fc82",
   "metadata": {},
   "outputs": [],
   "source": [
    "a=b.append(a)"
   ]
  },
  {
   "cell_type": "code",
   "execution_count": 45,
   "id": "10ef101f",
   "metadata": {},
   "outputs": [
    {
     "name": "stdout",
     "output_type": "stream",
     "text": [
      "None\n"
     ]
    }
   ],
   "source": [
    "print(a)"
   ]
  },
  {
   "cell_type": "markdown",
   "id": "309f0305",
   "metadata": {},
   "source": [
    "## passing an arbitrary number of argument"
   ]
  },
  {
   "cell_type": "code",
   "execution_count": 58,
   "id": "777605ec",
   "metadata": {},
   "outputs": [],
   "source": [
    "def pizzaRecipe(flavour,*Topping): # '*Topping' parameter has ability to store multiple values given by the user\n",
    "    e=print(f'Flavour is {flavour} with topping of {Topping}' )\n",
    "    return e"
   ]
  },
  {
   "cell_type": "code",
   "execution_count": 59,
   "id": "a8cc7d64",
   "metadata": {},
   "outputs": [
    {
     "name": "stdout",
     "output_type": "stream",
     "text": [
      "Flavour is Chicken Tikka with topping of ('Mushrooms', 'Green Pepper', 'Extra Cheeze')\n",
      "Flavour is Chicken Tikka with topping of ('Green Pepper',)\n"
     ]
    }
   ],
   "source": [
    "pizzaRecipe('Chicken Tikka','Mushrooms','Green Pepper','Extra Cheeze')\n",
    "pizzaRecipe('Chicken Tikka','Green Pepper')"
   ]
  },
  {
   "cell_type": "code",
   "execution_count": 89,
   "id": "c4447d5a",
   "metadata": {},
   "outputs": [],
   "source": [
    "def pizzaRecipe(flavour,*Topping): # '*Topping' parameter has ability to store multiple values given by the user\n",
    "    print(f'Pizza flavour is {flavour} with following toppings;')\n",
    "    for i in Topping:\n",
    "        print('-',i)"
   ]
  },
  {
   "cell_type": "code",
   "execution_count": 90,
   "id": "d57e0636",
   "metadata": {},
   "outputs": [
    {
     "name": "stdout",
     "output_type": "stream",
     "text": [
      "Pizza flavour is ChickenTikka with following toppings;\n",
      "- Green Pepper\n",
      "- Extra Cheese\n",
      "- Mushrooms\n"
     ]
    }
   ],
   "source": [
    "pizzaRecipe('ChickenTikka','Green Pepper','Extra Cheese','Mushrooms')"
   ]
  },
  {
   "cell_type": "markdown",
   "id": "fd910191",
   "metadata": {},
   "source": [
    "## using an arbitrary keyword argument"
   ]
  },
  {
   "cell_type": "code",
   "execution_count": 115,
   "id": "3ecb45a6",
   "metadata": {},
   "outputs": [],
   "source": [
    "def dictFunct(name,father_name,**rollnumber):\n",
    "    student={}\n",
    "    student['Name']=name\n",
    "    student['Father name']=father_name\n",
    "    for key,value in rollnumber.items():\n",
    "        student[key]=value\n",
    "    return student"
   ]
  },
  {
   "cell_type": "code",
   "execution_count": 116,
   "id": "35c04319",
   "metadata": {},
   "outputs": [
    {
     "data": {
      "text/plain": [
       "{'Name': 'Talha', 'Father name': 'Abdul Rehman', 'rollnumber': 55, 'rere': 34}"
      ]
     },
     "execution_count": 116,
     "metadata": {},
     "output_type": "execute_result"
    }
   ],
   "source": [
    "dictFunct('Talha','Abdul Rehman')\n",
    "dictFunct('Talha','Abdul Rehman',rollnumber=55,rere=34)"
   ]
  },
  {
   "cell_type": "code",
   "execution_count": 117,
   "id": "dbf2b32e",
   "metadata": {},
   "outputs": [],
   "source": [
    "def bio(school,classname,**address):\n",
    "    biodict={}\n",
    "    biodict['School']=school\n",
    "    biodict['Class']=classname\n",
    "    for i,k in address.items():\n",
    "        biodict[i]=k\n",
    "    return biodict"
   ]
  },
  {
   "cell_type": "code",
   "execution_count": 118,
   "id": "0ae7c513",
   "metadata": {},
   "outputs": [
    {
     "data": {
      "text/plain": [
       "{'School': 'Usman Public', 'Class': 8, 'loaction': 'Power House', 'Area': 1000}"
      ]
     },
     "execution_count": 118,
     "metadata": {},
     "output_type": "execute_result"
    }
   ],
   "source": [
    "bio('Usman Public',8,loaction='Power House',Area=1000)"
   ]
  },
  {
   "cell_type": "code",
   "execution_count": null,
   "id": "099e7edd",
   "metadata": {},
   "outputs": [],
   "source": []
  }
 ],
 "metadata": {
  "kernelspec": {
   "display_name": "Python 3 (ipykernel)",
   "language": "python",
   "name": "python3"
  },
  "language_info": {
   "codemirror_mode": {
    "name": "ipython",
    "version": 3
   },
   "file_extension": ".py",
   "mimetype": "text/x-python",
   "name": "python",
   "nbconvert_exporter": "python",
   "pygments_lexer": "ipython3",
   "version": "3.9.12"
  }
 },
 "nbformat": 4,
 "nbformat_minor": 5
}
