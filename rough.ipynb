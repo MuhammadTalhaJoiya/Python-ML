{
 "cells": [
  {
   "cell_type": "code",
   "execution_count": 2,
   "id": "a8e4f758",
   "metadata": {},
   "outputs": [
    {
     "name": "stdout",
     "output_type": "stream",
     "text": [
      "enter any value4\n",
      "enter any value6\n",
      "enter any valuee\n",
      "enter any value3\n",
      "enter any valueq\n",
      "['4', '6', 'e', '3']\n"
     ]
    }
   ],
   "source": [
    "list=[]\n",
    "while True:\n",
    "    a=input('enter any value')\n",
    "    if a=='q':\n",
    "        break\n",
    "    list.append(a)\n",
    "print(list)"
   ]
  },
  {
   "cell_type": "code",
   "execution_count": 1,
   "id": "4a135ab2",
   "metadata": {},
   "outputs": [],
   "source": [
    "def av(a,b):\n",
    "    return a+b"
   ]
  },
  {
   "cell_type": "code",
   "execution_count": 2,
   "id": "6a966282",
   "metadata": {},
   "outputs": [
    {
     "data": {
      "text/plain": [
       "6"
      ]
     },
     "execution_count": 2,
     "metadata": {},
     "output_type": "execute_result"
    }
   ],
   "source": [
    "av(3,3)"
   ]
  },
  {
   "cell_type": "code",
   "execution_count": 3,
   "id": "44190060",
   "metadata": {},
   "outputs": [],
   "source": [
    "a=av(3,3)"
   ]
  },
  {
   "cell_type": "code",
   "execution_count": 4,
   "id": "18831c29",
   "metadata": {},
   "outputs": [
    {
     "name": "stdout",
     "output_type": "stream",
     "text": [
      "6\n"
     ]
    }
   ],
   "source": [
    "print(a)"
   ]
  },
  {
   "cell_type": "code",
   "execution_count": 5,
   "id": "81bc5975",
   "metadata": {},
   "outputs": [
    {
     "name": "stdout",
     "output_type": "stream",
     "text": [
      "6\n"
     ]
    }
   ],
   "source": [
    "print(av(3,3))"
   ]
  },
  {
   "cell_type": "code",
   "execution_count": 6,
   "id": "457184bb",
   "metadata": {},
   "outputs": [],
   "source": [
    "def avv(a,v):\n",
    "    print(a+v)"
   ]
  },
  {
   "cell_type": "code",
   "execution_count": 7,
   "id": "b86c6c01",
   "metadata": {},
   "outputs": [
    {
     "name": "stdout",
     "output_type": "stream",
     "text": [
      "6\n"
     ]
    }
   ],
   "source": [
    "avv(3,3)"
   ]
  },
  {
   "cell_type": "code",
   "execution_count": 8,
   "id": "02d53462",
   "metadata": {},
   "outputs": [
    {
     "name": "stdout",
     "output_type": "stream",
     "text": [
      "6\n"
     ]
    }
   ],
   "source": [
    "aa=avv(3,3)"
   ]
  },
  {
   "cell_type": "code",
   "execution_count": 9,
   "id": "5b6d2f87",
   "metadata": {},
   "outputs": [
    {
     "name": "stdout",
     "output_type": "stream",
     "text": [
      "None\n"
     ]
    }
   ],
   "source": [
    "print(aa)"
   ]
  },
  {
   "cell_type": "code",
   "execution_count": 10,
   "id": "786538d2",
   "metadata": {},
   "outputs": [
    {
     "name": "stdout",
     "output_type": "stream",
     "text": [
      "6\n",
      "None\n"
     ]
    }
   ],
   "source": [
    "print(avv(3,3))"
   ]
  },
  {
   "cell_type": "code",
   "execution_count": 13,
   "id": "9e1ce038",
   "metadata": {},
   "outputs": [],
   "source": [
    "dict={'classs':1}"
   ]
  },
  {
   "cell_type": "code",
   "execution_count": 14,
   "id": "d0ed72ba",
   "metadata": {},
   "outputs": [
    {
     "data": {
      "text/plain": [
       "{'classs': 1}"
      ]
     },
     "execution_count": 14,
     "metadata": {},
     "output_type": "execute_result"
    }
   ],
   "source": [
    "dict"
   ]
  },
  {
   "cell_type": "code",
   "execution_count": null,
   "id": "2389951e",
   "metadata": {},
   "outputs": [],
   "source": []
  }
 ],
 "metadata": {
  "kernelspec": {
   "display_name": "Python 3 (ipykernel)",
   "language": "python",
   "name": "python3"
  },
  "language_info": {
   "codemirror_mode": {
    "name": "ipython",
    "version": 3
   },
   "file_extension": ".py",
   "mimetype": "text/x-python",
   "name": "python",
   "nbconvert_exporter": "python",
   "pygments_lexer": "ipython3",
   "version": "3.9.12"
  }
 },
 "nbformat": 4,
 "nbformat_minor": 5
}
