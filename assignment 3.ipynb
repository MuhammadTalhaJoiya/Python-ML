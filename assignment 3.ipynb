{
 "cells": [
  {
   "cell_type": "markdown",
   "id": "367b7b40",
   "metadata": {},
   "source": [
    "# User Input"
   ]
  },
  {
   "cell_type": "markdown",
   "id": "924fc67e",
   "metadata": {},
   "source": [
    "1. Take a sentence input from user using input function. Count occurence of a particular character/word in the sentence and print the message that the character appear this many times in the sentence.\n",
    "Like if user inputs> \"My name is Sana. I am an undergraduate student. I am learning Artificial Intellegence in PIAIC\"\n",
    "Your output should be:\n",
    "    I appears 5 times in your sentence\n",
    "Hint: nahi batounga use string methods.\n",
    "Note: Sana is a boy. His full name is SanaUllah😄"
   ]
  },
  {
   "cell_type": "code",
   "execution_count": 5,
   "id": "6a86e4e2",
   "metadata": {},
   "outputs": [
    {
     "name": "stdout",
     "output_type": "stream",
     "text": [
      "introduce yourselfMy name is Sana.I am an undergraduate student.I am lerning Artificial Intellegence in PIAIC'\n",
      "the answer should be 5\n"
     ]
    }
   ],
   "source": [
    "a=input('introduce yourself')\n",
    "b=a.count('I')\n",
    "print('the answer should be',b)"
   ]
  },
  {
   "cell_type": "markdown",
   "id": "e527f9f0",
   "metadata": {},
   "source": [
    "2. Take a number input from user and print the square of that number. \n",
    "\n",
    "if a user inputs 10 Your output should be like:\n",
    "    The square of 10 is 100\n",
    "if a user inputs 5 Your output should be like:\n",
    "    The square of 5 is 25\n",
    "if a user inputs 2 Your output should be like:\n",
    "    The square of 2 is 4\n"
   ]
  },
  {
   "cell_type": "code",
   "execution_count": 7,
   "id": "09632b9b",
   "metadata": {},
   "outputs": [
    {
     "name": "stdout",
     "output_type": "stream",
     "text": [
      "give me a number4\n",
      "the square of 4 is 16\n"
     ]
    }
   ],
   "source": [
    "a=int(input('give me a number'))\n",
    "b=a**2\n",
    "print(f'the square of {a} is {b}')"
   ]
  },
  {
   "cell_type": "markdown",
   "id": "b2660a79",
   "metadata": {},
   "source": [
    "3. Take two inputs from user using two input functions add these two numbers and print the result.\n",
    "For example if a user inputs 10 in first input, 20 in second input then your output mustbe like:\n",
    "    The sum of 10 and 20 is 30\n",
    "    \n",
    "For example if a user inputs 12 in first input, 30 in second input then your output mustbe like:\n",
    "    The sum of 12 and 30 is 42\n",
    "\n",
    "For example if a user inputs 100 in first input, 200 in second input then your out put mustbe like:\n",
    "    The sum of 100 and 200 is 300"
   ]
  },
  {
   "cell_type": "code",
   "execution_count": 9,
   "id": "06ba7d2f",
   "metadata": {},
   "outputs": [
    {
     "name": "stdout",
     "output_type": "stream",
     "text": [
      "Enter your first number4\n",
      "Enter your second number6\n",
      "the sum of first and second number is 10\n"
     ]
    }
   ],
   "source": [
    "a=int(input('Enter your first number'))\n",
    "b=int(input('Enter your second number'))\n",
    "c=a+b\n",
    "print('the sum of first and second number is',c)"
   ]
  },
  {
   "cell_type": "markdown",
   "id": "9131dda1",
   "metadata": {},
   "source": [
    "4. Format a string to display a card like string:\n",
    "    \n",
    "            Presidential Initiative for AI & Computing\n",
    "                          ID CARD\n",
    "            Student Name   : Asad Ali\n",
    "            Father Name    : Amjad Ali\n",
    "            Date of Birth  : 01-01-2000\n",
    "            Course Enrolled: Artificial Intelligence\n",
    "            Batch          : 2022\n",
    "            Day            : Saturday \n",
    "            Centre         : Sir Syed University of Engg and Technology\n",
    "                \n",
    "Note: all the field values must be taken as user inputs and stored in variable"
   ]
  },
  {
   "cell_type": "code",
   "execution_count": 12,
   "id": "712d92db",
   "metadata": {},
   "outputs": [
    {
     "name": "stdout",
     "output_type": "stream",
     "text": [
      "\n",
      "        Presidential Initiative for AI and Computing\n",
      "                        ID CARD\n",
      "        Student Name=Asad Ali\n",
      "        Father Name=Amjad Ali\n",
      "        Date of Birth=1-1-2000\n",
      "        Cource Enrolled=Artificial Intellegnce\n",
      "        Batch=2022\n",
      "        Center=SSUET\n"
     ]
    }
   ],
   "source": [
    "student_name='Asad Ali'\n",
    "father_name='Amjad Ali'\n",
    "date_of_birth='1-1-2000'\n",
    "cource_enrolled='Artificial Intellegnce'\n",
    "batch='2022'\n",
    "day='Saturday'\n",
    "center='SSUET'\n",
    "print(f\"\"\"\n",
    "        Presidential Initiative for AI and Computing\n",
    "                        ID CARD\n",
    "        Student Name={student_name}\n",
    "        Father Name={father_name}\n",
    "        Date of Birth={date_of_birth}\n",
    "        Cource Enrolled={cource_enrolled}\n",
    "        Batch={batch}\n",
    "        Center={center}\"\"\")"
   ]
  },
  {
   "cell_type": "code",
   "execution_count": null,
   "id": "9dcc9ea3",
   "metadata": {},
   "outputs": [],
   "source": []
  }
 ],
 "metadata": {
  "kernelspec": {
   "display_name": "Python 3 (ipykernel)",
   "language": "python",
   "name": "python3"
  },
  "language_info": {
   "codemirror_mode": {
    "name": "ipython",
    "version": 3
   },
   "file_extension": ".py",
   "mimetype": "text/x-python",
   "name": "python",
   "nbconvert_exporter": "python",
   "pygments_lexer": "ipython3",
   "version": "3.9.12"
  }
 },
 "nbformat": 4,
 "nbformat_minor": 5
}
