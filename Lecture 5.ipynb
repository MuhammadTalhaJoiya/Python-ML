{
 "cells": [
  {
   "cell_type": "markdown",
   "id": "b65b3bd8",
   "metadata": {},
   "source": [
    "# List"
   ]
  },
  {
   "cell_type": "code",
   "execution_count": 236,
   "id": "7504bd78",
   "metadata": {},
   "outputs": [],
   "source": [
    "country=['Pakistan','India','Bangladesh','Afghanistan']\n"
   ]
  },
  {
   "cell_type": "code",
   "execution_count": 237,
   "id": "dd66aeed",
   "metadata": {},
   "outputs": [
    {
     "data": {
      "text/plain": [
       "['Pakistan', 'India', 'Bangladesh', 'Afghanistan']"
      ]
     },
     "execution_count": 237,
     "metadata": {},
     "output_type": "execute_result"
    }
   ],
   "source": [
    "country\n"
   ]
  },
  {
   "cell_type": "code",
   "execution_count": 238,
   "id": "3cc6b27e",
   "metadata": {},
   "outputs": [
    {
     "data": {
      "text/plain": [
       "list"
      ]
     },
     "execution_count": 238,
     "metadata": {},
     "output_type": "execute_result"
    }
   ],
   "source": [
    "type(country)"
   ]
  },
  {
   "cell_type": "code",
   "execution_count": 239,
   "id": "fb077d0b",
   "metadata": {},
   "outputs": [
    {
     "name": "stdout",
     "output_type": "stream",
     "text": [
      "<class 'list'>\n"
     ]
    }
   ],
   "source": [
    "print(type(country))"
   ]
  },
  {
   "cell_type": "markdown",
   "id": "dd967b43",
   "metadata": {},
   "source": [
    "# Retrieving Data from list via Indexing"
   ]
  },
  {
   "cell_type": "code",
   "execution_count": 240,
   "id": "b09a55b6",
   "metadata": {},
   "outputs": [
    {
     "data": {
      "text/plain": [
       "'Pakistan'"
      ]
     },
     "execution_count": 240,
     "metadata": {},
     "output_type": "execute_result"
    }
   ],
   "source": [
    "country[0]"
   ]
  },
  {
   "cell_type": "code",
   "execution_count": 241,
   "id": "508b4c5b",
   "metadata": {},
   "outputs": [
    {
     "data": {
      "text/plain": [
       "'Bangladesh'"
      ]
     },
     "execution_count": 241,
     "metadata": {},
     "output_type": "execute_result"
    }
   ],
   "source": [
    "country[2]"
   ]
  },
  {
   "cell_type": "markdown",
   "id": "d2ea5dae",
   "metadata": {},
   "source": [
    "# adding data to list\n"
   ]
  },
  {
   "cell_type": "raw",
   "id": "94dde647",
   "metadata": {},
   "source": [
    ".append() it is used to add item in the last of the list\n",
    ".insert() it is used to add item everywhere you want to add in the list"
   ]
  },
  {
   "cell_type": "code",
   "execution_count": 242,
   "id": "d307ac18",
   "metadata": {},
   "outputs": [],
   "source": [
    "country.append('Iran')"
   ]
  },
  {
   "cell_type": "code",
   "execution_count": 243,
   "id": "37174503",
   "metadata": {},
   "outputs": [
    {
     "data": {
      "text/plain": [
       "['Pakistan', 'India', 'Bangladesh', 'Afghanistan', 'Iran']"
      ]
     },
     "execution_count": 243,
     "metadata": {},
     "output_type": "execute_result"
    }
   ],
   "source": [
    "country"
   ]
  },
  {
   "cell_type": "code",
   "execution_count": 244,
   "id": "4d0645a2",
   "metadata": {},
   "outputs": [],
   "source": [
    "country.insert(1,'China')"
   ]
  },
  {
   "cell_type": "code",
   "execution_count": 245,
   "id": "00f2b27c",
   "metadata": {},
   "outputs": [
    {
     "data": {
      "text/plain": [
       "['Pakistan', 'China', 'India', 'Bangladesh', 'Afghanistan', 'Iran']"
      ]
     },
     "execution_count": 245,
     "metadata": {},
     "output_type": "execute_result"
    }
   ],
   "source": [
    "country"
   ]
  },
  {
   "cell_type": "markdown",
   "id": "08c5e2bc",
   "metadata": {},
   "source": [
    "# if we want to delete or removing value from list via Indexing so there are three way to do which is given below\n",
    " "
   ]
  },
  {
   "cell_type": "raw",
   "id": "5a573177",
   "metadata": {},
   "source": [
    "-del command is used to delete permanantly value from list via Indexing \n",
    "-.remove() function is used to remove a value from list via value,it take value of list not indexing of list \n",
    "-.pop() function is used to remove a value permenantly from list but it returns the value so you can utilize it later if you need it"
   ]
  },
  {
   "cell_type": "code",
   "execution_count": 246,
   "id": "af3061b4",
   "metadata": {},
   "outputs": [],
   "source": [
    "country.insert(2,'Bangladesh')"
   ]
  },
  {
   "cell_type": "code",
   "execution_count": 247,
   "id": "bb901fbb",
   "metadata": {},
   "outputs": [],
   "source": [
    "del country[1]"
   ]
  },
  {
   "cell_type": "code",
   "execution_count": 248,
   "id": "7812e7b2",
   "metadata": {},
   "outputs": [
    {
     "data": {
      "text/plain": [
       "['Pakistan', 'Bangladesh', 'India', 'Bangladesh', 'Afghanistan', 'Iran']"
      ]
     },
     "execution_count": 248,
     "metadata": {},
     "output_type": "execute_result"
    }
   ],
   "source": [
    "country"
   ]
  },
  {
   "cell_type": "code",
   "execution_count": 249,
   "id": "b90de9b3",
   "metadata": {},
   "outputs": [],
   "source": [
    "del country[-1]"
   ]
  },
  {
   "cell_type": "code",
   "execution_count": 250,
   "id": "7bc4bb68",
   "metadata": {},
   "outputs": [
    {
     "data": {
      "text/plain": [
       "['Pakistan', 'Bangladesh', 'India', 'Bangladesh', 'Afghanistan']"
      ]
     },
     "execution_count": 250,
     "metadata": {},
     "output_type": "execute_result"
    }
   ],
   "source": [
    "country"
   ]
  },
  {
   "cell_type": "code",
   "execution_count": 251,
   "id": "6ac3465f",
   "metadata": {},
   "outputs": [],
   "source": [
    "country.remove('Bangladesh')"
   ]
  },
  {
   "cell_type": "code",
   "execution_count": 252,
   "id": "eb38e40c",
   "metadata": {},
   "outputs": [
    {
     "data": {
      "text/plain": [
       "['Pakistan', 'India', 'Bangladesh', 'Afghanistan']"
      ]
     },
     "execution_count": 252,
     "metadata": {},
     "output_type": "execute_result"
    }
   ],
   "source": [
    "country"
   ]
  },
  {
   "cell_type": "code",
   "execution_count": 253,
   "id": "03f2cf5e",
   "metadata": {},
   "outputs": [],
   "source": [
    "country.insert(2,'Bangladesh')"
   ]
  },
  {
   "cell_type": "code",
   "execution_count": 254,
   "id": "ee8c2cc7",
   "metadata": {},
   "outputs": [],
   "source": [
    "country.insert(3,'Iran')"
   ]
  },
  {
   "cell_type": "code",
   "execution_count": 255,
   "id": "7e75bd66",
   "metadata": {},
   "outputs": [
    {
     "data": {
      "text/plain": [
       "['Pakistan', 'India', 'Bangladesh', 'Iran', 'Bangladesh', 'Afghanistan']"
      ]
     },
     "execution_count": 255,
     "metadata": {},
     "output_type": "execute_result"
    }
   ],
   "source": [
    "country"
   ]
  },
  {
   "cell_type": "code",
   "execution_count": 256,
   "id": "0ea9f8a6",
   "metadata": {},
   "outputs": [],
   "source": [
    "country.append('Turkyie')"
   ]
  },
  {
   "cell_type": "code",
   "execution_count": 257,
   "id": "430c6018",
   "metadata": {},
   "outputs": [],
   "source": [
    "country.append('Turkyie')"
   ]
  },
  {
   "cell_type": "code",
   "execution_count": 258,
   "id": "2a1e5498",
   "metadata": {},
   "outputs": [
    {
     "data": {
      "text/plain": [
       "['Pakistan',\n",
       " 'India',\n",
       " 'Bangladesh',\n",
       " 'Iran',\n",
       " 'Bangladesh',\n",
       " 'Afghanistan',\n",
       " 'Turkyie',\n",
       " 'Turkyie']"
      ]
     },
     "execution_count": 258,
     "metadata": {},
     "output_type": "execute_result"
    }
   ],
   "source": [
    "country"
   ]
  },
  {
   "cell_type": "code",
   "execution_count": 259,
   "id": "2d011ffa",
   "metadata": {},
   "outputs": [],
   "source": [
    "country.insert(2,'Turkyie')"
   ]
  },
  {
   "cell_type": "code",
   "execution_count": 260,
   "id": "4d103b01",
   "metadata": {},
   "outputs": [
    {
     "data": {
      "text/plain": [
       "['Pakistan',\n",
       " 'India',\n",
       " 'Turkyie',\n",
       " 'Bangladesh',\n",
       " 'Iran',\n",
       " 'Bangladesh',\n",
       " 'Afghanistan',\n",
       " 'Turkyie',\n",
       " 'Turkyie']"
      ]
     },
     "execution_count": 260,
     "metadata": {},
     "output_type": "execute_result"
    }
   ],
   "source": [
    "country"
   ]
  },
  {
   "cell_type": "code",
   "execution_count": 261,
   "id": "e754a0f7",
   "metadata": {},
   "outputs": [],
   "source": [
    "country.remove('Turkyie')"
   ]
  },
  {
   "cell_type": "code",
   "execution_count": 262,
   "id": "52887a97",
   "metadata": {},
   "outputs": [
    {
     "data": {
      "text/plain": [
       "['Pakistan',\n",
       " 'India',\n",
       " 'Bangladesh',\n",
       " 'Iran',\n",
       " 'Bangladesh',\n",
       " 'Afghanistan',\n",
       " 'Turkyie',\n",
       " 'Turkyie']"
      ]
     },
     "execution_count": 262,
     "metadata": {},
     "output_type": "execute_result"
    }
   ],
   "source": [
    "country"
   ]
  },
  {
   "cell_type": "code",
   "execution_count": 263,
   "id": "4892de1b",
   "metadata": {},
   "outputs": [
    {
     "data": {
      "text/plain": [
       "'Turkyie'"
      ]
     },
     "execution_count": 263,
     "metadata": {},
     "output_type": "execute_result"
    }
   ],
   "source": [
    "country.pop()"
   ]
  },
  {
   "cell_type": "code",
   "execution_count": 264,
   "id": "b9f3022e",
   "metadata": {},
   "outputs": [],
   "source": [
    "Afghan=country.pop()"
   ]
  },
  {
   "cell_type": "code",
   "execution_count": 265,
   "id": "ea6a4c3d",
   "metadata": {},
   "outputs": [
    {
     "data": {
      "text/plain": [
       "'Turkyie'"
      ]
     },
     "execution_count": 265,
     "metadata": {},
     "output_type": "execute_result"
    }
   ],
   "source": [
    "Afghan"
   ]
  },
  {
   "cell_type": "code",
   "execution_count": 266,
   "id": "945248b1",
   "metadata": {},
   "outputs": [
    {
     "data": {
      "text/plain": [
       "'Afghanistan'"
      ]
     },
     "execution_count": 266,
     "metadata": {},
     "output_type": "execute_result"
    }
   ],
   "source": [
    "country.pop()"
   ]
  },
  {
   "cell_type": "code",
   "execution_count": 267,
   "id": "21554c8c",
   "metadata": {},
   "outputs": [
    {
     "data": {
      "text/plain": [
       "['Pakistan', 'India', 'Bangladesh', 'Iran', 'Bangladesh']"
      ]
     },
     "execution_count": 267,
     "metadata": {},
     "output_type": "execute_result"
    }
   ],
   "source": [
    "country"
   ]
  },
  {
   "cell_type": "code",
   "execution_count": 268,
   "id": "b36d44f3",
   "metadata": {},
   "outputs": [],
   "source": [
    "Iranian=country.pop(2)"
   ]
  },
  {
   "cell_type": "code",
   "execution_count": 269,
   "id": "0907eff4",
   "metadata": {},
   "outputs": [
    {
     "data": {
      "text/plain": [
       "'Bangladesh'"
      ]
     },
     "execution_count": 269,
     "metadata": {},
     "output_type": "execute_result"
    }
   ],
   "source": [
    "Iranian"
   ]
  },
  {
   "cell_type": "code",
   "execution_count": 270,
   "id": "ad67bc30",
   "metadata": {},
   "outputs": [
    {
     "data": {
      "text/plain": [
       "['Pakistan', 'India', 'Iran', 'Bangladesh']"
      ]
     },
     "execution_count": 270,
     "metadata": {},
     "output_type": "execute_result"
    }
   ],
   "source": [
    "country"
   ]
  },
  {
   "cell_type": "markdown",
   "id": "455692fa",
   "metadata": {},
   "source": [
    "# clear function .clear()"
   ]
  },
  {
   "cell_type": "code",
   "execution_count": 271,
   "id": "7d95ede0",
   "metadata": {},
   "outputs": [
    {
     "data": {
      "text/plain": [
       "['Pakistan', 'India', 'Iran', 'Bangladesh']"
      ]
     },
     "execution_count": 271,
     "metadata": {},
     "output_type": "execute_result"
    }
   ],
   "source": [
    "country"
   ]
  },
  {
   "cell_type": "code",
   "execution_count": 272,
   "id": "233fdd3c",
   "metadata": {},
   "outputs": [],
   "source": [
    "country.clear()"
   ]
  },
  {
   "cell_type": "code",
   "execution_count": 273,
   "id": "c34cea2b",
   "metadata": {},
   "outputs": [
    {
     "data": {
      "text/plain": [
       "[]"
      ]
     },
     "execution_count": 273,
     "metadata": {},
     "output_type": "execute_result"
    }
   ],
   "source": [
    "country"
   ]
  },
  {
   "cell_type": "markdown",
   "id": "12df2b06",
   "metadata": {},
   "source": [
    "# Copying a list"
   ]
  },
  {
   "cell_type": "markdown",
   "id": "59e5544e",
   "metadata": {},
   "source": [
    "    -direct assignment>>>blist=alist 'in this situation we can not change variable's value specifically and direct assignment does not give seperate copy'\n",
    "    -.copy() function 'in this situation we can change variable's value specifically and .copy() function gives seperate copy'\n",
    "    -[:]"
   ]
  },
  {
   "cell_type": "markdown",
   "id": "0452ab64",
   "metadata": {},
   "source": [
    "                    direct assignment"
   ]
  },
  {
   "cell_type": "code",
   "execution_count": 274,
   "id": "298ccda9",
   "metadata": {},
   "outputs": [],
   "source": [
    "alist=[2,3,4,8,9]"
   ]
  },
  {
   "cell_type": "code",
   "execution_count": 233,
   "id": "4a305e4b",
   "metadata": {},
   "outputs": [],
   "source": [
    "blist=alist"
   ]
  },
  {
   "cell_type": "code",
   "execution_count": 100,
   "id": "b14f7f68",
   "metadata": {},
   "outputs": [
    {
     "data": {
      "text/plain": [
       "[2, 3, 4, 8, 9]"
      ]
     },
     "execution_count": 100,
     "metadata": {},
     "output_type": "execute_result"
    }
   ],
   "source": [
    "alist"
   ]
  },
  {
   "cell_type": "code",
   "execution_count": 101,
   "id": "f45b48b6",
   "metadata": {},
   "outputs": [
    {
     "data": {
      "text/plain": [
       "[2, 3, 4, 8, 9]"
      ]
     },
     "execution_count": 101,
     "metadata": {},
     "output_type": "execute_result"
    }
   ],
   "source": [
    "blist"
   ]
  },
  {
   "cell_type": "code",
   "execution_count": 102,
   "id": "3a0f34be",
   "metadata": {},
   "outputs": [],
   "source": [
    "alist[0]=8"
   ]
  },
  {
   "cell_type": "code",
   "execution_count": 103,
   "id": "97db2174",
   "metadata": {},
   "outputs": [
    {
     "data": {
      "text/plain": [
       "[8, 3, 4, 8, 9]"
      ]
     },
     "execution_count": 103,
     "metadata": {},
     "output_type": "execute_result"
    }
   ],
   "source": [
    "alist"
   ]
  },
  {
   "cell_type": "code",
   "execution_count": 104,
   "id": "c1b0b318",
   "metadata": {},
   "outputs": [
    {
     "data": {
      "text/plain": [
       "[8, 3, 4, 8, 9]"
      ]
     },
     "execution_count": 104,
     "metadata": {},
     "output_type": "execute_result"
    }
   ],
   "source": [
    "blist"
   ]
  },
  {
   "cell_type": "markdown",
   "id": "8a0ee9e3",
   "metadata": {},
   "source": [
    "                    .copy()"
   ]
  },
  {
   "cell_type": "code",
   "execution_count": 105,
   "id": "5e6ff3b4",
   "metadata": {},
   "outputs": [],
   "source": [
    "clist=['lamborghini','Audi','Mercedes','Supra']"
   ]
  },
  {
   "cell_type": "code",
   "execution_count": 106,
   "id": "054685f6",
   "metadata": {},
   "outputs": [],
   "source": [
    "dlist=clist.copy()"
   ]
  },
  {
   "cell_type": "code",
   "execution_count": 107,
   "id": "63846463",
   "metadata": {},
   "outputs": [
    {
     "data": {
      "text/plain": [
       "['lamborghini', 'Audi', 'Mercedes', 'Supra']"
      ]
     },
     "execution_count": 107,
     "metadata": {},
     "output_type": "execute_result"
    }
   ],
   "source": [
    "dlist"
   ]
  },
  {
   "cell_type": "code",
   "execution_count": 108,
   "id": "09a09770",
   "metadata": {},
   "outputs": [],
   "source": [
    "clist[0]='Civic'"
   ]
  },
  {
   "cell_type": "code",
   "execution_count": 109,
   "id": "853f2159",
   "metadata": {},
   "outputs": [
    {
     "data": {
      "text/plain": [
       "['Civic', 'Audi', 'Mercedes', 'Supra']"
      ]
     },
     "execution_count": 109,
     "metadata": {},
     "output_type": "execute_result"
    }
   ],
   "source": [
    "clist"
   ]
  },
  {
   "cell_type": "code",
   "execution_count": 110,
   "id": "93c7ee7b",
   "metadata": {},
   "outputs": [
    {
     "data": {
      "text/plain": [
       "['lamborghini', 'Audi', 'Mercedes', 'Supra']"
      ]
     },
     "execution_count": 110,
     "metadata": {},
     "output_type": "execute_result"
    }
   ],
   "source": [
    "dlist"
   ]
  },
  {
   "cell_type": "markdown",
   "id": "29ecb7bb",
   "metadata": {},
   "source": [
    "                    .count()"
   ]
  },
  {
   "cell_type": "code",
   "execution_count": 111,
   "id": "e84c84a6",
   "metadata": {},
   "outputs": [
    {
     "data": {
      "text/plain": [
       "['Civic', 'Audi', 'Mercedes', 'Supra']"
      ]
     },
     "execution_count": 111,
     "metadata": {},
     "output_type": "execute_result"
    }
   ],
   "source": [
    "clist"
   ]
  },
  {
   "cell_type": "code",
   "execution_count": 112,
   "id": "d604a013",
   "metadata": {},
   "outputs": [],
   "source": [
    "clist.insert(0,'lamborghini')"
   ]
  },
  {
   "cell_type": "code",
   "execution_count": 113,
   "id": "92e85f49",
   "metadata": {},
   "outputs": [],
   "source": [
    "clist.insert(2,4)"
   ]
  },
  {
   "cell_type": "code",
   "execution_count": 114,
   "id": "537f2c74",
   "metadata": {},
   "outputs": [
    {
     "data": {
      "text/plain": [
       "['lamborghini', 'Civic', 4, 'Audi', 'Mercedes', 'Supra']"
      ]
     },
     "execution_count": 114,
     "metadata": {},
     "output_type": "execute_result"
    }
   ],
   "source": [
    "clist"
   ]
  },
  {
   "cell_type": "code",
   "execution_count": 115,
   "id": "7ba75ecd",
   "metadata": {},
   "outputs": [],
   "source": [
    "clist.append('lamborghini')"
   ]
  },
  {
   "cell_type": "code",
   "execution_count": 116,
   "id": "61581cb9",
   "metadata": {},
   "outputs": [
    {
     "data": {
      "text/plain": [
       "['lamborghini', 'Civic', 4, 'Audi', 'Mercedes', 'Supra', 'lamborghini']"
      ]
     },
     "execution_count": 116,
     "metadata": {},
     "output_type": "execute_result"
    }
   ],
   "source": [
    "clist"
   ]
  },
  {
   "cell_type": "code",
   "execution_count": 117,
   "id": "d3cb2aa9",
   "metadata": {},
   "outputs": [
    {
     "data": {
      "text/plain": [
       "2"
      ]
     },
     "execution_count": 117,
     "metadata": {},
     "output_type": "execute_result"
    }
   ],
   "source": [
    "clist.count('lamborghini')"
   ]
  },
  {
   "cell_type": "markdown",
   "id": "38c658d0",
   "metadata": {},
   "source": [
    "                    .index()"
   ]
  },
  {
   "cell_type": "code",
   "execution_count": 118,
   "id": "90f747ef",
   "metadata": {},
   "outputs": [
    {
     "data": {
      "text/plain": [
       "0"
      ]
     },
     "execution_count": 118,
     "metadata": {},
     "output_type": "execute_result"
    }
   ],
   "source": [
    "clist.index('lamborghini')"
   ]
  },
  {
   "cell_type": "code",
   "execution_count": 119,
   "id": "edfafe97",
   "metadata": {},
   "outputs": [
    {
     "data": {
      "text/plain": [
       "6"
      ]
     },
     "execution_count": 119,
     "metadata": {},
     "output_type": "execute_result"
    }
   ],
   "source": [
    "clist.index('lamborghini',1)"
   ]
  },
  {
   "cell_type": "markdown",
   "id": "2a652f49",
   "metadata": {},
   "source": [
    "                    .reverse()"
   ]
  },
  {
   "cell_type": "code",
   "execution_count": 120,
   "id": "3e8e16a6",
   "metadata": {},
   "outputs": [],
   "source": [
    "clist.reverse()"
   ]
  },
  {
   "cell_type": "code",
   "execution_count": 121,
   "id": "d41847de",
   "metadata": {},
   "outputs": [
    {
     "data": {
      "text/plain": [
       "['lamborghini', 'Supra', 'Mercedes', 'Audi', 4, 'Civic', 'lamborghini']"
      ]
     },
     "execution_count": 121,
     "metadata": {},
     "output_type": "execute_result"
    }
   ],
   "source": [
    "clist"
   ]
  },
  {
   "cell_type": "code",
   "execution_count": 122,
   "id": "1eb59d69",
   "metadata": {},
   "outputs": [],
   "source": [
    "clist.reverse()"
   ]
  },
  {
   "cell_type": "code",
   "execution_count": 123,
   "id": "21559b51",
   "metadata": {},
   "outputs": [
    {
     "data": {
      "text/plain": [
       "['lamborghini', 'Civic', 4, 'Audi', 'Mercedes', 'Supra', 'lamborghini']"
      ]
     },
     "execution_count": 123,
     "metadata": {},
     "output_type": "execute_result"
    }
   ],
   "source": [
    "clist"
   ]
  },
  {
   "cell_type": "markdown",
   "id": "95a4cdac",
   "metadata": {},
   "source": [
    "                    .sort()"
   ]
  },
  {
   "cell_type": "code",
   "execution_count": 124,
   "id": "6264aeea",
   "metadata": {},
   "outputs": [],
   "source": [
    "intlist=[3,5,7,2,1,3]"
   ]
  },
  {
   "cell_type": "code",
   "execution_count": 125,
   "id": "d409a26d",
   "metadata": {},
   "outputs": [],
   "source": [
    "intlist.sort()"
   ]
  },
  {
   "cell_type": "code",
   "execution_count": 126,
   "id": "7a0fe33e",
   "metadata": {},
   "outputs": [
    {
     "data": {
      "text/plain": [
       "[1, 2, 3, 3, 5, 7]"
      ]
     },
     "execution_count": 126,
     "metadata": {},
     "output_type": "execute_result"
    }
   ],
   "source": [
    "intlist"
   ]
  },
  {
   "cell_type": "code",
   "execution_count": 127,
   "id": "a716a30b",
   "metadata": {},
   "outputs": [],
   "source": [
    "intlist.sort(reverse=True)"
   ]
  },
  {
   "cell_type": "code",
   "execution_count": 128,
   "id": "0ffb13b2",
   "metadata": {},
   "outputs": [
    {
     "data": {
      "text/plain": [
       "[7, 5, 3, 3, 2, 1]"
      ]
     },
     "execution_count": 128,
     "metadata": {},
     "output_type": "execute_result"
    }
   ],
   "source": [
    "intlist"
   ]
  },
  {
   "cell_type": "code",
   "execution_count": 129,
   "id": "29f1b67a",
   "metadata": {},
   "outputs": [],
   "source": [
    "intlist.reverse()"
   ]
  },
  {
   "cell_type": "code",
   "execution_count": 130,
   "id": "1dfa2295",
   "metadata": {},
   "outputs": [
    {
     "data": {
      "text/plain": [
       "[1, 2, 3, 3, 5, 7]"
      ]
     },
     "execution_count": 130,
     "metadata": {},
     "output_type": "execute_result"
    }
   ],
   "source": [
    "intlist"
   ]
  },
  {
   "cell_type": "code",
   "execution_count": 131,
   "id": "2c3bf136",
   "metadata": {},
   "outputs": [],
   "source": [
    "a=['B','A','C']"
   ]
  },
  {
   "cell_type": "code",
   "execution_count": 132,
   "id": "27df1487",
   "metadata": {},
   "outputs": [],
   "source": [
    "a.sort()"
   ]
  },
  {
   "cell_type": "code",
   "execution_count": 133,
   "id": "b5baf817",
   "metadata": {},
   "outputs": [
    {
     "data": {
      "text/plain": [
       "['A', 'B', 'C']"
      ]
     },
     "execution_count": 133,
     "metadata": {},
     "output_type": "execute_result"
    }
   ],
   "source": [
    "a"
   ]
  },
  {
   "cell_type": "code",
   "execution_count": 134,
   "id": "ce5b0195",
   "metadata": {},
   "outputs": [
    {
     "data": {
      "text/plain": [
       "65"
      ]
     },
     "execution_count": 134,
     "metadata": {},
     "output_type": "execute_result"
    }
   ],
   "source": [
    "ord('A')"
   ]
  },
  {
   "cell_type": "code",
   "execution_count": 135,
   "id": "db08ef2a",
   "metadata": {},
   "outputs": [
    {
     "data": {
      "text/plain": [
       "66"
      ]
     },
     "execution_count": 135,
     "metadata": {},
     "output_type": "execute_result"
    }
   ],
   "source": [
    "ord('B')"
   ]
  },
  {
   "cell_type": "code",
   "execution_count": 136,
   "id": "3dabae52",
   "metadata": {},
   "outputs": [
    {
     "data": {
      "text/plain": [
       "67"
      ]
     },
     "execution_count": 136,
     "metadata": {},
     "output_type": "execute_result"
    }
   ],
   "source": [
    "ord('C')"
   ]
  },
  {
   "cell_type": "code",
   "execution_count": 137,
   "id": "2597e9e0",
   "metadata": {},
   "outputs": [
    {
     "data": {
      "text/plain": [
       "'\\x11'"
      ]
     },
     "execution_count": 137,
     "metadata": {},
     "output_type": "execute_result"
    }
   ],
   "source": [
    "chr(17)"
   ]
  },
  {
   "cell_type": "code",
   "execution_count": 138,
   "id": "687d0531",
   "metadata": {},
   "outputs": [
    {
     "data": {
      "text/plain": [
       "'\\x05'"
      ]
     },
     "execution_count": 138,
     "metadata": {},
     "output_type": "execute_result"
    }
   ],
   "source": [
    "chr(5)"
   ]
  },
  {
   "cell_type": "markdown",
   "id": "be547a2c",
   "metadata": {},
   "source": [
    "# Append/Extend"
   ]
  },
  {
   "cell_type": "code",
   "execution_count": 139,
   "id": "70e8e11e",
   "metadata": {},
   "outputs": [],
   "source": [
    "listA=['PIAIC',3,5.5,'p']"
   ]
  },
  {
   "cell_type": "code",
   "execution_count": 140,
   "id": "2d69cf42",
   "metadata": {},
   "outputs": [],
   "source": [
    "listA.append([3,5,6])"
   ]
  },
  {
   "cell_type": "code",
   "execution_count": 141,
   "id": "bb14199d",
   "metadata": {},
   "outputs": [
    {
     "data": {
      "text/plain": [
       "['PIAIC', 3, 5.5, 'p', [3, 5, 6]]"
      ]
     },
     "execution_count": 141,
     "metadata": {},
     "output_type": "execute_result"
    }
   ],
   "source": [
    "listA\n"
   ]
  },
  {
   "cell_type": "code",
   "execution_count": 142,
   "id": "7c30990f",
   "metadata": {},
   "outputs": [
    {
     "data": {
      "text/plain": [
       "['PIAIC', 3, 5.5, 'p', [3, 5, 6], 3, 5, 6]"
      ]
     },
     "execution_count": 142,
     "metadata": {},
     "output_type": "execute_result"
    }
   ],
   "source": [
    "listA.extend([3,5,6])\n",
    "listA"
   ]
  },
  {
   "cell_type": "code",
   "execution_count": 143,
   "id": "4315f1c8",
   "metadata": {},
   "outputs": [
    {
     "data": {
      "text/plain": [
       "['PIAIC', 3, 5.5, 'p', [3, 5, 6], 3, 5, 6]"
      ]
     },
     "execution_count": 143,
     "metadata": {},
     "output_type": "execute_result"
    }
   ],
   "source": [
    "listA"
   ]
  },
  {
   "cell_type": "code",
   "execution_count": 144,
   "id": "432c73c6",
   "metadata": {},
   "outputs": [
    {
     "data": {
      "text/plain": [
       "['PIAIC', 3, 5.5, 'p', [3, 5, 6], 3, 5, 6]"
      ]
     },
     "execution_count": 144,
     "metadata": {},
     "output_type": "execute_result"
    }
   ],
   "source": [
    "listA"
   ]
  },
  {
   "cell_type": "code",
   "execution_count": 145,
   "id": "bb7a6420",
   "metadata": {},
   "outputs": [],
   "source": [
    "listA.extend([3,5,6])"
   ]
  },
  {
   "cell_type": "code",
   "execution_count": 146,
   "id": "bf680ff8",
   "metadata": {},
   "outputs": [
    {
     "data": {
      "text/plain": [
       "['PIAIC', 3, 5.5, 'p', [3, 5, 6], 3, 5, 6, 3, 5, 6]"
      ]
     },
     "execution_count": 146,
     "metadata": {},
     "output_type": "execute_result"
    }
   ],
   "source": [
    "listA"
   ]
  },
  {
   "cell_type": "code",
   "execution_count": 147,
   "id": "a8510c91",
   "metadata": {},
   "outputs": [],
   "source": [
    "listA.remove(5)"
   ]
  },
  {
   "cell_type": "code",
   "execution_count": 148,
   "id": "c95b67a2",
   "metadata": {},
   "outputs": [
    {
     "data": {
      "text/plain": [
       "['PIAIC', 3, 5.5, 'p', [3, 5, 6], 3, 6, 3, 5, 6]"
      ]
     },
     "execution_count": 148,
     "metadata": {},
     "output_type": "execute_result"
    }
   ],
   "source": [
    "listA"
   ]
  },
  {
   "cell_type": "code",
   "execution_count": 149,
   "id": "50266bc3",
   "metadata": {},
   "outputs": [],
   "source": [
    "listA.remove(3)"
   ]
  },
  {
   "cell_type": "code",
   "execution_count": 150,
   "id": "77b5a181",
   "metadata": {},
   "outputs": [
    {
     "data": {
      "text/plain": [
       "['PIAIC', 5.5, 'p', [3, 5, 6], 3, 6, 3, 5, 6]"
      ]
     },
     "execution_count": 150,
     "metadata": {},
     "output_type": "execute_result"
    }
   ],
   "source": [
    "listA"
   ]
  },
  {
   "cell_type": "code",
   "execution_count": 151,
   "id": "914c7c81",
   "metadata": {},
   "outputs": [
    {
     "data": {
      "text/plain": [
       "['PIAIC', 5.5, 'p', [3, 5, 6], 3, 6, 3, 5, 6]"
      ]
     },
     "execution_count": 151,
     "metadata": {},
     "output_type": "execute_result"
    }
   ],
   "source": [
    "listA"
   ]
  },
  {
   "cell_type": "code",
   "execution_count": 152,
   "id": "9edcd1c2",
   "metadata": {},
   "outputs": [],
   "source": [
    "listA.remove(3)"
   ]
  },
  {
   "cell_type": "code",
   "execution_count": 153,
   "id": "6368c404",
   "metadata": {},
   "outputs": [
    {
     "data": {
      "text/plain": [
       "['PIAIC', 5.5, 'p', [3, 5, 6], 6, 3, 5, 6]"
      ]
     },
     "execution_count": 153,
     "metadata": {},
     "output_type": "execute_result"
    }
   ],
   "source": [
    "listA"
   ]
  },
  {
   "cell_type": "code",
   "execution_count": 154,
   "id": "c0d7a766",
   "metadata": {},
   "outputs": [],
   "source": [
    "listA.extend([3,5,6])"
   ]
  },
  {
   "cell_type": "code",
   "execution_count": 155,
   "id": "c1019272",
   "metadata": {},
   "outputs": [
    {
     "data": {
      "text/plain": [
       "['PIAIC', 5.5, 'p', [3, 5, 6], 6, 3, 5, 6, 3, 5, 6]"
      ]
     },
     "execution_count": 155,
     "metadata": {},
     "output_type": "execute_result"
    }
   ],
   "source": [
    "listA"
   ]
  },
  {
   "cell_type": "code",
   "execution_count": 156,
   "id": "fe466451",
   "metadata": {},
   "outputs": [],
   "source": [
    "listA.append('Pakistan')"
   ]
  },
  {
   "cell_type": "code",
   "execution_count": 157,
   "id": "fbd41455",
   "metadata": {},
   "outputs": [
    {
     "data": {
      "text/plain": [
       "['PIAIC', 5.5, 'p', [3, 5, 6], 6, 3, 5, 6, 3, 5, 6, 'Pakistan']"
      ]
     },
     "execution_count": 157,
     "metadata": {},
     "output_type": "execute_result"
    }
   ],
   "source": [
    "listA"
   ]
  },
  {
   "cell_type": "code",
   "execution_count": 158,
   "id": "603112c4",
   "metadata": {},
   "outputs": [],
   "source": [
    "listA.extend('Pakistan')"
   ]
  },
  {
   "cell_type": "code",
   "execution_count": 159,
   "id": "0ad81977",
   "metadata": {},
   "outputs": [
    {
     "data": {
      "text/plain": [
       "['PIAIC',\n",
       " 5.5,\n",
       " 'p',\n",
       " [3, 5, 6],\n",
       " 6,\n",
       " 3,\n",
       " 5,\n",
       " 6,\n",
       " 3,\n",
       " 5,\n",
       " 6,\n",
       " 'Pakistan',\n",
       " 'P',\n",
       " 'a',\n",
       " 'k',\n",
       " 'i',\n",
       " 's',\n",
       " 't',\n",
       " 'a',\n",
       " 'n']"
      ]
     },
     "execution_count": 159,
     "metadata": {},
     "output_type": "execute_result"
    }
   ],
   "source": [
    "listA"
   ]
  },
  {
   "cell_type": "code",
   "execution_count": 160,
   "id": "45abac5d",
   "metadata": {},
   "outputs": [],
   "source": [
    "listA.extend('555555')"
   ]
  },
  {
   "cell_type": "code",
   "execution_count": 161,
   "id": "aecb4e86",
   "metadata": {},
   "outputs": [
    {
     "data": {
      "text/plain": [
       "['PIAIC',\n",
       " 5.5,\n",
       " 'p',\n",
       " [3, 5, 6],\n",
       " 6,\n",
       " 3,\n",
       " 5,\n",
       " 6,\n",
       " 3,\n",
       " 5,\n",
       " 6,\n",
       " 'Pakistan',\n",
       " 'P',\n",
       " 'a',\n",
       " 'k',\n",
       " 'i',\n",
       " 's',\n",
       " 't',\n",
       " 'a',\n",
       " 'n',\n",
       " '5',\n",
       " '5',\n",
       " '5',\n",
       " '5',\n",
       " '5',\n",
       " '5']"
      ]
     },
     "execution_count": 161,
     "metadata": {},
     "output_type": "execute_result"
    }
   ],
   "source": [
    "listA"
   ]
  },
  {
   "cell_type": "code",
   "execution_count": 162,
   "id": "6530d9fc",
   "metadata": {},
   "outputs": [],
   "source": [
    "listA.append('5555')"
   ]
  },
  {
   "cell_type": "code",
   "execution_count": 163,
   "id": "c595136a",
   "metadata": {
    "scrolled": true
   },
   "outputs": [
    {
     "data": {
      "text/plain": [
       "['PIAIC',\n",
       " 5.5,\n",
       " 'p',\n",
       " [3, 5, 6],\n",
       " 6,\n",
       " 3,\n",
       " 5,\n",
       " 6,\n",
       " 3,\n",
       " 5,\n",
       " 6,\n",
       " 'Pakistan',\n",
       " 'P',\n",
       " 'a',\n",
       " 'k',\n",
       " 'i',\n",
       " 's',\n",
       " 't',\n",
       " 'a',\n",
       " 'n',\n",
       " '5',\n",
       " '5',\n",
       " '5',\n",
       " '5',\n",
       " '5',\n",
       " '5',\n",
       " '5555']"
      ]
     },
     "execution_count": 163,
     "metadata": {},
     "output_type": "execute_result"
    }
   ],
   "source": [
    "listA"
   ]
  },
  {
   "cell_type": "markdown",
   "id": "31a26da4",
   "metadata": {},
   "source": [
    "                    slicing\n",
    "                    [start:end]"
   ]
  },
  {
   "cell_type": "code",
   "execution_count": 164,
   "id": "56cca2a7",
   "metadata": {},
   "outputs": [
    {
     "data": {
      "text/plain": [
       "[1, 2, 3, 3, 5, 7]"
      ]
     },
     "execution_count": 164,
     "metadata": {},
     "output_type": "execute_result"
    }
   ],
   "source": [
    "intlist"
   ]
  },
  {
   "cell_type": "code",
   "execution_count": 165,
   "id": "d28108a8",
   "metadata": {},
   "outputs": [],
   "source": [
    "sliced=intlist[0:6]"
   ]
  },
  {
   "cell_type": "code",
   "execution_count": 166,
   "id": "568de62f",
   "metadata": {},
   "outputs": [
    {
     "data": {
      "text/plain": [
       "[1, 2, 3, 3, 5, 7]"
      ]
     },
     "execution_count": 166,
     "metadata": {},
     "output_type": "execute_result"
    }
   ],
   "source": [
    "sliced"
   ]
  },
  {
   "cell_type": "code",
   "execution_count": 167,
   "id": "046d76bd",
   "metadata": {},
   "outputs": [
    {
     "data": {
      "text/plain": [
       "[1, 2, 3, 3, 5]"
      ]
     },
     "execution_count": 167,
     "metadata": {},
     "output_type": "execute_result"
    }
   ],
   "source": [
    "intlist[0:5]"
   ]
  },
  {
   "cell_type": "code",
   "execution_count": 168,
   "id": "952a98bb",
   "metadata": {},
   "outputs": [],
   "source": [
    "sliced=intlist[0:5]"
   ]
  },
  {
   "cell_type": "code",
   "execution_count": 169,
   "id": "c5fe8bba",
   "metadata": {},
   "outputs": [
    {
     "data": {
      "text/plain": [
       "[1, 2, 3, 3, 5]"
      ]
     },
     "execution_count": 169,
     "metadata": {},
     "output_type": "execute_result"
    }
   ],
   "source": [
    "sliced"
   ]
  },
  {
   "cell_type": "code",
   "execution_count": 170,
   "id": "cc820f10",
   "metadata": {},
   "outputs": [],
   "source": [
    "sliced=intlist[0:6:1]"
   ]
  },
  {
   "cell_type": "code",
   "execution_count": 171,
   "id": "6f169815",
   "metadata": {},
   "outputs": [
    {
     "data": {
      "text/plain": [
       "[1, 2, 3, 3, 5, 7]"
      ]
     },
     "execution_count": 171,
     "metadata": {},
     "output_type": "execute_result"
    }
   ],
   "source": [
    "sliced"
   ]
  },
  {
   "cell_type": "code",
   "execution_count": 172,
   "id": "30bc0042",
   "metadata": {},
   "outputs": [],
   "source": [
    "sliced=intlist[0:6:2]"
   ]
  },
  {
   "cell_type": "code",
   "execution_count": 173,
   "id": "e906eceb",
   "metadata": {},
   "outputs": [
    {
     "data": {
      "text/plain": [
       "[1, 3, 5]"
      ]
     },
     "execution_count": 173,
     "metadata": {},
     "output_type": "execute_result"
    }
   ],
   "source": [
    "sliced"
   ]
  },
  {
   "cell_type": "code",
   "execution_count": 174,
   "id": "72c89d8e",
   "metadata": {},
   "outputs": [],
   "source": [
    "sliced=intlist[:]"
   ]
  },
  {
   "cell_type": "code",
   "execution_count": 175,
   "id": "7e179e48",
   "metadata": {},
   "outputs": [
    {
     "data": {
      "text/plain": [
       "[1, 2, 3, 3, 5, 7]"
      ]
     },
     "execution_count": 175,
     "metadata": {},
     "output_type": "execute_result"
    }
   ],
   "source": [
    "sliced"
   ]
  },
  {
   "cell_type": "code",
   "execution_count": 176,
   "id": "8a362d65",
   "metadata": {},
   "outputs": [],
   "source": [
    "sliced=intlist[:6]"
   ]
  },
  {
   "cell_type": "code",
   "execution_count": 177,
   "id": "707531df",
   "metadata": {},
   "outputs": [
    {
     "data": {
      "text/plain": [
       "[1, 2, 3, 3, 5, 7]"
      ]
     },
     "execution_count": 177,
     "metadata": {},
     "output_type": "execute_result"
    }
   ],
   "source": [
    "sliced"
   ]
  },
  {
   "cell_type": "markdown",
   "id": "dbc95ff5",
   "metadata": {},
   "source": [
    "# Tuple"
   ]
  },
  {
   "cell_type": "markdown",
   "id": "595e4340",
   "metadata": {},
   "source": [
    "                    -In tuple we can only retrieve or access the value of tuple"
   ]
  },
  {
   "cell_type": "code",
   "execution_count": 178,
   "id": "9efa354d",
   "metadata": {},
   "outputs": [],
   "source": [
    "tupp=(2,5,8,0)"
   ]
  },
  {
   "cell_type": "code",
   "execution_count": 179,
   "id": "c64ca22b",
   "metadata": {},
   "outputs": [
    {
     "data": {
      "text/plain": [
       "2"
      ]
     },
     "execution_count": 179,
     "metadata": {},
     "output_type": "execute_result"
    }
   ],
   "source": [
    "tupp[0]"
   ]
  },
  {
   "cell_type": "code",
   "execution_count": 180,
   "id": "d7243376",
   "metadata": {},
   "outputs": [
    {
     "data": {
      "text/plain": [
       "0"
      ]
     },
     "execution_count": 180,
     "metadata": {},
     "output_type": "execute_result"
    }
   ],
   "source": [
    "tupp[3]"
   ]
  },
  {
   "cell_type": "code",
   "execution_count": 181,
   "id": "a5e2498e",
   "metadata": {},
   "outputs": [
    {
     "data": {
      "text/plain": [
       "('Talha', 1, 2, [1, 2, 3], {1: 2})"
      ]
     },
     "execution_count": 181,
     "metadata": {},
     "output_type": "execute_result"
    }
   ],
   "source": [
    "tuplee=('Talha',1,2,[1,2,3],{1:2})\n",
    "tuplee"
   ]
  },
  {
   "cell_type": "code",
   "execution_count": 182,
   "id": "217b00c7",
   "metadata": {},
   "outputs": [
    {
     "data": {
      "text/plain": [
       "'Talha'"
      ]
     },
     "execution_count": 182,
     "metadata": {},
     "output_type": "execute_result"
    }
   ],
   "source": [
    "tuplee[0]"
   ]
  },
  {
   "cell_type": "code",
   "execution_count": 183,
   "id": "ac59db79",
   "metadata": {},
   "outputs": [
    {
     "data": {
      "text/plain": [
       "{1: 2}"
      ]
     },
     "execution_count": 183,
     "metadata": {},
     "output_type": "execute_result"
    }
   ],
   "source": [
    "tuplee[-1]"
   ]
  },
  {
   "cell_type": "code",
   "execution_count": 184,
   "id": "9ab403fd",
   "metadata": {},
   "outputs": [
    {
     "data": {
      "text/plain": [
       "{1: 2}"
      ]
     },
     "execution_count": 184,
     "metadata": {},
     "output_type": "execute_result"
    }
   ],
   "source": [
    "tuplee[-1]"
   ]
  },
  {
   "cell_type": "markdown",
   "id": "fa6dfd10",
   "metadata": {},
   "source": [
    "# SET"
   ]
  },
  {
   "cell_type": "markdown",
   "id": "d345c0e3",
   "metadata": {},
   "source": [
    "                    -In Set there is no repeatation of the value,it gives unique value"
   ]
  },
  {
   "cell_type": "code",
   "execution_count": 185,
   "id": "ab228756",
   "metadata": {},
   "outputs": [],
   "source": [
    "a={2,3,44,5,6,87,2,3}"
   ]
  },
  {
   "cell_type": "code",
   "execution_count": 186,
   "id": "0a24e0d9",
   "metadata": {},
   "outputs": [
    {
     "data": {
      "text/plain": [
       "{2, 3, 5, 6, 44, 87}"
      ]
     },
     "execution_count": 186,
     "metadata": {},
     "output_type": "execute_result"
    }
   ],
   "source": [
    "a"
   ]
  },
  {
   "cell_type": "code",
   "execution_count": 187,
   "id": "d29e6468",
   "metadata": {},
   "outputs": [],
   "source": [
    "listg=[3,5,6,3,2,6,8,3,3,3,3]"
   ]
  },
  {
   "cell_type": "code",
   "execution_count": 188,
   "id": "8e598c5c",
   "metadata": {},
   "outputs": [
    {
     "data": {
      "text/plain": [
       "{2, 3, 5, 6, 8}"
      ]
     },
     "execution_count": 188,
     "metadata": {},
     "output_type": "execute_result"
    }
   ],
   "source": [
    "set(listg)"
   ]
  },
  {
   "cell_type": "code",
   "execution_count": 189,
   "id": "cf3fa752",
   "metadata": {},
   "outputs": [
    {
     "data": {
      "text/plain": [
       "[2, 3, 5, 6, 8]"
      ]
     },
     "execution_count": 189,
     "metadata": {},
     "output_type": "execute_result"
    }
   ],
   "source": [
    "list(set(listg))"
   ]
  },
  {
   "cell_type": "code",
   "execution_count": 190,
   "id": "6eda2170",
   "metadata": {},
   "outputs": [],
   "source": [
    "listr=[3,3,3,4,5,6,]"
   ]
  },
  {
   "cell_type": "code",
   "execution_count": 191,
   "id": "577dac68",
   "metadata": {},
   "outputs": [
    {
     "data": {
      "text/plain": [
       "{'1', 2, 3, 4}"
      ]
     },
     "execution_count": 191,
     "metadata": {},
     "output_type": "execute_result"
    }
   ],
   "source": [
    "d={'1',2,3,4}\n",
    "type(d)\n",
    "d"
   ]
  },
  {
   "cell_type": "code",
   "execution_count": null,
   "id": "2f07dbc6",
   "metadata": {},
   "outputs": [],
   "source": []
  },
  {
   "cell_type": "code",
   "execution_count": null,
   "id": "d3595fb6",
   "metadata": {},
   "outputs": [],
   "source": []
  },
  {
   "cell_type": "code",
   "execution_count": null,
   "id": "86315d0e",
   "metadata": {},
   "outputs": [],
   "source": []
  },
  {
   "cell_type": "code",
   "execution_count": null,
   "id": "125b5050",
   "metadata": {},
   "outputs": [],
   "source": []
  }
 ],
 "metadata": {
  "kernelspec": {
   "display_name": "Python 3 (ipykernel)",
   "language": "python",
   "name": "python3"
  },
  "language_info": {
   "codemirror_mode": {
    "name": "ipython",
    "version": 3
   },
   "file_extension": ".py",
   "mimetype": "text/x-python",
   "name": "python",
   "nbconvert_exporter": "python",
   "pygments_lexer": "ipython3",
   "version": "3.9.12"
  }
 },
 "nbformat": 4,
 "nbformat_minor": 5
}
